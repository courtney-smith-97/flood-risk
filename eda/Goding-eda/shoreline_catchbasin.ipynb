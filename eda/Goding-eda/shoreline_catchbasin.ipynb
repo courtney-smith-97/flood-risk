{
 "cells": [
  {
   "cell_type": "markdown",
   "id": "10b48206-1671-4b12-9f9e-14036df6e7cc",
   "metadata": {},
   "source": [
    "# Shoreline and Catch Basin Data"
   ]
  },
  {
   "cell_type": "markdown",
   "id": "252096a2-fb56-4164-9d34-72f0653f7f94",
   "metadata": {},
   "source": [
    "## Shoreline Data"
   ]
  },
  {
   "cell_type": "code",
   "execution_count": 14,
   "id": "d88cafaa-a452-4fe2-960c-f60870b2348c",
   "metadata": {},
   "outputs": [],
   "source": [
    "from osgeo import gdal, gdal_array, osr, ogr\n",
    "import numpy as np\n",
    "import rasterio\n",
    "#from affine import Affine\n",
    "import pyproj\n",
    "import pandas as pd\n",
    "from shapely.geometry import Point\n",
    "from geopandas import GeoDataFrame\n",
    "import geopandas as gpd\n",
    "import matplotlib.pyplot as plt"
   ]
  },
  {
   "cell_type": "markdown",
   "id": "dd5045a6-2e3d-4e56-8f34-632f98891ec1",
   "metadata": {},
   "source": [
    "## Load shoreline data"
   ]
  },
  {
   "cell_type": "code",
   "execution_count": 5,
   "id": "f2973513-c904-4aa8-be31-2e481bd43c00",
   "metadata": {},
   "outputs": [],
   "source": [
    "shoreline_data = gpd.read_file('/workspace/w210/Shoreline/NYC_2017_LiDAR_Low_Tide_Shoreline.shp')"
   ]
  },
  {
   "cell_type": "code",
   "execution_count": 6,
   "id": "a711a080-69e2-4fab-9592-4444888e9fb8",
   "metadata": {},
   "outputs": [
    {
     "data": {
      "text/html": [
       "<div>\n",
       "<style scoped>\n",
       "    .dataframe tbody tr th:only-of-type {\n",
       "        vertical-align: middle;\n",
       "    }\n",
       "\n",
       "    .dataframe tbody tr th {\n",
       "        vertical-align: top;\n",
       "    }\n",
       "\n",
       "    .dataframe thead th {\n",
       "        text-align: right;\n",
       "    }\n",
       "</style>\n",
       "<table border=\"1\" class=\"dataframe\">\n",
       "  <thead>\n",
       "    <tr style=\"text-align: right;\">\n",
       "      <th></th>\n",
       "      <th>Feature</th>\n",
       "      <th>Type</th>\n",
       "      <th>geometry</th>\n",
       "    </tr>\n",
       "  </thead>\n",
       "  <tbody>\n",
       "    <tr>\n",
       "      <th>0</th>\n",
       "      <td>Shoreline</td>\n",
       "      <td>Bathymetric - low tide</td>\n",
       "      <td>LINESTRING Z (914245.542 119924.624 0.000, 914...</td>\n",
       "    </tr>\n",
       "    <tr>\n",
       "      <th>1</th>\n",
       "      <td>Shoreline</td>\n",
       "      <td>Bathymetric - low tide</td>\n",
       "      <td>LINESTRING Z (921853.440 120210.369 0.000, 921...</td>\n",
       "    </tr>\n",
       "    <tr>\n",
       "      <th>2</th>\n",
       "      <td>Shoreline</td>\n",
       "      <td>Bathymetric - low tide</td>\n",
       "      <td>LINESTRING Z (919613.833 121459.244 0.000, 919...</td>\n",
       "    </tr>\n",
       "    <tr>\n",
       "      <th>3</th>\n",
       "      <td>Shoreline</td>\n",
       "      <td>Bathymetric - low tide</td>\n",
       "      <td>LINESTRING Z (919666.992 121515.874 0.000, 919...</td>\n",
       "    </tr>\n",
       "    <tr>\n",
       "      <th>4</th>\n",
       "      <td>Shoreline</td>\n",
       "      <td>Bathymetric - low tide</td>\n",
       "      <td>LINESTRING Z (921742.418 121910.178 0.000, 921...</td>\n",
       "    </tr>\n",
       "  </tbody>\n",
       "</table>\n",
       "</div>"
      ],
      "text/plain": [
       "     Feature                    Type  \\\n",
       "0  Shoreline  Bathymetric - low tide   \n",
       "1  Shoreline  Bathymetric - low tide   \n",
       "2  Shoreline  Bathymetric - low tide   \n",
       "3  Shoreline  Bathymetric - low tide   \n",
       "4  Shoreline  Bathymetric - low tide   \n",
       "\n",
       "                                            geometry  \n",
       "0  LINESTRING Z (914245.542 119924.624 0.000, 914...  \n",
       "1  LINESTRING Z (921853.440 120210.369 0.000, 921...  \n",
       "2  LINESTRING Z (919613.833 121459.244 0.000, 919...  \n",
       "3  LINESTRING Z (919666.992 121515.874 0.000, 919...  \n",
       "4  LINESTRING Z (921742.418 121910.178 0.000, 921...  "
      ]
     },
     "execution_count": 6,
     "metadata": {},
     "output_type": "execute_result"
    }
   ],
   "source": [
    "shoreline_data.head()"
   ]
  },
  {
   "cell_type": "code",
   "execution_count": 7,
   "id": "45db9ae0-e333-4299-a934-2febdcbaf643",
   "metadata": {},
   "outputs": [
    {
     "data": {
      "image/svg+xml": [
       "<svg xmlns=\"http://www.w3.org/2000/svg\" xmlns:xlink=\"http://www.w3.org/1999/xlink\" width=\"100.0\" height=\"100.0\" viewBox=\"914235.646266675 119920.6175587386 35.31152156298049 37.646082106221\" preserveAspectRatio=\"xMinYMin meet\"><g transform=\"matrix(1,0,0,-1,0,239878.8811995834)\"><polyline fill=\"none\" stroke=\"#66cc99\" stroke-width=\"0.75292164212442\" points=\"914245.5420539826,119924.62383665144 914246.3578501642,119924.2042928487 914247.5978483856,119925.01077252626 914249.2387572974,119924.99213942885 914250.8703496605,119924.15305177867 914252.5019420236,119923.313964203 914253.9963544309,119922.47643443942 914256.0428322554,119922.04291574657 914258.7778992504,119922.01185807586 914260.833693698,119922.39879390597 914261.9371682703,119923.20682387054 914262.7669393271,119924.01796171069 914263.5967102945,119924.82909962535 914264.4264812917,119925.6402374953 914265.2562523037,119926.45137540996 914266.0883487314,119927.46729873121 914266.519541949,119929.30899120867 914266.9507276863,119931.15002718568 914267.7851569802,119932.37139229476 914268.2163501978,119934.21308475733 914268.6475359648,119936.05412080884 914269.4842980951,119937.48092772067 914269.5029312223,119939.12183660269 914268.7011099309,119940.77206209302 914268.7197430134,119942.41297093034 914269.5541723222,119943.63433602452 914269.5634889007,119944.45479056239 914268.7523510307,119945.28456155956 914267.941213116,119946.11433258653 914267.1300752014,119946.9441035837 914266.3189373612,119947.77387455106 914265.5077994168,119948.60364556313 914264.491219759,119949.43574945629 914262.6501837075,119949.86693520844 914262.171379745,119949.87237221003 914256.7590386719,119955.40904341638 914250.5229393542,119956.86934150755 914244.4184757024,119949.52807436883 914242.0924489051,119948.62816415727 914239.2665092796,119944.49179930985 914237.1352225244,119940.34754641354 914237.0405660123,119932.01171244681 914241.1532667428,119927.10181438923 914244.7639319897,119926.22528673708 914245.5420539826,119924.62383665144\" opacity=\"0.8\" /></g></svg>"
      ],
      "text/plain": [
       "<shapely.geometry.linestring.LineString at 0x7f636c7a9ac0>"
      ]
     },
     "execution_count": 7,
     "metadata": {},
     "output_type": "execute_result"
    }
   ],
   "source": [
    "shoreline_data['geometry'][0]"
   ]
  },
  {
   "cell_type": "code",
   "execution_count": 7,
   "id": "aff6dc30-7482-41ee-b9e1-76d719880dd3",
   "metadata": {},
   "outputs": [
    {
     "data": {
      "text/plain": [
       "0           LineString\n",
       "1           LineString\n",
       "2           LineString\n",
       "3           LineString\n",
       "4           LineString\n",
       "            ...       \n",
       "297         LineString\n",
       "298         LineString\n",
       "299         LineString\n",
       "300    MultiLineString\n",
       "301    MultiLineString\n",
       "Length: 302, dtype: object"
      ]
     },
     "execution_count": 7,
     "metadata": {},
     "output_type": "execute_result"
    }
   ],
   "source": [
    "#view shapefile metadata\n",
    "shoreline_data.type"
   ]
  },
  {
   "cell_type": "code",
   "execution_count": 8,
   "id": "f19e96d9-857e-4267-9db8-ed5b9bcdca8c",
   "metadata": {},
   "outputs": [
    {
     "data": {
      "text/html": [
       "<div>\n",
       "<style scoped>\n",
       "    .dataframe tbody tr th:only-of-type {\n",
       "        vertical-align: middle;\n",
       "    }\n",
       "\n",
       "    .dataframe tbody tr th {\n",
       "        vertical-align: top;\n",
       "    }\n",
       "\n",
       "    .dataframe thead th {\n",
       "        text-align: right;\n",
       "    }\n",
       "</style>\n",
       "<table border=\"1\" class=\"dataframe\">\n",
       "  <thead>\n",
       "    <tr style=\"text-align: right;\">\n",
       "      <th></th>\n",
       "      <th>minx</th>\n",
       "      <th>miny</th>\n",
       "      <th>maxx</th>\n",
       "      <th>maxy</th>\n",
       "    </tr>\n",
       "  </thead>\n",
       "  <tbody>\n",
       "    <tr>\n",
       "      <th>0</th>\n",
       "      <td>9.142370e+05</td>\n",
       "      <td>119922.011858</td>\n",
       "      <td>9.142696e+05</td>\n",
       "      <td>119956.869342</td>\n",
       "    </tr>\n",
       "    <tr>\n",
       "      <th>1</th>\n",
       "      <td>9.218369e+05</td>\n",
       "      <td>120208.088189</td>\n",
       "      <td>9.218926e+05</td>\n",
       "      <td>120263.605000</td>\n",
       "    </tr>\n",
       "    <tr>\n",
       "      <th>2</th>\n",
       "      <td>9.195835e+05</td>\n",
       "      <td>121446.699764</td>\n",
       "      <td>9.196371e+05</td>\n",
       "      <td>121463.260638</td>\n",
       "    </tr>\n",
       "    <tr>\n",
       "      <th>3</th>\n",
       "      <td>9.196508e+05</td>\n",
       "      <td>121459.197847</td>\n",
       "      <td>9.196847e+05</td>\n",
       "      <td>121527.971415</td>\n",
       "    </tr>\n",
       "    <tr>\n",
       "      <th>4</th>\n",
       "      <td>9.216673e+05</td>\n",
       "      <td>121869.531187</td>\n",
       "      <td>9.217806e+05</td>\n",
       "      <td>121985.378001</td>\n",
       "    </tr>\n",
       "    <tr>\n",
       "      <th>...</th>\n",
       "      <td>...</td>\n",
       "      <td>...</td>\n",
       "      <td>...</td>\n",
       "      <td>...</td>\n",
       "    </tr>\n",
       "    <tr>\n",
       "      <th>297</th>\n",
       "      <td>1.019262e+06</td>\n",
       "      <td>248828.956672</td>\n",
       "      <td>1.019296e+06</td>\n",
       "      <td>248985.578564</td>\n",
       "    </tr>\n",
       "    <tr>\n",
       "      <th>298</th>\n",
       "      <td>1.018991e+06</td>\n",
       "      <td>255210.391777</td>\n",
       "      <td>1.019390e+06</td>\n",
       "      <td>255713.960911</td>\n",
       "    </tr>\n",
       "    <tr>\n",
       "      <th>299</th>\n",
       "      <td>1.016232e+06</td>\n",
       "      <td>236767.685340</td>\n",
       "      <td>1.025088e+06</td>\n",
       "      <td>271279.304200</td>\n",
       "    </tr>\n",
       "    <tr>\n",
       "      <th>300</th>\n",
       "      <td>1.002874e+06</td>\n",
       "      <td>235606.103892</td>\n",
       "      <td>1.025060e+06</td>\n",
       "      <td>271286.575972</td>\n",
       "    </tr>\n",
       "    <tr>\n",
       "      <th>301</th>\n",
       "      <td>9.832808e+05</td>\n",
       "      <td>150502.094058</td>\n",
       "      <td>1.024616e+06</td>\n",
       "      <td>197930.782684</td>\n",
       "    </tr>\n",
       "  </tbody>\n",
       "</table>\n",
       "<p>302 rows × 4 columns</p>\n",
       "</div>"
      ],
      "text/plain": [
       "             minx           miny          maxx           maxy\n",
       "0    9.142370e+05  119922.011858  9.142696e+05  119956.869342\n",
       "1    9.218369e+05  120208.088189  9.218926e+05  120263.605000\n",
       "2    9.195835e+05  121446.699764  9.196371e+05  121463.260638\n",
       "3    9.196508e+05  121459.197847  9.196847e+05  121527.971415\n",
       "4    9.216673e+05  121869.531187  9.217806e+05  121985.378001\n",
       "..            ...            ...           ...            ...\n",
       "297  1.019262e+06  248828.956672  1.019296e+06  248985.578564\n",
       "298  1.018991e+06  255210.391777  1.019390e+06  255713.960911\n",
       "299  1.016232e+06  236767.685340  1.025088e+06  271279.304200\n",
       "300  1.002874e+06  235606.103892  1.025060e+06  271286.575972\n",
       "301  9.832808e+05  150502.094058  1.024616e+06  197930.782684\n",
       "\n",
       "[302 rows x 4 columns]"
      ]
     },
     "execution_count": 8,
     "metadata": {},
     "output_type": "execute_result"
    }
   ],
   "source": [
    "#Find extent of area of interest\n",
    "shoreline_data.bounds"
   ]
  },
  {
   "cell_type": "code",
   "execution_count": 8,
   "id": "c78bbcca-24ca-4cf2-a7a9-494e585ab618",
   "metadata": {},
   "outputs": [
    {
     "data": {
      "text/plain": [
       "<Derived Projected CRS: EPSG:2263>\n",
       "Name: NAD83 / New York Long Island (ftUS)\n",
       "Axis Info [cartesian]:\n",
       "- X[east]: Easting (US survey foot)\n",
       "- Y[north]: Northing (US survey foot)\n",
       "Area of Use:\n",
       "- name: United States (USA) - New York - counties of Bronx; Kings; Nassau; New York; Queens; Richmond; Suffolk.\n",
       "- bounds: (-74.26, 40.47, -71.8, 41.3)\n",
       "Coordinate Operation:\n",
       "- name: SPCS83 New York Long Island zone (US Survey feet)\n",
       "- method: Lambert Conic Conformal (2SP)\n",
       "Datum: North American Datum 1983\n",
       "- Ellipsoid: GRS 1980\n",
       "- Prime Meridian: Greenwich"
      ]
     },
     "execution_count": 8,
     "metadata": {},
     "output_type": "execute_result"
    }
   ],
   "source": [
    "#view shoreline_data coordinate reference system\n",
    "shoreline_data.crs"
   ]
  },
  {
   "cell_type": "markdown",
   "id": "d4d3ba2d-1b15-4fdc-be5f-d32e52cf78d9",
   "metadata": {},
   "source": [
    "## Load Catch Batch Data"
   ]
  },
  {
   "cell_type": "code",
   "execution_count": 9,
   "id": "6b0480c0-d0e8-4663-8e76-7b0a090df677",
   "metadata": {},
   "outputs": [],
   "source": [
    "catchbasin_data = gpd.read_file('/workspace/w210/catchbasindata/DEPCATCHBASINS.shp')"
   ]
  },
  {
   "cell_type": "code",
   "execution_count": 69,
   "id": "b35c69ba-a94f-41ec-ab8c-3cea35715c55",
   "metadata": {},
   "outputs": [
    {
     "data": {
      "text/html": [
       "<div>\n",
       "<style scoped>\n",
       "    .dataframe tbody tr th:only-of-type {\n",
       "        vertical-align: middle;\n",
       "    }\n",
       "\n",
       "    .dataframe tbody tr th {\n",
       "        vertical-align: top;\n",
       "    }\n",
       "\n",
       "    .dataframe thead th {\n",
       "        text-align: right;\n",
       "    }\n",
       "</style>\n",
       "<table border=\"1\" class=\"dataframe\">\n",
       "  <thead>\n",
       "    <tr style=\"text-align: right;\">\n",
       "      <th></th>\n",
       "      <th>minx</th>\n",
       "      <th>miny</th>\n",
       "      <th>maxx</th>\n",
       "      <th>maxy</th>\n",
       "    </tr>\n",
       "  </thead>\n",
       "  <tbody>\n",
       "    <tr>\n",
       "      <th>0</th>\n",
       "      <td>9.302306e+05</td>\n",
       "      <td>128315.9475</td>\n",
       "      <td>9.302306e+05</td>\n",
       "      <td>128315.9475</td>\n",
       "    </tr>\n",
       "    <tr>\n",
       "      <th>1</th>\n",
       "      <td>9.302324e+05</td>\n",
       "      <td>128271.1119</td>\n",
       "      <td>9.302324e+05</td>\n",
       "      <td>128271.1119</td>\n",
       "    </tr>\n",
       "    <tr>\n",
       "      <th>2</th>\n",
       "      <td>9.297651e+05</td>\n",
       "      <td>128081.6211</td>\n",
       "      <td>9.297651e+05</td>\n",
       "      <td>128081.6211</td>\n",
       "    </tr>\n",
       "    <tr>\n",
       "      <th>3</th>\n",
       "      <td>9.297840e+05</td>\n",
       "      <td>128055.3674</td>\n",
       "      <td>9.297840e+05</td>\n",
       "      <td>128055.3674</td>\n",
       "    </tr>\n",
       "    <tr>\n",
       "      <th>4</th>\n",
       "      <td>9.297074e+05</td>\n",
       "      <td>128268.6756</td>\n",
       "      <td>9.297074e+05</td>\n",
       "      <td>128268.6756</td>\n",
       "    </tr>\n",
       "    <tr>\n",
       "      <th>...</th>\n",
       "      <td>...</td>\n",
       "      <td>...</td>\n",
       "      <td>...</td>\n",
       "      <td>...</td>\n",
       "    </tr>\n",
       "    <tr>\n",
       "      <th>153367</th>\n",
       "      <td>1.033593e+06</td>\n",
       "      <td>243667.0210</td>\n",
       "      <td>1.033593e+06</td>\n",
       "      <td>243667.0210</td>\n",
       "    </tr>\n",
       "    <tr>\n",
       "      <th>153368</th>\n",
       "      <td>1.033889e+06</td>\n",
       "      <td>243943.3771</td>\n",
       "      <td>1.033889e+06</td>\n",
       "      <td>243943.3771</td>\n",
       "    </tr>\n",
       "    <tr>\n",
       "      <th>153369</th>\n",
       "      <td>1.033715e+06</td>\n",
       "      <td>244013.8713</td>\n",
       "      <td>1.033715e+06</td>\n",
       "      <td>244013.8713</td>\n",
       "    </tr>\n",
       "    <tr>\n",
       "      <th>153370</th>\n",
       "      <td>1.033486e+06</td>\n",
       "      <td>244357.6753</td>\n",
       "      <td>1.033486e+06</td>\n",
       "      <td>244357.6753</td>\n",
       "    </tr>\n",
       "    <tr>\n",
       "      <th>153371</th>\n",
       "      <td>1.033983e+06</td>\n",
       "      <td>244309.5723</td>\n",
       "      <td>1.033983e+06</td>\n",
       "      <td>244309.5723</td>\n",
       "    </tr>\n",
       "  </tbody>\n",
       "</table>\n",
       "<p>153372 rows × 4 columns</p>\n",
       "</div>"
      ],
      "text/plain": [
       "                minx         miny          maxx         maxy\n",
       "0       9.302306e+05  128315.9475  9.302306e+05  128315.9475\n",
       "1       9.302324e+05  128271.1119  9.302324e+05  128271.1119\n",
       "2       9.297651e+05  128081.6211  9.297651e+05  128081.6211\n",
       "3       9.297840e+05  128055.3674  9.297840e+05  128055.3674\n",
       "4       9.297074e+05  128268.6756  9.297074e+05  128268.6756\n",
       "...              ...          ...           ...          ...\n",
       "153367  1.033593e+06  243667.0210  1.033593e+06  243667.0210\n",
       "153368  1.033889e+06  243943.3771  1.033889e+06  243943.3771\n",
       "153369  1.033715e+06  244013.8713  1.033715e+06  244013.8713\n",
       "153370  1.033486e+06  244357.6753  1.033486e+06  244357.6753\n",
       "153371  1.033983e+06  244309.5723  1.033983e+06  244309.5723\n",
       "\n",
       "[153372 rows x 4 columns]"
      ]
     },
     "execution_count": 69,
     "metadata": {},
     "output_type": "execute_result"
    }
   ],
   "source": [
    "catchbasin_data.bounds"
   ]
  },
  {
   "cell_type": "code",
   "execution_count": 12,
   "id": "606c78cb-2892-4019-94d7-13126f2681f3",
   "metadata": {},
   "outputs": [
    {
     "data": {
      "text/plain": [
       "<Derived Projected CRS: EPSG:2263>\n",
       "Name: NAD83 / New York Long Island (ftUS)\n",
       "Axis Info [cartesian]:\n",
       "- X[east]: Easting (US survey foot)\n",
       "- Y[north]: Northing (US survey foot)\n",
       "Area of Use:\n",
       "- name: United States (USA) - New York - counties of Bronx; Kings; Nassau; New York; Queens; Richmond; Suffolk.\n",
       "- bounds: (-74.26, 40.47, -71.8, 41.3)\n",
       "Coordinate Operation:\n",
       "- name: SPCS83 New York Long Island zone (US Survey feet)\n",
       "- method: Lambert Conic Conformal (2SP)\n",
       "Datum: North American Datum 1983\n",
       "- Ellipsoid: GRS 1980\n",
       "- Prime Meridian: Greenwich"
      ]
     },
     "execution_count": 12,
     "metadata": {},
     "output_type": "execute_result"
    }
   ],
   "source": [
    "catchbasin_data.crs"
   ]
  },
  {
   "cell_type": "code",
   "execution_count": 84,
   "id": "429dabd0-ebd1-49fd-87a6-e77d5bc6de9d",
   "metadata": {},
   "outputs": [],
   "source": [
    "#get min and max x and y values\n",
    "#function to return min and max coordinate values of dataset\n",
    "def dataset_minmax(dataset, reduction_factor):\n",
    "    reduction_factor = float(reduction_factor)\n",
    "    global minx, miny, maxx, maxy, reducedminx, reducedminy, reducedmaxx, reducedmaxy\n",
    "    minx = dataset['POINT_X'].min()\n",
    "    miny = dataset['POINT_Y'].min()\n",
    "    maxx = dataset['POINT_X'].max()\n",
    "    maxy = dataset['POINT_Y'].max()\n",
    "    reducedminx = reduction_factor*minx\n",
    "    reducedminy = reduction_factor*miny\n",
    "    reducedmaxx = reduction_factor*maxx\n",
    "    reducedmaxy = reduction_factor*maxy\n",
    "    print('dataset min x value is: ' + str(minx) + ' Reduced by ' + str(reduction_factor) + ' is ' + str(reducedminx))\n",
    "    print('dataset min y value is: ' + str(miny)+ ' Reduced by ' + str(reduction_factor) + ' is ' + str(reducedminy))\n",
    "    print('dataset max x value is: ' + str(maxx)+ ' Reduced by ' + str(reduction_factor) + ' is ' + str(reducedmaxx))\n",
    "    print('dataset max y value is: ' + str(maxy)+ ' Reduced by ' + str(reduction_factor) + ' is ' + str(reducedmaxy))\n"
   ]
  },
  {
   "cell_type": "code",
   "execution_count": 85,
   "id": "7185c820-4989-4e31-9e2c-6cf7dae0de91",
   "metadata": {},
   "outputs": [
    {
     "name": "stdout",
     "output_type": "stream",
     "text": [
      "dataset min x value is: 913346.42030001 Reduced by 0.25 is 228336.6050750025\n",
      "dataset min y value is: 120928.153355 Reduced by 0.25 is 30232.03833875\n",
      "dataset max x value is: 1067265.79700001 Reduced by 0.25 is 266816.4492500025\n",
      "dataset max y value is: 271705.03179779 Reduced by 0.25 is 67926.2579494475\n"
     ]
    }
   ],
   "source": [
    "dataset_minmax(catchbasin_data, .25)"
   ]
  },
  {
   "cell_type": "markdown",
   "id": "ca0a5459-666c-4e26-8f36-24227c262399",
   "metadata": {},
   "source": [
    "#### Both datasets are on CRS EPSG 2263"
   ]
  },
  {
   "cell_type": "markdown",
   "id": "7536e030-4535-4b7c-a43a-bbbba4bc1d7f",
   "metadata": {},
   "source": [
    "### Bound both datasets to limit scope"
   ]
  },
  {
   "cell_type": "code",
   "execution_count": 31,
   "id": "1a63c6a2-b969-4b8b-bffa-7cd6584a6488",
   "metadata": {},
   "outputs": [
    {
     "data": {
      "image/png": "[encoded data removed]",
      "text/plain": [
       "<Figure size 640x480 with 1 Axes>"
      ]
     },
     "metadata": {},
     "output_type": "display_data"
    },
    {
     "data": {
      "text/plain": [
       "<Figure size 300x300 with 0 Axes>"
      ]
     },
     "metadata": {},
     "output_type": "display_data"
    }
   ],
   "source": [
    "#visualize full dataset\n",
    "fig,ax = plt.subplots()\n",
    "#plt.figure(figsize = (3,3))\n",
    "\n",
    "#catchbasin_data.plt(ax = ax, facecolor = 'gray')\n",
    "catchbasin_data.plot(ax = ax, color = 'red', markersize = .01)\n",
    "shoreline_data.plot(ax = ax, color = 'blue')\n",
    "plt.show()"
   ]
  },
  {
   "cell_type": "code",
   "execution_count": 87,
   "id": "ca67ed33-d72a-46e1-b82f-8603bddb62aa",
   "metadata": {},
   "outputs": [
    {
     "data": {
      "text/plain": [
       "<bound method NDFrame.head of Empty GeoDataFrame\n",
       "Columns: [UNITID, LATITUDE, LONGITUDE, POINT_X, POINT_Y, geometry]\n",
       "Index: []>"
      ]
     },
     "execution_count": 87,
     "metadata": {},
     "output_type": "execute_result"
    }
   ],
   "source": [
    "#slice data using .cx[xmin:xmax, ymin:ymax]\n",
    "catchbasin_data_sliced = catchbasin_data.cx[reducedminx:reducedmaxx, reducedminy:reducedmaxy]\n",
    "catchbasin_data_sliced.head"
   ]
  },
  {
   "cell_type": "code",
   "execution_count": 35,
   "id": "a9b9576e-84f2-4550-943a-a388b4009785",
   "metadata": {},
   "outputs": [
    {
     "name": "stderr",
     "output_type": "stream",
     "text": [
      "/opt/conda/lib/python3.9/site-packages/geopandas/plotting.py:693: UserWarning: The GeoDataFrame you are attempting to plot is empty. Nothing has been displayed.\n",
      "  warnings.warn(\n"
     ]
    },
    {
     "data": {
      "image/png": "[encoded data removed]",
      "text/plain": [
       "<Figure size 640x480 with 1 Axes>"
      ]
     },
     "metadata": {},
     "output_type": "display_data"
    }
   ],
   "source": [
    "#visualize subset of dataset\n",
    "fig,ax = plt.subplots()\n",
    "#plt.figure(figsize = (3,3))\n",
    "\n",
    "#catchbasin_data.plt(ax = ax, facecolor = 'gray')\n",
    "catchbasin_data_sliced.plot(ax = ax, color = 'red', markersize = .01)\n",
    "#shoreline_data.plot(ax = ax, color = 'blue')\n",
    "plt.show()"
   ]
  },
  {
   "cell_type": "code",
   "execution_count": null,
   "id": "45f9a5dc-b3db-4f77-bf6f-0b422ed56aa5",
   "metadata": {},
   "outputs": [],
   "source": []
  },
  {
   "cell_type": "code",
   "execution_count": 19,
   "id": "bf83a51c-e4c0-4815-97f0-4b426d828f73",
   "metadata": {},
   "outputs": [
    {
     "data": {
      "text/plain": [
       "[<shapely.geometry.linestring.LineString at 0x7f34a92fb700>,\n",
       " <shapely.geometry.linestring.LineString at 0x7f34a92e47c0>,\n",
       " <shapely.geometry.linestring.LineString at 0x7f34a92e4c40>,\n",
       " <shapely.geometry.linestring.LineString at 0x7f34a92e49a0>,\n",
       " <shapely.geometry.linestring.LineString at 0x7f34a92e4b80>,\n",
       " <shapely.geometry.linestring.LineString at 0x7f34a92e4160>,\n",
       " <shapely.geometry.linestring.LineString at 0x7f34a92e45b0>,\n",
       " <shapely.geometry.multilinestring.MultiLineString at 0x7f34f83b9ee0>,\n",
       " <shapely.geometry.linestring.LineString at 0x7f34ad52eaf0>,\n",
       " <shapely.geometry.linestring.LineString at 0x7f34a92fb130>]"
      ]
     },
     "execution_count": 19,
     "metadata": {},
     "output_type": "execute_result"
    }
   ],
   "source": [
    "#Create list of geometry column of shoreline data\n",
    "shoreline_data_shapes = shoreline_data['geometry'].values.tolist()\n",
    "shoreline_data_shapes[0:10]"
   ]
  },
  {
   "cell_type": "code",
   "execution_count": null,
   "id": "77c6df51-5304-4f34-b9b1-17ae559f5da1",
   "metadata": {},
   "outputs": [],
   "source": [
    "#specifiy shape of output grid in pixel units\n",
    "zones_array_output_shape = shoreline_data.shape[1:]\n",
    "#Project from pixel space to coordinate space\n",
    "#shoreline_transform = shoreline_data.rio.transform()"
   ]
  },
  {
   "cell_type": "code",
   "execution_count": 22,
   "id": "f39231d4-7ed0-4431-b307-d1cc9cc9be23",
   "metadata": {},
   "outputs": [
    {
     "ename": "ModuleNotFoundError",
     "evalue": "No module named 'arcpy'",
     "output_type": "error",
     "traceback": [
      "\u001b[0;31m---------------------------------------------------------------------------\u001b[0m",
      "\u001b[0;31mModuleNotFoundError\u001b[0m                       Traceback (most recent call last)",
      "Cell \u001b[0;32mIn [22], line 2\u001b[0m\n\u001b[1;32m      1\u001b[0m \u001b[38;5;66;03m#convert a polyline to a single point \u001b[39;00m\n\u001b[0;32m----> 2\u001b[0m \u001b[38;5;28;01mimport\u001b[39;00m \u001b[38;5;21;01marcpy\u001b[39;00m\n",
      "\u001b[0;31mModuleNotFoundError\u001b[0m: No module named 'arcpy'"
     ]
    }
   ],
   "source": [
    "#convert a polyline to a single point using arcpy\n",
    "import arcpy"
   ]
  },
  {
   "cell_type": "code",
   "execution_count": null,
   "id": "8172f37f-2ff5-4b05-bf22-f7b189b86b15",
   "metadata": {},
   "outputs": [],
   "source": []
  }
 ],
 "metadata": {
  "kernelspec": {
   "display_name": "Python 3 (ipykernel)",
   "language": "python",
   "name": "python3"
  },
  "language_info": {
   "codemirror_mode": {
    "name": "ipython",
    "version": 3
   },
   "file_extension": ".py",
   "mimetype": "text/x-python",
   "name": "python",
   "nbconvert_exporter": "python",
   "pygments_lexer": "ipython3",
   "version": "3.9.12"
  }
 },
 "nbformat": 4,
 "nbformat_minor": 5
}
