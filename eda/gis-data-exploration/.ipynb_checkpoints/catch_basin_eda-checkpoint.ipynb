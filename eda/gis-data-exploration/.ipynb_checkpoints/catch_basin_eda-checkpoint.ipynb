{
 "cells": [
  {
   "cell_type": "markdown",
   "id": "a4d670f2-9495-4cd6-acd4-7438f27c579f",
   "metadata": {},
   "source": [
    "# Catch Basin Data Exploration"
   ]
  },
  {
   "cell_type": "markdown",
   "id": "b9f4cdfe-e995-42df-bfea-010b76931c18",
   "metadata": {},
   "source": [
    "#### GDAL Docs\n",
    "[Geometry](https://gdal.org/java/org/gdal/ogr/Geometry.html)\n",
    "\n",
    "[Spatial Reference](https://gdal.org/java/org/gdal/osr/SpatialReference.html)\n",
    "\n",
    "[Field](https://gdal.org/java/org/gdal/ogr/FieldDefn.html)"
   ]
  },
  {
   "cell_type": "code",
   "execution_count": 22,
   "id": "a219d528-5bfc-455f-a4f6-bd538bcb3772",
   "metadata": {},
   "outputs": [],
   "source": [
    "from osgeo import gdal, gdal_array, osr, ogr\n",
    "import numpy as np\n",
    "import rasterio\n",
    "#from affine import Affine\n",
    "import pyproj\n",
    "import pandas as pd\n",
    "from shapely.geometry import Point\n",
    "from geopandas import GeoDataFrame\n",
    "import geopandas as gpd"
   ]
  },
  {
   "cell_type": "code",
   "execution_count": 2,
   "id": "0f1d175a-57f9-4c21-bdaf-0c8e5fa42e9e",
   "metadata": {},
   "outputs": [
    {
     "data": {
      "text/plain": [
       "<osgeo.ogr.DataSource; proxy of <Swig Object of type 'OGRDataSourceShadow *' at 0x7f1e34586c00> >"
      ]
     },
     "execution_count": 2,
     "metadata": {},
     "output_type": "execute_result"
    }
   ],
   "source": [
    "dataset = ogr.Open('../../../catch_basins/DEPCatchbasins/DEPCATCHBASINS.dbf')\n",
    "dataset"
   ]
  },
  {
   "cell_type": "code",
   "execution_count": 3,
   "id": "5554a1cd-417a-45c3-9693-05a45f7cced4",
   "metadata": {},
   "outputs": [
    {
     "data": {
      "text/plain": [
       "1"
      ]
     },
     "execution_count": 3,
     "metadata": {},
     "output_type": "execute_result"
    }
   ],
   "source": [
    "dataset.GetLayerCount()"
   ]
  },
  {
   "cell_type": "code",
   "execution_count": 4,
   "id": "3704b17c-ae78-488a-8ae3-d977d1a338bf",
   "metadata": {},
   "outputs": [
    {
     "data": {
      "text/plain": [
       "<osgeo.ogr.Layer; proxy of <Swig Object of type 'OGRLayerShadow *' at 0x7f1dd45462a0> >"
      ]
     },
     "execution_count": 4,
     "metadata": {},
     "output_type": "execute_result"
    }
   ],
   "source": [
    "layer = dataset.GetLayer()\n",
    "layer"
   ]
  },
  {
   "cell_type": "code",
   "execution_count": 5,
   "id": "d8e5876a-2bd7-4f04-83d8-b58d2b913c72",
   "metadata": {},
   "outputs": [
    {
     "data": {
      "text/plain": [
       "(913346.4203000069, 1067265.7970000058, 120928.15340000391, 271705.03180000186)"
      ]
     },
     "execution_count": 5,
     "metadata": {},
     "output_type": "execute_result"
    }
   ],
   "source": [
    "layer.GetExtent()"
   ]
  },
  {
   "cell_type": "code",
   "execution_count": 6,
   "id": "e8cce140-5e6a-439f-9815-294db80799ed",
   "metadata": {},
   "outputs": [
    {
     "data": {
      "text/plain": [
       "'PROJCS[\"NAD83 / New York Long Island (ftUS)\",\\n    GEOGCS[\"NAD83\",\\n        DATUM[\"North_American_Datum_1983\",\\n            SPHEROID[\"GRS 1980\",6378137,298.257222101,\\n                AUTHORITY[\"EPSG\",\"7019\"]],\\n            AUTHORITY[\"EPSG\",\"6269\"]],\\n        PRIMEM[\"Greenwich\",0,\\n            AUTHORITY[\"EPSG\",\"8901\"]],\\n        UNIT[\"degree\",0.0174532925199433,\\n            AUTHORITY[\"EPSG\",\"9122\"]],\\n        AUTHORITY[\"EPSG\",\"4269\"]],\\n    PROJECTION[\"Lambert_Conformal_Conic_2SP\"],\\n    PARAMETER[\"latitude_of_origin\",40.1666666666667],\\n    PARAMETER[\"central_meridian\",-74],\\n    PARAMETER[\"standard_parallel_1\",41.0333333333333],\\n    PARAMETER[\"standard_parallel_2\",40.6666666666667],\\n    PARAMETER[\"false_easting\",984250],\\n    PARAMETER[\"false_northing\",0],\\n    UNIT[\"US survey foot\",0.304800609601219,\\n        AUTHORITY[\"EPSG\",\"9003\"]],\\n    AXIS[\"Easting\",EAST],\\n    AXIS[\"Northing\",NORTH],\\n    AUTHORITY[\"EPSG\",\"2263\"]]'"
      ]
     },
     "execution_count": 6,
     "metadata": {},
     "output_type": "execute_result"
    }
   ],
   "source": [
    "layer.GetSpatialRef().ExportToPrettyWkt()"
   ]
  },
  {
   "cell_type": "code",
   "execution_count": 7,
   "id": "5fa7ab76-955d-45f4-b4b3-6bfcbf80a13f",
   "metadata": {},
   "outputs": [
    {
     "data": {
      "text/plain": [
       "153372"
      ]
     },
     "execution_count": 7,
     "metadata": {},
     "output_type": "execute_result"
    }
   ],
   "source": [
    "#num obs\n",
    "layer.GetFeatureCount()"
   ]
  },
  {
   "cell_type": "code",
   "execution_count": 8,
   "id": "1b992cce-b876-4ad0-942a-393718b144c1",
   "metadata": {},
   "outputs": [
    {
     "data": {
      "text/plain": [
       "''"
      ]
     },
     "execution_count": 8,
     "metadata": {},
     "output_type": "execute_result"
    }
   ],
   "source": [
    "layer.GetFIDColumn()"
   ]
  },
  {
   "cell_type": "code",
   "execution_count": 9,
   "id": "d50aa7f7-838d-45bc-bb3d-2174ab77dc75",
   "metadata": {},
   "outputs": [
    {
     "name": "stdout",
     "output_type": "stream",
     "text": [
      "None\n"
     ]
    }
   ],
   "source": [
    "print(layer.GetSpatialFilter())"
   ]
  },
  {
   "cell_type": "code",
   "execution_count": 10,
   "id": "301a08ed-37a4-47af-8798-eac5bf874491",
   "metadata": {},
   "outputs": [
    {
     "data": {
      "text/plain": [
       "<bound method FeatureDefn.GetGeomFieldIndex of <osgeo.ogr.FeatureDefn; proxy of <Swig Object of type 'OGRFeatureDefnShadow *' at 0x7f1e34574ab0> >>"
      ]
     },
     "execution_count": 10,
     "metadata": {},
     "output_type": "execute_result"
    }
   ],
   "source": [
    "layer.GetNextFeature().GetDefnRef().GetGeomFieldIndex"
   ]
  },
  {
   "cell_type": "code",
   "execution_count": 11,
   "id": "ec5196b8-0df7-4122-9f23-3cc2102c25aa",
   "metadata": {},
   "outputs": [
    {
     "data": {
      "text/plain": [
       "1"
      ]
     },
     "execution_count": 11,
     "metadata": {},
     "output_type": "execute_result"
    }
   ],
   "source": [
    "layer.GetGeomType()"
   ]
  },
  {
   "cell_type": "code",
   "execution_count": 12,
   "id": "c9bc4e3f-faaa-4c82-a12d-a53789afe94a",
   "metadata": {},
   "outputs": [
    {
     "data": {
      "text/plain": [
       "{'DBF_DATE_LAST_UPDATE': '2020-11-30'}"
      ]
     },
     "execution_count": 12,
     "metadata": {},
     "output_type": "execute_result"
    }
   ],
   "source": [
    "layer.GetMetadata_Dict()"
   ]
  },
  {
   "cell_type": "code",
   "execution_count": 13,
   "id": "c1213782-54f7-4aa4-92f1-0a1bcb30a7aa",
   "metadata": {},
   "outputs": [
    {
     "name": "stdout",
     "output_type": "stream",
     "text": [
      "UNITID\n",
      "LATITUDE\n",
      "LONGITUDE\n",
      "POINT_X\n",
      "POINT_Y\n"
     ]
    }
   ],
   "source": [
    "for i in range(layer.GetLayerDefn().GetFieldCount()):\n",
    "    print(layer.GetLayerDefn().GetFieldDefn(i).GetName())"
   ]
  },
  {
   "cell_type": "code",
   "execution_count": 14,
   "id": "e9e8d8c2-7109-4f63-be69-00513bf514d8",
   "metadata": {},
   "outputs": [
    {
     "name": "stdout",
     "output_type": "stream",
     "text": [
      "Name  -  Type  Width  Precision\n",
      "UNITID - String 254 0\n",
      "LATITUDE - Real 19 8\n",
      "LONGITUDE - Real 19 8\n",
      "POINT_X - Real 19 8\n",
      "POINT_Y - Real 19 8\n"
     ]
    }
   ],
   "source": [
    "## fields in layer\n",
    "layerDefinition = layer.GetLayerDefn()\n",
    "print(\"Name  -  Type  Width  Precision\")\n",
    "for i in range(layerDefinition.GetFieldCount()):\n",
    "    fieldName =  layerDefinition.GetFieldDefn(i).GetName()\n",
    "    fieldTypeCode = layerDefinition.GetFieldDefn(i).GetType()\n",
    "    fieldType = layerDefinition.GetFieldDefn(i).GetFieldTypeName(fieldTypeCode)\n",
    "    fieldWidth = layerDefinition.GetFieldDefn(i).GetWidth()\n",
    "    GetPrecision = layerDefinition.GetFieldDefn(i).GetPrecision()\n",
    "\n",
    "    print(fieldName + \" - \" + fieldType+ \" \" + str(fieldWidth) + \" \" + str(GetPrecision))"
   ]
  },
  {
   "cell_type": "code",
   "execution_count": 15,
   "id": "9a884481-d036-48b4-8ec4-0a1ca2335f54",
   "metadata": {},
   "outputs": [
    {
     "name": "stdout",
     "output_type": "stream",
     "text": [
      "Name: NAD83 / New York Long Island (ftUS)\n",
      "Spatial ref: PROJCS[\"NAD83 / New York Long Island (ftUS)\",\n",
      "    GEOGCS[\"NAD83\",\n",
      "        DATUM[\"North_American_Datum_1983\",\n",
      "            SPHEROID[\"GRS 1980\",6378137,298.257222101,\n",
      "                AUTHORITY[\"EPSG\",\"7019\"]],\n",
      "            AUTHORITY[\"EPSG\",\"6269\"]],\n",
      "        PRIMEM[\"Greenwich\",0,\n",
      "            AUTHORITY[\"EPSG\",\"8901\"]],\n",
      "        UNIT[\"degree\",0.0174532925199433,\n",
      "            AUTHORITY[\"EPSG\",\"9122\"]],\n",
      "        AUTHORITY[\"EPSG\",\"4269\"]],\n",
      "    PROJECTION[\"Lambert_Conformal_Conic_2SP\"],\n",
      "    PARAMETER[\"latitude_of_origin\",40.1666666666667],\n",
      "    PARAMETER[\"central_meridian\",-74],\n",
      "    PARAMETER[\"standard_parallel_1\",41.0333333333333],\n",
      "    PARAMETER[\"standard_parallel_2\",40.6666666666667],\n",
      "    PARAMETER[\"false_easting\",984250],\n",
      "    PARAMETER[\"false_northing\",0],\n",
      "    UNIT[\"US survey foot\",0.304800609601219,\n",
      "        AUTHORITY[\"EPSG\",\"9003\"]],\n",
      "    AXIS[\"Easting\",EAST],\n",
      "    AXIS[\"Northing\",NORTH],\n",
      "    AUTHORITY[\"EPSG\",\"2263\"]]\n",
      "Is projected: 1\n",
      "Is geographic: 0\n",
      "UTM Zone: 0\n",
      "TOWGS84 Params: (0.0, 0.0, 0.0, 0.0, 0.0, 0.0, 0.0)\n",
      "Semi Minor: 6356752.314140356\n",
      "Semi Major: 6378137.0\n",
      "Linear Units Name: US survey foot\n",
      "Inv Flattening: 298.257222101\n",
      "Angular Units Name: degree\n",
      "Mapinfo Style CoordSys Format: Earth Projection 3, 74, \"survey ft\", -74, 40.1666666666667, 40.6666666666667, 41.0333333333333, 984250, 0\n",
      "West lon degree: -74.26\n",
      "East lon degree: -71.8\n",
      "North lat degree: 41.3\n",
      "South lat degree: 40.47\n"
     ]
    }
   ],
   "source": [
    "## spatial data\n",
    "sr = layer.GetSpatialRef()\n",
    "print('Name:', sr.GetName())\n",
    "print('Spatial ref:',sr.ExportToPrettyWkt())\n",
    "print('Is projected:',sr.IsProjected())\n",
    "print('Is geographic:', sr.IsGeographic())\n",
    "print('UTM Zone:', sr.GetUTMZone())\n",
    "print('TOWGS84 Params:', sr.GetTOWGS84())\n",
    "print('Semi Minor:',sr.GetSemiMinor())\n",
    "print('Semi Major:', sr.GetSemiMajor())\n",
    "print('Linear Units Name:', sr.GetLinearUnitsName())\n",
    "print('Inv Flattening:', sr.GetInvFlattening())\n",
    "print('Angular Units Name:', sr.GetAngularUnitsName())\n",
    "print('Mapinfo Style CoordSys Format:', sr.ExportToMICoordSys())\n",
    "print('West lon degree:', sr.GetAreaOfUse().west_lon_degree)\n",
    "print('East lon degree:', sr.GetAreaOfUse().east_lon_degree)\n",
    "print('North lat degree:', sr.GetAreaOfUse().north_lat_degree)\n",
    "print('South lat degree:', sr.GetAreaOfUse().south_lat_degree)"
   ]
  },
  {
   "cell_type": "code",
   "execution_count": 16,
   "id": "0db482ca-6a8f-4efd-9dfe-62de2bdc66c5",
   "metadata": {},
   "outputs": [
    {
     "name": "stdout",
     "output_type": "stream",
     "text": [
      "Centroid: POINT (930230.623099998 128315.947500005)\n",
      "Boundary: GEOMETRYCOLLECTION EMPTY\n",
      "Name: POINT\n",
      "Linear Geometry: POINT (930230.623099998 128315.947500005)\n",
      "Is ring: False\n",
      "Is simple: True\n",
      "Is valid: True\n",
      "Feature ID: 0\n",
      "Unit ID: CB550115\n",
      "Latitude: 40.5187\n",
      "Longitude: -74.1942\n",
      "Point X: 930230.6231\n",
      "Point Y: 128315.94750001\n",
      "------------------------------\n",
      "Centroid: POINT (930232.445299998 128271.111900002)\n",
      "Boundary: GEOMETRYCOLLECTION EMPTY\n",
      "Name: POINT\n",
      "Linear Geometry: POINT (930232.445299998 128271.111900002)\n",
      "Is ring: False\n",
      "Is simple: True\n",
      "Is valid: True\n",
      "Feature ID: 1\n",
      "Unit ID: CB550005\n",
      "Latitude: 40.51858\n",
      "Longitude: -74.1942\n",
      "Point X: 930232.4453\n",
      "Point Y: 128271.1119\n",
      "------------------------------\n",
      "Centroid: POINT (929765.086099997 128081.621099994)\n",
      "Boundary: GEOMETRYCOLLECTION EMPTY\n",
      "Name: POINT\n",
      "Linear Geometry: POINT (929765.086099997 128081.621099994)\n",
      "Is ring: False\n",
      "Is simple: True\n",
      "Is valid: True\n",
      "Feature ID: 2\n",
      "Unit ID: CB550061\n",
      "Latitude: 40.51806227\n",
      "Longitude: -74.19596261\n",
      "Point X: 929765.086058\n",
      "Point Y: 128081.621106\n",
      "------------------------------\n"
     ]
    }
   ],
   "source": [
    "## feature (observation) data\n",
    "count = 0 \n",
    "for feature in layer:\n",
    "    #print(feature.GetField(\"STATE_NAME\"))\n",
    "    geom = feature.GetGeometryRef()\n",
    "    print('Centroid:',geom.Centroid())\n",
    "    print('Boundary:',geom.Boundary())\n",
    "    # print('Buffer:', geom.Buffer())\n",
    "    # print('Coord Dim:', geom.CoordinateDimension())\n",
    "    # print('Coord Dim2:', geom.GetCoordinateDimension())\n",
    "    # print('Area:',geom.Area())\n",
    "    # print('Dimension:', geom.GetDimension())\n",
    "    # print('Bounding Envelope:', geom.GetEnvelope())\n",
    "    # print('Element count:', geom.GetGeometryCount())\n",
    "    print('Name:', geom.GetGeometryName())\n",
    "    print('Linear Geometry:', geom.GetLinearGeometry())\n",
    "    # print('M:',geom.GetM())\n",
    "    # print('Point:',geom.GetPoint_2D())\n",
    "    # print('Point Count:',geom.GetPointCount())\n",
    "    # print('Points:', geom.GetPoints())\n",
    "    # print('X,Y,Z:', geom.GetX(), geom.GetY(), geom.GetZ())\n",
    "    # print('Has curve geometry:', geom.HasCurveGeometry())\n",
    "    # print('Is measured:', geom.IsMeasured())\n",
    "    print('Is ring:', geom.IsRing())\n",
    "    print('Is simple:', geom.IsSimple())\n",
    "    print('Is valid:', geom.IsValid())\n",
    "    # print('Length:', geom.Length())\n",
    "    # print('Point on surface:', geom.PointOnSurface())\n",
    "    # print('Polygonize:', geom.Polygonize())\n",
    "    # print('Geom field count:', feature.GetGeomFieldCount())\n",
    "    print('Feature ID:',feature.GetFID())\n",
    "    print('Unit ID:', feature.UNITID)\n",
    "    print('Latitude:', feature.LATITUDE)\n",
    "    print('Longitude:', feature.LONGITUDE)\n",
    "    print('Point X:', feature.POINT_X)\n",
    "    print('Point Y:', feature.POINT_Y)\n",
    "    print('-'*30)\n",
    "    count +=1\n",
    "    if count == 3:\n",
    "        break\n",
    "layer.ResetReading()"
   ]
  },
  {
   "cell_type": "code",
   "execution_count": 20,
   "id": "48e4ed64-ba89-4b42-af65-788e1f9caa26",
   "metadata": {},
   "outputs": [
    {
     "data": {
      "text/plain": [
       "[(40.51806227, -74.19596261)]"
      ]
     },
     "execution_count": 20,
     "metadata": {},
     "output_type": "execute_result"
    }
   ],
   "source": [
    "x = [40.51806227]\n",
    "y = [-74.19596261]\n",
    "[xy for xy in zip(x,y)]"
   ]
  },
  {
   "cell_type": "code",
   "execution_count": 27,
   "id": "926b2cb3-0a1c-4a59-b125-00b69cc29b6a",
   "metadata": {},
   "outputs": [],
   "source": [
    "layer = dataset.GetLayer()\n",
    "cb_ref = layer.GetExtent()\n",
    "## df is simplified view of data \n",
    "unit_id = []\n",
    "geometry_ll = []\n",
    "geometry = []\n",
    "for feature in layer:\n",
    "    unit_id.append(feature.UNITID)\n",
    "    geometry_ll.append(Point(feature.LATITUDE,feature.LONGITUDE))\n",
    "    geometry.append(Point(feature.POINT_X, feature.POINT_Y))"
   ]
  },
  {
   "cell_type": "code",
   "execution_count": 28,
   "id": "0cff2cf9-9cc5-412e-a16f-e988202059c5",
   "metadata": {},
   "outputs": [
    {
     "data": {
      "text/html": [
       "<div>\n",
       "<style scoped>\n",
       "    .dataframe tbody tr th:only-of-type {\n",
       "        vertical-align: middle;\n",
       "    }\n",
       "\n",
       "    .dataframe tbody tr th {\n",
       "        vertical-align: top;\n",
       "    }\n",
       "\n",
       "    .dataframe thead th {\n",
       "        text-align: right;\n",
       "    }\n",
       "</style>\n",
       "<table border=\"1\" class=\"dataframe\">\n",
       "  <thead>\n",
       "    <tr style=\"text-align: right;\">\n",
       "      <th></th>\n",
       "      <th>unit_id</th>\n",
       "    </tr>\n",
       "  </thead>\n",
       "  <tbody>\n",
       "    <tr>\n",
       "      <th>0</th>\n",
       "      <td>CB550115</td>\n",
       "    </tr>\n",
       "    <tr>\n",
       "      <th>1</th>\n",
       "      <td>CB550005</td>\n",
       "    </tr>\n",
       "    <tr>\n",
       "      <th>2</th>\n",
       "      <td>CB550061</td>\n",
       "    </tr>\n",
       "    <tr>\n",
       "      <th>3</th>\n",
       "      <td>CB550062</td>\n",
       "    </tr>\n",
       "    <tr>\n",
       "      <th>4</th>\n",
       "      <td>CB550064</td>\n",
       "    </tr>\n",
       "  </tbody>\n",
       "</table>\n",
       "</div>"
      ],
      "text/plain": [
       "    unit_id\n",
       "0  CB550115\n",
       "1  CB550005\n",
       "2  CB550061\n",
       "3  CB550062\n",
       "4  CB550064"
      ]
     },
     "execution_count": 28,
     "metadata": {},
     "output_type": "execute_result"
    }
   ],
   "source": [
    "df = pd.DataFrame(zip(unit_id),columns = ['unit_id'])\n",
    "df.head()"
   ]
  },
  {
   "cell_type": "code",
   "execution_count": 29,
   "id": "48f97d0c-8f4f-4d32-992a-fbd3c2a67545",
   "metadata": {},
   "outputs": [],
   "source": [
    "gdf_ll = GeoDataFrame(df, crs = 'EPSG:4326', geometry = geometry_ll)"
   ]
  },
  {
   "cell_type": "code",
   "execution_count": 30,
   "id": "e3e466f7-d22e-420e-9b01-44bfaa957b35",
   "metadata": {},
   "outputs": [],
   "source": [
    "gdf_gr = GeoDataFrame(df, crs = 'EPSG:2263', geometry = geometry)"
   ]
  },
  {
   "cell_type": "code",
   "execution_count": 31,
   "id": "65fe99c7-a8c3-4fc0-9c74-1b3045550e38",
   "metadata": {},
   "outputs": [
    {
     "data": {
      "text/html": [
       "<div>\n",
       "<style scoped>\n",
       "    .dataframe tbody tr th:only-of-type {\n",
       "        vertical-align: middle;\n",
       "    }\n",
       "\n",
       "    .dataframe tbody tr th {\n",
       "        vertical-align: top;\n",
       "    }\n",
       "\n",
       "    .dataframe thead th {\n",
       "        text-align: right;\n",
       "    }\n",
       "</style>\n",
       "<table border=\"1\" class=\"dataframe\">\n",
       "  <thead>\n",
       "    <tr style=\"text-align: right;\">\n",
       "      <th></th>\n",
       "      <th>unit_id</th>\n",
       "      <th>geometry</th>\n",
       "    </tr>\n",
       "  </thead>\n",
       "  <tbody>\n",
       "    <tr>\n",
       "      <th>0</th>\n",
       "      <td>CB550115</td>\n",
       "      <td>POINT (930230.623 128315.948)</td>\n",
       "    </tr>\n",
       "    <tr>\n",
       "      <th>1</th>\n",
       "      <td>CB550005</td>\n",
       "      <td>POINT (930232.445 128271.112)</td>\n",
       "    </tr>\n",
       "    <tr>\n",
       "      <th>2</th>\n",
       "      <td>CB550061</td>\n",
       "      <td>POINT (929765.086 128081.621)</td>\n",
       "    </tr>\n",
       "    <tr>\n",
       "      <th>3</th>\n",
       "      <td>CB550062</td>\n",
       "      <td>POINT (929784.007 128055.367)</td>\n",
       "    </tr>\n",
       "    <tr>\n",
       "      <th>4</th>\n",
       "      <td>CB550064</td>\n",
       "      <td>POINT (929707.413 128268.676)</td>\n",
       "    </tr>\n",
       "  </tbody>\n",
       "</table>\n",
       "</div>"
      ],
      "text/plain": [
       "    unit_id                       geometry\n",
       "0  CB550115  POINT (930230.623 128315.948)\n",
       "1  CB550005  POINT (930232.445 128271.112)\n",
       "2  CB550061  POINT (929765.086 128081.621)\n",
       "3  CB550062  POINT (929784.007 128055.367)\n",
       "4  CB550064  POINT (929707.413 128268.676)"
      ]
     },
     "execution_count": 31,
     "metadata": {},
     "output_type": "execute_result"
    }
   ],
   "source": [
    "gdf_ll.head()"
   ]
  },
  {
   "cell_type": "code",
   "execution_count": 32,
   "id": "05a0ffdd-c10a-470b-b325-b17a580d5366",
   "metadata": {},
   "outputs": [
    {
     "data": {
      "text/html": [
       "<div>\n",
       "<style scoped>\n",
       "    .dataframe tbody tr th:only-of-type {\n",
       "        vertical-align: middle;\n",
       "    }\n",
       "\n",
       "    .dataframe tbody tr th {\n",
       "        vertical-align: top;\n",
       "    }\n",
       "\n",
       "    .dataframe thead th {\n",
       "        text-align: right;\n",
       "    }\n",
       "</style>\n",
       "<table border=\"1\" class=\"dataframe\">\n",
       "  <thead>\n",
       "    <tr style=\"text-align: right;\">\n",
       "      <th></th>\n",
       "      <th>unit_id</th>\n",
       "      <th>geometry</th>\n",
       "    </tr>\n",
       "  </thead>\n",
       "  <tbody>\n",
       "    <tr>\n",
       "      <th>0</th>\n",
       "      <td>CB550115</td>\n",
       "      <td>POINT (930230.623 128315.948)</td>\n",
       "    </tr>\n",
       "    <tr>\n",
       "      <th>1</th>\n",
       "      <td>CB550005</td>\n",
       "      <td>POINT (930232.445 128271.112)</td>\n",
       "    </tr>\n",
       "    <tr>\n",
       "      <th>2</th>\n",
       "      <td>CB550061</td>\n",
       "      <td>POINT (929765.086 128081.621)</td>\n",
       "    </tr>\n",
       "    <tr>\n",
       "      <th>3</th>\n",
       "      <td>CB550062</td>\n",
       "      <td>POINT (929784.007 128055.367)</td>\n",
       "    </tr>\n",
       "    <tr>\n",
       "      <th>4</th>\n",
       "      <td>CB550064</td>\n",
       "      <td>POINT (929707.413 128268.676)</td>\n",
       "    </tr>\n",
       "  </tbody>\n",
       "</table>\n",
       "</div>"
      ],
      "text/plain": [
       "    unit_id                       geometry\n",
       "0  CB550115  POINT (930230.623 128315.948)\n",
       "1  CB550005  POINT (930232.445 128271.112)\n",
       "2  CB550061  POINT (929765.086 128081.621)\n",
       "3  CB550062  POINT (929784.007 128055.367)\n",
       "4  CB550064  POINT (929707.413 128268.676)"
      ]
     },
     "execution_count": 32,
     "metadata": {},
     "output_type": "execute_result"
    }
   ],
   "source": [
    "gdf_gr.head()"
   ]
  },
  {
   "cell_type": "code",
   "execution_count": 41,
   "id": "c710b5de-4e20-4871-a66b-fa400fbc4a76",
   "metadata": {},
   "outputs": [
    {
     "data": {
      "text/html": [
       "<div style=\"width:100%;\"><div style=\"position:relative;width:100%;height:0;padding-bottom:60%;\"><span style=\"color:#565656\">Make this Notebook Trusted to load map: File -> Trust Notebook</span><iframe srcdoc=\"&lt;!DOCTYPE html&gt;\n",
       "&lt;head&gt;    \n",
       "    &lt;meta http-equiv=&quot;content-type&quot; content=&quot;text/html; charset=UTF-8&quot; /&gt;\n",
       "    \n",
       "        &lt;script&gt;\n",
       "            L_NO_TOUCH = false;\n",
       "            L_DISABLE_3D = false;\n",
       "        &lt;/script&gt;\n",
       "    \n",
       "    &lt;style&gt;html, body {width: 100%;height: 100%;margin: 0;padding: 0;}&lt;/style&gt;\n",
       "    &lt;style&gt;#map {position:absolute;top:0;bottom:0;right:0;left:0;}&lt;/style&gt;\n",
       "    &lt;script src=&quot;https://cdn.jsdelivr.net/npm/leaflet@1.6.0/dist/leaflet.js&quot;&gt;&lt;/script&gt;\n",
       "    &lt;script src=&quot;https://code.jquery.com/jquery-1.12.4.min.js&quot;&gt;&lt;/script&gt;\n",
       "    &lt;script src=&quot;https://maxcdn.bootstrapcdn.com/bootstrap/3.2.0/js/bootstrap.min.js&quot;&gt;&lt;/script&gt;\n",
       "    &lt;script src=&quot;https://cdnjs.cloudflare.com/ajax/libs/Leaflet.awesome-markers/2.0.2/leaflet.awesome-markers.js&quot;&gt;&lt;/script&gt;\n",
       "    &lt;link rel=&quot;stylesheet&quot; href=&quot;https://cdn.jsdelivr.net/npm/leaflet@1.6.0/dist/leaflet.css&quot;/&gt;\n",
       "    &lt;link rel=&quot;stylesheet&quot; href=&quot;https://maxcdn.bootstrapcdn.com/bootstrap/3.2.0/css/bootstrap.min.css&quot;/&gt;\n",
       "    &lt;link rel=&quot;stylesheet&quot; href=&quot;https://maxcdn.bootstrapcdn.com/bootstrap/3.2.0/css/bootstrap-theme.min.css&quot;/&gt;\n",
       "    &lt;link rel=&quot;stylesheet&quot; href=&quot;https://maxcdn.bootstrapcdn.com/font-awesome/4.6.3/css/font-awesome.min.css&quot;/&gt;\n",
       "    &lt;link rel=&quot;stylesheet&quot; href=&quot;https://cdnjs.cloudflare.com/ajax/libs/Leaflet.awesome-markers/2.0.2/leaflet.awesome-markers.css&quot;/&gt;\n",
       "    &lt;link rel=&quot;stylesheet&quot; href=&quot;https://cdn.jsdelivr.net/gh/python-visualization/folium/folium/templates/leaflet.awesome.rotate.min.css&quot;/&gt;\n",
       "    \n",
       "            &lt;meta name=&quot;viewport&quot; content=&quot;width=device-width,\n",
       "                initial-scale=1.0, maximum-scale=1.0, user-scalable=no&quot; /&gt;\n",
       "            &lt;style&gt;\n",
       "                #map_47d4f0855e4ac8f01daa10c6c0eafb7b {\n",
       "                    position: relative;\n",
       "                    width: 100.0%;\n",
       "                    height: 100.0%;\n",
       "                    left: 0.0%;\n",
       "                    top: 0.0%;\n",
       "                }\n",
       "            &lt;/style&gt;\n",
       "        \n",
       "    \n",
       "                    &lt;style&gt;\n",
       "                        .foliumtooltip {\n",
       "                            \n",
       "                        }\n",
       "                       .foliumtooltip table{\n",
       "                            margin: auto;\n",
       "                        }\n",
       "                        .foliumtooltip tr{\n",
       "                            text-align: left;\n",
       "                        }\n",
       "                        .foliumtooltip th{\n",
       "                            padding: 2px; padding-right: 8px;\n",
       "                        }\n",
       "                    &lt;/style&gt;\n",
       "            \n",
       "&lt;/head&gt;\n",
       "&lt;body&gt;    \n",
       "    \n",
       "            &lt;div class=&quot;folium-map&quot; id=&quot;map_47d4f0855e4ac8f01daa10c6c0eafb7b&quot; &gt;&lt;/div&gt;\n",
       "        \n",
       "&lt;/body&gt;\n",
       "&lt;script&gt;    \n",
       "    \n",
       "            var map_47d4f0855e4ac8f01daa10c6c0eafb7b = L.map(\n",
       "                &quot;map_47d4f0855e4ac8f01daa10c6c0eafb7b&quot;,\n",
       "                {\n",
       "                    center: [40.51628994552132, -74.19506886783154],\n",
       "                    crs: L.CRS.EPSG3857,\n",
       "                    zoom: 10,\n",
       "                    zoomControl: true,\n",
       "                    preferCanvas: false,\n",
       "                }\n",
       "            );\n",
       "            L.control.scale().addTo(map_47d4f0855e4ac8f01daa10c6c0eafb7b);\n",
       "\n",
       "            \n",
       "\n",
       "        \n",
       "    \n",
       "            var tile_layer_0da8b768f3300d786ef5dd78ecd22990 = L.tileLayer(\n",
       "                &quot;https://{s}.tile.openstreetmap.org/{z}/{x}/{y}.png&quot;,\n",
       "                {&quot;attribution&quot;: &quot;Data by \\u0026copy; \\u003ca href=\\&quot;http://openstreetmap.org\\&quot;\\u003eOpenStreetMap\\u003c/a\\u003e, under \\u003ca href=\\&quot;http://www.openstreetmap.org/copyright\\&quot;\\u003eODbL\\u003c/a\\u003e.&quot;, &quot;detectRetina&quot;: false, &quot;maxNativeZoom&quot;: 18, &quot;maxZoom&quot;: 18, &quot;minZoom&quot;: 0, &quot;noWrap&quot;: false, &quot;opacity&quot;: 1, &quot;subdomains&quot;: &quot;abc&quot;, &quot;tms&quot;: false}\n",
       "            ).addTo(map_47d4f0855e4ac8f01daa10c6c0eafb7b);\n",
       "        \n",
       "    \n",
       "            map_47d4f0855e4ac8f01daa10c6c0eafb7b.fitBounds(\n",
       "                [[40.51320891026069, -74.19689289789439], [40.51937098078196, -74.19324483776869]],\n",
       "                {}\n",
       "            );\n",
       "        \n",
       "    \n",
       "        function geo_json_fdb50e0ddb872f29ef30b1510766f0a8_styler(feature) {\n",
       "            switch(feature.id) {\n",
       "                case &quot;0&quot;: case &quot;16&quot;: case &quot;36&quot;: \n",
       "                    return {&quot;color&quot;: &quot;#9edae5&quot;, &quot;fillColor&quot;: &quot;#9edae5&quot;, &quot;fillOpacity&quot;: 0.5, &quot;weight&quot;: 2};\n",
       "                case &quot;1&quot;: case &quot;12&quot;: case &quot;14&quot;: \n",
       "                    return {&quot;color&quot;: &quot;#1f77b4&quot;, &quot;fillColor&quot;: &quot;#1f77b4&quot;, &quot;fillOpacity&quot;: 0.5, &quot;weight&quot;: 2};\n",
       "                case &quot;2&quot;: case &quot;24&quot;: \n",
       "                    return {&quot;color&quot;: &quot;#ff9896&quot;, &quot;fillColor&quot;: &quot;#ff9896&quot;, &quot;fillOpacity&quot;: 0.5, &quot;weight&quot;: 2};\n",
       "                case &quot;3&quot;: case &quot;4&quot;: case &quot;5&quot;: \n",
       "                    return {&quot;color&quot;: &quot;#9467bd&quot;, &quot;fillColor&quot;: &quot;#9467bd&quot;, &quot;fillOpacity&quot;: 0.5, &quot;weight&quot;: 2};\n",
       "                case &quot;6&quot;: case &quot;7&quot;: \n",
       "                    return {&quot;color&quot;: &quot;#c5b0d5&quot;, &quot;fillColor&quot;: &quot;#c5b0d5&quot;, &quot;fillOpacity&quot;: 0.5, &quot;weight&quot;: 2};\n",
       "                case &quot;8&quot;: case &quot;9&quot;: \n",
       "                    return {&quot;color&quot;: &quot;#8c564b&quot;, &quot;fillColor&quot;: &quot;#8c564b&quot;, &quot;fillOpacity&quot;: 0.5, &quot;weight&quot;: 2};\n",
       "                case &quot;10&quot;: case &quot;11&quot;: case &quot;20&quot;: \n",
       "                    return {&quot;color&quot;: &quot;#c49c94&quot;, &quot;fillColor&quot;: &quot;#c49c94&quot;, &quot;fillOpacity&quot;: 0.5, &quot;weight&quot;: 2};\n",
       "                case &quot;13&quot;: case &quot;17&quot;: \n",
       "                    return {&quot;color&quot;: &quot;#e377c2&quot;, &quot;fillColor&quot;: &quot;#e377c2&quot;, &quot;fillOpacity&quot;: 0.5, &quot;weight&quot;: 2};\n",
       "                case &quot;15&quot;: case &quot;23&quot;: \n",
       "                    return {&quot;color&quot;: &quot;#aec7e8&quot;, &quot;fillColor&quot;: &quot;#aec7e8&quot;, &quot;fillOpacity&quot;: 0.5, &quot;weight&quot;: 2};\n",
       "                case &quot;18&quot;: case &quot;19&quot;: case &quot;21&quot;: \n",
       "                    return {&quot;color&quot;: &quot;#f7b6d2&quot;, &quot;fillColor&quot;: &quot;#f7b6d2&quot;, &quot;fillOpacity&quot;: 0.5, &quot;weight&quot;: 2};\n",
       "                case &quot;22&quot;: case &quot;28&quot;: \n",
       "                    return {&quot;color&quot;: &quot;#7f7f7f&quot;, &quot;fillColor&quot;: &quot;#7f7f7f&quot;, &quot;fillOpacity&quot;: 0.5, &quot;weight&quot;: 2};\n",
       "                case &quot;25&quot;: case &quot;42&quot;: case &quot;44&quot;: \n",
       "                    return {&quot;color&quot;: &quot;#d62728&quot;, &quot;fillColor&quot;: &quot;#d62728&quot;, &quot;fillOpacity&quot;: 0.5, &quot;weight&quot;: 2};\n",
       "                case &quot;26&quot;: case &quot;31&quot;: case &quot;32&quot;: \n",
       "                    return {&quot;color&quot;: &quot;#c7c7c7&quot;, &quot;fillColor&quot;: &quot;#c7c7c7&quot;, &quot;fillOpacity&quot;: 0.5, &quot;weight&quot;: 2};\n",
       "                case &quot;27&quot;: case &quot;29&quot;: \n",
       "                    return {&quot;color&quot;: &quot;#bcbd22&quot;, &quot;fillColor&quot;: &quot;#bcbd22&quot;, &quot;fillOpacity&quot;: 0.5, &quot;weight&quot;: 2};\n",
       "                case &quot;30&quot;: case &quot;38&quot;: case &quot;39&quot;: \n",
       "                    return {&quot;color&quot;: &quot;#dbdb8d&quot;, &quot;fillColor&quot;: &quot;#dbdb8d&quot;, &quot;fillOpacity&quot;: 0.5, &quot;weight&quot;: 2};\n",
       "                case &quot;37&quot;: case &quot;43&quot;: \n",
       "                    return {&quot;color&quot;: &quot;#ffbb78&quot;, &quot;fillColor&quot;: &quot;#ffbb78&quot;, &quot;fillOpacity&quot;: 0.5, &quot;weight&quot;: 2};\n",
       "                case &quot;40&quot;: case &quot;41&quot;: \n",
       "                    return {&quot;color&quot;: &quot;#17becf&quot;, &quot;fillColor&quot;: &quot;#17becf&quot;, &quot;fillOpacity&quot;: 0.5, &quot;weight&quot;: 2};\n",
       "                case &quot;45&quot;: case &quot;46&quot;: \n",
       "                    return {&quot;color&quot;: &quot;#98df8a&quot;, &quot;fillColor&quot;: &quot;#98df8a&quot;, &quot;fillOpacity&quot;: 0.5, &quot;weight&quot;: 2};\n",
       "                case &quot;47&quot;: case &quot;48&quot;: case &quot;49&quot;: \n",
       "                    return {&quot;color&quot;: &quot;#2ca02c&quot;, &quot;fillColor&quot;: &quot;#2ca02c&quot;, &quot;fillOpacity&quot;: 0.5, &quot;weight&quot;: 2};\n",
       "                default:\n",
       "                    return {&quot;color&quot;: &quot;#ff7f0e&quot;, &quot;fillColor&quot;: &quot;#ff7f0e&quot;, &quot;fillOpacity&quot;: 0.5, &quot;weight&quot;: 2};\n",
       "            }\n",
       "        }\n",
       "        function geo_json_fdb50e0ddb872f29ef30b1510766f0a8_highlighter(feature) {\n",
       "            switch(feature.id) {\n",
       "                default:\n",
       "                    return {&quot;fillOpacity&quot;: 0.75};\n",
       "            }\n",
       "        }\n",
       "        function geo_json_fdb50e0ddb872f29ef30b1510766f0a8_pointToLayer(feature, latlng) {\n",
       "            var opts = {&quot;bubblingMouseEvents&quot;: true, &quot;color&quot;: &quot;#3388ff&quot;, &quot;dashArray&quot;: null, &quot;dashOffset&quot;: null, &quot;fill&quot;: true, &quot;fillColor&quot;: &quot;#3388ff&quot;, &quot;fillOpacity&quot;: 0.2, &quot;fillRule&quot;: &quot;evenodd&quot;, &quot;lineCap&quot;: &quot;round&quot;, &quot;lineJoin&quot;: &quot;round&quot;, &quot;opacity&quot;: 1.0, &quot;radius&quot;: 2, &quot;stroke&quot;: true, &quot;weight&quot;: 3};\n",
       "            \n",
       "            let style = geo_json_fdb50e0ddb872f29ef30b1510766f0a8_styler(feature)\n",
       "            Object.assign(opts, style)\n",
       "            \n",
       "            return new L.CircleMarker(latlng, opts)\n",
       "        }\n",
       "\n",
       "        function geo_json_fdb50e0ddb872f29ef30b1510766f0a8_onEachFeature(feature, layer) {\n",
       "            layer.on({\n",
       "                mouseout: function(e) {\n",
       "                    if(typeof e.target.setStyle === &quot;function&quot;){\n",
       "                        geo_json_fdb50e0ddb872f29ef30b1510766f0a8.resetStyle(e.target);\n",
       "                    }\n",
       "                },\n",
       "                mouseover: function(e) {\n",
       "                    if(typeof e.target.setStyle === &quot;function&quot;){\n",
       "                        const highlightStyle = geo_json_fdb50e0ddb872f29ef30b1510766f0a8_highlighter(e.target.feature)\n",
       "                        e.target.setStyle(highlightStyle);\n",
       "                    }\n",
       "                },\n",
       "            });\n",
       "        };\n",
       "        var geo_json_fdb50e0ddb872f29ef30b1510766f0a8 = L.geoJson(null, {\n",
       "                onEachFeature: geo_json_fdb50e0ddb872f29ef30b1510766f0a8_onEachFeature,\n",
       "            \n",
       "                style: geo_json_fdb50e0ddb872f29ef30b1510766f0a8_styler,\n",
       "                pointToLayer: geo_json_fdb50e0ddb872f29ef30b1510766f0a8_pointToLayer\n",
       "        });\n",
       "\n",
       "        function geo_json_fdb50e0ddb872f29ef30b1510766f0a8_add (data) {\n",
       "            geo_json_fdb50e0ddb872f29ef30b1510766f0a8\n",
       "                .addData(data)\n",
       "                .addTo(map_47d4f0855e4ac8f01daa10c6c0eafb7b);\n",
       "        }\n",
       "            geo_json_fdb50e0ddb872f29ef30b1510766f0a8_add({&quot;bbox&quot;: [-74.19689289789439, 40.51320891026069, -74.19324483776869, 40.51937098078196], &quot;features&quot;: [{&quot;bbox&quot;: [-74.19429011615411, 40.51870830192737, -74.19429011615411, 40.51870830192737], &quot;geometry&quot;: {&quot;coordinates&quot;: [-74.19429011615411, 40.51870830192737], &quot;type&quot;: &quot;Point&quot;}, &quot;id&quot;: &quot;0&quot;, &quot;properties&quot;: {&quot;__folium_color&quot;: &quot;#9edae5&quot;, &quot;unit_id&quot;: &quot;CB550115&quot;}, &quot;type&quot;: &quot;Feature&quot;}, {&quot;bbox&quot;: [-74.19428320465703, 40.51858524782907, -74.19428320465703, 40.51858524782907], &quot;geometry&quot;: {&quot;coordinates&quot;: [-74.19428320465703, 40.51858524782907], &quot;type&quot;: &quot;Point&quot;}, &quot;id&quot;: &quot;1&quot;, &quot;properties&quot;: {&quot;__folium_color&quot;: &quot;#1f77b4&quot;, &quot;unit_id&quot;: &quot;CB550005&quot;}, &quot;type&quot;: &quot;Feature&quot;}, {&quot;bbox&quot;: [-74.19596261040162, 40.518062274180686, -74.19596261040162, 40.518062274180686], &quot;geometry&quot;: {&quot;coordinates&quot;: [-74.19596261040162, 40.518062274180686], &quot;type&quot;: &quot;Point&quot;}, &quot;id&quot;: &quot;2&quot;, &quot;properties&quot;: {&quot;__folium_color&quot;: &quot;#ff9896&quot;, &quot;unit_id&quot;: &quot;CB550061&quot;}, &quot;type&quot;: &quot;Feature&quot;}, {&quot;bbox&quot;: [-74.19589434750786, 40.51799032879089, -74.19589434750786, 40.51799032879089], &quot;geometry&quot;: {&quot;coordinates&quot;: [-74.19589434750786, 40.51799032879089], &quot;type&quot;: &quot;Point&quot;}, &quot;id&quot;: &quot;3&quot;, &quot;properties&quot;: {&quot;__folium_color&quot;: &quot;#9467bd&quot;, &quot;unit_id&quot;: &quot;CB550062&quot;}, &quot;type&quot;: &quot;Feature&quot;}, {&quot;bbox&quot;: [-74.19617154565292, 40.51857534888413, -74.19617154565292, 40.51857534888413], &quot;geometry&quot;: {&quot;coordinates&quot;: [-74.19617154565292, 40.51857534888413], &quot;type&quot;: &quot;Point&quot;}, &quot;id&quot;: &quot;4&quot;, &quot;properties&quot;: {&quot;__folium_color&quot;: &quot;#9467bd&quot;, &quot;unit_id&quot;: &quot;CB550064&quot;}, &quot;type&quot;: &quot;Feature&quot;}, {&quot;bbox&quot;: [-74.19619081303712, 40.51878654306429, -74.19619081303712, 40.51878654306429], &quot;geometry&quot;: {&quot;coordinates&quot;: [-74.19619081303712, 40.51878654306429], &quot;type&quot;: &quot;Point&quot;}, &quot;id&quot;: &quot;5&quot;, &quot;properties&quot;: {&quot;__folium_color&quot;: &quot;#9467bd&quot;, &quot;unit_id&quot;: &quot;CB550065&quot;}, &quot;type&quot;: &quot;Feature&quot;}, {&quot;bbox&quot;: [-74.19609135523504, 40.518790211336196, -74.19609135523504, 40.518790211336196], &quot;geometry&quot;: {&quot;coordinates&quot;: [-74.19609135523504, 40.518790211336196], &quot;type&quot;: &quot;Point&quot;}, &quot;id&quot;: &quot;6&quot;, &quot;properties&quot;: {&quot;__folium_color&quot;: &quot;#c5b0d5&quot;, &quot;unit_id&quot;: &quot;CB550066&quot;}, &quot;type&quot;: &quot;Feature&quot;}, {&quot;bbox&quot;: [-74.1960200117734, 40.51875950594109, -74.1960200117734, 40.51875950594109], &quot;geometry&quot;: {&quot;coordinates&quot;: [-74.1960200117734, 40.51875950594109], &quot;type&quot;: &quot;Point&quot;}, &quot;id&quot;: &quot;7&quot;, &quot;properties&quot;: {&quot;__folium_color&quot;: &quot;#c5b0d5&quot;, &quot;unit_id&quot;: &quot;CB550067&quot;}, &quot;type&quot;: &quot;Feature&quot;}, {&quot;bbox&quot;: [-74.19600461274985, 40.518659915162544, -74.19600461274985, 40.518659915162544], &quot;geometry&quot;: {&quot;coordinates&quot;: [-74.19600461274985, 40.518659915162544], &quot;type&quot;: &quot;Point&quot;}, &quot;id&quot;: &quot;8&quot;, &quot;properties&quot;: {&quot;__folium_color&quot;: &quot;#8c564b&quot;, &quot;unit_id&quot;: &quot;CB550068&quot;}, &quot;type&quot;: &quot;Feature&quot;}, {&quot;bbox&quot;: [-74.19486702988138, 40.519153807392236, -74.19486702988138, 40.519153807392236], &quot;geometry&quot;: {&quot;coordinates&quot;: [-74.19486702988138, 40.519153807392236], &quot;type&quot;: &quot;Point&quot;}, &quot;id&quot;: &quot;9&quot;, &quot;properties&quot;: {&quot;__folium_color&quot;: &quot;#8c564b&quot;, &quot;unit_id&quot;: &quot;CB550070&quot;}, &quot;type&quot;: &quot;Feature&quot;}, {&quot;bbox&quot;: [-74.19613245916568, 40.51927203988841, -74.19613245916568, 40.51927203988841], &quot;geometry&quot;: {&quot;coordinates&quot;: [-74.19613245916568, 40.51927203988841], &quot;type&quot;: &quot;Point&quot;}, &quot;id&quot;: &quot;10&quot;, &quot;properties&quot;: {&quot;__folium_color&quot;: &quot;#c49c94&quot;, &quot;unit_id&quot;: &quot;CB550071&quot;}, &quot;type&quot;: &quot;Feature&quot;}, {&quot;bbox&quot;: [-74.19607412378728, 40.51937098078196, -74.19607412378728, 40.51937098078196], &quot;geometry&quot;: {&quot;coordinates&quot;: [-74.19607412378728, 40.51937098078196], &quot;type&quot;: &quot;Point&quot;}, &quot;id&quot;: &quot;11&quot;, &quot;properties&quot;: {&quot;__folium_color&quot;: &quot;#c49c94&quot;, &quot;unit_id&quot;: &quot;CB550072&quot;}, &quot;type&quot;: &quot;Feature&quot;}, {&quot;bbox&quot;: [-74.19380154527813, 40.51796358909137, -74.19380154527813, 40.51796358909137], &quot;geometry&quot;: {&quot;coordinates&quot;: [-74.19380154527813, 40.51796358909137], &quot;type&quot;: &quot;Point&quot;}, &quot;id&quot;: &quot;12&quot;, &quot;properties&quot;: {&quot;__folium_color&quot;: &quot;#1f77b4&quot;, &quot;unit_id&quot;: &quot;CB550007&quot;}, &quot;type&quot;: &quot;Feature&quot;}, {&quot;bbox&quot;: [-74.19518568507503, 40.51767064681389, -74.19518568507503, 40.51767064681389], &quot;geometry&quot;: {&quot;coordinates&quot;: [-74.19518568507503, 40.51767064681389], &quot;type&quot;: &quot;Point&quot;}, &quot;id&quot;: &quot;13&quot;, &quot;properties&quot;: {&quot;__folium_color&quot;: &quot;#e377c2&quot;, &quot;unit_id&quot;: &quot;CB550078&quot;}, &quot;type&quot;: &quot;Feature&quot;}, {&quot;bbox&quot;: [-74.19324483776869, 40.51741799566174, -74.19324483776869, 40.51741799566174], &quot;geometry&quot;: {&quot;coordinates&quot;: [-74.19324483776869, 40.51741799566174], &quot;type&quot;: &quot;Point&quot;}, &quot;id&quot;: &quot;14&quot;, &quot;properties&quot;: {&quot;__folium_color&quot;: &quot;#1f77b4&quot;, &quot;unit_id&quot;: &quot;CB550010&quot;}, &quot;type&quot;: &quot;Feature&quot;}, {&quot;bbox&quot;: [-74.19333849899502, 40.517401343945586, -74.19333849899502, 40.517401343945586], &quot;geometry&quot;: {&quot;coordinates&quot;: [-74.19333849899502, 40.517401343945586], &quot;type&quot;: &quot;Point&quot;}, &quot;id&quot;: &quot;15&quot;, &quot;properties&quot;: {&quot;__folium_color&quot;: &quot;#aec7e8&quot;, &quot;unit_id&quot;: &quot;CB550011&quot;}, &quot;type&quot;: &quot;Feature&quot;}, {&quot;bbox&quot;: [-74.19422215859004, 40.517029703908655, -74.19422215859004, 40.517029703908655], &quot;geometry&quot;: {&quot;coordinates&quot;: [-74.19422215859004, 40.517029703908655], &quot;type&quot;: &quot;Point&quot;}, &quot;id&quot;: &quot;16&quot;, &quot;properties&quot;: {&quot;__folium_color&quot;: &quot;#9edae5&quot;, &quot;unit_id&quot;: &quot;CB550112&quot;}, &quot;type&quot;: &quot;Feature&quot;}, {&quot;bbox&quot;: [-74.19501499847733, 40.51700691528884, -74.19501499847733, 40.51700691528884], &quot;geometry&quot;: {&quot;coordinates&quot;: [-74.19501499847733, 40.51700691528884], &quot;type&quot;: &quot;Point&quot;}, &quot;id&quot;: &quot;17&quot;, &quot;properties&quot;: {&quot;__folium_color&quot;: &quot;#e377c2&quot;, &quot;unit_id&quot;: &quot;CB550076&quot;}, &quot;type&quot;: &quot;Feature&quot;}, {&quot;bbox&quot;: [-74.19510069075984, 40.51679597007483, -74.19510069075984, 40.51679597007483], &quot;geometry&quot;: {&quot;coordinates&quot;: [-74.19510069075984, 40.51679597007483], &quot;type&quot;: &quot;Point&quot;}, &quot;id&quot;: &quot;18&quot;, &quot;properties&quot;: {&quot;__folium_color&quot;: &quot;#f7b6d2&quot;, &quot;unit_id&quot;: &quot;CB550079&quot;}, &quot;type&quot;: &quot;Feature&quot;}, {&quot;bbox&quot;: [-74.1949919262391, 40.51679206479402, -74.1949919262391, 40.51679206479402], &quot;geometry&quot;: {&quot;coordinates&quot;: [-74.1949919262391, 40.51679206479402], &quot;type&quot;: &quot;Point&quot;}, &quot;id&quot;: &quot;19&quot;, &quot;properties&quot;: {&quot;__folium_color&quot;: &quot;#f7b6d2&quot;, &quot;unit_id&quot;: &quot;CB550080&quot;}, &quot;type&quot;: &quot;Feature&quot;}, {&quot;bbox&quot;: [-74.19508331768267, 40.51633837808453, -74.19508331768267, 40.51633837808453], &quot;geometry&quot;: {&quot;coordinates&quot;: [-74.19508331768267, 40.51633837808453], &quot;type&quot;: &quot;Point&quot;}, &quot;id&quot;: &quot;20&quot;, &quot;properties&quot;: {&quot;__folium_color&quot;: &quot;#c49c94&quot;, &quot;unit_id&quot;: &quot;CB550073&quot;}, &quot;type&quot;: &quot;Feature&quot;}, {&quot;bbox&quot;: [-74.19516111912671, 40.51622211812355, -74.19516111912671, 40.51622211812355], &quot;geometry&quot;: {&quot;coordinates&quot;: [-74.19516111912671, 40.51622211812355], &quot;type&quot;: &quot;Point&quot;}, &quot;id&quot;: &quot;21&quot;, &quot;properties&quot;: {&quot;__folium_color&quot;: &quot;#f7b6d2&quot;, &quot;unit_id&quot;: &quot;CB550081&quot;}, &quot;type&quot;: &quot;Feature&quot;}, {&quot;bbox&quot;: [-74.19508540046479, 40.516134130620465, -74.19508540046479, 40.516134130620465], &quot;geometry&quot;: {&quot;coordinates&quot;: [-74.19508540046479, 40.516134130620465], &quot;type&quot;: &quot;Point&quot;}, &quot;id&quot;: &quot;22&quot;, &quot;properties&quot;: {&quot;__folium_color&quot;: &quot;#7f7f7f&quot;, &quot;unit_id&quot;: &quot;CB550082&quot;}, &quot;type&quot;: &quot;Feature&quot;}, {&quot;bbox&quot;: [-74.19370385433014, 40.51633108091692, -74.19370385433014, 40.51633108091692], &quot;geometry&quot;: {&quot;coordinates&quot;: [-74.19370385433014, 40.51633108091692], &quot;type&quot;: &quot;Point&quot;}, &quot;id&quot;: &quot;23&quot;, &quot;properties&quot;: {&quot;__folium_color&quot;: &quot;#aec7e8&quot;, &quot;unit_id&quot;: &quot;CB550017&quot;}, &quot;type&quot;: &quot;Feature&quot;}, {&quot;bbox&quot;: [-74.19689289789439, 40.51632114279808, -74.19689289789439, 40.51632114279808], &quot;geometry&quot;: {&quot;coordinates&quot;: [-74.19689289789439, 40.51632114279808], &quot;type&quot;: &quot;Point&quot;}, &quot;id&quot;: &quot;24&quot;, &quot;properties&quot;: {&quot;__folium_color&quot;: &quot;#ff9896&quot;, &quot;unit_id&quot;: &quot;CB550053&quot;}, &quot;type&quot;: &quot;Feature&quot;}, {&quot;bbox&quot;: [-74.1967788114687, 40.51603867694692, -74.1967788114687, 40.51603867694692], &quot;geometry&quot;: {&quot;coordinates&quot;: [-74.1967788114687, 40.51603867694692], &quot;type&quot;: &quot;Point&quot;}, &quot;id&quot;: &quot;25&quot;, &quot;properties&quot;: {&quot;__folium_color&quot;: &quot;#d62728&quot;, &quot;unit_id&quot;: &quot;CB550050&quot;}, &quot;type&quot;: &quot;Feature&quot;}, {&quot;bbox&quot;: [-74.1954010415995, 40.51528083592356, -74.1954010415995, 40.51528083592356], &quot;geometry&quot;: {&quot;coordinates&quot;: [-74.1954010415995, 40.51528083592356], &quot;type&quot;: &quot;Point&quot;}, &quot;id&quot;: &quot;26&quot;, &quot;properties&quot;: {&quot;__folium_color&quot;: &quot;#c7c7c7&quot;, &quot;unit_id&quot;: &quot;CB550098&quot;}, &quot;type&quot;: &quot;Feature&quot;}, {&quot;bbox&quot;: [-74.19547896446495, 40.51527200728698, -74.19547896446495, 40.51527200728698], &quot;geometry&quot;: {&quot;coordinates&quot;: [-74.19547896446495, 40.51527200728698], &quot;type&quot;: &quot;Point&quot;}, &quot;id&quot;: &quot;27&quot;, &quot;properties&quot;: {&quot;__folium_color&quot;: &quot;#bcbd22&quot;, &quot;unit_id&quot;: &quot;CB550099&quot;}, &quot;type&quot;: &quot;Feature&quot;}, {&quot;bbox&quot;: [-74.19577076510866, 40.51604606745709, -74.19577076510866, 40.51604606745709], &quot;geometry&quot;: {&quot;coordinates&quot;: [-74.19577076510866, 40.51604606745709], &quot;type&quot;: &quot;Point&quot;}, &quot;id&quot;: &quot;28&quot;, &quot;properties&quot;: {&quot;__folium_color&quot;: &quot;#7f7f7f&quot;, &quot;unit_id&quot;: &quot;CB550085&quot;}, &quot;type&quot;: &quot;Feature&quot;}, {&quot;bbox&quot;: [-74.19551956934133, 40.51517486072623, -74.19551956934133, 40.51517486072623], &quot;geometry&quot;: {&quot;coordinates&quot;: [-74.19551956934133, 40.51517486072623], &quot;type&quot;: &quot;Point&quot;}, &quot;id&quot;: &quot;29&quot;, &quot;properties&quot;: {&quot;__folium_color&quot;: &quot;#bcbd22&quot;, &quot;unit_id&quot;: &quot;CB550100&quot;}, &quot;type&quot;: &quot;Feature&quot;}, {&quot;bbox&quot;: [-74.19505654161053, 40.515177538945125, -74.19505654161053, 40.515177538945125], &quot;geometry&quot;: {&quot;coordinates&quot;: [-74.19505654161053, 40.515177538945125], &quot;type&quot;: &quot;Point&quot;}, &quot;id&quot;: &quot;30&quot;, &quot;properties&quot;: {&quot;__folium_color&quot;: &quot;#dbdb8d&quot;, &quot;unit_id&quot;: &quot;CB550102&quot;}, &quot;type&quot;: &quot;Feature&quot;}, {&quot;bbox&quot;: [-74.1944175724248, 40.51533394740413, -74.1944175724248, 40.51533394740413], &quot;geometry&quot;: {&quot;coordinates&quot;: [-74.1944175724248, 40.51533394740413], &quot;type&quot;: &quot;Point&quot;}, &quot;id&quot;: &quot;31&quot;, &quot;properties&quot;: {&quot;__folium_color&quot;: &quot;#c7c7c7&quot;, &quot;unit_id&quot;: &quot;CB550094&quot;}, &quot;type&quot;: &quot;Feature&quot;}, {&quot;bbox&quot;: [-74.19439916394248, 40.51525920313307, -74.19439916394248, 40.51525920313307], &quot;geometry&quot;: {&quot;coordinates&quot;: [-74.19439916394248, 40.51525920313307], &quot;type&quot;: &quot;Point&quot;}, &quot;id&quot;: &quot;32&quot;, &quot;properties&quot;: {&quot;__folium_color&quot;: &quot;#c7c7c7&quot;, &quot;unit_id&quot;: &quot;CB550095&quot;}, &quot;type&quot;: &quot;Feature&quot;}, {&quot;bbox&quot;: [-74.19394793854798, 40.51531591403185, -74.19394793854798, 40.51531591403185], &quot;geometry&quot;: {&quot;coordinates&quot;: [-74.19394793854798, 40.51531591403185], &quot;type&quot;: &quot;Point&quot;}, &quot;id&quot;: &quot;33&quot;, &quot;properties&quot;: {&quot;__folium_color&quot;: &quot;#ff7f0e&quot;, &quot;unit_id&quot;: &quot;CB550020&quot;}, &quot;type&quot;: &quot;Feature&quot;}, {&quot;bbox&quot;: [-74.19378692661893, 40.51522180551267, -74.19378692661893, 40.51522180551267], &quot;geometry&quot;: {&quot;coordinates&quot;: [-74.19378692661893, 40.51522180551267], &quot;type&quot;: &quot;Point&quot;}, &quot;id&quot;: &quot;34&quot;, &quot;properties&quot;: {&quot;__folium_color&quot;: &quot;#ff7f0e&quot;, &quot;unit_id&quot;: &quot;CB550021&quot;}, &quot;type&quot;: &quot;Feature&quot;}, {&quot;bbox&quot;: [-74.19378729756977, 40.51551184007602, -74.19378729756977, 40.51551184007602], &quot;geometry&quot;: {&quot;coordinates&quot;: [-74.19378729756977, 40.51551184007602], &quot;type&quot;: &quot;Point&quot;}, &quot;id&quot;: &quot;35&quot;, &quot;properties&quot;: {&quot;__folium_color&quot;: &quot;#ff7f0e&quot;, &quot;unit_id&quot;: &quot;CB550018&quot;}, &quot;type&quot;: &quot;Feature&quot;}, {&quot;bbox&quot;: [-74.19371511332935, 40.51539631417394, -74.19371511332935, 40.51539631417394], &quot;geometry&quot;: {&quot;coordinates&quot;: [-74.19371511332935, 40.51539631417394], &quot;type&quot;: &quot;Point&quot;}, &quot;id&quot;: &quot;36&quot;, &quot;properties&quot;: {&quot;__folium_color&quot;: &quot;#9edae5&quot;, &quot;unit_id&quot;: &quot;CB550116&quot;}, &quot;type&quot;: &quot;Feature&quot;}, {&quot;bbox&quot;: [-74.19371516254661, 40.515381799325105, -74.19371516254661, 40.515381799325105], &quot;geometry&quot;: {&quot;coordinates&quot;: [-74.19371516254661, 40.515381799325105], &quot;type&quot;: &quot;Point&quot;}, &quot;id&quot;: &quot;37&quot;, &quot;properties&quot;: {&quot;__folium_color&quot;: &quot;#ffbb78&quot;, &quot;unit_id&quot;: &quot;CB550022&quot;}, &quot;type&quot;: &quot;Feature&quot;}, {&quot;bbox&quot;: [-74.19551549724339, 40.516073086341706, -74.19551549724339, 40.516073086341706], &quot;geometry&quot;: {&quot;coordinates&quot;: [-74.19551549724339, 40.516073086341706], &quot;type&quot;: &quot;Point&quot;}, &quot;id&quot;: &quot;38&quot;, &quot;properties&quot;: {&quot;__folium_color&quot;: &quot;#dbdb8d&quot;, &quot;unit_id&quot;: &quot;CB550104&quot;}, &quot;type&quot;: &quot;Feature&quot;}, {&quot;bbox&quot;: [-74.1949617539106, 40.51435359464097, -74.1949617539106, 40.51435359464097], &quot;geometry&quot;: {&quot;coordinates&quot;: [-74.1949617539106, 40.51435359464097], &quot;type&quot;: &quot;Point&quot;}, &quot;id&quot;: &quot;39&quot;, &quot;properties&quot;: {&quot;__folium_color&quot;: &quot;#dbdb8d&quot;, &quot;unit_id&quot;: &quot;CB550105&quot;}, &quot;type&quot;: &quot;Feature&quot;}, {&quot;bbox&quot;: [-74.1949578361727, 40.514283053345004, -74.1949578361727, 40.514283053345004], &quot;geometry&quot;: {&quot;coordinates&quot;: [-74.1949578361727, 40.514283053345004], &quot;type&quot;: &quot;Point&quot;}, &quot;id&quot;: &quot;40&quot;, &quot;properties&quot;: {&quot;__folium_color&quot;: &quot;#17becf&quot;, &quot;unit_id&quot;: &quot;CB550106&quot;}, &quot;type&quot;: &quot;Feature&quot;}, {&quot;bbox&quot;: [-74.19576700130614, 40.514202281316415, -74.19576700130614, 40.514202281316415], &quot;geometry&quot;: {&quot;coordinates&quot;: [-74.19576700130614, 40.514202281316415], &quot;type&quot;: &quot;Point&quot;}, &quot;id&quot;: &quot;41&quot;, &quot;properties&quot;: {&quot;__folium_color&quot;: &quot;#17becf&quot;, &quot;unit_id&quot;: &quot;CB550108&quot;}, &quot;type&quot;: &quot;Feature&quot;}, {&quot;bbox&quot;: [-74.19650650808963, 40.5141250023124, -74.19650650808963, 40.5141250023124], &quot;geometry&quot;: {&quot;coordinates&quot;: [-74.19650650808963, 40.5141250023124], &quot;type&quot;: &quot;Point&quot;}, &quot;id&quot;: &quot;42&quot;, &quot;properties&quot;: {&quot;__folium_color&quot;: &quot;#d62728&quot;, &quot;unit_id&quot;: &quot;CB550041&quot;}, &quot;type&quot;: &quot;Feature&quot;}, {&quot;bbox&quot;: [-74.19376614532406, 40.51451390388808, -74.19376614532406, 40.51451390388808], &quot;geometry&quot;: {&quot;coordinates&quot;: [-74.19376614532406, 40.51451390388808], &quot;type&quot;: &quot;Point&quot;}, &quot;id&quot;: &quot;43&quot;, &quot;properties&quot;: {&quot;__folium_color&quot;: &quot;#ffbb78&quot;, &quot;unit_id&quot;: &quot;CB550024&quot;}, &quot;type&quot;: &quot;Feature&quot;}, {&quot;bbox&quot;: [-74.19670875300652, 40.515070078949655, -74.19670875300652, 40.515070078949655], &quot;geometry&quot;: {&quot;coordinates&quot;: [-74.19670875300652, 40.515070078949655], &quot;type&quot;: &quot;Point&quot;}, &quot;id&quot;: &quot;44&quot;, &quot;properties&quot;: {&quot;__folium_color&quot;: &quot;#d62728&quot;, &quot;unit_id&quot;: &quot;CB550044&quot;}, &quot;type&quot;: &quot;Feature&quot;}, {&quot;bbox&quot;: [-74.19664041316172, 40.514255506936074, -74.19664041316172, 40.514255506936074], &quot;geometry&quot;: {&quot;coordinates&quot;: [-74.19664041316172, 40.514255506936074], &quot;type&quot;: &quot;Point&quot;}, &quot;id&quot;: &quot;45&quot;, &quot;properties&quot;: {&quot;__folium_color&quot;: &quot;#98df8a&quot;, &quot;unit_id&quot;: &quot;CB550040&quot;}, &quot;type&quot;: &quot;Feature&quot;}, {&quot;bbox&quot;: [-74.19673069180774, 40.51424104188471, -74.19673069180774, 40.51424104188471], &quot;geometry&quot;: {&quot;coordinates&quot;: [-74.19673069180774, 40.51424104188471], &quot;type&quot;: &quot;Point&quot;}, &quot;id&quot;: &quot;46&quot;, &quot;properties&quot;: {&quot;__folium_color&quot;: &quot;#98df8a&quot;, &quot;unit_id&quot;: &quot;CB550039&quot;}, &quot;type&quot;: &quot;Feature&quot;}, {&quot;bbox&quot;: [-74.19672191982745, 40.51406638953932, -74.19672191982745, 40.51406638953932], &quot;geometry&quot;: {&quot;coordinates&quot;: [-74.19672191982745, 40.51406638953932], &quot;type&quot;: &quot;Point&quot;}, &quot;id&quot;: &quot;47&quot;, &quot;properties&quot;: {&quot;__folium_color&quot;: &quot;#2ca02c&quot;, &quot;unit_id&quot;: &quot;CB550037&quot;}, &quot;type&quot;: &quot;Feature&quot;}, {&quot;bbox&quot;: [-74.1966362167977, 40.51407317387991, -74.1966362167977, 40.51407317387991], &quot;geometry&quot;: {&quot;coordinates&quot;: [-74.1966362167977, 40.51407317387991], &quot;type&quot;: &quot;Point&quot;}, &quot;id&quot;: &quot;48&quot;, &quot;properties&quot;: {&quot;__folium_color&quot;: &quot;#2ca02c&quot;, &quot;unit_id&quot;: &quot;CB550038&quot;}, &quot;type&quot;: &quot;Feature&quot;}, {&quot;bbox&quot;: [-74.19673143532613, 40.51320891026069, -74.19673143532613, 40.51320891026069], &quot;geometry&quot;: {&quot;coordinates&quot;: [-74.19673143532613, 40.51320891026069], &quot;type&quot;: &quot;Point&quot;}, &quot;id&quot;: &quot;49&quot;, &quot;properties&quot;: {&quot;__folium_color&quot;: &quot;#2ca02c&quot;, &quot;unit_id&quot;: &quot;CB550034&quot;}, &quot;type&quot;: &quot;Feature&quot;}], &quot;type&quot;: &quot;FeatureCollection&quot;});\n",
       "\n",
       "        \n",
       "    \n",
       "    geo_json_fdb50e0ddb872f29ef30b1510766f0a8.bindTooltip(\n",
       "    function(layer){\n",
       "    let div = L.DomUtil.create(&#x27;div&#x27;);\n",
       "    \n",
       "    let handleObject = feature=&gt;typeof(feature)==&#x27;object&#x27; ? JSON.stringify(feature) : feature;\n",
       "    let fields = [&quot;unit_id&quot;];\n",
       "    let aliases = [&quot;unit_id&quot;];\n",
       "    let table = &#x27;&lt;table&gt;&#x27; +\n",
       "        String(\n",
       "        fields.map(\n",
       "        (v,i)=&gt;\n",
       "        `&lt;tr&gt;\n",
       "            &lt;th&gt;${aliases[i]}&lt;/th&gt;\n",
       "            \n",
       "            &lt;td&gt;${handleObject(layer.feature.properties[v])}&lt;/td&gt;\n",
       "        &lt;/tr&gt;`).join(&#x27;&#x27;))\n",
       "    +&#x27;&lt;/table&gt;&#x27;;\n",
       "    div.innerHTML=table;\n",
       "    \n",
       "    return div\n",
       "    }\n",
       "    ,{&quot;className&quot;: &quot;foliumtooltip&quot;, &quot;sticky&quot;: true});\n",
       "                     \n",
       "&lt;/script&gt;\" style=\"position:absolute;width:100%;height:100%;left:0;top:0;border:none !important;\" allowfullscreen webkitallowfullscreen mozallowfullscreen></iframe></div></div>"
      ],
      "text/plain": [
       "<folium.folium.Map at 0x7f1e00a01fa0>"
      ]
     },
     "execution_count": 41,
     "metadata": {},
     "output_type": "execute_result"
    }
   ],
   "source": [
    "gdf_gr[:50].explore('unit_id', legend = False)"
   ]
  },
  {
   "cell_type": "code",
   "execution_count": null,
   "id": "d6fe59a6-4d1b-4df0-8e78-a24eeb13b37b",
   "metadata": {},
   "outputs": [],
   "source": []
  }
 ],
 "metadata": {
  "kernelspec": {
   "display_name": "Python 3 (ipykernel)",
   "language": "python",
   "name": "python3"
  },
  "language_info": {
   "codemirror_mode": {
    "name": "ipython",
    "version": 3
   },
   "file_extension": ".py",
   "mimetype": "text/x-python",
   "name": "python",
   "nbconvert_exporter": "python",
   "pygments_lexer": "ipython3",
   "version": "3.8.10"
  }
 },
 "nbformat": 4,
 "nbformat_minor": 5
}
