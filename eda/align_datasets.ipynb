{
 "cells": [
  {
   "cell_type": "code",
   "execution_count": 1,
   "id": "72d32b7e-03bd-4c22-9a65-403e45b6d6f3",
   "metadata": {},
   "outputs": [],
   "source": [
    "from osgeo import gdal, gdal_array, osr, ogr\n",
    "import numpy as np\n",
    "import rasterio\n",
    "#from affine import Affine\n",
    "import pyproj"
   ]
  },
  {
   "cell_type": "code",
   "execution_count": 24,
   "id": "2f705aee-bed3-4a9c-98ce-01cdf49d5a72",
   "metadata": {},
   "outputs": [],
   "source": [
    "## land cover data\n",
    "dataset = gdal.Open('../../../zip_extract/Land_Cover/NYC_2017_LiDAR_LandCover.img')\n",
    "geotransform = dataset.GetGeoTransform()\n",
    "band = dataset.GetRasterBand(1)\n",
    "\n",
    "## catch basin data\n",
    "cb_data = ogr.Open('../../../catch_basins/DEPCatchbasins/DEPCATCHBASINS.dbf')\n",
    "layer = cb_data.GetLayer()\n",
    "cb_ref = layer.GetExtent()"
   ]
  },
  {
   "cell_type": "code",
   "execution_count": 25,
   "id": "1049857a-71d6-441d-8059-9978827efa77",
   "metadata": {},
   "outputs": [
    {
     "name": "stdout",
     "output_type": "stream",
     "text": [
      "Land cover top left georef: (912286.93, 273618.3)\n",
      "Catch basin top left georef: (913346.4203000069, 271705.03180000186)\n",
      "CB is shifted by (1059.4903000068152, -1913.2681999981287) ft\n",
      "Array top left offset: (2118, -3826) pixels (array elements)\n"
     ]
    }
   ],
   "source": [
    "# get offset relative to lc \n",
    "lc_origin = (geotransform[0],geotransform[3])\n",
    "cb_origin = (cb_ref[0],cb_ref[3])\n",
    "offset_ft = (cb_origin[0]-lc_origin[0], cb_origin[1]-lc_origin[1])\n",
    "offset_pix = (int(offset_ft[0]*2),int(offset_ft[1]*2))\n",
    "\n",
    "\n",
    "print('Land cover top left georef:',lc_origin)\n",
    "print('Catch basin top left georef:', cb_origin)\n",
    "print(f'CB is shifted by {offset_ft} ft')\n",
    "print(f'Array top left offset: {offset_pix} pixels (array elements)')"
   ]
  },
  {
   "cell_type": "code",
   "execution_count": 3,
   "id": "400cc0f8-e070-401f-a2fe-0d323113c5d8",
   "metadata": {},
   "outputs": [],
   "source": [
    "def get_lat_long_arrays(band, x_size, y_size, x_offset = 0, y_offset = 0, proj_from = pyproj.Proj(2263), proj_to = pyproj.Proj(proj = 'latlong')): \n",
    "    lc_array = gdal_array.BandReadAsArray(band, x_offset, y_offset, x_size, y_size) \n",
    "    cols, rows = np.meshgrid(np.arange(x_size), np.arange(y_size))\n",
    "    rc_en = lambda r,c : (geotransform[0] + (x_offset + c + 0.5) * geotransform[1], geotransform[3] + (y_offset + r + 0.5) * geotransform[5])\n",
    "    eastings, northings = np.vectorize(rc_en, otypes = [float, float])(rows, cols)\n",
    "    transformer = pyproj.Transformer.from_proj(proj_from, proj_to)\n",
    "    longs, lats = transformer.transform(eastings, northings)\n",
    "    print(f'Land cover values in sample: {np.unique(lc_array)}')\n",
    "    print(f'Area of sample: {x_size*y_size/4} sq ft')\n",
    "    print(f'Total pixels (observations) in sample: {x_size*y_size}')\n",
    "    return lats, longs\n",
    "\n",
    "def get_coords_from_lat_long(lat, long, proj_from = pyproj.Proj(2263), proj_to = pyproj.Proj(proj = 'latlong')):\n",
    "    transformer = pyproj.Transformer.from_proj(proj_to, proj_from)\n",
    "    eastings, northings = transformer.transform(long, lat)\n",
    "    x = int((eastings - geotransform[0])/geotransform[1]-0.5)\n",
    "    y = int((northings - geotransform[3])/geotransform[5]-0.5)\n",
    "    return x, y\n",
    "\n",
    "def get_array_lat_long_dim(band, lat, long, length, height):\n",
    "    x_offset, y_offset = get_coords_from_lat_long(lat, long)\n",
    "    lc_array = gdal_array.BandReadAsArray(band, x_offset, y_offset, length*2, height*2)\n",
    "    return lc_array"
   ]
  },
  {
   "cell_type": "code",
   "execution_count": null,
   "id": "3cc281d4-2ac3-428a-a616-28019cc06603",
   "metadata": {},
   "outputs": [],
   "source": [
    "\n",
    "gdal_array.BandReadAsArray(band, x_offset, y_offset, x_size, y_size) "
   ]
  }
 ],
 "metadata": {
  "kernelspec": {
   "display_name": "Python 3 (ipykernel)",
   "language": "python",
   "name": "python3"
  },
  "language_info": {
   "codemirror_mode": {
    "name": "ipython",
    "version": 3
   },
   "file_extension": ".py",
   "mimetype": "text/x-python",
   "name": "python",
   "nbconvert_exporter": "python",
   "pygments_lexer": "ipython3",
   "version": "3.8.10"
  }
 },
 "nbformat": 4,
 "nbformat_minor": 5
}
