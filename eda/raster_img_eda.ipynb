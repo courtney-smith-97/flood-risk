{
 "cells": [
  {
   "cell_type": "code",
   "execution_count": 30,
   "id": "a219d528-5bfc-455f-a4f6-bd538bcb3772",
   "metadata": {},
   "outputs": [],
   "source": [
    "from osgeo import gdal\n",
    "from osgeo import gdal_array\n",
    "import numpy as np"
   ]
  },
  {
   "cell_type": "code",
   "execution_count": 2,
   "id": "0f1d175a-57f9-4c21-bdaf-0c8e5fa42e9e",
   "metadata": {},
   "outputs": [],
   "source": [
    "dataset = gdal.Open('./zip_extract/Land_Cover/NYC_2017_LiDAR_LandCover.img')"
   ]
  },
  {
   "cell_type": "code",
   "execution_count": 10,
   "id": "7921783c-cbda-4380-8168-89b9b9c6daee",
   "metadata": {},
   "outputs": [
    {
     "name": "stdout",
     "output_type": "stream",
     "text": [
      "Metadata: {}\n",
      "Driver: HFA/Erdas Imagine Images (.img) \n",
      "\n",
      "Size is 310844 x 314414 x 1 \n",
      "\n",
      "Projection is PROJCS[\"NAD83 New York State Planes, Long Island, US Foot\",GEOGCS[\"NAD83\",DATUM[\"North_American_Datum_1983\",SPHEROID[\"GRS 1980\",6378137,298.257222101,AUTHORITY[\"EPSG\",\"7019\"]],AUTHORITY[\"EPSG\",\"6269\"]],PRIMEM[\"Greenwich\",0,AUTHORITY[\"EPSG\",\"8901\"]],UNIT[\"degree\",0.0174532925199433,AUTHORITY[\"EPSG\",\"9122\"]],AUTHORITY[\"EPSG\",\"4269\"]],PROJECTION[\"Lambert_Conformal_Conic_2SP\"],PARAMETER[\"latitude_of_origin\",40.1666666666667],PARAMETER[\"central_meridian\",-74],PARAMETER[\"standard_parallel_1\",41.0333333333333],PARAMETER[\"standard_parallel_2\",40.6666666666667],PARAMETER[\"false_easting\",984250],PARAMETER[\"false_northing\",0],UNIT[\"us_survey_feet\",0.304800609601219],AXIS[\"Easting\",EAST],AXIS[\"Northing\",NORTH]] \n",
      "\n",
      "Origin = (912286.93, 273618.3) \n",
      "\n",
      "Pixel Size = (0.5, -0.5)\n"
     ]
    }
   ],
   "source": [
    "print('Metadata:',dataset.GetMetadata())\n",
    "print(\"Driver: {}/{} \\n\".format(dataset.GetDriver().ShortName,\n",
    "                            dataset.GetDriver().LongName))\n",
    "print(\"Size is {} x {} x {} \\n\".format(dataset.RasterXSize,\n",
    "                                    dataset.RasterYSize,\n",
    "                                    dataset.RasterCount))\n",
    "print(\"Projection is {} \\n\".format(dataset.GetProjection()))\n",
    "geotransform = dataset.GetGeoTransform()\n",
    "if geotransform:\n",
    "    print(\"Origin = ({}, {}) \\n\".format(geotransform[0], geotransform[3]))\n",
    "    print(\"Pixel Size = ({}, {})\".format(geotransform[1], geotransform[5]))"
   ]
  },
  {
   "cell_type": "code",
   "execution_count": 9,
   "id": "d0f92f7b-1730-4491-9be8-f0f7ea7cf8bb",
   "metadata": {},
   "outputs": [
    {
     "name": "stdout",
     "output_type": "stream",
     "text": [
      "Band Type=Byte\n",
      "Min=1.000, Max=8.000\n",
      "Band has 11 overviews\n",
      "Size is 310844 x 314414.\n"
     ]
    }
   ],
   "source": [
    "band = dataset.GetRasterBand(1)\n",
    "print(\"Band Type={}\".format(gdal.GetDataTypeName(band.DataType)))\n",
    "\n",
    "min = band.GetMinimum()\n",
    "max = band.GetMaximum()\n",
    "if not min or not max:\n",
    "    (min,max) = band.ComputeRasterMinMax(True)\n",
    "print(\"Min={:.3f}, Max={:.3f}\".format(min,max))\n",
    "\n",
    "if band.GetOverviewCount() > 0:\n",
    "    print(\"Band has {} overviews\".format(band.GetOverviewCount()))\n",
    "\n",
    "if band.GetRasterColorTable():\n",
    "    print(\"Band has a color table with {} entries\".format(band.GetRasterColorTable().GetCount()))\n",
    "\n",
    "print('Size is {} x {}.'.format(band.XSize, band.YSize))"
   ]
  },
  {
   "cell_type": "code",
   "execution_count": 11,
   "id": "c3950980-32f2-419e-828b-73d22b273e33",
   "metadata": {},
   "outputs": [],
   "source": [
    "# scanline = band.ReadRaster(xoff=0, yoff=0,\n",
    "#                         xsize=band.XSize, ysize=1,\n",
    "#                         buf_xsize=band.XSize, buf_ysize=1,\n",
    "#                         buf_type=gdal.GDT_Float32)"
   ]
  },
  {
   "cell_type": "code",
   "execution_count": 15,
   "id": "b18a9877-77bf-486b-9ea3-fae5370df48c",
   "metadata": {},
   "outputs": [
    {
     "name": "stdout",
     "output_type": "stream",
     "text": [
      "Min: 1.0\n",
      "Max: 8.0\n",
      "Mean: 4.1611546736368\n",
      "Std Dev: 2.0263974920797\n"
     ]
    }
   ],
   "source": [
    "stats = band.GetStatistics(False,True)\n",
    "print(f'Min: {stats[0]}')\n",
    "print(f'Max: {stats[1]}')\n",
    "print(f'Mean: {stats[2]}')\n",
    "print(f'Std Dev: {stats[3]}')"
   ]
  },
  {
   "cell_type": "code",
   "execution_count": 24,
   "id": "2f91a044-5c9c-49c8-b92f-e2c57d2c7860",
   "metadata": {},
   "outputs": [
    {
     "data": {
      "text/plain": [
       "[1.0, 8.0, 4.161154674513111, 2.026397487188581]"
      ]
     },
     "execution_count": 24,
     "metadata": {},
     "output_type": "execute_result"
    }
   ],
   "source": [
    "band.ComputeStatistics(False)"
   ]
  },
  {
   "cell_type": "code",
   "execution_count": 22,
   "id": "d4b8b1b7-77b7-433c-873f-c99328f5e482",
   "metadata": {},
   "outputs": [
    {
     "data": {
      "text/plain": [
       "(-0.5,\n",
       " 8.5,\n",
       " 9,\n",
       " [0,\n",
       "  344109811,\n",
       "  253881597,\n",
       "  26155236,\n",
       "  611739712,\n",
       "  310075293,\n",
       "  213863594,\n",
       "  376111202,\n",
       "  11547201])"
      ]
     },
     "execution_count": 22,
     "metadata": {},
     "output_type": "execute_result"
    }
   ],
   "source": [
    "#number of pixels in each class\n",
    "band.GetDefaultHistogram()"
   ]
  },
  {
   "cell_type": "code",
   "execution_count": 25,
   "id": "93f98b60-1a56-45c8-8f03-b1ca48a53602",
   "metadata": {},
   "outputs": [
    {
     "data": {
      "text/plain": [
       "[64, 64]"
      ]
     },
     "execution_count": 25,
     "metadata": {},
     "output_type": "execute_result"
    }
   ],
   "source": [
    "#tile size\n",
    "band.GetBlockSize()"
   ]
  },
  {
   "cell_type": "code",
   "execution_count": 26,
   "id": "33e015af-9e34-4069-9601-f488ddd119e8",
   "metadata": {},
   "outputs": [],
   "source": [
    "lc_array = gdal_array.BandReadAsArray(band)"
   ]
  },
  {
   "cell_type": "code",
   "execution_count": 31,
   "id": "a2566254-091f-4821-93be-3c97d2264155",
   "metadata": {},
   "outputs": [
    {
     "data": {
      "text/plain": [
       "8"
      ]
     },
     "execution_count": 31,
     "metadata": {},
     "output_type": "execute_result"
    }
   ],
   "source": [
    "np.max(lc_array)"
   ]
  },
  {
   "cell_type": "code",
   "execution_count": 34,
   "id": "5eabc100-3229-4f25-b49b-ade8cf17b84e",
   "metadata": {},
   "outputs": [
    {
     "data": {
      "text/plain": [
       "(314414, 310844)"
      ]
     },
     "execution_count": 34,
     "metadata": {},
     "output_type": "execute_result"
    }
   ],
   "source": [
    "lc_array.shape"
   ]
  },
  {
   "cell_type": "code",
   "execution_count": null,
   "id": "a9ef1cec-4ac7-4e66-9843-a778e893092e",
   "metadata": {},
   "outputs": [],
   "source": []
  }
 ],
 "metadata": {
  "kernelspec": {
   "display_name": "Python 3 (ipykernel)",
   "language": "python",
   "name": "python3"
  },
  "language_info": {
   "codemirror_mode": {
    "name": "ipython",
    "version": 3
   },
   "file_extension": ".py",
   "mimetype": "text/x-python",
   "name": "python",
   "nbconvert_exporter": "python",
   "pygments_lexer": "ipython3",
   "version": "3.8.10"
  }
 },
 "nbformat": 4,
 "nbformat_minor": 5
}
