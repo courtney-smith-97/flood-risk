{
 "cells": [
  {
   "cell_type": "code",
   "execution_count": 5,
   "id": "f395f2ae",
   "metadata": {},
   "outputs": [],
   "source": [
    "import pandas as pd\n",
    "import geopandas as gpd\n",
    "\n",
    "# Needed to convert CSV LAt and Long for gpd\n",
    "from shapely.geometry import Point\n",
    "\n",
    "# Draw boundries around things\n",
    "from shapely.geometry import Polygon\n",
    "\n",
    "# For Mapping Visualization\n",
    "import matplotlib.pyplot as plt\n",
    "\n",
    "# Convert adress to latitude and longitude - currently do not work\n",
    "from geopy.geocoders import Nominatim\n",
    "from geopy.geocoders import GoogleV3\n",
    "\n",
    "# Import Rasterio\n",
    "import rasterio\n",
    "\n",
    "# Not installed in image due to pip conflict.\n",
    "# from mpl_toolkits.basemap import Basemap\n",
    "\n",
    "# Allows ouput to be printed in jupyter notebook\n",
    "%matplotlib inline"
   ]
  },
  {
   "cell_type": "code",
   "execution_count": 2,
   "id": "413d14ad-a624-49ac-936a-dfee4015068b",
   "metadata": {},
   "outputs": [],
   "source": [
    "# Not installed in image due to pip conflict.\n",
    "# from mpl_toolkits.basemap import Basemap"
   ]
  },
  {
   "cell_type": "code",
   "execution_count": 2,
   "id": "5e9c4be7-b38e-453a-9d8d-f23843e4b109",
   "metadata": {},
   "outputs": [],
   "source": [
    "from osgeo import gdal"
   ]
  },
  {
   "cell_type": "code",
   "execution_count": 3,
   "id": "6ce25e51-329c-4143-998a-ab4f1c588a3f",
   "metadata": {},
   "outputs": [
    {
     "data": {
      "text/plain": [
       "'1.3.2'"
      ]
     },
     "execution_count": 3,
     "metadata": {},
     "output_type": "execute_result"
    }
   ],
   "source": [
    "# Check Rasterio Version\n",
    "rasterio.__version__"
   ]
  },
  {
   "cell_type": "markdown",
   "id": "ca7730b4-81f0-44b9-bb4b-af03df07a9ea",
   "metadata": {},
   "source": [
    "## Reading Raster Data\n",
    "---"
   ]
  },
  {
   "cell_type": "code",
   "execution_count": 16,
   "id": "e22b2e86-23e6-4580-8348-f4c4ec7f51b3",
   "metadata": {},
   "outputs": [
    {
     "name": "stdout",
     "output_type": "stream",
     "text": [
      "Input file size is 161190, 104424\n",
      "0...10...20...30...40...50...60...70...80...90...100 - done.\n"
     ]
    }
   ],
   "source": [
    "# convert from img to tiff\n",
    "# !gdal_translate -of GTiff /workspace/data/Land_Cover/NYC_2017_LiDAR_LandCover.img /workspace/data/Land_Cover/NYC_2017_LiDAR_LandCover.tif\n",
    "!gdal_translate -of GTiff /workspace/data/nlcd_2019_land_cover_l48_20210604/nlcd_2019_land_cover_l48_20210604.img /workspace/data/nlcd_2019_land_cover_l48_20210604/nlcd_2019_land_cover_l48_20210604.tif"
   ]
  },
  {
   "cell_type": "code",
   "execution_count": 17,
   "id": "b5feb860-4c5c-4ca3-ac2c-4fd4d16cf6fb",
   "metadata": {},
   "outputs": [],
   "source": [
    "# dataset = rasterio.open('/workspace/data/Land_Cover/NYC_2017_LiDAR_LandCover.tif')\n",
    "dataset = rasterio.open('/workspace/data/nlcd_2019_land_cover_l48_20210604/nlcd_2019_land_cover_l48_20210604.tif')"
   ]
  },
  {
   "cell_type": "markdown",
   "id": "682434e1-93d8-4eae-9a9c-824c7a6ab068",
   "metadata": {},
   "source": [
    "### Reading Exploration"
   ]
  },
  {
   "cell_type": "code",
   "execution_count": 18,
   "id": "95ea30ba-c3e1-4d9a-b0f6-7767764fefe7",
   "metadata": {},
   "outputs": [
    {
     "data": {
      "text/plain": [
       "'/workspace/data/nlcd_2019_land_cover_l48_20210604/nlcd_2019_land_cover_l48_20210604.tif'"
      ]
     },
     "execution_count": 18,
     "metadata": {},
     "output_type": "execute_result"
    }
   ],
   "source": [
    "dataset.name"
   ]
  },
  {
   "cell_type": "code",
   "execution_count": 19,
   "id": "b0f8cfdb-909a-429b-95f0-b9897c12014c",
   "metadata": {},
   "outputs": [
    {
     "data": {
      "text/plain": [
       "'r'"
      ]
     },
     "execution_count": 19,
     "metadata": {},
     "output_type": "execute_result"
    }
   ],
   "source": [
    "dataset.mode"
   ]
  },
  {
   "cell_type": "code",
   "execution_count": 20,
   "id": "f96f986d-32b4-4630-b2bd-ee5df08ea928",
   "metadata": {},
   "outputs": [
    {
     "data": {
      "text/plain": [
       "False"
      ]
     },
     "execution_count": 20,
     "metadata": {},
     "output_type": "execute_result"
    }
   ],
   "source": [
    "dataset.closed"
   ]
  },
  {
   "cell_type": "code",
   "execution_count": 21,
   "id": "fec54ba5-8d06-4252-bca0-10e6f931f5c7",
   "metadata": {},
   "outputs": [
    {
     "data": {
      "text/plain": [
       "1"
      ]
     },
     "execution_count": 21,
     "metadata": {},
     "output_type": "execute_result"
    }
   ],
   "source": [
    "dataset.count"
   ]
  },
  {
   "cell_type": "code",
   "execution_count": 22,
   "id": "4db5afc4-856f-4c24-8309-caa7e5b0a09b",
   "metadata": {},
   "outputs": [
    {
     "data": {
      "text/plain": [
       "161190"
      ]
     },
     "execution_count": 22,
     "metadata": {},
     "output_type": "execute_result"
    }
   ],
   "source": [
    "dataset.width"
   ]
  },
  {
   "cell_type": "code",
   "execution_count": 23,
   "id": "7c40f623-10a7-4a63-a9ff-9c9bc385e979",
   "metadata": {},
   "outputs": [
    {
     "data": {
      "text/plain": [
       "104424"
      ]
     },
     "execution_count": 23,
     "metadata": {},
     "output_type": "execute_result"
    }
   ],
   "source": [
    "dataset.height"
   ]
  },
  {
   "cell_type": "code",
   "execution_count": 24,
   "id": "3b7d2611-df9e-424b-98d8-5ef83a155bcf",
   "metadata": {},
   "outputs": [
    {
     "data": {
      "text/plain": [
       "BoundingBox(left=-2493045.0, bottom=177285.0, right=2342655.0, top=3310005.0)"
      ]
     },
     "execution_count": 24,
     "metadata": {},
     "output_type": "execute_result"
    }
   ],
   "source": [
    "dataset.bounds"
   ]
  },
  {
   "cell_type": "code",
   "execution_count": 25,
   "id": "6db239eb-0d1b-40e3-9fcb-327188a13e12",
   "metadata": {},
   "outputs": [
    {
     "data": {
      "text/plain": [
       "{1: 'uint8'}"
      ]
     },
     "execution_count": 25,
     "metadata": {},
     "output_type": "execute_result"
    }
   ],
   "source": [
    "{i: dtype for i, dtype in zip(dataset.indexes, dataset.dtypes)}"
   ]
  },
  {
   "cell_type": "markdown",
   "id": "101060eb-09c9-4228-8699-68ff4161ca54",
   "metadata": {},
   "source": [
    "### Reading Dataset Exploration"
   ]
  },
  {
   "cell_type": "code",
   "execution_count": 26,
   "id": "366b13da-a530-4d75-b1e4-6a76f6afe89d",
   "metadata": {},
   "outputs": [],
   "source": [
    "band1 = dataset.read(1)"
   ]
  },
  {
   "cell_type": "code",
   "execution_count": 27,
   "id": "cb572ce8-49fb-476f-8c69-41813932a2e3",
   "metadata": {},
   "outputs": [
    {
     "data": {
      "text/plain": [
       "array([[0, 0, 0, ..., 0, 0, 0],\n",
       "       [0, 0, 0, ..., 0, 0, 0],\n",
       "       [0, 0, 0, ..., 0, 0, 0],\n",
       "       ...,\n",
       "       [0, 0, 0, ..., 0, 0, 0],\n",
       "       [0, 0, 0, ..., 0, 0, 0],\n",
       "       [0, 0, 0, ..., 0, 0, 0]], dtype=uint8)"
      ]
     },
     "execution_count": 27,
     "metadata": {},
     "output_type": "execute_result"
    }
   ],
   "source": [
    "band1"
   ]
  },
  {
   "cell_type": "code",
   "execution_count": 28,
   "id": "89796dae-a0d7-406b-a1e8-079471ad3399",
   "metadata": {},
   "outputs": [
    {
     "data": {
      "text/plain": [
       "41"
      ]
     },
     "execution_count": 28,
     "metadata": {},
     "output_type": "execute_result"
    }
   ],
   "source": [
    "band1[dataset.height // 2, dataset.width // 2]"
   ]
  },
  {
   "cell_type": "code",
   "execution_count": 29,
   "id": "8beb0af3-29ae-4f4a-8938-99ea1eebd7bc",
   "metadata": {},
   "outputs": [],
   "source": [
    "from rasterio.plot import show"
   ]
  },
  {
   "cell_type": "code",
   "execution_count": null,
   "id": "d671f8d7-fb6f-46ba-bc0a-605ae37c0252",
   "metadata": {},
   "outputs": [],
   "source": [
    "fig, ax = plt.subplots()\n",
    "\n",
    "# transform rasterio plot to real world coords\n",
    "extent=[dataset.bounds[0], dataset.bounds[2], dataset.bounds[1], dataset.bounds[3]]\n",
    "ax = rasterio.plot.show(dataset, extent=extent, ax=ax, cmap='pink')\n",
    "\n",
    "gdf.plot(ax=ax)"
   ]
  },
  {
   "cell_type": "code",
   "execution_count": null,
   "id": "7256ecfa-6ef6-4f0d-9772-ed79ef9442bc",
   "metadata": {},
   "outputs": [],
   "source": []
  }
 ],
 "metadata": {
  "kernelspec": {
   "display_name": "Python 3 (ipykernel)",
   "language": "python",
   "name": "python3"
  },
  "language_info": {
   "codemirror_mode": {
    "name": "ipython",
    "version": 3
   },
   "file_extension": ".py",
   "mimetype": "text/x-python",
   "name": "python",
   "nbconvert_exporter": "python",
   "pygments_lexer": "ipython3",
   "version": "3.9.12"
  }
 },
 "nbformat": 4,
 "nbformat_minor": 5
}
