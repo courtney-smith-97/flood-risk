{
 "cells": [
  {
   "cell_type": "code",
   "execution_count": 1,
   "id": "87a13913-2cca-4461-9919-25a493775f93",
   "metadata": {},
   "outputs": [],
   "source": [
    "from osgeo import gdal, gdal_array, osr, ogr\n",
    "import numpy as np\n",
    "import rasterio\n",
    "import pyproj\n",
    "from affine import Affine\n",
    "import pandas as pd\n",
    "from shapely.geometry import Point\n",
    "from geopandas import GeoDataFrame\n",
    "import geopandas as gpd\n",
    "from rasterio.features import shapes\n",
    "import xarray"
   ]
  },
  {
   "cell_type": "code",
   "execution_count": 2,
   "id": "d9d3cc1f-9326-404c-b159-7b2cb0f5d320",
   "metadata": {},
   "outputs": [
    {
     "name": "stdout",
     "output_type": "stream",
     "text": [
      "/home/ubuntu/eda/flood-risk/data\n"
     ]
    }
   ],
   "source": [
    "!pwd"
   ]
  },
  {
   "cell_type": "code",
   "execution_count": 3,
   "id": "c27b80ef-9066-46bf-927d-984ac9013065",
   "metadata": {},
   "outputs": [
    {
     "name": "stdout",
     "output_type": "stream",
     "text": [
      "/home/ubuntu/eda/data\n"
     ]
    }
   ],
   "source": [
    "%cd \"/home/ubuntu/eda/data\""
   ]
  },
  {
   "cell_type": "code",
   "execution_count": 4,
   "id": "9e2aa4de-3d3d-4580-ab3d-92ca88750771",
   "metadata": {},
   "outputs": [
    {
     "name": "stdout",
     "output_type": "stream",
     "text": [
      "/home/ubuntu/eda/data\n"
     ]
    }
   ],
   "source": [
    "!pwd"
   ]
  },
  {
   "cell_type": "code",
   "execution_count": 5,
   "id": "a3a6c7d4-036b-4ad0-8c8a-8baa86274045",
   "metadata": {},
   "outputs": [
    {
     "name": "stdout",
     "output_type": "stream",
     "text": [
      "Elevation dataset origin: (910719.3, 275160.675)\n",
      "Elevation dataset scale: (1.0, -1.0)\n"
     ]
    }
   ],
   "source": [
    "# elevation data\n",
    "dataset = gdal.Open('./elevation/DEM_LiDAR_1ft_2010_Improved_NYC_int.tif')\n",
    "gt = dataset.GetGeoTransform()\n",
    "band = dataset.GetRasterBand(1)\n",
    "print(f'Elevation dataset origin: {(gt[0],gt[3])}')\n",
    "print(f'Elevation dataset scale: {gt[1],gt[5]}')"
   ]
  },
  {
   "cell_type": "code",
   "execution_count": 6,
   "id": "cb572328-c94f-43bf-affa-e3e3f4ff0386",
   "metadata": {},
   "outputs": [
    {
     "data": {
      "text/plain": [
       "158100"
      ]
     },
     "execution_count": 6,
     "metadata": {},
     "output_type": "execute_result"
    }
   ],
   "source": [
    "dataset.RasterXSize"
   ]
  },
  {
   "cell_type": "code",
   "execution_count": 7,
   "id": "e93719e3-8372-4ea9-b612-93dc9992c0c4",
   "metadata": {},
   "outputs": [
    {
     "data": {
      "text/plain": [
       "156100"
      ]
     },
     "execution_count": 7,
     "metadata": {},
     "output_type": "execute_result"
    }
   ],
   "source": [
    "dataset.RasterYSize"
   ]
  },
  {
   "cell_type": "code",
   "execution_count": 9,
   "id": "a7c96eaa-0663-4cb0-b711-d5b33566f8c8",
   "metadata": {},
   "outputs": [
    {
     "name": "stdout",
     "output_type": "stream",
     "text": [
      "(156100, 158100)\n"
     ]
    }
   ],
   "source": [
    "array = gdal_array.BandReadAsArray(band)\n",
    "print(array.shape)"
   ]
  },
  {
   "cell_type": "code",
   "execution_count": null,
   "id": "995c48ce-7ecd-43b5-9c2f-80e8d6658b40",
   "metadata": {},
   "outputs": [],
   "source": [
    "# land cover data\n",
    "lc_data = gdal.Open('./raster_data/NYC_2017_LiDAR_LandCover.img')\n",
    "gt = lc_data.GetGeoTransform()\n",
    "band = lc_data.GetRasterBand(1)\n",
    "print(f'Land cover dataset origin: {(gt[0],gt[3])}')\n",
    "print(f'Land cover dataset scale: {gt[1],gt[5]}')"
   ]
  },
  {
   "cell_type": "code",
   "execution_count": 15,
   "id": "0ea1bf63-d86e-4449-a2c0-7b2a0f54bb41",
   "metadata": {},
   "outputs": [
    {
     "name": "stdout",
     "output_type": "stream",
     "text": [
      "Catch basin dataset origin: (913346.4203000069, 271705.03180000186)\n",
      "Catch basin dataset scale: (1.0, -1.0)\n"
     ]
    }
   ],
   "source": [
    "# catch basin data\n",
    "cb_data = ogr.Open('./DEPCatchbasins/DEPCATCHBASINS.shp')\n",
    "layer = cb_data.GetLayer()\n",
    "cb_ref = layer.GetExtent()\n",
    "print(f'Catch basin dataset origin: {(cb_ref[0],cb_ref[3])}')\n",
    "print(f'Catch basin dataset scale: (1.0, -1.0)')"
   ]
  },
  {
   "cell_type": "code",
   "execution_count": 7,
   "id": "079d71e9-bb07-450e-abb7-9f6e45b6dfb5",
   "metadata": {},
   "outputs": [
    {
     "name": "stdout",
     "output_type": "stream",
     "text": [
      "Elevation dataset origin: (910719.3, 275160.675)\n",
      "Elevation dataset scale: (1.0, -1.0)\n"
     ]
    }
   ],
   "source": [
    "#elevation data\n",
    "elev_data = gdal.Open('./elevation/DEM_LiDAR_1ft_2010_Improved_NYC_int.tif')\n",
    "elev_gt = elev_data.GetGeoTransform()\n",
    "# print('Band count:', elev_data.RasterCount)\n",
    "# print('Elev geotransf:', elev_geotransform)\n",
    "#elev_band = elev_data.GetRasterBand(1)\n",
    "print(f'Elevation dataset origin: {(elev_gt[0],elev_gt[3])}')\n",
    "print(f'Elevation dataset scale: {elev_gt[1],elev_gt[5]}')"
   ]
  },
  {
   "cell_type": "code",
   "execution_count": 11,
   "id": "dbbd0d05-e998-47c7-861f-3f582170fe94",
   "metadata": {},
   "outputs": [
    {
     "name": "stdout",
     "output_type": "stream",
     "text": [
      "Land cover top left georef: (912286.93, 273618.3)\n",
      "Catch basin top left georef: (913346.4203000069, 271705.03180000186)\n",
      "Elevation top left georef: (910719.3, 275160.675)\n",
      "CB is shifted by (1059.4903000068152, -1913.2681999981287) ft\n",
      "Elev is shifted by (-1567.6300000000047, 1542.375) ft\n",
      "CB array top left offset: (2118, -3826) pixels (array elements)\n",
      "Elev array top left offset: (-3135, 3084) pixels (array elements)\n"
     ]
    }
   ],
   "source": [
    "# lc_origin = (gt[0],gt[3])\n",
    "# cb_origin = (cb_ref[0],cb_ref[3])\n",
    "# elev_origin = (elev_gt[0], elev_gt[3])\n",
    "# offset_ft_cb = (cb_origin[0]-lc_origin[0], cb_origin[1]-lc_origin[1])\n",
    "# offset_pix_cb = (int(offset_ft_cb[0]*2),int(offset_ft_cb[1]*2))\n",
    "# offset_ft_elev = (elev_origin[0]-lc_origin[0], elev_origin[1]-lc_origin[1])\n",
    "# offset_pix_elev = (int(offset_ft_elev[0]*2),int(offset_ft_elev[1]*2))\n",
    "\n",
    "\n",
    "# print('Land cover top left georef:',lc_origin)\n",
    "# print('Catch basin top left georef:', cb_origin)\n",
    "# print('Elevation top left georef:', elev_origin)\n",
    "# print(f'CB is shifted by {offset_ft_cb} ft')\n",
    "# print(f'Elev is shifted by {offset_ft_elev} ft')\n",
    "# print(f'CB array top left offset: {offset_pix_cb} pixels (array elements)')\n",
    "# print(f'Elev array top left offset: {offset_pix_elev} pixels (array elements)')"
   ]
  },
  {
   "cell_type": "code",
   "execution_count": 7,
   "id": "db3b846b-9d3b-4a88-97c3-036cda824911",
   "metadata": {},
   "outputs": [
    {
     "name": "stdout",
     "output_type": "stream",
     "text": [
      "/home/ubuntu/eda/data\n"
     ]
    }
   ],
   "source": [
    "!pwd"
   ]
  },
  {
   "cell_type": "code",
   "execution_count": null,
   "id": "e1c63d06-4e45-48b5-9962-3c6a63c7f86e",
   "metadata": {},
   "outputs": [],
   "source": [
    "## point : 40.931004, -74.057991\n",
    "## offset from elevation origin (ft) : (57506, -3313)"
   ]
  },
  {
   "cell_type": "code",
   "execution_count": null,
   "id": "263b7034-db17-4934-bcdc-92f90eb88f26",
   "metadata": {},
   "outputs": [],
   "source": [
    "def get_coords_from_lat_long(lat, long, proj_from = pyproj.Proj(2263), proj_to = pyproj.Proj(proj = 'latlong')):\n",
    "    transformer = pyproj.Transformer.from_proj(proj_to, proj_from)\n",
    "    eastings, northings = transformer.transform(long, lat)\n",
    "    x = int((eastings - geotransform[0])/geotransform[1]-0.5)\n",
    "    y = int((northings - geotransform[3])/geotransform[5]-0.5)\n",
    "    return x, y"
   ]
  },
  {
   "cell_type": "code",
   "execution_count": null,
   "id": "01db49c6-99ca-4092-9dd5-47adc13a80b3",
   "metadata": {},
   "outputs": [],
   "source": [
    "def conv_shp_to_raster(shp_fp, raster_fp, base_fp, no_data_val = 0, scale_factor = 1, offset_point = None, dtype = gdal.GDT_Byte):\n",
    "    \n",
    "    #get base dataset attributes\n",
    "    base_data = gdal.Open(base_fp)\n",
    "    x_dim = base_data.RasterXSize\n",
    "    y_dim = base_data.RasterYSize\n",
    "    base_gt = base_data.GetGeoTransform()\n",
    "\n",
    "    #open shapefile, get layer and CRS\n",
    "    layer = ogr.Open(shp_fp).GetLayer()\n",
    "    source_crs = layer.GetSpatialRef().ExportToWkt()\n",
    "    \n",
    "    #compute offset\n",
    "    if offset_point:\n",
    "        x_offset, y_offset = get_coords_from_lat_long(np.array([offset_point[0]]),np.array([offset_point[1]]))\n",
    "    else:\n",
    "        x_offset = 0\n",
    "        y_offset = 0\n",
    "    \n",
    "    x_res = \n",
    "        \n",
    "    \n",
    "    output_ds = gdal.GetDriverByName('GTiff').Create(raster_fp, x_dim, y_dim, 1, dtype)\n",
    "    output_ds.SetGeoTransform(base_gt[0]+x_offset, "
   ]
  },
  {
   "cell_type": "code",
   "execution_count": 6,
   "id": "db9ffe1d-1400-46bf-a1cd-461b30aef1d4",
   "metadata": {},
   "outputs": [
    {
     "name": "stdout",
     "output_type": "stream",
     "text": [
      "CPU times: user 44 s, sys: 33 s, total: 1min 16s\n",
      "Wall time: 1min 18s\n"
     ]
    },
    {
     "data": {
      "text/plain": [
       "0"
      ]
     },
     "execution_count": 6,
     "metadata": {},
     "output_type": "execute_result"
    }
   ],
   "source": [
    "%%time\n",
    "# vector_fn = './DEPCatchbasins/DEPCATCHBASINS.shp'\n",
    "raster_fn = './new_raster/catch_basin_1ft_raster.tif'\n",
    "data = ogr.Open('./DEPCatchbasins/DEPCATCHBASINS.shp')\n",
    "layer = data.GetLayer()\n",
    "source_srs = layer.GetSpatialRef()\n",
    "srs = source_srs.ExportToWkt()\n",
    "x_min, x_max, y_min, y_max = layer.GetExtent()\n",
    "\n",
    "# pixel_size = 2\n",
    "pixel_size = 1\n",
    "NoData_value = 0\n",
    "\n",
    "# x_res = int(310844/4)\n",
    "# y_res = int(314414/4)\n",
    "x_res = int((310844-111877)/2)\n",
    "y_res = int((314414-9711)/2)\n",
    "target_ds = gdal.GetDriverByName('GTiff').Create(raster_fn, x_res, y_res, 1, gdal.GDT_Float32)\n",
    "target_ds.SetGeoTransform((gt[0]+57506, pixel_size, 0, gt[3]-3313, 0, -pixel_size))\n",
    "target_ds.SetProjection(srs)\n",
    "band = target_ds.GetRasterBand(1)\n",
    "band.SetNoDataValue(NoData_value)\n",
    "\n",
    "# Rasterize\n",
    "gdal.RasterizeLayer(target_ds, [1], layer, burn_values=[1])\n",
    "\n",
    "# # Read as array\n",
    "# array = band.ReadAsArray()\n",
    "# print(array)\n",
    "# print(array.shape)"
   ]
  },
  {
   "cell_type": "code",
   "execution_count": 6,
   "id": "da14fade-c33e-4883-bc22-ebcc1c31c84e",
   "metadata": {},
   "outputs": [
    {
     "data": {
      "text/plain": [
       "97733705416"
      ]
     },
     "execution_count": 6,
     "metadata": {},
     "output_type": "execute_result"
    }
   ],
   "source": [
    "310844*314414"
   ]
  },
  {
   "cell_type": "code",
   "execution_count": 7,
   "id": "db7eddb7-a347-44b3-b04d-7ece6756d1d2",
   "metadata": {},
   "outputs": [
    {
     "data": {
      "text/plain": [
       "15156460450.25"
      ]
     },
     "execution_count": 7,
     "metadata": {},
     "output_type": "execute_result"
    }
   ],
   "source": [
    "##array size\n",
    "(310844-111877)/2*(314414-9711)/2"
   ]
  },
  {
   "cell_type": "code",
   "execution_count": 11,
   "id": "f1a61a64-cf45-46b8-946b-1f27984a84e1",
   "metadata": {},
   "outputs": [
    {
     "data": {
      "text/plain": [
       "0.0"
      ]
     },
     "execution_count": 11,
     "metadata": {},
     "output_type": "execute_result"
    }
   ],
   "source": [
    "array.min()"
   ]
  },
  {
   "cell_type": "code",
   "execution_count": 12,
   "id": "f9327599-7890-43fd-8912-c7b932d5ee10",
   "metadata": {},
   "outputs": [
    {
     "data": {
      "text/plain": [
       "1.0"
      ]
     },
     "execution_count": 12,
     "metadata": {},
     "output_type": "execute_result"
    }
   ],
   "source": [
    "array.max()"
   ]
  },
  {
   "cell_type": "code",
   "execution_count": 10,
   "id": "72c737be-2168-4c91-83cb-87b2c9f46d00",
   "metadata": {},
   "outputs": [
    {
     "data": {
      "text/plain": [
       "135004.0"
      ]
     },
     "execution_count": 10,
     "metadata": {},
     "output_type": "execute_result"
    }
   ],
   "source": [
    "sum(sum(array))"
   ]
  },
  {
   "cell_type": "code",
   "execution_count": 27,
   "id": "920168b0-0f27-4983-9fa5-70a7693aee29",
   "metadata": {},
   "outputs": [
    {
     "name": "stdout",
     "output_type": "stream",
     "text": [
      "(912286.93, 2.0, 0.0, 273618.3, 0.0, -2.0)\n"
     ]
    }
   ],
   "source": [
    "dataset = gdal.Open('./new_raster/cb_raster.tif')\n",
    "print(dataset.GetGeoTransform())"
   ]
  },
  {
   "cell_type": "code",
   "execution_count": null,
   "id": "52dfcf12-275c-4b3a-8811-7a9387e54a95",
   "metadata": {},
   "outputs": [],
   "source": [
    "%%time\n",
    "# vector_fn = './DEPCatchbasins/DEPCATCHBASINS.shp'\n",
    "raster_fn = './new_raster/subway_entrance_1ft_raster.tif'\n",
    "\n",
    "data = ogr.Open('./doitt_subway_entrances/DOITT_SUBWAY_ENTRANCE_04JAN2017.shp')\n",
    "layer = data.GetLayer()\n",
    "source_srs = layer.GetSpatialRef()\n",
    "srs = source_srs.ExportToWkt()\n",
    "x_min, x_max, y_min, y_max = layer.GetExtent()\n",
    "\n",
    "# pixel_size = 2\n",
    "pixel_size = 1\n",
    "NoData_value = 0\n",
    "\n",
    "# x_res = int(310844/4)\n",
    "# y_res = int(314414/4)\n",
    "x_res = int((310844-111877)/2)\n",
    "y_res = int((314414-9711)/2)\n",
    "target_ds = gdal.GetDriverByName('GTiff').Create(raster_fn, x_res, y_res, 1, gdal.GDT_Float32)\n",
    "target_ds.SetGeoTransform((gt[0]+111877/2, pixel_size, 0, gt[3]-9711/2, 0, -pixel_size))\n",
    "target_ds.SetProjection(srs)\n",
    "band = target_ds.GetRasterBand(1)\n",
    "band.SetNoDataValue(NoData_value)\n",
    "\n",
    "# Rasterize\n",
    "gdal.RasterizeLayer(target_ds, [1], layer, burn_values=[1])\n",
    "\n",
    "# Read as array\n",
    "array = band.ReadAsArray()\n",
    "print(array)\n",
    "print(array.shape)"
   ]
  },
  {
   "cell_type": "code",
   "execution_count": null,
   "id": "f4550eda-3433-4f8c-b4eb-f5800f460bd8",
   "metadata": {},
   "outputs": [],
   "source": []
  }
 ],
 "metadata": {
  "kernelspec": {
   "display_name": "Python 3 (ipykernel)",
   "language": "python",
   "name": "python3"
  },
  "language_info": {
   "codemirror_mode": {
    "name": "ipython",
    "version": 3
   },
   "file_extension": ".py",
   "mimetype": "text/x-python",
   "name": "python",
   "nbconvert_exporter": "python",
   "pygments_lexer": "ipython3",
   "version": "3.8.10"
  }
 },
 "nbformat": 4,
 "nbformat_minor": 5
}
