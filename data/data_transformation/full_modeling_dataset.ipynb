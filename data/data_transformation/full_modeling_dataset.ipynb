{
 "cells": [
  {
   "cell_type": "markdown",
   "id": "d83e9bb1-19af-44ad-b36b-a01903bf9282",
   "metadata": {},
   "source": [
    "### Imports and Setup"
   ]
  },
  {
   "cell_type": "code",
   "execution_count": 33,
   "id": "108ed5a9-812b-4b5b-9953-a5376331350c",
   "metadata": {},
   "outputs": [
    {
     "name": "stdout",
     "output_type": "stream",
     "text": [
      "/home/ubuntu/eda/data\n"
     ]
    }
   ],
   "source": [
    "%cd /home/ubuntu/eda/data\n",
    "from osgeo import gdal, gdal_array, osr, ogr\n",
    "import numpy as np\n",
    "import rasterio\n",
    "from rasterio import mask\n",
    "import pyproj\n",
    "from affine import Affine\n",
    "import pandas as pd\n",
    "from shapely.geometry import Point\n",
    "from geopandas import GeoDataFrame\n",
    "import geopandas as gpd\n",
    "from rasterio.features import shapes\n",
    "import xarray\n",
    "import matplotlib.pyplot as plt\n",
    "import rtree\n",
    "import shapely\n",
    "import warnings\n",
    "import time\n",
    "from sklearn.preprocessing import StandardScaler\n",
    "\n",
    "warnings.filterwarnings('ignore')"
   ]
  },
  {
   "cell_type": "markdown",
   "id": "f011a2ed-a5f7-41f2-a844-13b27f129cea",
   "metadata": {},
   "source": [
    "### Load census block and census tract data"
   ]
  },
  {
   "cell_type": "code",
   "execution_count": 34,
   "id": "0ae65fa4-87d5-4293-b512-14bd82fd819a",
   "metadata": {},
   "outputs": [],
   "source": [
    "#census blocks\n",
    "cb_df = gpd.read_file('./shapefiles/nycb2020_22b/nycb2020.shp')\n",
    "cb_df.columns = cb_df.columns.str.lower()\n",
    "\n",
    "#census tracts\n",
    "ct_df = gpd.read_file('./shapefiles/nyct2020_22b/nyct2020.shp')\n",
    "ct_df.columns = ct_df.columns.str.lower()"
   ]
  },
  {
   "cell_type": "markdown",
   "id": "a32d5d53-18be-4434-a379-7a163b5e6102",
   "metadata": {},
   "source": [
    "### Create feature generation functions"
   ]
  },
  {
   "cell_type": "code",
   "execution_count": 35,
   "id": "5c16d310-48ae-4b12-bb57-ce405e9f5434",
   "metadata": {},
   "outputs": [],
   "source": [
    "def gen_lc_features(df, filepath, num_classes = 9, prefix = 'land_cvr_', default_val = 0, ct_level = False):\n",
    "    \n",
    "    if ct_level:\n",
    "        suffix = '_ct'\n",
    "    else:\n",
    "        suffix = ''\n",
    "        \n",
    "    lc_data = rasterio.open(filepath)\n",
    "    feat_names = [prefix+str(i)+suffix for i in range(1,num_classes)] \n",
    "    # if rebase:\n",
    "    #     rb_feat_names = [prefix + str(i) + '_rb' for i in range(1,num_classes)]\n",
    "    for feat in feat_names:\n",
    "        df[feat] = default_val\n",
    "    \n",
    "    for i in range(len(df)):\n",
    "        filt_raster, _ = mask.mask(lc_data, [df['geometry'][i]], crop = True)\n",
    "        lc_proportion = np.histogram(filt_raster, bins = [i for i in range(num_classes + 1)])[0]/(filt_raster.shape[1]*filt_raster.shape[2])\n",
    "        for j in range(1,len(lc_proportion)):\n",
    "            var_name = prefix + str(j) + suffix\n",
    "            df.loc[i, var_name] = round(lc_proportion[j]/(1-lc_proportion[0]),6)\n",
    "    if ct_level:\n",
    "        return df[['ct2020','ntaname']+feat_names]\n",
    "    else:\n",
    "        return df"
   ]
  },
  {
   "cell_type": "code",
   "execution_count": 53,
   "id": "629e5010-54e6-4ed6-8ad2-3cfbf8d71359",
   "metadata": {},
   "outputs": [],
   "source": [
    "def gen_elev_features(df, filepath, prefix = 'elev_', ct_level = False, nodata_val = 999):\n",
    "    \n",
    "    if ct_level:\n",
    "        suffix = '_ct'\n",
    "    else:\n",
    "        suffix = ''\n",
    "    \n",
    "    elev_data = rasterio.open(filepath)\n",
    "    feat_names = [prefix + i + suffix for i in ['mean','min','max','q1','q3','var']] \n",
    "    for feat in feat_names:\n",
    "        df[feat] = nodata_val\n",
    "    \n",
    "    for i in range(len(df)):\n",
    "        filt_raster, _ = mask.mask(elev_data, [df['geometry'][i]], crop = True, nodata = nodata_val)\n",
    "        filt_raster = np.where(filt_raster == nodata_val, np.nan, filt_raster)\n",
    "        df.loc[i, prefix + 'mean' + suffix] = round(np.nanmean(filt_raster),1)\n",
    "        df.loc[i, prefix + 'var' + suffix] = round(np.nanvar(filt_raster),1)\n",
    "        df.loc[i, prefix + 'min' + suffix], df.loc[i, prefix + 'q1' + suffix], df.loc[i, prefix + 'q3' + suffix], df.loc[i, prefix + 'max' + suffix] = np.nanpercentile(filt_raster, [0,25,75,100])\n",
    "    if ct_level:\n",
    "        return df[['ct2020']+feat_names]\n",
    "    else:\n",
    "        return df"
   ]
  },
  {
   "cell_type": "code",
   "execution_count": 54,
   "id": "485cdf06-21b1-4c94-89b0-4a327cb7b161",
   "metadata": {},
   "outputs": [],
   "source": [
    "def gen_drain_features(df, filepath):\n",
    "    \n",
    "    drain_data = gpd.read_file(filepath)\n",
    "    drain_data.columns = drain_data.columns.str.lower()\n",
    "\n",
    "    drain_data = drain_data.sjoin(df, how = 'inner', predicate = 'within')[['unitid','bctcb2020']]                                  \n",
    "    df = df.merge(drain_data.groupby('bctcb2020')['unitid'].nunique(), how = 'left', on = 'bctcb2020').rename(columns = {'unitid':'catch_basin_count'})\n",
    "    df['catch_basin_density'] = df['catch_basin_count']/df['shape_area']\n",
    "    \n",
    "    return df"
   ]
  },
  {
   "cell_type": "code",
   "execution_count": 55,
   "id": "b2968827-d4cf-48c2-8974-29d60f49ee9c",
   "metadata": {},
   "outputs": [],
   "source": [
    "def gen_subway_features(df, filepath):\n",
    "    \n",
    "    sub_data = gpd.read_file(filepath)\n",
    "    sub_data.columns = sub_data.columns.str.lower()\n",
    "\n",
    "    sub_data = sub_data.sjoin(df, how = 'inner', predicate = 'within')[['objectid','bctcb2020']]                                  \n",
    "    df = df.merge(sub_data.groupby('bctcb2020')['objectid'].nunique(), how = 'left', on = 'bctcb2020').rename(columns = {'objectid':'sub_entr_count'})\n",
    "    \n",
    "    return df"
   ]
  },
  {
   "cell_type": "code",
   "execution_count": 56,
   "id": "7c2d3c5c-5694-488b-891c-6ffdf2ec7a72",
   "metadata": {},
   "outputs": [],
   "source": [
    "def gen_ret_wall_features(df, filepath):\n",
    "    \n",
    "    rw_data = gpd.read_file(filepath)\n",
    "    rw_data.columns = rw_data.columns.str.lower()\n",
    "    \n",
    "    rw_data = df.overlay(rw_data, how = 'intersection', keep_geom_type = False)[['bctcb2020','shape_leng_2','geometry']]\n",
    "    \n",
    "    #explode to split any multipart geometries\n",
    "    rw_data = rw_data.explode(ignore_index = True)\n",
    "    \n",
    "    length = []\n",
    "    avg_rw_elev = []\n",
    "    cb_list = []\n",
    "    for cb in rw_data.bctcb2020.unique():\n",
    "        cb_list.append(cb)\n",
    "        elev_list = []\n",
    "        subset = rw_data[rw_data.bctcb2020 == cb]\n",
    "        length.append(subset['shape_leng_2'].sum())\n",
    "        for i in range(0,len(subset)):\n",
    "            for j in list(subset.iloc[i].geometry.coords):\n",
    "                 elev_list.append(j[2])\n",
    "        avg_rw_elev.append(np.mean(elev_list))\n",
    "    \n",
    "    rw_agg = pd.DataFrame(zip(cb_list, length, avg_rw_elev),columns  = ['bctcb2020','rw_length','rw_avg_elev'])\n",
    "    df = df.merge(rw_agg, how = 'left', on = 'bctcb2020')\n",
    "    \n",
    "    return df"
   ]
  },
  {
   "cell_type": "code",
   "execution_count": 57,
   "id": "91bb316e-52d8-43d0-bcee-aad1c3817a4a",
   "metadata": {},
   "outputs": [],
   "source": [
    "def gen_hydro_features(df, filepath, hydro_dict):\n",
    "    \n",
    "    h_data = gpd.read_file(filepath)\n",
    "    h_data.columns = h_data.columns.str.lower()\n",
    "    \n",
    "    h_data = df.overlay(h_data, how = 'intersection', keep_geom_type = False)\n",
    "    \n",
    "    for key in hydro_dict.keys():\n",
    "        df[hydro_dict[key]] = np.where(df.bctcb2020.isin(h_data[h_data.feat_code == key].bctcb2020),1,0)\n",
    "    \n",
    "    return df"
   ]
  },
  {
   "cell_type": "code",
   "execution_count": 58,
   "id": "9d708345-6b04-4936-97db-2b01f87b6742",
   "metadata": {},
   "outputs": [],
   "source": [
    "lc_path = './raster_data/NYC_2017_LiDAR_LandCover.img'\n",
    "elev_path = './elevation/DEM_LiDAR_1ft_2010_Improved_NYC_int.tif'\n",
    "dr_path = './DEPCatchbasins/DEPCATCHBASINS.shp'\n",
    "se_path = './doitt_subway_entrances/DOITT_SUBWAY_ENTRANCE_04JAN2017.shp'\n",
    "rw_path = './retaining_wall/RETAININGWALL.shp'\n",
    "h_path = './hydro/HYDROGRAPHY.shp'\n",
    "\n",
    "hydro_dict = {2600:'lake_res_ind',\n",
    "              2610:'pond_ind',\n",
    "              2620:'river_ind',\n",
    "              2630:'stream_ind',\n",
    "              2640:'wl_marsh_ind',\n",
    "              2650:'beach_shore_ind',\n",
    "              2660:'bay_ocean_ind'}"
   ]
  },
  {
   "cell_type": "markdown",
   "id": "32703496-6d97-4947-9b5b-75ba4aa3b246",
   "metadata": {},
   "source": [
    "### Borough-Level Dataset Pipeline (WIP)"
   ]
  },
  {
   "cell_type": "code",
   "execution_count": 60,
   "id": "a16cc078-8b55-4ea7-8a23-6db3cbeccc24",
   "metadata": {},
   "outputs": [],
   "source": [
    "def gen_boro_dataset(cb_df, ct_df, name, name_abv):\n",
    "    start_ = time.time()\n",
    "    #land cover\n",
    "    df = gen_lc_features(cb_df[cb_df.boroname == name].reset_index(drop = True), lc_path)\n",
    "    print(f'CB Land cover features complete: {round((time.time()-start_)/60,1)} total time elapsed')\n",
    "    df_c = gen_lc_features(ct_df[ct_df.boroname == name].reset_index(drop = True), lc_path, ct_level = True)\n",
    "    print(f'CT Land cover features complete: {round((time.time()-start_)/60,1)} total time elapsed')\n",
    "    df = df.merge(df_c, on = 'ct2020')\n",
    "\n",
    "    #elevation\n",
    "    df = gen_elev_features(df, elev_path)\n",
    "    print(f'CB elevation features complete: {round((time.time()-start_)/60,1)} total time elapsed')\n",
    "    df_c = gen_elev_features(ct_df[ct_df.boroname == name].reset_index(drop = True), elev_path, ct_level = True)\n",
    "    print(f'CT elevation features complete: {round((time.time()-start_)/60,1)} total time elapsed')\n",
    "    df = df.merge(df_c, on = 'ct2020')\n",
    "    \n",
    "    #drainage/water\n",
    "    df = gen_drain_features(df, dr_path)\n",
    "    print(f'Catch basin features complete: {round((time.time()-start_)/60,1)} total time elapsed')\n",
    "    df = gen_subway_features(df, se_path)\n",
    "    print(f'Subway features complete: {round((time.time()-start_)/60,1)} total time elapsed')\n",
    "    df = gen_ret_wall_features(df, rw_path)\n",
    "    print(f'Retaining wall features complete: {round((time.time()-start_)/60,1)} total time elapsed')\n",
    "    df = gen_hydro_features(df, h_path, hydro_dict)\n",
    "    print(f'Hydrography features complete: {round((time.time()-start_)/60,1)} total time elapsed')\n",
    "    df.to_csv(f'{name_abv}_data.csv')\n",
    "    \n",
    "    return df"
   ]
  },
  {
   "cell_type": "markdown",
   "id": "01599a4f-3454-4861-bb36-d3a4e7d43e47",
   "metadata": {},
   "source": [
    "### Generate full dataset"
   ]
  },
  {
   "cell_type": "markdown",
   "id": "9bf77da6-4dae-4d2c-af1c-8b476fa0999d",
   "metadata": {},
   "source": [
    "##### Manhattan"
   ]
  },
  {
   "cell_type": "code",
   "execution_count": 61,
   "id": "38549c8d-d115-4119-8b55-e0f70234d6fc",
   "metadata": {},
   "outputs": [],
   "source": [
    "# test = cb_df[cb_df.boroname == 'Manhattan']\n",
    "# elev_data = rasterio.open(elev_path)\n",
    "# nodata_val = -9999\n",
    "# for i in range(len(test)):\n",
    "#     filt_raster, _ = mask.mask(elev_data, [test['geometry'][i]], crop = True, nodata = 999)\n",
    "#     print(filt_raster)\n",
    "#     filt_raster = np.where(filt_raster == 999, np.nan, filt_raster)\n",
    "#     print(filt_raster)\n",
    "#     print(np.nanmean(filt_raster))\n",
    "#     print(np.nanpercentile(filt_raster, [0,25,75,100]))\n",
    "#     break"
   ]
  },
  {
   "cell_type": "code",
   "execution_count": 62,
   "id": "eac5c036-111b-44ab-9056-eb6d527feb4c",
   "metadata": {},
   "outputs": [
    {
     "name": "stdout",
     "output_type": "stream",
     "text": [
      "CB Land cover features complete: 2.9 total time elapsed\n",
      "CT Land cover features complete: 5.5 total time elapsed\n",
      "CB elevation features complete: 7.9 total time elapsed\n",
      "CT elevation features complete: 11.0 total time elapsed\n",
      "Catch basin features complete: 11.5 total time elapsed\n",
      "Subway features complete: 11.6 total time elapsed\n",
      "Retaining wall features complete: 11.6 total time elapsed\n",
      "Hydrography features complete: 11.7 total time elapsed\n"
     ]
    }
   ],
   "source": [
    "mht = gen_boro_dataset(cb_df, ct_df, 'Manhattan', 'mht')"
   ]
  },
  {
   "cell_type": "code",
   "execution_count": 63,
   "id": "6f996849-165f-4786-bdd7-3bb0a62716d8",
   "metadata": {},
   "outputs": [
    {
     "name": "stdout",
     "output_type": "stream",
     "text": [
      "upload: ./mht_data.csv to s3://w210-flood-risk/modeling_data/mht_data.csv\n"
     ]
    }
   ],
   "source": [
    "!aws s3 cp mht_data.csv s3://w210-flood-risk/modeling_data/mht_data.csv --acl public-read"
   ]
  },
  {
   "cell_type": "markdown",
   "id": "624a6e5e-c85a-417d-bfdc-208d1b41be28",
   "metadata": {},
   "source": [
    "##### Brooklyn"
   ]
  },
  {
   "cell_type": "code",
   "execution_count": 64,
   "id": "0a49c879-6fd3-4359-b13b-ecaa7df9aa01",
   "metadata": {},
   "outputs": [
    {
     "name": "stdout",
     "output_type": "stream",
     "text": [
      "CB Land cover features complete: 7.7 total time elapsed\n",
      "CT Land cover features complete: 14.6 total time elapsed\n",
      "CT elevation features complete: 28.3 total time elapsed\n",
      "Catch basin features complete: 28.8 total time elapsed\n",
      "Subway features complete: 28.8 total time elapsed\n",
      "Retaining wall features complete: 28.9 total time elapsed\n",
      "Hydrography features complete: 29.0 total time elapsed\n"
     ]
    }
   ],
   "source": [
    "bk = gen_boro_dataset(cb_df, ct_df, 'Brooklyn', 'bk')"
   ]
  },
  {
   "cell_type": "code",
   "execution_count": 65,
   "id": "93613971-4097-4307-b2f8-e5a86020d025",
   "metadata": {},
   "outputs": [
    {
     "name": "stdout",
     "output_type": "stream",
     "text": [
      "upload: ./bk_data.csv to s3://w210-flood-risk/modeling_data/bk_data.csv\n"
     ]
    }
   ],
   "source": [
    "!aws s3 cp bk_data.csv s3://w210-flood-risk/modeling_data/bk_data.csv --acl public-read"
   ]
  },
  {
   "cell_type": "markdown",
   "id": "c0ef5224-539c-4672-aba0-9e9c3d2a36cb",
   "metadata": {},
   "source": [
    "##### Queens"
   ]
  },
  {
   "cell_type": "code",
   "execution_count": 66,
   "id": "0c4eba90-0544-4eb7-b307-fe01cb878147",
   "metadata": {},
   "outputs": [
    {
     "name": "stdout",
     "output_type": "stream",
     "text": [
      "CB Land cover features complete: 12.2 total time elapsed\n",
      "CT Land cover features complete: 23.8 total time elapsed\n",
      "CB elevation features complete: 36.1 total time elapsed\n",
      "CT elevation features complete: 46.5 total time elapsed\n",
      "Catch basin features complete: 47.0 total time elapsed\n",
      "Subway features complete: 47.1 total time elapsed\n",
      "Retaining wall features complete: 47.2 total time elapsed\n",
      "Hydrography features complete: 47.3 total time elapsed\n"
     ]
    }
   ],
   "source": [
    "qns = gen_boro_dataset(cb_df, ct_df, 'Queens', 'qns')"
   ]
  },
  {
   "cell_type": "code",
   "execution_count": 67,
   "id": "08504ee2-95dd-485e-9e9f-1c9cf75de385",
   "metadata": {},
   "outputs": [
    {
     "name": "stdout",
     "output_type": "stream",
     "text": [
      "upload: ./qns_data.csv to s3://w210-flood-risk/modeling_data/qns_data.csv\n"
     ]
    }
   ],
   "source": [
    "!aws s3 cp qns_data.csv s3://w210-flood-risk/modeling_data/qns_data.csv --acl public-read"
   ]
  },
  {
   "cell_type": "markdown",
   "id": "331e66e2-284a-4183-bbe6-2bc4e712ccbe",
   "metadata": {},
   "source": [
    "##### Bronx"
   ]
  },
  {
   "cell_type": "code",
   "execution_count": 68,
   "id": "8e12cfff-4713-42ad-9093-b12e87c8d6f9",
   "metadata": {},
   "outputs": [
    {
     "name": "stdout",
     "output_type": "stream",
     "text": [
      "CB Land cover features complete: 5.4 total time elapsed\n",
      "CT Land cover features complete: 10.0 total time elapsed\n",
      "CB elevation features complete: 13.5 total time elapsed\n",
      "CT elevation features complete: 17.3 total time elapsed\n",
      "Catch basin features complete: 17.8 total time elapsed\n",
      "Subway features complete: 17.9 total time elapsed\n",
      "Retaining wall features complete: 17.9 total time elapsed\n",
      "Hydrography features complete: 18.0 total time elapsed\n"
     ]
    }
   ],
   "source": [
    "bx = gen_boro_dataset(cb_df, ct_df, 'Bronx', 'bx')"
   ]
  },
  {
   "cell_type": "code",
   "execution_count": 69,
   "id": "2c6df033-3307-4613-b837-43bb950fc39f",
   "metadata": {},
   "outputs": [
    {
     "name": "stdout",
     "output_type": "stream",
     "text": [
      "upload: ./bx_data.csv to s3://w210-flood-risk/modeling_data/bx_data.csv\n"
     ]
    }
   ],
   "source": [
    "!aws s3 cp bx_data.csv s3://w210-flood-risk/modeling_data/bx_data.csv --acl public-read"
   ]
  },
  {
   "cell_type": "markdown",
   "id": "a3d49544-31c1-46a4-a20e-0a4d97f7ddbe",
   "metadata": {},
   "source": [
    "##### Staten Island"
   ]
  },
  {
   "cell_type": "code",
   "execution_count": 70,
   "id": "4a0e0941-4727-4072-beac-fb2c2c53fafb",
   "metadata": {},
   "outputs": [
    {
     "name": "stdout",
     "output_type": "stream",
     "text": [
      "CB Land cover features complete: 7.4 total time elapsed\n",
      "CT Land cover features complete: 13.3 total time elapsed\n",
      "CB elevation features complete: 18.6 total time elapsed\n",
      "CT elevation features complete: 23.9 total time elapsed\n",
      "Catch basin features complete: 24.3 total time elapsed\n",
      "Subway features complete: 24.4 total time elapsed\n",
      "Retaining wall features complete: 24.4 total time elapsed\n",
      "Hydrography features complete: 24.5 total time elapsed\n"
     ]
    }
   ],
   "source": [
    "si = gen_boro_dataset(cb_df, ct_df, 'Staten Island', 'si')"
   ]
  },
  {
   "cell_type": "code",
   "execution_count": 71,
   "id": "ca3dda7d-bb35-490a-8b2a-670a0bced363",
   "metadata": {},
   "outputs": [
    {
     "name": "stdout",
     "output_type": "stream",
     "text": [
      "upload: ./si_data.csv to s3://w210-flood-risk/modeling_data/si_data.csv\n"
     ]
    }
   ],
   "source": [
    "!aws s3 cp si_data.csv s3://w210-flood-risk/modeling_data/si_data.csv --acl public-read"
   ]
  },
  {
   "cell_type": "markdown",
   "id": "17dd09f7-7138-4365-8f7e-1a2806a64e5d",
   "metadata": {},
   "source": [
    "#### Combine boroughs"
   ]
  },
  {
   "cell_type": "code",
   "execution_count": 105,
   "id": "dc0732cb-4aea-408a-b1e7-d022e851cb46",
   "metadata": {},
   "outputs": [],
   "source": [
    "ny = pd.concat([mht,bk,qns,bx,si],ignore_index = True)\n",
    "ny['elev_mean_diff'] = ny['elev_mean'] - ny['elev_mean_ct']\n",
    "ny = ny.fillna(0)"
   ]
  },
  {
   "cell_type": "code",
   "execution_count": 106,
   "id": "86227ed1-f469-4897-a5b2-450c412139fd",
   "metadata": {},
   "outputs": [],
   "source": [
    "ny.to_csv('full_ny.csv')"
   ]
  },
  {
   "cell_type": "code",
   "execution_count": 107,
   "id": "cb80e00e-a978-4606-afe0-248b7ca7c067",
   "metadata": {},
   "outputs": [
    {
     "name": "stdout",
     "output_type": "stream",
     "text": [
      "upload: ./full_ny.csv to s3://w210-flood-risk/modeling_data/full_ny.csv\n"
     ]
    }
   ],
   "source": [
    "!aws s3 cp full_ny.csv s3://w210-flood-risk/modeling_data/full_ny.csv --acl public-read"
   ]
  },
  {
   "cell_type": "markdown",
   "id": "65f434de-0f68-43ab-931e-e9d31a1f2fbb",
   "metadata": {},
   "source": [
    "### Standardization"
   ]
  },
  {
   "cell_type": "code",
   "execution_count": 108,
   "id": "337ff9e4-d37d-4eac-801f-2641d6a5c936",
   "metadata": {},
   "outputs": [
    {
     "name": "stdout",
     "output_type": "stream",
     "text": [
      "36\n"
     ]
    },
    {
     "data": {
      "text/plain": [
       "['shape_leng',\n",
       " 'shape_area',\n",
       " 'land_cvr_1',\n",
       " 'land_cvr_2',\n",
       " 'land_cvr_3',\n",
       " 'land_cvr_4',\n",
       " 'land_cvr_5',\n",
       " 'land_cvr_6',\n",
       " 'land_cvr_7',\n",
       " 'land_cvr_8',\n",
       " 'land_cvr_1_ct',\n",
       " 'land_cvr_2_ct',\n",
       " 'land_cvr_3_ct',\n",
       " 'land_cvr_4_ct',\n",
       " 'land_cvr_5_ct',\n",
       " 'land_cvr_6_ct',\n",
       " 'land_cvr_7_ct',\n",
       " 'land_cvr_8_ct',\n",
       " 'elev_mean',\n",
       " 'elev_min',\n",
       " 'elev_max',\n",
       " 'elev_q1',\n",
       " 'elev_q3',\n",
       " 'elev_var',\n",
       " 'elev_mean_ct',\n",
       " 'elev_min_ct',\n",
       " 'elev_max_ct',\n",
       " 'elev_q1_ct',\n",
       " 'elev_q3_ct',\n",
       " 'elev_var_ct',\n",
       " 'catch_basin_count',\n",
       " 'catch_basin_density',\n",
       " 'sub_entr_count',\n",
       " 'rw_length',\n",
       " 'rw_avg_elev',\n",
       " 'elev_mean_diff']"
      ]
     },
     "execution_count": 108,
     "metadata": {},
     "output_type": "execute_result"
    }
   ],
   "source": [
    "scale_cols = [col for col in ny.columns if ny[col].dtype not in ['object','Polygon','geometry'] and '_ind' not in col]\n",
    "print(len(scale_cols))\n",
    "scale_cols"
   ]
  },
  {
   "cell_type": "code",
   "execution_count": 109,
   "id": "080557a3-3161-42f1-a587-dbc4f27e295c",
   "metadata": {},
   "outputs": [
    {
     "data": {
      "text/plain": [
       "(37589, 36)"
      ]
     },
     "execution_count": 109,
     "metadata": {},
     "output_type": "execute_result"
    }
   ],
   "source": [
    "scaler = StandardScaler()\n",
    "ny_scale = scaler.fit_transform(ny[scale_cols])\n",
    "ny_scale.shape"
   ]
  },
  {
   "cell_type": "code",
   "execution_count": 110,
   "id": "27b463fe-9e87-4395-82bc-7f6da5703e4a",
   "metadata": {},
   "outputs": [],
   "source": [
    "ny[scale_cols] = ny_scale"
   ]
  },
  {
   "cell_type": "code",
   "execution_count": 111,
   "id": "85313bd1-b456-46ef-868c-a3a9bec2fff5",
   "metadata": {},
   "outputs": [
    {
     "data": {
      "text/html": [
       "<div>\n",
       "<style scoped>\n",
       "    .dataframe tbody tr th:only-of-type {\n",
       "        vertical-align: middle;\n",
       "    }\n",
       "\n",
       "    .dataframe tbody tr th {\n",
       "        vertical-align: top;\n",
       "    }\n",
       "\n",
       "    .dataframe thead th {\n",
       "        text-align: right;\n",
       "    }\n",
       "</style>\n",
       "<table border=\"1\" class=\"dataframe\">\n",
       "  <thead>\n",
       "    <tr style=\"text-align: right;\">\n",
       "      <th></th>\n",
       "      <th>cb2020</th>\n",
       "      <th>borocode</th>\n",
       "      <th>boroname</th>\n",
       "      <th>ct2020</th>\n",
       "      <th>bctcb2020</th>\n",
       "      <th>geoid</th>\n",
       "      <th>shape_leng</th>\n",
       "      <th>shape_area</th>\n",
       "      <th>geometry</th>\n",
       "      <th>land_cvr_1</th>\n",
       "      <th>...</th>\n",
       "      <th>rw_length</th>\n",
       "      <th>rw_avg_elev</th>\n",
       "      <th>lake_res_ind</th>\n",
       "      <th>pond_ind</th>\n",
       "      <th>river_ind</th>\n",
       "      <th>stream_ind</th>\n",
       "      <th>wl_marsh_ind</th>\n",
       "      <th>beach_shore_ind</th>\n",
       "      <th>bay_ocean_ind</th>\n",
       "      <th>elev_mean_diff</th>\n",
       "    </tr>\n",
       "  </thead>\n",
       "  <tbody>\n",
       "    <tr>\n",
       "      <th>0</th>\n",
       "      <td>1000</td>\n",
       "      <td>1</td>\n",
       "      <td>Manhattan</td>\n",
       "      <td>000100</td>\n",
       "      <td>10001001000</td>\n",
       "      <td>360610001001000</td>\n",
       "      <td>2.563287</td>\n",
       "      <td>1.028343</td>\n",
       "      <td>POLYGON ((973172.666 194632.348, 973310.630 19...</td>\n",
       "      <td>0.572610</td>\n",
       "      <td>...</td>\n",
       "      <td>-0.109035</td>\n",
       "      <td>-0.197793</td>\n",
       "      <td>0</td>\n",
       "      <td>0</td>\n",
       "      <td>1</td>\n",
       "      <td>0</td>\n",
       "      <td>0</td>\n",
       "      <td>0</td>\n",
       "      <td>1</td>\n",
       "      <td>-0.103761</td>\n",
       "    </tr>\n",
       "    <tr>\n",
       "      <th>1</th>\n",
       "      <td>1001</td>\n",
       "      <td>1</td>\n",
       "      <td>Manhattan</td>\n",
       "      <td>000100</td>\n",
       "      <td>10001001001</td>\n",
       "      <td>360610001001001</td>\n",
       "      <td>1.328588</td>\n",
       "      <td>0.436533</td>\n",
       "      <td>POLYGON ((972081.788 190733.467, 972184.766 19...</td>\n",
       "      <td>0.232433</td>\n",
       "      <td>...</td>\n",
       "      <td>-0.109035</td>\n",
       "      <td>-0.197793</td>\n",
       "      <td>0</td>\n",
       "      <td>0</td>\n",
       "      <td>0</td>\n",
       "      <td>0</td>\n",
       "      <td>0</td>\n",
       "      <td>1</td>\n",
       "      <td>1</td>\n",
       "      <td>0.168386</td>\n",
       "    </tr>\n",
       "    <tr>\n",
       "      <th>2</th>\n",
       "      <td>1000</td>\n",
       "      <td>1</td>\n",
       "      <td>Manhattan</td>\n",
       "      <td>000201</td>\n",
       "      <td>10002011000</td>\n",
       "      <td>360610002011000</td>\n",
       "      <td>-0.234124</td>\n",
       "      <td>-0.099464</td>\n",
       "      <td>POLYGON ((988376.731 199328.618, 987837.811 19...</td>\n",
       "      <td>-0.545577</td>\n",
       "      <td>...</td>\n",
       "      <td>-0.109035</td>\n",
       "      <td>-0.197793</td>\n",
       "      <td>0</td>\n",
       "      <td>0</td>\n",
       "      <td>0</td>\n",
       "      <td>0</td>\n",
       "      <td>0</td>\n",
       "      <td>0</td>\n",
       "      <td>0</td>\n",
       "      <td>0.699072</td>\n",
       "    </tr>\n",
       "    <tr>\n",
       "      <th>3</th>\n",
       "      <td>1001</td>\n",
       "      <td>1</td>\n",
       "      <td>Manhattan</td>\n",
       "      <td>000201</td>\n",
       "      <td>10002011001</td>\n",
       "      <td>360610002011001</td>\n",
       "      <td>-0.220366</td>\n",
       "      <td>-0.088884</td>\n",
       "      <td>POLYGON ((988392.400 199070.298, 988285.301 19...</td>\n",
       "      <td>0.030490</td>\n",
       "      <td>...</td>\n",
       "      <td>-0.109035</td>\n",
       "      <td>-0.197793</td>\n",
       "      <td>0</td>\n",
       "      <td>0</td>\n",
       "      <td>0</td>\n",
       "      <td>0</td>\n",
       "      <td>0</td>\n",
       "      <td>0</td>\n",
       "      <td>0</td>\n",
       "      <td>0.603821</td>\n",
       "    </tr>\n",
       "    <tr>\n",
       "      <th>4</th>\n",
       "      <td>2000</td>\n",
       "      <td>1</td>\n",
       "      <td>Manhattan</td>\n",
       "      <td>000201</td>\n",
       "      <td>10002012000</td>\n",
       "      <td>360610002012000</td>\n",
       "      <td>0.034592</td>\n",
       "      <td>0.041155</td>\n",
       "      <td>POLYGON ((988422.186 198807.188, 988449.289 19...</td>\n",
       "      <td>3.077870</td>\n",
       "      <td>...</td>\n",
       "      <td>-0.109035</td>\n",
       "      <td>-0.197793</td>\n",
       "      <td>0</td>\n",
       "      <td>0</td>\n",
       "      <td>0</td>\n",
       "      <td>0</td>\n",
       "      <td>0</td>\n",
       "      <td>0</td>\n",
       "      <td>0</td>\n",
       "      <td>0.318067</td>\n",
       "    </tr>\n",
       "    <tr>\n",
       "      <th>...</th>\n",
       "      <td>...</td>\n",
       "      <td>...</td>\n",
       "      <td>...</td>\n",
       "      <td>...</td>\n",
       "      <td>...</td>\n",
       "      <td>...</td>\n",
       "      <td>...</td>\n",
       "      <td>...</td>\n",
       "      <td>...</td>\n",
       "      <td>...</td>\n",
       "      <td>...</td>\n",
       "      <td>...</td>\n",
       "      <td>...</td>\n",
       "      <td>...</td>\n",
       "      <td>...</td>\n",
       "      <td>...</td>\n",
       "      <td>...</td>\n",
       "      <td>...</td>\n",
       "      <td>...</td>\n",
       "      <td>...</td>\n",
       "      <td>...</td>\n",
       "    </tr>\n",
       "    <tr>\n",
       "      <th>37584</th>\n",
       "      <td>1025</td>\n",
       "      <td>5</td>\n",
       "      <td>Staten Island</td>\n",
       "      <td>032300</td>\n",
       "      <td>50323001025</td>\n",
       "      <td>360850323001025</td>\n",
       "      <td>2.277571</td>\n",
       "      <td>0.962647</td>\n",
       "      <td>POLYGON ((937477.858 165774.254, 937409.633 16...</td>\n",
       "      <td>1.239850</td>\n",
       "      <td>...</td>\n",
       "      <td>-0.109035</td>\n",
       "      <td>-0.197793</td>\n",
       "      <td>0</td>\n",
       "      <td>0</td>\n",
       "      <td>0</td>\n",
       "      <td>1</td>\n",
       "      <td>1</td>\n",
       "      <td>0</td>\n",
       "      <td>0</td>\n",
       "      <td>0.025509</td>\n",
       "    </tr>\n",
       "    <tr>\n",
       "      <th>37585</th>\n",
       "      <td>1014</td>\n",
       "      <td>5</td>\n",
       "      <td>Staten Island</td>\n",
       "      <td>032300</td>\n",
       "      <td>50323001014</td>\n",
       "      <td>360850323001014</td>\n",
       "      <td>0.241679</td>\n",
       "      <td>0.090793</td>\n",
       "      <td>POLYGON ((938125.104 170978.846, 938101.030 17...</td>\n",
       "      <td>-0.535294</td>\n",
       "      <td>...</td>\n",
       "      <td>-0.109035</td>\n",
       "      <td>-0.197793</td>\n",
       "      <td>0</td>\n",
       "      <td>0</td>\n",
       "      <td>0</td>\n",
       "      <td>0</td>\n",
       "      <td>0</td>\n",
       "      <td>0</td>\n",
       "      <td>0</td>\n",
       "      <td>1.495101</td>\n",
       "    </tr>\n",
       "    <tr>\n",
       "      <th>37586</th>\n",
       "      <td>1015</td>\n",
       "      <td>5</td>\n",
       "      <td>Staten Island</td>\n",
       "      <td>032300</td>\n",
       "      <td>50323001015</td>\n",
       "      <td>360850323001015</td>\n",
       "      <td>5.924487</td>\n",
       "      <td>7.798783</td>\n",
       "      <td>POLYGON ((938097.974 170133.145, 938095.423 17...</td>\n",
       "      <td>0.774925</td>\n",
       "      <td>...</td>\n",
       "      <td>0.591361</td>\n",
       "      <td>0.827865</td>\n",
       "      <td>0</td>\n",
       "      <td>1</td>\n",
       "      <td>0</td>\n",
       "      <td>1</td>\n",
       "      <td>1</td>\n",
       "      <td>0</td>\n",
       "      <td>0</td>\n",
       "      <td>0.127564</td>\n",
       "    </tr>\n",
       "    <tr>\n",
       "      <th>37587</th>\n",
       "      <td>0005</td>\n",
       "      <td>5</td>\n",
       "      <td>Staten Island</td>\n",
       "      <td>990100</td>\n",
       "      <td>59901000005</td>\n",
       "      <td>360859901000005</td>\n",
       "      <td>-0.141777</td>\n",
       "      <td>-0.100487</td>\n",
       "      <td>POLYGON ((970217.022 145643.332, 970227.216 14...</td>\n",
       "      <td>-1.122841</td>\n",
       "      <td>...</td>\n",
       "      <td>-0.109035</td>\n",
       "      <td>-0.197793</td>\n",
       "      <td>0</td>\n",
       "      <td>0</td>\n",
       "      <td>0</td>\n",
       "      <td>0</td>\n",
       "      <td>0</td>\n",
       "      <td>0</td>\n",
       "      <td>1</td>\n",
       "      <td>-0.008510</td>\n",
       "    </tr>\n",
       "    <tr>\n",
       "      <th>37588</th>\n",
       "      <td>0006</td>\n",
       "      <td>5</td>\n",
       "      <td>Staten Island</td>\n",
       "      <td>990100</td>\n",
       "      <td>59901000006</td>\n",
       "      <td>360859901000006</td>\n",
       "      <td>0.560763</td>\n",
       "      <td>0.297243</td>\n",
       "      <td>POLYGON ((969488.166 149753.594, 969232.445 14...</td>\n",
       "      <td>0.928400</td>\n",
       "      <td>...</td>\n",
       "      <td>-0.109035</td>\n",
       "      <td>-0.197793</td>\n",
       "      <td>0</td>\n",
       "      <td>0</td>\n",
       "      <td>0</td>\n",
       "      <td>0</td>\n",
       "      <td>0</td>\n",
       "      <td>0</td>\n",
       "      <td>1</td>\n",
       "      <td>-0.008510</td>\n",
       "    </tr>\n",
       "  </tbody>\n",
       "</table>\n",
       "<p>37589 rows × 51 columns</p>\n",
       "</div>"
      ],
      "text/plain": [
       "      cb2020 borocode       boroname  ct2020    bctcb2020            geoid  \\\n",
       "0       1000        1      Manhattan  000100  10001001000  360610001001000   \n",
       "1       1001        1      Manhattan  000100  10001001001  360610001001001   \n",
       "2       1000        1      Manhattan  000201  10002011000  360610002011000   \n",
       "3       1001        1      Manhattan  000201  10002011001  360610002011001   \n",
       "4       2000        1      Manhattan  000201  10002012000  360610002012000   \n",
       "...      ...      ...            ...     ...          ...              ...   \n",
       "37584   1025        5  Staten Island  032300  50323001025  360850323001025   \n",
       "37585   1014        5  Staten Island  032300  50323001014  360850323001014   \n",
       "37586   1015        5  Staten Island  032300  50323001015  360850323001015   \n",
       "37587   0005        5  Staten Island  990100  59901000005  360859901000005   \n",
       "37588   0006        5  Staten Island  990100  59901000006  360859901000006   \n",
       "\n",
       "       shape_leng  shape_area  \\\n",
       "0        2.563287    1.028343   \n",
       "1        1.328588    0.436533   \n",
       "2       -0.234124   -0.099464   \n",
       "3       -0.220366   -0.088884   \n",
       "4        0.034592    0.041155   \n",
       "...           ...         ...   \n",
       "37584    2.277571    0.962647   \n",
       "37585    0.241679    0.090793   \n",
       "37586    5.924487    7.798783   \n",
       "37587   -0.141777   -0.100487   \n",
       "37588    0.560763    0.297243   \n",
       "\n",
       "                                                geometry  land_cvr_1  ...  \\\n",
       "0      POLYGON ((973172.666 194632.348, 973310.630 19...    0.572610  ...   \n",
       "1      POLYGON ((972081.788 190733.467, 972184.766 19...    0.232433  ...   \n",
       "2      POLYGON ((988376.731 199328.618, 987837.811 19...   -0.545577  ...   \n",
       "3      POLYGON ((988392.400 199070.298, 988285.301 19...    0.030490  ...   \n",
       "4      POLYGON ((988422.186 198807.188, 988449.289 19...    3.077870  ...   \n",
       "...                                                  ...         ...  ...   \n",
       "37584  POLYGON ((937477.858 165774.254, 937409.633 16...    1.239850  ...   \n",
       "37585  POLYGON ((938125.104 170978.846, 938101.030 17...   -0.535294  ...   \n",
       "37586  POLYGON ((938097.974 170133.145, 938095.423 17...    0.774925  ...   \n",
       "37587  POLYGON ((970217.022 145643.332, 970227.216 14...   -1.122841  ...   \n",
       "37588  POLYGON ((969488.166 149753.594, 969232.445 14...    0.928400  ...   \n",
       "\n",
       "       rw_length  rw_avg_elev  lake_res_ind  pond_ind  river_ind  stream_ind  \\\n",
       "0      -0.109035    -0.197793             0         0          1           0   \n",
       "1      -0.109035    -0.197793             0         0          0           0   \n",
       "2      -0.109035    -0.197793             0         0          0           0   \n",
       "3      -0.109035    -0.197793             0         0          0           0   \n",
       "4      -0.109035    -0.197793             0         0          0           0   \n",
       "...          ...          ...           ...       ...        ...         ...   \n",
       "37584  -0.109035    -0.197793             0         0          0           1   \n",
       "37585  -0.109035    -0.197793             0         0          0           0   \n",
       "37586   0.591361     0.827865             0         1          0           1   \n",
       "37587  -0.109035    -0.197793             0         0          0           0   \n",
       "37588  -0.109035    -0.197793             0         0          0           0   \n",
       "\n",
       "       wl_marsh_ind beach_shore_ind  bay_ocean_ind  elev_mean_diff  \n",
       "0                 0               0              1       -0.103761  \n",
       "1                 0               1              1        0.168386  \n",
       "2                 0               0              0        0.699072  \n",
       "3                 0               0              0        0.603821  \n",
       "4                 0               0              0        0.318067  \n",
       "...             ...             ...            ...             ...  \n",
       "37584             1               0              0        0.025509  \n",
       "37585             0               0              0        1.495101  \n",
       "37586             1               0              0        0.127564  \n",
       "37587             0               0              1       -0.008510  \n",
       "37588             0               0              1       -0.008510  \n",
       "\n",
       "[37589 rows x 51 columns]"
      ]
     },
     "execution_count": 111,
     "metadata": {},
     "output_type": "execute_result"
    }
   ],
   "source": [
    "ny"
   ]
  },
  {
   "cell_type": "code",
   "execution_count": 112,
   "id": "fabf8770-ccd5-46e3-aebc-03a14d4ecb67",
   "metadata": {},
   "outputs": [],
   "source": [
    "ny.to_csv('ny_full_scaled.csv')"
   ]
  },
  {
   "cell_type": "code",
   "execution_count": 113,
   "id": "4d325994-903c-4001-b7e7-50e922e414c2",
   "metadata": {},
   "outputs": [
    {
     "name": "stdout",
     "output_type": "stream",
     "text": [
      "upload: ./ny_full_scaled.csv to s3://w210-flood-risk/modeling_data/ny_full_scaled.csv\n"
     ]
    }
   ],
   "source": [
    "!aws s3 cp ny_full_scaled.csv s3://w210-flood-risk/modeling_data/ny_full_scaled.csv --acl public-read"
   ]
  },
  {
   "cell_type": "code",
   "execution_count": null,
   "id": "46280715-36e8-4f53-911d-2870f08d45ba",
   "metadata": {},
   "outputs": [],
   "source": []
  }
 ],
 "metadata": {
  "kernelspec": {
   "display_name": "Python 3 (ipykernel)",
   "language": "python",
   "name": "python3"
  },
  "language_info": {
   "codemirror_mode": {
    "name": "ipython",
    "version": 3
   },
   "file_extension": ".py",
   "mimetype": "text/x-python",
   "name": "python",
   "nbconvert_exporter": "python",
   "pygments_lexer": "ipython3",
   "version": "3.8.10"
  }
 },
 "nbformat": 4,
 "nbformat_minor": 5
}
