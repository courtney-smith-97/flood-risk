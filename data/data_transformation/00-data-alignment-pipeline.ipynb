{
 "cells": [
  {
   "cell_type": "markdown",
   "id": "e01a9120-b89b-48e7-b962-35407312243c",
   "metadata": {},
   "source": [
    "# Data Alignment\n",
    "---"
   ]
  },
  {
   "cell_type": "markdown",
   "id": "7e1f978b-56ca-4aed-af32-727bb7d7059a",
   "metadata": {
    "tags": []
   },
   "source": [
    "## Set up Notebook\n",
    "---"
   ]
  },
  {
   "cell_type": "code",
   "execution_count": 1,
   "id": "ab8ab545-6763-4e7f-ab66-185bc220d2f7",
   "metadata": {},
   "outputs": [],
   "source": [
    "import warnings\n",
    "warnings.filterwarnings('ignore')"
   ]
  },
  {
   "cell_type": "code",
   "execution_count": 2,
   "id": "045bd917-8e7a-43f1-94c7-e66e4bbb5470",
   "metadata": {},
   "outputs": [],
   "source": [
    "import fiona\n",
    "import geopandas as gpd\n",
    "import matplotlib.pyplot as plt\n",
    "import rasterio\n",
    "from rasterio import features\n",
    "from rasterio.enums import MergeAlg\n",
    "from rasterio.plot import show\n",
    "import numpy as np\n",
    "from shapely.geometry import Polygon, MultiPolygon, shape, Point\n",
    "\n",
    "from osgeo import gdal\n",
    "from osgeo import ogr\n",
    "\n",
    "# from dask_rasterio import read_raster, write_raster\n",
    "\n",
    "import os\n",
    "from sklearn.preprocessing import OrdinalEncoder"
   ]
  },
  {
   "cell_type": "markdown",
   "id": "ce921c3d-4800-4e05-8e9c-97214f86859b",
   "metadata": {
    "tags": []
   },
   "source": [
    "## Set Primary Raster\n",
    "---\n",
    "\n",
    "This is the raster we will be aligning all of our other data sets to.\n",
    "\n",
    "Raster: NYC_DEM_1ft_Int (elevation)"
   ]
  },
  {
   "cell_type": "code",
   "execution_count": 3,
   "id": "af6cfae6-f55d-4dcb-855c-0655614e8c04",
   "metadata": {},
   "outputs": [
    {
     "name": "stdout",
     "output_type": "stream",
     "text": [
      "bands:  1\n",
      "width:  158100\n",
      "height:  156100\n",
      "Bounds:  BoundingBox(left=910719.3, bottom=119060.67499999999, right=1068819.3, top=275160.675)\n",
      "dtype:  ('uint16',)\n",
      "EPSG:2263\n"
     ]
    }
   ],
   "source": [
    "rst = '/workspace/data-sets/NYC_DEM_1ft_Int/DEM_LiDAR_1ft_2010_Improved_NYC_int.tif'\n",
    "raster = rasterio.open(rst)\n",
    "print('bands: ', raster.count)\n",
    "print('width: ', raster.width)\n",
    "print('height: ', raster.height)\n",
    "print('Bounds: ', raster.bounds)\n",
    "print('dtype: ', raster.dtypes)\n",
    "\n",
    "base_wdith = raster.width\n",
    "base_height = raster.height\n",
    "base_count = raster.count\n",
    "base_bounds = raster.bounds\n",
    "base_transform = raster.transform\n",
    "base_dtype = raster.dtypes\n",
    "\n",
    "base_crs = raster.crs\n",
    "print(base_crs)\n",
    "\n",
    "ras_gd = gdal.Open(rst)\n",
    "rst_proj = ras_gd.GetProjection()\n",
    "rst_gtm = ras_gd.GetGeoTransform()"
   ]
  },
  {
   "cell_type": "code",
   "execution_count": 4,
   "id": "cdd3e6b9-7d7e-41ab-bd3f-e49db1116f86",
   "metadata": {},
   "outputs": [],
   "source": [
    "# Set Data Ouput\n",
    "rev = '10.9.2022'\n",
    "op = '/workspace/data-sets/transformations/'\n",
    "out_path = os.path.join(op, rev)\n",
    "\n",
    "# Make output directory\n",
    "# os.mkdir(out_path)"
   ]
  },
  {
   "cell_type": "code",
   "execution_count": 5,
   "id": "063302bf-c9cc-4ec7-a022-a144441e878a",
   "metadata": {},
   "outputs": [
    {
     "data": {
      "text/plain": [
       "'PROJCS[\"NAD83 / New York Long Island (ftUS)\",GEOGCS[\"NAD83\",DATUM[\"North_American_Datum_1983\",SPHEROID[\"GRS 1980\",6378137,298.257222100887,AUTHORITY[\"EPSG\",\"7019\"]],AUTHORITY[\"EPSG\",\"6269\"]],PRIMEM[\"Greenwich\",0],UNIT[\"degree\",0.0174532925199433,AUTHORITY[\"EPSG\",\"9122\"]],AUTHORITY[\"EPSG\",\"4269\"]],PROJECTION[\"Lambert_Conformal_Conic_2SP\"],PARAMETER[\"latitude_of_origin\",40.1666666666667],PARAMETER[\"central_meridian\",-74],PARAMETER[\"standard_parallel_1\",41.0333333333333],PARAMETER[\"standard_parallel_2\",40.6666666666667],PARAMETER[\"false_easting\",984250],PARAMETER[\"false_northing\",0],UNIT[\"US survey foot\",0.304800609601219,AUTHORITY[\"EPSG\",\"9003\"]],AXIS[\"Easting\",EAST],AXIS[\"Northing\",NORTH],AUTHORITY[\"EPSG\",\"2263\"]]'"
      ]
     },
     "execution_count": 5,
     "metadata": {},
     "output_type": "execute_result"
    }
   ],
   "source": [
    "rst_proj "
   ]
  },
  {
   "cell_type": "markdown",
   "id": "c763d79c-fac2-4ce2-a194-c5d3712d88c0",
   "metadata": {
    "tags": []
   },
   "source": [
    "## Write Raster Method\n",
    "---"
   ]
  },
  {
   "cell_type": "code",
   "execution_count": 6,
   "id": "8ef92573-46a9-424d-9c76-1dfb6312cc4a",
   "metadata": {},
   "outputs": [],
   "source": [
    "def raster_writer(out_file, rasterized, unit, ras_gd):\n",
    "    \"\"\"\n",
    "    This function takes a rasterized 2d array and writes a raster file out\n",
    "    \n",
    "    :param [out_path]: This is the full output file name for the raster\n",
    "    :type [out_path]: string\n",
    "    :param [rasterized]: 2D Array to write to raster image\n",
    "    :type [rasterized]: np array\n",
    "    :param [unit]: gdal unit for data encoding (i.e. GDT_UInt16)\n",
    "    :type [unit]: gdal data unit\n",
    "    :param [rst_proj]: base raster projection\n",
    "    :type [rst_proj]: gdal.projection\n",
    "    :param[rst_gtm]: base raster geotransform\n",
    "    :type [rst_gtm]: list\n",
    "    \n",
    "    \"\"\"\n",
    "    # out_file = filepath\n",
    "    driver = gdal.GetDriverByName(\"GTiff\")\n",
    "    # ds = driver.Create(out_file, rasterized.shape[1], rasterized.shape[0], 1, gdal.GDT_UInt16)\n",
    "    out_ds = driver.Create(out_file, rasterized.shape[1], rasterized.shape[0], 1, unit) #gdal.GDT_UInt16\n",
    "    out_ds.SetProjection(ras_gd.GetProjection())\n",
    "    out_ds.SetGeoTransform(ras_gd.GetGeoTransform())\n",
    "    band = out_ds.GetRasterBand(1)\n",
    "    band.WriteArray(rasterized)\n",
    "    band.FlushCache()\n",
    "    band.ComputeStatistics(False)"
   ]
  },
  {
   "cell_type": "code",
   "execution_count": 7,
   "id": "9aa8fed1-0cef-4981-8a32-ff3218b00351",
   "metadata": {},
   "outputs": [],
   "source": [
    "def validate_raster(path, base_raster=raster):\n",
    "    rasterized = rasterio.open(path)\n",
    "    \n",
    "    print('width: ', raster.width, rasterized.width)\n",
    "    print('height: ', raster.height, rasterized.height)\n",
    "    print('Bounds: ', raster.bounds, rasterized.bounds)\n",
    "    print('Crs: ', raster.crs, rasterized.crs)"
   ]
  },
  {
   "cell_type": "code",
   "execution_count": null,
   "id": "fbffb22d-35aa-45f5-9631-ea62b9c7983b",
   "metadata": {},
   "outputs": [],
   "source": [
    "## Alternate methods but may crash kernal\n",
    "\n",
    "## rasterio\n",
    "# # Write to Tif\n",
    "# out_file =os.path.join(out_path, 'DEPCatchbasins.tif')\n",
    "\n",
    "# with rasterio.open(\n",
    "#         out_file, \"w\",\n",
    "#         driver = \"GTiff\",\n",
    "#         transform = base_transform,\n",
    "#         dtype = rasterio.uint16,\n",
    "#         count = 1,\n",
    "#         width = base_wdith,\n",
    "#         height = base_height) as dst:\n",
    "#     dst.write(rasterized, indexes = 1)\n",
    "\n",
    "## dask-rasterio\n",
    "# out_file =os.path.join(out_path, 'DEPCatchbasins.tif')\n",
    "\n",
    "# write_raster(out_file, \n",
    "#              rasterized,\n",
    "#              transform = base_transform,\n",
    "#              dtype = rasterio.uint16,\n",
    "#              count = 1,\n",
    "#              width = base_wdith,\n",
    "#              height = base_height)\n",
    "             "
   ]
  },
  {
   "cell_type": "markdown",
   "id": "144501df-cba2-4605-aa00-68e5e9c23157",
   "metadata": {},
   "source": [
    "## Raster Transformation Methods\n",
    "---"
   ]
  },
  {
   "cell_type": "code",
   "execution_count": 8,
   "id": "05e9d5ba-b668-4b6e-826d-09920a8ab55c",
   "metadata": {},
   "outputs": [],
   "source": [
    "## Write Raster Burn Methods\n",
    "def simple_raster(v_df):\n",
    "    geom = [shapes for shapes in v_df.geometry]\n",
    "\n",
    "    rasterized = features.rasterize(geom,\n",
    "                                    out_shape = raster.shape,\n",
    "                                    fill = 0,\n",
    "                                    out = None,\n",
    "                                    transform = raster.transform,\n",
    "                                    all_touched = False,\n",
    "                                    default_value = 1,\n",
    "                                    dtype = None)\n",
    "    \n",
    "    return rasterized\n",
    "\n",
    "def attribute_raster(v_df, attribute, fill_value):\n",
    "    geom_value = ((geom,value) for geom, value in zip(v_df.geometry, v_df[attribute]))\n",
    "    \n",
    "    rasterized = features.rasterize(geom_value,\n",
    "                                    out_shape = raster.shape,\n",
    "                                    transform = raster.transform,\n",
    "                                    all_touched = True,\n",
    "                                    fill = fill_value,   # background value\n",
    "                                    merge_alg = MergeAlg.replace) # overwrite existing\n",
    "    return rasterized"
   ]
  },
  {
   "cell_type": "markdown",
   "id": "e447f65d-66a5-46a6-b9f0-a34d0b69ce4a",
   "metadata": {},
   "source": [
    "## Primary Data\n",
    "---"
   ]
  },
  {
   "cell_type": "markdown",
   "id": "6ff7f7ca-cab4-4ec4-bf1b-c63a3cf715f8",
   "metadata": {
    "jp-MarkdownHeadingCollapsed": true,
    "tags": []
   },
   "source": [
    "### Catch Basins"
   ]
  },
  {
   "cell_type": "code",
   "execution_count": 18,
   "id": "f2fb4d1a-8a0e-4f45-81e4-940e8401d3ac",
   "metadata": {},
   "outputs": [
    {
     "name": "stdout",
     "output_type": "stream",
     "text": [
      "Min:  0\n",
      "Max:  1\n",
      "width:  158100 158100\n",
      "height:  156100 156100\n",
      "Bounds:  BoundingBox(left=910719.3, bottom=119060.67499999999, right=1068819.3, top=275160.675) BoundingBox(left=910719.3, bottom=119060.67499999999, right=1068819.3, top=275160.675)\n",
      "Crs:  EPSG:2263 EPSG:2263\n"
     ]
    }
   ],
   "source": [
    "# Load Data\n",
    "shape = '/workspace/data-sets/DEPCatchbasins/DEPCATCHBASINS.shp'\n",
    "v_df = gpd.read_file(shape)\n",
    "# v_df.head()\n",
    "\n",
    "# Burn Raster\n",
    "rasterized = None\n",
    "rasterized = simple_raster(v_df)\n",
    "\n",
    "# initial Validate\n",
    "print('Min: ', rasterized.min())\n",
    "print('Max: ', rasterized.max())\n",
    "\n",
    "# Save Raster\n",
    "filepath = os.path.join(out_path, 'DEPCatchbasins.tif')\n",
    "raster_writer(filepath, rasterized, gdal.GDT_UInt16, ras_gd)\n",
    "\n",
    "# Validate\n",
    "validate_raster('/workspace/data-sets/transformations/10.9.2022/DEPCatchbasins.tif')"
   ]
  },
  {
   "cell_type": "markdown",
   "id": "34b63d0a-1c38-4d87-ad93-82f2261f7fff",
   "metadata": {
    "tags": []
   },
   "source": [
    "### Subway Enterances"
   ]
  },
  {
   "cell_type": "code",
   "execution_count": 20,
   "id": "15ac7147-6ab0-476c-b6b0-32fce3f0fc22",
   "metadata": {},
   "outputs": [
    {
     "name": "stdout",
     "output_type": "stream",
     "text": [
      "Min:  0\n",
      "Max:  1\n",
      "width:  158100 158100\n",
      "height:  156100 156100\n",
      "Bounds:  BoundingBox(left=910719.3, bottom=119060.67499999999, right=1068819.3, top=275160.675) BoundingBox(left=910719.3, bottom=119060.67499999999, right=1068819.3, top=275160.675)\n",
      "Crs:  EPSG:2263 EPSG:2263\n"
     ]
    }
   ],
   "source": [
    "# Load Data\n",
    "shape = '/workspace/data-sets/doitt_subway_entrances/DOITT_SUBWAY_ENTRANCE_04JAN2017.shp'\n",
    "v_df = gpd.read_file(shape)\n",
    "# v_df.head()\n",
    "\n",
    "# Burn Raster\n",
    "rasterized = None\n",
    "rasterized = simple_raster(v_df)\n",
    "\n",
    "# initial Validate\n",
    "print('Min: ', rasterized.min())\n",
    "print('Max: ', rasterized.max())\n",
    "\n",
    "# Save Raster\n",
    "filepath = os.path.join(out_path, 'DOITT_SUBWAY_ENTRANCE_04JAN2017.tif')\n",
    "raster_writer(filepath, rasterized, gdal.GDT_UInt16, ras_gd)\n",
    "\n",
    "# Validate\n",
    "validate_raster(filepath)"
   ]
  },
  {
   "cell_type": "markdown",
   "id": "6dd20aa2-825c-4694-8587-96ccf47c03f4",
   "metadata": {
    "jp-MarkdownHeadingCollapsed": true,
    "tags": []
   },
   "source": [
    "### Shoreline (office hours follow up)\n",
    "---\n",
    "\n",
    "Follow up - how to extract height from geopandas data frame. For now we will use type"
   ]
  },
  {
   "cell_type": "code",
   "execution_count": 55,
   "id": "a21e29be-ee6a-4e74-b4b9-58928f0b83e0",
   "metadata": {},
   "outputs": [
    {
     "name": "stdout",
     "output_type": "stream",
     "text": [
      "Min:  -5\n",
      "Max:  2\n",
      "width:  158100 158100\n",
      "height:  156100 156100\n",
      "Bounds:  BoundingBox(left=910719.3, bottom=119060.67499999999, right=1068819.3, top=275160.675) BoundingBox(left=910719.3, bottom=119060.67499999999, right=1068819.3, top=275160.675)\n",
      "Crs:  EPSG:2263 EPSG:2263\n"
     ]
    }
   ],
   "source": [
    "# Load Data\n",
    "shape = '/workspace/data-sets/nyc_shoreline/NYC_2017_LiDAR_Low_Tide_Shoreline.shp'\n",
    "v_df = gpd.read_file(shape)\n",
    "# v_df.head()\n",
    "\n",
    "# encode text to int\n",
    "ord_enc = OrdinalEncoder()\n",
    "v_df['labels'] = ord_enc.fit_transform(v_df[['Type']]).astype(int)\n",
    "\n",
    "# Burn Raster\n",
    "rasterized = None\n",
    "rasterized = attribute_raster(v_df, 'labels', -5)\n",
    "\n",
    "# initial Validate\n",
    "print('Min: ', rasterized.min())\n",
    "print('Max: ', rasterized.max())\n",
    "\n",
    "# Save Raster\n",
    "filepath = os.path.join(out_path, 'NYC_2017_LiDAR_Low_Tide_Shoreline.tif')\n",
    "raster_writer(filepath, rasterized, gdal.GDT_UInt16, ras_gd)\n",
    "\n",
    "# Validate\n",
    "validate_raster(filepath)"
   ]
  },
  {
   "cell_type": "code",
   "execution_count": 57,
   "id": "e4dc88a8-6a2a-41a1-b3cf-e5c7d3736c11",
   "metadata": {},
   "outputs": [],
   "source": [
    "# Export key\n",
    "v_df[['Type', 'labels']].drop_duplicates().to_csv(os.path.join(out_path, 'NYC_2017_LiDAR_Low_Tide_Shoreline.csv'))"
   ]
  },
  {
   "cell_type": "markdown",
   "id": "aaefbeab-5508-4115-a4cf-62a26a5bee13",
   "metadata": {
    "jp-MarkdownHeadingCollapsed": true,
    "tags": []
   },
   "source": [
    "### Retaining Walls (Office Hours Follow Up Z Value Extraction)\n",
    "---\n",
    "\n",
    "TODO Follow up on Z value extraction from Linestring. Convert to Feet and Feed in as attribute"
   ]
  },
  {
   "cell_type": "code",
   "execution_count": null,
   "id": "0973a613-0ed0-4665-bc2a-ed1dec859f35",
   "metadata": {},
   "outputs": [],
   "source": [
    "# Load Data\n",
    "shape = '/workspace/data-sets/RETAININGWALL/RETAININGWALL.shp'\n",
    "v_df = gpd.read_file(shape)\n",
    "# v_df.head()\n",
    "\n",
    "# Burn Raster\n",
    "rasterized = None\n",
    "rasterized = simple_raster(v_df)\n",
    "\n",
    "# initial Validate\n",
    "print('Min: ', rasterized.min())\n",
    "print('Max: ', rasterized.max())\n",
    "\n",
    "# Save Raster\n",
    "filepath = os.path.join(out_path, 'RETAININGWALL.tif')\n",
    "raster_writer(filepath, rasterized, gdal.GDT_UInt16, ras_gd)\n",
    "\n",
    "# Validate\n",
    "validate_raster(filepath)"
   ]
  },
  {
   "cell_type": "markdown",
   "id": "c71fc9bb-404b-4a04-b8fc-db30863f2f4e",
   "metadata": {
    "jp-MarkdownHeadingCollapsed": true,
    "tags": []
   },
   "source": [
    "### Hydrography\n",
    "---"
   ]
  },
  {
   "cell_type": "code",
   "execution_count": 72,
   "id": "7da43396-ce93-4288-97f9-a1f34bda5e15",
   "metadata": {},
   "outputs": [
    {
     "name": "stdout",
     "output_type": "stream",
     "text": [
      "Min:  0\n",
      "Max:  1\n",
      "width:  158100 158100\n",
      "height:  156100 156100\n",
      "Bounds:  BoundingBox(left=910719.3, bottom=119060.67499999999, right=1068819.3, top=275160.675) BoundingBox(left=910719.3, bottom=119060.67499999999, right=1068819.3, top=275160.675)\n",
      "Crs:  EPSG:2263 EPSG:2263\n"
     ]
    }
   ],
   "source": [
    "# Load Data\n",
    "shape = '/workspace/data-sets/HYDRO/HYDROGRAPHY.shp'\n",
    "v_df = gpd.read_file(shape)\n",
    "# v_df.head()\n",
    "\n",
    "# Burn Raster\n",
    "rasterized = None\n",
    "rasterized = simple_raster(v_df)\n",
    "\n",
    "# initial Validate\n",
    "print('Min: ', rasterized.min())\n",
    "print('Max: ', rasterized.max())\n",
    "\n",
    "# Save Raster\n",
    "filepath = os.path.join(out_path, 'HYDROGRAPHY.tif')\n",
    "raster_writer(filepath, rasterized, gdal.GDT_UInt16, ras_gd)\n",
    "\n",
    "# Validate\n",
    "validate_raster(filepath)"
   ]
  },
  {
   "cell_type": "markdown",
   "id": "65793abc-d3a9-4c00-b684-05ac0aa5667b",
   "metadata": {
    "jp-MarkdownHeadingCollapsed": true,
    "tags": []
   },
   "source": [
    "### Land Cover Reprojection\n",
    "---"
   ]
  },
  {
   "cell_type": "code",
   "execution_count": 64,
   "id": "dd82a89f-2ea2-4787-b761-8d3926ea74d5",
   "metadata": {},
   "outputs": [],
   "source": [
    "import rasterio\n",
    "from rasterio.warp import calculate_default_transform, reproject, Resampling"
   ]
  },
  {
   "cell_type": "code",
   "execution_count": 60,
   "id": "27882bcd-9b58-40c7-829c-dd12a8df0aed",
   "metadata": {},
   "outputs": [
    {
     "name": "stdout",
     "output_type": "stream",
     "text": [
      "Land Use CRS: EPSG:2263\n",
      "Elevation CRS: EPSG:2263\n"
     ]
    }
   ],
   "source": [
    "srcRst = rasterio.open('/workspace/data-sets/raster_data/NYC_2017_LiDAR_LandCover.img')\n",
    "print('Land Use CRS:', srcRst.crs)\n",
    "print('Elevation CRS:', raster.crs)"
   ]
  },
  {
   "cell_type": "code",
   "execution_count": 62,
   "id": "1da91ce8-382c-4e4d-a0a9-36adcc0ddf3b",
   "metadata": {},
   "outputs": [],
   "source": [
    "transform, width, height = calculate_default_transform(srcRst.crs, raster.crs,srcRst.width,srcRst.height, *srcRst.bounds)"
   ]
  },
  {
   "cell_type": "code",
   "execution_count": 63,
   "id": "7ae4714c-9feb-4645-88ee-93bf7d28a5a3",
   "metadata": {},
   "outputs": [
    {
     "name": "stdout",
     "output_type": "stream",
     "text": [
      "| 0.50, 0.00, 912286.93|\n",
      "| 0.00,-0.50, 273618.30|\n",
      "| 0.00, 0.00, 1.00|\n",
      "| 0.50, 0.00, 912286.93|\n",
      "| 0.00,-0.50, 273618.30|\n",
      "| 0.00, 0.00, 1.00|\n"
     ]
    }
   ],
   "source": [
    "print(srcRst.transform)\n",
    "print(transform)"
   ]
  },
  {
   "cell_type": "code",
   "execution_count": 66,
   "id": "89d306b6-08ca-43d7-9137-6a65628b9a59",
   "metadata": {},
   "outputs": [
    {
     "ename": "SystemError",
     "evalue": "<built-in function wrapper_GDALWarpDestName> returned a result with an error set",
     "output_type": "error",
     "traceback": [
      "\u001b[0;31m---------------------------------------------------------------------------\u001b[0m",
      "\u001b[0;31mKeyboardInterrupt\u001b[0m                         Traceback (most recent call last)",
      "File \u001b[0;32m/opt/conda/lib/python3.9/site-packages/osgeo/gdal.py:2234\u001b[0m, in \u001b[0;36mDataset.<lambda>\u001b[0;34m(self, name, value)\u001b[0m\n\u001b[1;32m   2233\u001b[0m     __swig_setmethods__\u001b[38;5;241m.\u001b[39mupdate(\u001b[38;5;28mgetattr\u001b[39m(_s, \u001b[38;5;124m'\u001b[39m\u001b[38;5;124m__swig_setmethods__\u001b[39m\u001b[38;5;124m'\u001b[39m, {}))\n\u001b[0;32m-> 2234\u001b[0m \u001b[38;5;21m__setattr__\u001b[39m \u001b[38;5;241m=\u001b[39m \u001b[38;5;28;01mlambda\u001b[39;00m \u001b[38;5;28mself\u001b[39m, name, value: _swig_setattr(\u001b[38;5;28mself\u001b[39m, Dataset, name, value)\n\u001b[1;32m   2235\u001b[0m __swig_getmethods__ \u001b[38;5;241m=\u001b[39m {}\n",
      "\u001b[0;31mKeyboardInterrupt\u001b[0m: ",
      "\nThe above exception was the direct cause of the following exception:\n",
      "\u001b[0;31mSystemError\u001b[0m                               Traceback (most recent call last)",
      "Cell \u001b[0;32mIn [66], line 3\u001b[0m\n\u001b[1;32m      1\u001b[0m \u001b[38;5;66;03m# sicne both are in the same crs and there is no transform we can just scale the landuse to 1X1\u001b[39;00m\n\u001b[1;32m      2\u001b[0m filepath \u001b[38;5;241m=\u001b[39m os\u001b[38;5;241m.\u001b[39mpath\u001b[38;5;241m.\u001b[39mjoin(out_path, \u001b[38;5;124m'\u001b[39m\u001b[38;5;124mNYC_2017_LiDAR_LandCover.tif\u001b[39m\u001b[38;5;124m'\u001b[39m)\n\u001b[0;32m----> 3\u001b[0m reduc \u001b[38;5;241m=\u001b[39m \u001b[43mgdal\u001b[49m\u001b[38;5;241;43m.\u001b[39;49m\u001b[43mWarp\u001b[49m\u001b[43m(\u001b[49m\u001b[43mfilepath\u001b[49m\u001b[43m,\u001b[49m\u001b[43m \u001b[49m\u001b[38;5;124;43m'\u001b[39;49m\u001b[38;5;124;43m/workspace/data-sets/raster_data/NYC_2017_LiDAR_LandCover.img\u001b[39;49m\u001b[38;5;124;43m'\u001b[39;49m\u001b[43m,\u001b[49m\u001b[43m \u001b[49m\u001b[43mxRes\u001b[49m\u001b[38;5;241;43m=\u001b[39;49m\u001b[38;5;241;43m1\u001b[39;49m\u001b[43m,\u001b[49m\u001b[43m \u001b[49m\u001b[43myRes\u001b[49m\u001b[38;5;241;43m=\u001b[39;49m\u001b[38;5;241;43m1\u001b[39;49m\u001b[43m)\u001b[49m\n",
      "File \u001b[0;32m/opt/conda/lib/python3.9/site-packages/osgeo/gdal.py:689\u001b[0m, in \u001b[0;36mWarp\u001b[0;34m(destNameOrDestDS, srcDSOrSrcDSTab, **kwargs)\u001b[0m\n\u001b[1;32m    686\u001b[0m     srcDSTab \u001b[38;5;241m=\u001b[39m [srcDSOrSrcDSTab]\n\u001b[1;32m    688\u001b[0m \u001b[38;5;28;01mif\u001b[39;00m \u001b[38;5;28misinstance\u001b[39m(destNameOrDestDS, \u001b[38;5;28mstr\u001b[39m):\n\u001b[0;32m--> 689\u001b[0m     \u001b[38;5;28;01mreturn\u001b[39;00m \u001b[43mwrapper_GDALWarpDestName\u001b[49m\u001b[43m(\u001b[49m\u001b[43mdestNameOrDestDS\u001b[49m\u001b[43m,\u001b[49m\u001b[43m \u001b[49m\u001b[43msrcDSTab\u001b[49m\u001b[43m,\u001b[49m\u001b[43m \u001b[49m\u001b[43mopts\u001b[49m\u001b[43m,\u001b[49m\u001b[43m \u001b[49m\u001b[43mcallback\u001b[49m\u001b[43m,\u001b[49m\u001b[43m \u001b[49m\u001b[43mcallback_data\u001b[49m\u001b[43m)\u001b[49m\n\u001b[1;32m    690\u001b[0m \u001b[38;5;28;01melse\u001b[39;00m:\n\u001b[1;32m    691\u001b[0m     \u001b[38;5;28;01mreturn\u001b[39;00m wrapper_GDALWarpDestDS(destNameOrDestDS, srcDSTab, opts, callback, callback_data)\n",
      "File \u001b[0;32m/opt/conda/lib/python3.9/site-packages/osgeo/gdal.py:4600\u001b[0m, in \u001b[0;36mwrapper_GDALWarpDestName\u001b[0;34m(*args)\u001b[0m\n\u001b[1;32m   4598\u001b[0m \u001b[38;5;28;01mdef\u001b[39;00m \u001b[38;5;21mwrapper_GDALWarpDestName\u001b[39m(\u001b[38;5;241m*\u001b[39margs):\n\u001b[1;32m   4599\u001b[0m     \u001b[38;5;124;03m\"\"\"wrapper_GDALWarpDestName(char const * dest, int object_list_count, GDALWarpAppOptions warpAppOptions, GDALProgressFunc callback=0, void * callback_data=None) -> Dataset\"\"\"\u001b[39;00m\n\u001b[0;32m-> 4600\u001b[0m     \u001b[38;5;28;01mreturn\u001b[39;00m \u001b[43m_gdal\u001b[49m\u001b[38;5;241;43m.\u001b[39;49m\u001b[43mwrapper_GDALWarpDestName\u001b[49m\u001b[43m(\u001b[49m\u001b[38;5;241;43m*\u001b[39;49m\u001b[43margs\u001b[49m\u001b[43m)\u001b[49m\n",
      "\u001b[0;31mSystemError\u001b[0m: <built-in function wrapper_GDALWarpDestName> returned a result with an error set"
     ]
    }
   ],
   "source": [
    "# sicne both are in the same crs and there is no transform we can just scale the landuse to 1X1\n",
    "filepath = os.path.join(out_path, 'NYC_2017_LiDAR_LandCover.tif')\n",
    "reduc = gdal.Warp(filepath, '/workspace/data-sets/raster_data/NYC_2017_LiDAR_LandCover.img', warpoptions=dict(xRes=1, yRes=1, resampleAlg=mode"
   ]
  },
  {
   "cell_type": "code",
   "execution_count": 68,
   "id": "d739be07-cdcd-4f26-8053-b8a7586abf2c",
   "metadata": {},
   "outputs": [],
   "source": [
    "reduc = None"
   ]
  },
  {
   "cell_type": "code",
   "execution_count": null,
   "id": "5b8b779c-7eb5-4429-928a-debfa3486321",
   "metadata": {},
   "outputs": [],
   "source": [
    "# Validation"
   ]
  },
  {
   "cell_type": "markdown",
   "id": "4997eedd-7517-41d3-9779-1e366133230d",
   "metadata": {},
   "source": [
    "## Planametrics Data\n",
    "---"
   ]
  },
  {
   "cell_type": "code",
   "execution_count": 9,
   "id": "bd499019-277a-4393-a31d-48d6591083fb",
   "metadata": {},
   "outputs": [],
   "source": [
    "data = '/workspace/data-sets/doitt_planimetrics.gdb'\n",
    "layer_list = fiona.listlayers(data)\n",
    "layer_list.remove('RETAININGWALL')\n",
    "layer_list.remove('HYDROGRAPHY')\n",
    "layer_list.remove('SHORELINE')\n",
    "layer_list.remove('ELEVATION')"
   ]
  },
  {
   "cell_type": "code",
   "execution_count": 82,
   "id": "a32858dc-d627-4f44-a49f-3ccaf6c6ead0",
   "metadata": {},
   "outputs": [],
   "source": [
    "# print(layer_list)"
   ]
  },
  {
   "cell_type": "markdown",
   "id": "c1fcff3a-d115-44f6-9d07-85ce95bd2823",
   "metadata": {
    "jp-MarkdownHeadingCollapsed": true,
    "tags": []
   },
   "source": [
    "### PAVEMENT_EDGE (TODO Validate Z Value Extraction/Converstion)\n",
    "---\n",
    "\n",
    "Z point has been extracted from multiline-validate conversion)\n",
    "\n",
    "Note - No data value is -30 due to values up to -14 as part of the data set)"
   ]
  },
  {
   "cell_type": "code",
   "execution_count": 12,
   "id": "ceb3487d-5d6a-458d-8408-41d14346d6f1",
   "metadata": {},
   "outputs": [
    {
     "name": "stdout",
     "output_type": "stream",
     "text": [
      "Min:  -30\n",
      "Max:  396\n",
      "width:  158100 158100\n",
      "height:  156100 156100\n",
      "Bounds:  BoundingBox(left=910719.3, bottom=119060.67499999999, right=1068819.3, top=275160.675) BoundingBox(left=910719.3, bottom=119060.67499999999, right=1068819.3, top=275160.675)\n",
      "Crs:  EPSG:2263 EPSG:2263\n"
     ]
    }
   ],
   "source": [
    "# Load Data\n",
    "v_df = gpd.read_file(data, layer='PAVEMENT_EDGE')\n",
    "# v_df.head()\n",
    "\n",
    "#----------------------------Extract Z Values\n",
    "\n",
    "z_value = []\n",
    "for feature in v_df.geometry:\n",
    "    # Extract the 3 dimensional features\n",
    "    coords = [list(line.coords) for line in feature][0]\n",
    "    z = []\n",
    "    \n",
    "    for tup in coords:\n",
    "        z.append(tup[2])\n",
    "    z_value.append(z)\n",
    "    \n",
    "# Select minimum z value (as water ingressess through the lowest point) (truncating to reduce unique values)\n",
    "min_z = []\n",
    "for i in z_value:\n",
    "    min_z.append(int(min(i)))\n",
    "\n",
    "v_df['z'] = min_z\n",
    "#--------------------------------------------\n",
    "\n",
    "# Burn Raster\n",
    "rasterized = None\n",
    "rasterized = attribute_raster(v_df, 'z', -30)\n",
    "\n",
    "# initial Validate\n",
    "print('Min: ', rasterized.min())\n",
    "print('Max: ', rasterized.max())\n",
    "\n",
    "# Save Raster\n",
    "filepath = os.path.join(out_path, 'PLANIMETRICS-PAVEMENT_EDGE.tif')\n",
    "raster_writer(filepath, rasterized, gdal.GDT_UInt16, ras_gd)\n",
    "\n",
    "# Validate\n",
    "validate_raster(filepath)"
   ]
  },
  {
   "cell_type": "markdown",
   "id": "78c9342d-794e-49ff-8bab-d24107d568c1",
   "metadata": {
    "jp-MarkdownHeadingCollapsed": true,
    "tags": []
   },
   "source": [
    "### HYDRO_STRUCTURE"
   ]
  },
  {
   "cell_type": "code",
   "execution_count": 14,
   "id": "27f09fa2-bee9-497b-8d7c-71b7458f5084",
   "metadata": {},
   "outputs": [
    {
     "name": "stdout",
     "output_type": "stream",
     "text": [
      "Min:  -5\n",
      "Max:  146\n",
      "width:  158100 158100\n",
      "height:  156100 156100\n",
      "Bounds:  BoundingBox(left=910719.3, bottom=119060.67499999999, right=1068819.3, top=275160.675) BoundingBox(left=910719.3, bottom=119060.67499999999, right=1068819.3, top=275160.675)\n",
      "Crs:  EPSG:2263 EPSG:2263\n"
     ]
    }
   ],
   "source": [
    "# Load Data\n",
    "v_df = gpd.read_file(data, layer='HYDRO_STRUCTURE')\n",
    "\n",
    "# # encode text to int\n",
    "v_df['Elevation'] = v_df['Elevation'].astype(int)\n",
    "\n",
    "# Burn Raster\n",
    "rasterized = None\n",
    "rasterized = attribute_raster(v_df, 'Elevation', -5)\n",
    "\n",
    "# initial Validate\n",
    "print('Min: ', rasterized.min())\n",
    "print('Max: ', rasterized.max())\n",
    "\n",
    "# Save Raster\n",
    "filepath = os.path.join(out_path, 'PLANIMETRICS-HYDRO_STRUCTURE.tif')\n",
    "raster_writer(filepath, rasterized, gdal.GDT_UInt16, ras_gd)\n",
    "\n",
    "# Validate\n",
    "validate_raster(filepath)"
   ]
  },
  {
   "cell_type": "markdown",
   "id": "f85ea925-ff0e-4447-84ff-ccdcbfb40281",
   "metadata": {
    "jp-MarkdownHeadingCollapsed": true,
    "tags": []
   },
   "source": [
    "### SIDEWALK"
   ]
  },
  {
   "cell_type": "code",
   "execution_count": 16,
   "id": "e3613bbd-8e96-43f3-8585-5f63fa268960",
   "metadata": {},
   "outputs": [
    {
     "name": "stdout",
     "output_type": "stream",
     "text": [
      "Min:  0\n",
      "Max:  1\n",
      "width:  158100 158100\n",
      "height:  156100 156100\n",
      "Bounds:  BoundingBox(left=910719.3, bottom=119060.67499999999, right=1068819.3, top=275160.675) BoundingBox(left=910719.3, bottom=119060.67499999999, right=1068819.3, top=275160.675)\n",
      "Crs:  EPSG:2263 EPSG:2263\n"
     ]
    }
   ],
   "source": [
    "v_df = gpd.read_file(data, layer='SIDEWALK')\n",
    "\n",
    "# Burn Raster\n",
    "rasterized = None\n",
    "rasterized = simple_raster(v_df)\n",
    "\n",
    "# initial Validate\n",
    "print('Min: ', rasterized.min())\n",
    "print('Max: ', rasterized.max())\n",
    "\n",
    "# Save Raster\n",
    "filepath = os.path.join(out_path, 'PLANIMETRICS-SIDEWALK.tif')\n",
    "raster_writer(filepath, rasterized, gdal.GDT_UInt16, ras_gd)\n",
    "\n",
    "# Validate\n",
    "validate_raster(filepath)"
   ]
  },
  {
   "cell_type": "markdown",
   "id": "2493924d-ed1b-445e-8d45-3c06deac6e3d",
   "metadata": {
    "jp-MarkdownHeadingCollapsed": true,
    "tags": []
   },
   "source": [
    "### PARK"
   ]
  },
  {
   "cell_type": "code",
   "execution_count": 17,
   "id": "b9a343c1-29fa-4c37-8270-916ce578e71e",
   "metadata": {},
   "outputs": [
    {
     "data": {
      "text/html": [
       "<div>\n",
       "<style scoped>\n",
       "    .dataframe tbody tr th:only-of-type {\n",
       "        vertical-align: middle;\n",
       "    }\n",
       "\n",
       "    .dataframe tbody tr th {\n",
       "        vertical-align: top;\n",
       "    }\n",
       "\n",
       "    .dataframe thead th {\n",
       "        text-align: right;\n",
       "    }\n",
       "</style>\n",
       "<table border=\"1\" class=\"dataframe\">\n",
       "  <thead>\n",
       "    <tr style=\"text-align: right;\">\n",
       "      <th></th>\n",
       "      <th>PARK_NAME</th>\n",
       "      <th>SOURCE_ID</th>\n",
       "      <th>FEATURE_CODE</th>\n",
       "      <th>SUB_FEATURE_CODE</th>\n",
       "      <th>LANDUSE</th>\n",
       "      <th>PARKNUM</th>\n",
       "      <th>STATUS</th>\n",
       "      <th>SYSTEM</th>\n",
       "      <th>SHAPE_Length</th>\n",
       "      <th>SHAPE_Area</th>\n",
       "      <th>geometry</th>\n",
       "    </tr>\n",
       "  </thead>\n",
       "  <tbody>\n",
       "    <tr>\n",
       "      <th>0</th>\n",
       "      <td>Commodore Barry Park</td>\n",
       "      <td>2.149100e+10</td>\n",
       "      <td>4910</td>\n",
       "      <td>491050</td>\n",
       "      <td>Community Park</td>\n",
       "      <td>B021</td>\n",
       "      <td>Updated</td>\n",
       "      <td></td>\n",
       "      <td>829.420107</td>\n",
       "      <td>41539.801363</td>\n",
       "      <td>MULTIPOLYGON (((990011.028 193576.923, 990003....</td>\n",
       "    </tr>\n",
       "    <tr>\n",
       "      <th>1</th>\n",
       "      <td>Pierrepont Playground</td>\n",
       "      <td>2.149800e+10</td>\n",
       "      <td>4980</td>\n",
       "      <td>498000</td>\n",
       "      <td>Neighborhood Park</td>\n",
       "      <td>B222</td>\n",
       "      <td>Unchanged</td>\n",
       "      <td></td>\n",
       "      <td>607.555193</td>\n",
       "      <td>21960.494920</td>\n",
       "      <td>MULTIPOLYGON (((984993.079 192850.815, 984992....</td>\n",
       "    </tr>\n",
       "    <tr>\n",
       "      <th>2</th>\n",
       "      <td>Cobble Hill Park</td>\n",
       "      <td>2.149800e+10</td>\n",
       "      <td>4980</td>\n",
       "      <td>498000</td>\n",
       "      <td>Neighborhood Park</td>\n",
       "      <td>B326</td>\n",
       "      <td>Unchanged</td>\n",
       "      <td></td>\n",
       "      <td>784.421990</td>\n",
       "      <td>28079.076265</td>\n",
       "      <td>MULTIPOLYGON (((985477.412 189907.616, 985477....</td>\n",
       "    </tr>\n",
       "    <tr>\n",
       "      <th>3</th>\n",
       "      <td>Commodore Barry Park</td>\n",
       "      <td>2.149800e+10</td>\n",
       "      <td>4980</td>\n",
       "      <td>498000</td>\n",
       "      <td>Community Park</td>\n",
       "      <td>B021</td>\n",
       "      <td>Unchanged</td>\n",
       "      <td></td>\n",
       "      <td>2672.710150</td>\n",
       "      <td>438416.114511</td>\n",
       "      <td>MULTIPOLYGON (((990498.402 193034.421, 990499....</td>\n",
       "    </tr>\n",
       "    <tr>\n",
       "      <th>4</th>\n",
       "      <td>Brooklyn Heights Promenade</td>\n",
       "      <td>2.149800e+10</td>\n",
       "      <td>4980</td>\n",
       "      <td>498000</td>\n",
       "      <td>Triangle/Plaza</td>\n",
       "      <td>B223DG</td>\n",
       "      <td>Unchanged</td>\n",
       "      <td></td>\n",
       "      <td>1376.106398</td>\n",
       "      <td>14465.699799</td>\n",
       "      <td>MULTIPOLYGON (((984952.331 193184.601, 984898....</td>\n",
       "    </tr>\n",
       "  </tbody>\n",
       "</table>\n",
       "</div>"
      ],
      "text/plain": [
       "                    PARK_NAME     SOURCE_ID  FEATURE_CODE  SUB_FEATURE_CODE  \\\n",
       "0        Commodore Barry Park  2.149100e+10          4910            491050   \n",
       "1       Pierrepont Playground  2.149800e+10          4980            498000   \n",
       "2            Cobble Hill Park  2.149800e+10          4980            498000   \n",
       "3        Commodore Barry Park  2.149800e+10          4980            498000   \n",
       "4  Brooklyn Heights Promenade  2.149800e+10          4980            498000   \n",
       "\n",
       "             LANDUSE PARKNUM     STATUS SYSTEM  SHAPE_Length     SHAPE_Area  \\\n",
       "0     Community Park    B021    Updated           829.420107   41539.801363   \n",
       "1  Neighborhood Park    B222  Unchanged           607.555193   21960.494920   \n",
       "2  Neighborhood Park    B326  Unchanged           784.421990   28079.076265   \n",
       "3     Community Park    B021  Unchanged          2672.710150  438416.114511   \n",
       "4     Triangle/Plaza  B223DG  Unchanged          1376.106398   14465.699799   \n",
       "\n",
       "                                            geometry  \n",
       "0  MULTIPOLYGON (((990011.028 193576.923, 990003....  \n",
       "1  MULTIPOLYGON (((984993.079 192850.815, 984992....  \n",
       "2  MULTIPOLYGON (((985477.412 189907.616, 985477....  \n",
       "3  MULTIPOLYGON (((990498.402 193034.421, 990499....  \n",
       "4  MULTIPOLYGON (((984952.331 193184.601, 984898....  "
      ]
     },
     "execution_count": 17,
     "metadata": {},
     "output_type": "execute_result"
    }
   ],
   "source": [
    "v_df = gpd.read_file(data, layer='PARK')\n",
    "v_df.head()"
   ]
  },
  {
   "cell_type": "code",
   "execution_count": 15,
   "id": "2ea7b312-ba53-4741-b956-d962c93ed849",
   "metadata": {},
   "outputs": [
    {
     "name": "stdout",
     "output_type": "stream",
     "text": [
      "Min:  -5\n",
      "Max:  26\n",
      "width:  158100 158100\n",
      "height:  156100 156100\n",
      "Bounds:  BoundingBox(left=910719.3, bottom=119060.67499999999, right=1068819.3, top=275160.675) BoundingBox(left=910719.3, bottom=119060.67499999999, right=1068819.3, top=275160.675)\n",
      "Crs:  EPSG:2263 EPSG:2263\n"
     ]
    }
   ],
   "source": [
    "# Load Data\n",
    "v_df = gpd.read_file(data, layer='PARK')\n",
    "\n",
    "# encode text to int\n",
    "ord_enc = OrdinalEncoder()\n",
    "v_df['labels'] = ord_enc.fit_transform(v_df[['LANDUSE']]).astype(int)\n",
    "\n",
    "# Burn Raster\n",
    "rasterized = None\n",
    "rasterized = attribute_raster(v_df, 'labels', -5)\n",
    "\n",
    "# initial Validate\n",
    "print('Min: ', rasterized.min())\n",
    "print('Max: ', rasterized.max())\n",
    "\n",
    "# Save Raster\n",
    "filepath = os.path.join(out_path, 'PLANIMETRICS-PARK.tif')\n",
    "raster_writer(filepath, rasterized, gdal.GDT_UInt16, ras_gd)\n",
    "\n",
    "# Validate\n",
    "validate_raster(filepath)"
   ]
  },
  {
   "cell_type": "code",
   "execution_count": 16,
   "id": "5d07f1fc-5b09-44a3-8daf-d6b1b3d92525",
   "metadata": {},
   "outputs": [],
   "source": [
    "# Export key\n",
    "v_df[['LANDUSE', 'labels']].drop_duplicates().to_csv(os.path.join(out_path, 'PLANIMETRICS-PARK.csv'))"
   ]
  },
  {
   "cell_type": "markdown",
   "id": "c4956f3c-56f1-4f75-88fa-bccaefb0d04d",
   "metadata": {},
   "source": [
    "### MEDIAN"
   ]
  },
  {
   "cell_type": "code",
   "execution_count": 19,
   "id": "3bbd6091-5d7e-4fa5-9e46-0726710a281a",
   "metadata": {},
   "outputs": [
    {
     "name": "stdout",
     "output_type": "stream",
     "text": [
      "Min:  0\n",
      "Max:  1\n",
      "width:  158100 158100\n",
      "height:  156100 156100\n",
      "Bounds:  BoundingBox(left=910719.3, bottom=119060.67499999999, right=1068819.3, top=275160.675) BoundingBox(left=910719.3, bottom=119060.67499999999, right=1068819.3, top=275160.675)\n",
      "Crs:  EPSG:2263 EPSG:2263\n"
     ]
    }
   ],
   "source": [
    "# Load Data\n",
    "v_df = gpd.read_file(data, layer='MEDIAN')\n",
    "\n",
    "# Burn Raster\n",
    "rasterized = None\n",
    "rasterized = simple_raster(v_df)\n",
    "\n",
    "# initial Validate\n",
    "print('Min: ', rasterized.min())\n",
    "print('Max: ', rasterized.max())\n",
    "\n",
    "# Save Raster\n",
    "filepath = os.path.join(out_path, 'PLANIMETRICS-MEDIAN.tif')\n",
    "raster_writer(filepath, rasterized, gdal.GDT_UInt16, ras_gd)\n",
    "\n",
    "# Validate\n",
    "validate_raster(filepath)"
   ]
  },
  {
   "cell_type": "markdown",
   "id": "e8ed4ad4-23d3-43c4-9f12-bf411b6cdf7b",
   "metadata": {},
   "source": [
    "### SWIMMING_POOL"
   ]
  },
  {
   "cell_type": "code",
   "execution_count": null,
   "id": "9bcd5167-a706-45a7-b3af-6a88438df628",
   "metadata": {},
   "outputs": [
    {
     "name": "stdout",
     "output_type": "stream",
     "text": [
      "Min:  0\n",
      "Max:  1\n"
     ]
    }
   ],
   "source": [
    "# Load Data\n",
    "v_df = gpd.read_file(data, layer='SWIMMING_POOL')\n",
    "\n",
    "# Burn Raster\n",
    "rasterized = None\n",
    "rasterized = simple_raster(v_df)\n",
    "\n",
    "# initial Validate\n",
    "print('Min: ', rasterized.min())\n",
    "print('Max: ', rasterized.max())\n",
    "\n",
    "# Save Raster\n",
    "filepath = os.path.join(out_path, 'PLANIMETRICS-SWIMMING_POOL.tif')\n",
    "raster_writer(filepath, rasterized, gdal.GDT_UInt16, ras_gd)\n",
    "\n",
    "# Validate\n",
    "validate_raster(filepath)"
   ]
  },
  {
   "cell_type": "markdown",
   "id": "2d4f33c7-7e38-4c33-8d43-711453152c62",
   "metadata": {},
   "source": [
    "### OPEN_SPACE_NO_PARK"
   ]
  },
  {
   "cell_type": "code",
   "execution_count": null,
   "id": "addca7da-4db0-4781-9ba1-63a1141f2164",
   "metadata": {},
   "outputs": [],
   "source": []
  },
  {
   "cell_type": "markdown",
   "id": "f689bd53-62d3-40a7-a2cc-b1b1d12a500c",
   "metadata": {},
   "source": [
    "### PARKING_LOT"
   ]
  },
  {
   "cell_type": "code",
   "execution_count": null,
   "id": "7a0dd1c3-d3d5-47b5-afbc-abef7522ba38",
   "metadata": {},
   "outputs": [],
   "source": []
  },
  {
   "cell_type": "markdown",
   "id": "089a9a50-5c5b-451f-8091-b0b05014d16a",
   "metadata": {},
   "source": [
    "### BOARDWALK"
   ]
  },
  {
   "cell_type": "code",
   "execution_count": null,
   "id": "d0c95e27-d825-46aa-9d55-91b25e3d26d7",
   "metadata": {},
   "outputs": [],
   "source": []
  },
  {
   "cell_type": "markdown",
   "id": "b4de5db9-686e-4105-89ca-27abb9680a2d",
   "metadata": {},
   "source": [
    "### RAILROAD"
   ]
  },
  {
   "cell_type": "code",
   "execution_count": null,
   "id": "bc6e178a-7efa-42d8-b622-11bf0e9dcd79",
   "metadata": {},
   "outputs": [],
   "source": []
  },
  {
   "cell_type": "markdown",
   "id": "dbf2519f-7b4a-4538-9083-528d300a46b5",
   "metadata": {},
   "source": [
    "### TRANSPORT_STRUCTURE"
   ]
  },
  {
   "cell_type": "code",
   "execution_count": null,
   "id": "812d9efb-7cf7-44fb-9556-9107aee33a02",
   "metadata": {},
   "outputs": [],
   "source": []
  },
  {
   "cell_type": "markdown",
   "id": "694fd1de-93e0-4247-a8cc-a783b33894bf",
   "metadata": {},
   "source": [
    "### MISC_STRUCTURE_POLY"
   ]
  },
  {
   "cell_type": "code",
   "execution_count": null,
   "id": "9c027dd1-5cae-47cb-8401-46bac87fdc3e",
   "metadata": {},
   "outputs": [],
   "source": []
  },
  {
   "cell_type": "markdown",
   "id": "da617230-45f6-4e3b-85c0-62063056b420",
   "metadata": {},
   "source": [
    "### CURB"
   ]
  },
  {
   "cell_type": "code",
   "execution_count": null,
   "id": "fd7c45ce-8dcf-48ce-a664-415172852cba",
   "metadata": {},
   "outputs": [],
   "source": []
  },
  {
   "cell_type": "markdown",
   "id": "787361d9-bbd5-4c98-a25d-77c594b38fc5",
   "metadata": {},
   "source": [
    "### ROADBED"
   ]
  },
  {
   "cell_type": "code",
   "execution_count": null,
   "id": "62a6929d-a631-424b-8aec-fbe9ccfa242a",
   "metadata": {},
   "outputs": [],
   "source": []
  },
  {
   "cell_type": "markdown",
   "id": "3e74131f-ef54-4488-be7c-188c86a6831d",
   "metadata": {},
   "source": [
    "### PLAZA"
   ]
  },
  {
   "cell_type": "code",
   "execution_count": null,
   "id": "0fb5541e-5a2b-4bdf-bea2-d442d789222a",
   "metadata": {},
   "outputs": [],
   "source": []
  },
  {
   "cell_type": "markdown",
   "id": "07e550b9-8f2e-4597-9c15-8ecedcd64a7e",
   "metadata": {},
   "source": [
    "### SIDEWALK_LINE"
   ]
  },
  {
   "cell_type": "code",
   "execution_count": null,
   "id": "b5fe0ed7-9e67-48b6-a68d-0644a4fb4254",
   "metadata": {},
   "outputs": [],
   "source": []
  },
  {
   "cell_type": "markdown",
   "id": "25df181b-bc18-4504-886e-32428358dbe3",
   "metadata": {},
   "source": [
    "### RAILROAD_STRUCTURE"
   ]
  },
  {
   "cell_type": "code",
   "execution_count": null,
   "id": "28cd98fa-1969-4826-bb14-1f5577fcf4fc",
   "metadata": {},
   "outputs": [],
   "source": []
  },
  {
   "cell_type": "markdown",
   "id": "ff18af82-bc0e-48e7-ba05-8b0f2efa1efc",
   "metadata": {},
   "source": [
    "## Secondary Data\n",
    "---"
   ]
  },
  {
   "cell_type": "markdown",
   "id": "f38dc727-7fea-48f3-8240-9706b66e4fc4",
   "metadata": {},
   "source": [
    "### Zip Codes\n",
    "---"
   ]
  },
  {
   "cell_type": "code",
   "execution_count": null,
   "id": "e62286f1-3985-4a39-ae72-9163e706e9dc",
   "metadata": {},
   "outputs": [],
   "source": []
  }
 ],
 "metadata": {
  "kernelspec": {
   "display_name": "Python 3 (ipykernel)",
   "language": "python",
   "name": "python3"
  },
  "language_info": {
   "codemirror_mode": {
    "name": "ipython",
    "version": 3
   },
   "file_extension": ".py",
   "mimetype": "text/x-python",
   "name": "python",
   "nbconvert_exporter": "python",
   "pygments_lexer": "ipython3",
   "version": "3.9.12"
  }
 },
 "nbformat": 4,
 "nbformat_minor": 5
}
