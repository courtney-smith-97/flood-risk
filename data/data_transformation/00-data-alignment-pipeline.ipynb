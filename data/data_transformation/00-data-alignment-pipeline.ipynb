{
 "cells": [
  {
   "cell_type": "markdown",
   "id": "e01a9120-b89b-48e7-b962-35407312243c",
   "metadata": {},
   "source": [
    "# Data Alignment\n",
    "---"
   ]
  },
  {
   "cell_type": "markdown",
   "id": "7e1f978b-56ca-4aed-af32-727bb7d7059a",
   "metadata": {
    "jp-MarkdownHeadingCollapsed": true,
    "tags": []
   },
   "source": [
    "## Set up Notebook\n",
    "---"
   ]
  },
  {
   "cell_type": "code",
   "execution_count": 1,
   "id": "ab8ab545-6763-4e7f-ab66-185bc220d2f7",
   "metadata": {},
   "outputs": [],
   "source": [
    "import warnings\n",
    "warnings.filterwarnings('ignore')"
   ]
  },
  {
   "cell_type": "code",
   "execution_count": 47,
   "id": "045bd917-8e7a-43f1-94c7-e66e4bbb5470",
   "metadata": {},
   "outputs": [],
   "source": [
    "import fiona\n",
    "import geopandas as gpd\n",
    "import matplotlib.pyplot as plt\n",
    "import rasterio\n",
    "from rasterio import features\n",
    "from rasterio.enums import MergeAlg\n",
    "from rasterio.plot import show\n",
    "import numpy as np\n",
    "from shapely.geometry import Polygon, MultiPolygon, shape, Point\n",
    "\n",
    "from osgeo import gdal\n",
    "from osgeo import ogr\n",
    "\n",
    "# from dask_rasterio import read_raster, write_raster\n",
    "\n",
    "import os\n",
    "from sklearn.preprocessing import OrdinalEncoder"
   ]
  },
  {
   "cell_type": "markdown",
   "id": "ce921c3d-4800-4e05-8e9c-97214f86859b",
   "metadata": {
    "jp-MarkdownHeadingCollapsed": true,
    "tags": []
   },
   "source": [
    "## Set Primary Raster\n",
    "---\n",
    "\n",
    "This is the raster we will be aligning all of our other data sets to.\n",
    "\n",
    "Raster: NYC_DEM_1ft_Int (elevation)"
   ]
  },
  {
   "cell_type": "code",
   "execution_count": 3,
   "id": "af6cfae6-f55d-4dcb-855c-0655614e8c04",
   "metadata": {},
   "outputs": [
    {
     "name": "stdout",
     "output_type": "stream",
     "text": [
      "bands:  1\n",
      "width:  158100\n",
      "height:  156100\n",
      "Bounds:  BoundingBox(left=910719.3, bottom=119060.67499999999, right=1068819.3, top=275160.675)\n",
      "dtype:  ('uint16',)\n",
      "EPSG:2263\n"
     ]
    }
   ],
   "source": [
    "rst = '/workspace/data-sets/NYC_DEM_1ft_Int/DEM_LiDAR_1ft_2010_Improved_NYC_int.tif'\n",
    "raster = rasterio.open(rst)\n",
    "print('bands: ', raster.count)\n",
    "print('width: ', raster.width)\n",
    "print('height: ', raster.height)\n",
    "print('Bounds: ', raster.bounds)\n",
    "print('dtype: ', raster.dtypes)\n",
    "\n",
    "base_wdith = raster.width\n",
    "base_height = raster.height\n",
    "base_count = raster.count\n",
    "base_bounds = raster.bounds\n",
    "base_transform = raster.transform\n",
    "base_dtype = raster.dtypes\n",
    "\n",
    "base_crs = raster.crs\n",
    "print(base_crs)\n",
    "\n",
    "ras_gd = gdal.Open(rst)\n",
    "rst_proj = ras_gd.GetProjection()\n",
    "rst_gtm = ras_gd.GetGeoTransform()"
   ]
  },
  {
   "cell_type": "code",
   "execution_count": 4,
   "id": "cdd3e6b9-7d7e-41ab-bd3f-e49db1116f86",
   "metadata": {},
   "outputs": [],
   "source": [
    "# Set Data Ouput\n",
    "rev = '10.9.2022'\n",
    "op = '/workspace/data-sets/transformations/'\n",
    "out_path = os.path.join(op, rev)\n",
    "\n",
    "# Make output directory\n",
    "# os.mkdir(out_path)"
   ]
  },
  {
   "cell_type": "code",
   "execution_count": 14,
   "id": "063302bf-c9cc-4ec7-a022-a144441e878a",
   "metadata": {},
   "outputs": [
    {
     "data": {
      "text/plain": [
       "'PROJCS[\"NAD83 / New York Long Island (ftUS)\",GEOGCS[\"NAD83\",DATUM[\"North_American_Datum_1983\",SPHEROID[\"GRS 1980\",6378137,298.257222100887,AUTHORITY[\"EPSG\",\"7019\"]],AUTHORITY[\"EPSG\",\"6269\"]],PRIMEM[\"Greenwich\",0],UNIT[\"degree\",0.0174532925199433,AUTHORITY[\"EPSG\",\"9122\"]],AUTHORITY[\"EPSG\",\"4269\"]],PROJECTION[\"Lambert_Conformal_Conic_2SP\"],PARAMETER[\"latitude_of_origin\",40.1666666666667],PARAMETER[\"central_meridian\",-74],PARAMETER[\"standard_parallel_1\",41.0333333333333],PARAMETER[\"standard_parallel_2\",40.6666666666667],PARAMETER[\"false_easting\",984250],PARAMETER[\"false_northing\",0],UNIT[\"US survey foot\",0.304800609601219,AUTHORITY[\"EPSG\",\"9003\"]],AXIS[\"Easting\",EAST],AXIS[\"Northing\",NORTH],AUTHORITY[\"EPSG\",\"2263\"]]'"
      ]
     },
     "execution_count": 14,
     "metadata": {},
     "output_type": "execute_result"
    }
   ],
   "source": [
    "rst_proj "
   ]
  },
  {
   "cell_type": "markdown",
   "id": "c763d79c-fac2-4ce2-a194-c5d3712d88c0",
   "metadata": {
    "jp-MarkdownHeadingCollapsed": true,
    "tags": []
   },
   "source": [
    "## Write Raster Method\n",
    "---"
   ]
  },
  {
   "cell_type": "code",
   "execution_count": 17,
   "id": "8ef92573-46a9-424d-9c76-1dfb6312cc4a",
   "metadata": {},
   "outputs": [],
   "source": [
    "def raster_writer(out_file, rasterized, unit, ras_gd):\n",
    "    \"\"\"\n",
    "    This function takes a rasterized 2d array and writes a raster file out\n",
    "    \n",
    "    :param [out_path]: This is the full output file name for the raster\n",
    "    :type [out_path]: string\n",
    "    :param [rasterized]: 2D Array to write to raster image\n",
    "    :type [rasterized]: np array\n",
    "    :param [unit]: gdal unit for data encoding (i.e. GDT_UInt16)\n",
    "    :type [unit]: gdal data unit\n",
    "    :param [rst_proj]: base raster projection\n",
    "    :type [rst_proj]: gdal.projection\n",
    "    :param[rst_gtm]: base raster geotransform\n",
    "    :type [rst_gtm]: list\n",
    "    \n",
    "    \"\"\"\n",
    "    # out_file = filepath\n",
    "    driver = gdal.GetDriverByName(\"GTiff\")\n",
    "    # ds = driver.Create(out_file, rasterized.shape[1], rasterized.shape[0], 1, gdal.GDT_UInt16)\n",
    "    out_ds = driver.Create(out_file, rasterized.shape[1], rasterized.shape[0], 1, unit) #gdal.GDT_UInt16\n",
    "    out_ds.SetProjection(ras_gd.GetProjection())\n",
    "    out_ds.SetGeoTransform(ras_gd.GetGeoTransform())\n",
    "    band = out_ds.GetRasterBand(1)\n",
    "    band.WriteArray(rasterized)\n",
    "    band.FlushCache()\n",
    "    band.ComputeStatistics(False)"
   ]
  },
  {
   "cell_type": "code",
   "execution_count": 6,
   "id": "9aa8fed1-0cef-4981-8a32-ff3218b00351",
   "metadata": {},
   "outputs": [],
   "source": [
    "def validate_raster(path, base_raster=raster):\n",
    "    rasterized = rasterio.open(path)\n",
    "    \n",
    "    print('width: ', raster.width, rasterized.width)\n",
    "    print('height: ', raster.height, rasterized.height)\n",
    "    print('Bounds: ', raster.bounds, rasterized.bounds)\n",
    "    print('Crs: ', raster.crs, rasterized.crs)"
   ]
  },
  {
   "cell_type": "code",
   "execution_count": null,
   "id": "fbffb22d-35aa-45f5-9631-ea62b9c7983b",
   "metadata": {},
   "outputs": [],
   "source": [
    "## Alternate methods but may crash kernal\n",
    "\n",
    "## rasterio\n",
    "# # Write to Tif\n",
    "# out_file =os.path.join(out_path, 'DEPCatchbasins.tif')\n",
    "\n",
    "# with rasterio.open(\n",
    "#         out_file, \"w\",\n",
    "#         driver = \"GTiff\",\n",
    "#         transform = base_transform,\n",
    "#         dtype = rasterio.uint16,\n",
    "#         count = 1,\n",
    "#         width = base_wdith,\n",
    "#         height = base_height) as dst:\n",
    "#     dst.write(rasterized, indexes = 1)\n",
    "\n",
    "## dask-rasterio\n",
    "# out_file =os.path.join(out_path, 'DEPCatchbasins.tif')\n",
    "\n",
    "# write_raster(out_file, \n",
    "#              rasterized,\n",
    "#              transform = base_transform,\n",
    "#              dtype = rasterio.uint16,\n",
    "#              count = 1,\n",
    "#              width = base_wdith,\n",
    "#              height = base_height)\n",
    "             "
   ]
  },
  {
   "cell_type": "markdown",
   "id": "144501df-cba2-4605-aa00-68e5e9c23157",
   "metadata": {},
   "source": [
    "## Raster Transformation Methods\n",
    "---"
   ]
  },
  {
   "cell_type": "code",
   "execution_count": 23,
   "id": "05e9d5ba-b668-4b6e-826d-09920a8ab55c",
   "metadata": {},
   "outputs": [],
   "source": [
    "## Write Raster Burn Methods\n",
    "def simple_raster(v_df):\n",
    "    geom = [shapes for shapes in v_df.geometry]\n",
    "\n",
    "    rasterized = features.rasterize(geom,\n",
    "                                    out_shape = raster.shape,\n",
    "                                    fill = 0,\n",
    "                                    out = None,\n",
    "                                    transform = raster.transform,\n",
    "                                    all_touched = False,\n",
    "                                    default_value = 1,\n",
    "                                    dtype = None)\n",
    "    \n",
    "    return rasterized\n",
    "\n",
    "def attribute_raster(v_df, attribute, fill_value):\n",
    "    geom_value = ((geom,value) for geom, value in zip(v_df.geometry, v_df[attribute]))\n",
    "    \n",
    "    rasterized = features.rasterize(geom_value,\n",
    "                                    out_shape = raster.shape,\n",
    "                                    transform = raster.transform,\n",
    "                                    all_touched = True,\n",
    "                                    fill = fill_value,   # background value\n",
    "                                    merge_alg = MergeAlg.replace) # overwrite existing\n",
    "    return rasterized"
   ]
  },
  {
   "cell_type": "markdown",
   "id": "e447f65d-66a5-46a6-b9f0-a34d0b69ce4a",
   "metadata": {},
   "source": [
    "## Primary Data\n",
    "---"
   ]
  },
  {
   "cell_type": "markdown",
   "id": "6ff7f7ca-cab4-4ec4-bf1b-c63a3cf715f8",
   "metadata": {
    "jp-MarkdownHeadingCollapsed": true,
    "tags": []
   },
   "source": [
    "### Catch Basins"
   ]
  },
  {
   "cell_type": "code",
   "execution_count": 18,
   "id": "f2fb4d1a-8a0e-4f45-81e4-940e8401d3ac",
   "metadata": {},
   "outputs": [
    {
     "name": "stdout",
     "output_type": "stream",
     "text": [
      "Min:  0\n",
      "Max:  1\n",
      "width:  158100 158100\n",
      "height:  156100 156100\n",
      "Bounds:  BoundingBox(left=910719.3, bottom=119060.67499999999, right=1068819.3, top=275160.675) BoundingBox(left=910719.3, bottom=119060.67499999999, right=1068819.3, top=275160.675)\n",
      "Crs:  EPSG:2263 EPSG:2263\n"
     ]
    }
   ],
   "source": [
    "# Load Data\n",
    "shape = '/workspace/data-sets/DEPCatchbasins/DEPCATCHBASINS.shp'\n",
    "v_df = gpd.read_file(shape)\n",
    "# v_df.head()\n",
    "\n",
    "# Burn Raster\n",
    "rasterized = None\n",
    "rasterized = simple_raster(v_df)\n",
    "\n",
    "# initial Validate\n",
    "print('Min: ', rasterized.min())\n",
    "print('Max: ', rasterized.max())\n",
    "\n",
    "# Save Raster\n",
    "filepath = os.path.join(out_path, 'DEPCatchbasins.tif')\n",
    "raster_writer(filepath, rasterized, gdal.GDT_UInt16, ras_gd)\n",
    "\n",
    "# Validate\n",
    "validate_raster('/workspace/data-sets/transformations/10.9.2022/DEPCatchbasins.tif')"
   ]
  },
  {
   "cell_type": "markdown",
   "id": "34b63d0a-1c38-4d87-ad93-82f2261f7fff",
   "metadata": {
    "jp-MarkdownHeadingCollapsed": true,
    "tags": []
   },
   "source": [
    "### Subway Enterances"
   ]
  },
  {
   "cell_type": "code",
   "execution_count": 20,
   "id": "15ac7147-6ab0-476c-b6b0-32fce3f0fc22",
   "metadata": {},
   "outputs": [
    {
     "name": "stdout",
     "output_type": "stream",
     "text": [
      "Min:  0\n",
      "Max:  1\n",
      "width:  158100 158100\n",
      "height:  156100 156100\n",
      "Bounds:  BoundingBox(left=910719.3, bottom=119060.67499999999, right=1068819.3, top=275160.675) BoundingBox(left=910719.3, bottom=119060.67499999999, right=1068819.3, top=275160.675)\n",
      "Crs:  EPSG:2263 EPSG:2263\n"
     ]
    }
   ],
   "source": [
    "# Load Data\n",
    "shape = '/workspace/data-sets/doitt_subway_entrances/DOITT_SUBWAY_ENTRANCE_04JAN2017.shp'\n",
    "v_df = gpd.read_file(shape)\n",
    "# v_df.head()\n",
    "\n",
    "# Burn Raster\n",
    "rasterized = None\n",
    "rasterized = simple_raster(v_df)\n",
    "\n",
    "# initial Validate\n",
    "print('Min: ', rasterized.min())\n",
    "print('Max: ', rasterized.max())\n",
    "\n",
    "# Save Raster\n",
    "filepath = os.path.join(out_path, 'DOITT_SUBWAY_ENTRANCE_04JAN2017.tif')\n",
    "raster_writer(filepath, rasterized, gdal.GDT_UInt16, ras_gd)\n",
    "\n",
    "# Validate\n",
    "validate_raster(filepath)"
   ]
  },
  {
   "cell_type": "markdown",
   "id": "6dd20aa2-825c-4694-8587-96ccf47c03f4",
   "metadata": {
    "jp-MarkdownHeadingCollapsed": true,
    "tags": []
   },
   "source": [
    "### Shoreline (office hours follow up)\n",
    "---\n",
    "\n",
    "Follow up - how to extract height from geopandas data frame. For now we will use type"
   ]
  },
  {
   "cell_type": "code",
   "execution_count": 55,
   "id": "a21e29be-ee6a-4e74-b4b9-58928f0b83e0",
   "metadata": {},
   "outputs": [
    {
     "name": "stdout",
     "output_type": "stream",
     "text": [
      "Min:  -5\n",
      "Max:  2\n",
      "width:  158100 158100\n",
      "height:  156100 156100\n",
      "Bounds:  BoundingBox(left=910719.3, bottom=119060.67499999999, right=1068819.3, top=275160.675) BoundingBox(left=910719.3, bottom=119060.67499999999, right=1068819.3, top=275160.675)\n",
      "Crs:  EPSG:2263 EPSG:2263\n"
     ]
    }
   ],
   "source": [
    "# Load Data\n",
    "shape = '/workspace/data-sets/nyc_shoreline/NYC_2017_LiDAR_Low_Tide_Shoreline.shp'\n",
    "v_df = gpd.read_file(shape)\n",
    "# v_df.head()\n",
    "\n",
    "# encode text to int\n",
    "v_df['labels'] = ord_enc.fit_transform(v_df[['Type']]).astype(int)\n",
    "\n",
    "# Burn Raster\n",
    "rasterized = None\n",
    "rasterized = attribute_raster(v_df, 'labels', -5)\n",
    "\n",
    "# initial Validate\n",
    "print('Min: ', rasterized.min())\n",
    "print('Max: ', rasterized.max())\n",
    "\n",
    "# Save Raster\n",
    "filepath = os.path.join(out_path, 'NYC_2017_LiDAR_Low_Tide_Shoreline.tif')\n",
    "raster_writer(filepath, rasterized, gdal.GDT_UInt16, ras_gd)\n",
    "\n",
    "# Validate\n",
    "validate_raster(filepath)"
   ]
  },
  {
   "cell_type": "code",
   "execution_count": 57,
   "id": "e4dc88a8-6a2a-41a1-b3cf-e5c7d3736c11",
   "metadata": {},
   "outputs": [],
   "source": [
    "# Export key\n",
    "v_df[['Type', 'labels']].drop_duplicates().to_csv(os.path.join(out_path, 'NYC_2017_LiDAR_Low_Tide_Shoreline.csv'))"
   ]
  },
  {
   "cell_type": "markdown",
   "id": "aaefbeab-5508-4115-a4cf-62a26a5bee13",
   "metadata": {},
   "source": [
    "### Retaining Walls (Office Hours Follow Up Z Value Extraction)\n",
    "---\n",
    "\n",
    "TODO Follow up on Z value extraction from Linestring. Convert to Feet and Feed in as attribute"
   ]
  },
  {
   "cell_type": "code",
   "execution_count": null,
   "id": "e5cd3a4c-9ec7-45f3-bfd3-a1dad0efb68c",
   "metadata": {},
   "outputs": [
    {
     "name": "stdout",
     "output_type": "stream",
     "text": [
      "Min:  0\n",
      "Max:  1\n"
     ]
    }
   ],
   "source": [
    "# Load Data\n",
    "shape = '/workspace/data-sets/RETAININGWALL/RETAININGWALL.shp'\n",
    "v_df = gpd.read_file(shape)\n",
    "# v_df.head()\n",
    "\n",
    "# Burn Raster\n",
    "rasterized = None\n",
    "rasterized = simple_raster(v_df)\n",
    "\n",
    "# initial Validate\n",
    "print('Min: ', rasterized.min())\n",
    "print('Max: ', rasterized.max())\n",
    "\n",
    "# Save Raster\n",
    "filepath = os.path.join(out_path, 'RETAININGWALL.tif')\n",
    "raster_writer(filepath, rasterized, gdal.GDT_UInt16, ras_gd)\n",
    "\n",
    "# Validate\n",
    "validate_raster(filepath)"
   ]
  },
  {
   "cell_type": "markdown",
   "id": "c71fc9bb-404b-4a04-b8fc-db30863f2f4e",
   "metadata": {
    "jp-MarkdownHeadingCollapsed": true,
    "tags": []
   },
   "source": [
    "### Hydrography\n",
    "---"
   ]
  },
  {
   "cell_type": "code",
   "execution_count": 72,
   "id": "7da43396-ce93-4288-97f9-a1f34bda5e15",
   "metadata": {},
   "outputs": [
    {
     "name": "stdout",
     "output_type": "stream",
     "text": [
      "Min:  0\n",
      "Max:  1\n",
      "width:  158100 158100\n",
      "height:  156100 156100\n",
      "Bounds:  BoundingBox(left=910719.3, bottom=119060.67499999999, right=1068819.3, top=275160.675) BoundingBox(left=910719.3, bottom=119060.67499999999, right=1068819.3, top=275160.675)\n",
      "Crs:  EPSG:2263 EPSG:2263\n"
     ]
    }
   ],
   "source": [
    "# Load Data\n",
    "shape = '/workspace/data-sets/HYDRO/HYDROGRAPHY.shp'\n",
    "v_df = gpd.read_file(shape)\n",
    "# v_df.head()\n",
    "\n",
    "# Burn Raster\n",
    "rasterized = None\n",
    "rasterized = simple_raster(v_df)\n",
    "\n",
    "# initial Validate\n",
    "print('Min: ', rasterized.min())\n",
    "print('Max: ', rasterized.max())\n",
    "\n",
    "# Save Raster\n",
    "filepath = os.path.join(out_path, 'HYDROGRAPHY.tif')\n",
    "raster_writer(filepath, rasterized, gdal.GDT_UInt16, ras_gd)\n",
    "\n",
    "# Validate\n",
    "validate_raster(filepath)"
   ]
  },
  {
   "cell_type": "markdown",
   "id": "65793abc-d3a9-4c00-b684-05ac0aa5667b",
   "metadata": {},
   "source": [
    "### Land Cover Reprojection\n",
    "---"
   ]
  },
  {
   "cell_type": "code",
   "execution_count": 64,
   "id": "dd82a89f-2ea2-4787-b761-8d3926ea74d5",
   "metadata": {},
   "outputs": [],
   "source": [
    "import rasterio\n",
    "from rasterio.warp import calculate_default_transform, reproject, Resampling"
   ]
  },
  {
   "cell_type": "code",
   "execution_count": 60,
   "id": "27882bcd-9b58-40c7-829c-dd12a8df0aed",
   "metadata": {},
   "outputs": [
    {
     "name": "stdout",
     "output_type": "stream",
     "text": [
      "Land Use CRS: EPSG:2263\n",
      "Elevation CRS: EPSG:2263\n"
     ]
    }
   ],
   "source": [
    "srcRst = rasterio.open('/workspace/data-sets/raster_data/NYC_2017_LiDAR_LandCover.img')\n",
    "print('Land Use CRS:', srcRst.crs)\n",
    "print('Elevation CRS:', raster.crs)"
   ]
  },
  {
   "cell_type": "code",
   "execution_count": 62,
   "id": "1da91ce8-382c-4e4d-a0a9-36adcc0ddf3b",
   "metadata": {},
   "outputs": [],
   "source": [
    "transform, width, height = calculate_default_transform(srcRst.crs, raster.crs,srcRst.width,srcRst.height, *srcRst.bounds)"
   ]
  },
  {
   "cell_type": "code",
   "execution_count": 63,
   "id": "7ae4714c-9feb-4645-88ee-93bf7d28a5a3",
   "metadata": {},
   "outputs": [
    {
     "name": "stdout",
     "output_type": "stream",
     "text": [
      "| 0.50, 0.00, 912286.93|\n",
      "| 0.00,-0.50, 273618.30|\n",
      "| 0.00, 0.00, 1.00|\n",
      "| 0.50, 0.00, 912286.93|\n",
      "| 0.00,-0.50, 273618.30|\n",
      "| 0.00, 0.00, 1.00|\n"
     ]
    }
   ],
   "source": [
    "print(srcRst.transform)\n",
    "print(transform)"
   ]
  },
  {
   "cell_type": "code",
   "execution_count": 66,
   "id": "89d306b6-08ca-43d7-9137-6a65628b9a59",
   "metadata": {},
   "outputs": [
    {
     "ename": "SystemError",
     "evalue": "<built-in function wrapper_GDALWarpDestName> returned a result with an error set",
     "output_type": "error",
     "traceback": [
      "\u001b[0;31m---------------------------------------------------------------------------\u001b[0m",
      "\u001b[0;31mKeyboardInterrupt\u001b[0m                         Traceback (most recent call last)",
      "File \u001b[0;32m/opt/conda/lib/python3.9/site-packages/osgeo/gdal.py:2234\u001b[0m, in \u001b[0;36mDataset.<lambda>\u001b[0;34m(self, name, value)\u001b[0m\n\u001b[1;32m   2233\u001b[0m     __swig_setmethods__\u001b[38;5;241m.\u001b[39mupdate(\u001b[38;5;28mgetattr\u001b[39m(_s, \u001b[38;5;124m'\u001b[39m\u001b[38;5;124m__swig_setmethods__\u001b[39m\u001b[38;5;124m'\u001b[39m, {}))\n\u001b[0;32m-> 2234\u001b[0m \u001b[38;5;21m__setattr__\u001b[39m \u001b[38;5;241m=\u001b[39m \u001b[38;5;28;01mlambda\u001b[39;00m \u001b[38;5;28mself\u001b[39m, name, value: _swig_setattr(\u001b[38;5;28mself\u001b[39m, Dataset, name, value)\n\u001b[1;32m   2235\u001b[0m __swig_getmethods__ \u001b[38;5;241m=\u001b[39m {}\n",
      "\u001b[0;31mKeyboardInterrupt\u001b[0m: ",
      "\nThe above exception was the direct cause of the following exception:\n",
      "\u001b[0;31mSystemError\u001b[0m                               Traceback (most recent call last)",
      "Cell \u001b[0;32mIn [66], line 3\u001b[0m\n\u001b[1;32m      1\u001b[0m \u001b[38;5;66;03m# sicne both are in the same crs and there is no transform we can just scale the landuse to 1X1\u001b[39;00m\n\u001b[1;32m      2\u001b[0m filepath \u001b[38;5;241m=\u001b[39m os\u001b[38;5;241m.\u001b[39mpath\u001b[38;5;241m.\u001b[39mjoin(out_path, \u001b[38;5;124m'\u001b[39m\u001b[38;5;124mNYC_2017_LiDAR_LandCover.tif\u001b[39m\u001b[38;5;124m'\u001b[39m)\n\u001b[0;32m----> 3\u001b[0m reduc \u001b[38;5;241m=\u001b[39m \u001b[43mgdal\u001b[49m\u001b[38;5;241;43m.\u001b[39;49m\u001b[43mWarp\u001b[49m\u001b[43m(\u001b[49m\u001b[43mfilepath\u001b[49m\u001b[43m,\u001b[49m\u001b[43m \u001b[49m\u001b[38;5;124;43m'\u001b[39;49m\u001b[38;5;124;43m/workspace/data-sets/raster_data/NYC_2017_LiDAR_LandCover.img\u001b[39;49m\u001b[38;5;124;43m'\u001b[39;49m\u001b[43m,\u001b[49m\u001b[43m \u001b[49m\u001b[43mxRes\u001b[49m\u001b[38;5;241;43m=\u001b[39;49m\u001b[38;5;241;43m1\u001b[39;49m\u001b[43m,\u001b[49m\u001b[43m \u001b[49m\u001b[43myRes\u001b[49m\u001b[38;5;241;43m=\u001b[39;49m\u001b[38;5;241;43m1\u001b[39;49m\u001b[43m)\u001b[49m\n",
      "File \u001b[0;32m/opt/conda/lib/python3.9/site-packages/osgeo/gdal.py:689\u001b[0m, in \u001b[0;36mWarp\u001b[0;34m(destNameOrDestDS, srcDSOrSrcDSTab, **kwargs)\u001b[0m\n\u001b[1;32m    686\u001b[0m     srcDSTab \u001b[38;5;241m=\u001b[39m [srcDSOrSrcDSTab]\n\u001b[1;32m    688\u001b[0m \u001b[38;5;28;01mif\u001b[39;00m \u001b[38;5;28misinstance\u001b[39m(destNameOrDestDS, \u001b[38;5;28mstr\u001b[39m):\n\u001b[0;32m--> 689\u001b[0m     \u001b[38;5;28;01mreturn\u001b[39;00m \u001b[43mwrapper_GDALWarpDestName\u001b[49m\u001b[43m(\u001b[49m\u001b[43mdestNameOrDestDS\u001b[49m\u001b[43m,\u001b[49m\u001b[43m \u001b[49m\u001b[43msrcDSTab\u001b[49m\u001b[43m,\u001b[49m\u001b[43m \u001b[49m\u001b[43mopts\u001b[49m\u001b[43m,\u001b[49m\u001b[43m \u001b[49m\u001b[43mcallback\u001b[49m\u001b[43m,\u001b[49m\u001b[43m \u001b[49m\u001b[43mcallback_data\u001b[49m\u001b[43m)\u001b[49m\n\u001b[1;32m    690\u001b[0m \u001b[38;5;28;01melse\u001b[39;00m:\n\u001b[1;32m    691\u001b[0m     \u001b[38;5;28;01mreturn\u001b[39;00m wrapper_GDALWarpDestDS(destNameOrDestDS, srcDSTab, opts, callback, callback_data)\n",
      "File \u001b[0;32m/opt/conda/lib/python3.9/site-packages/osgeo/gdal.py:4600\u001b[0m, in \u001b[0;36mwrapper_GDALWarpDestName\u001b[0;34m(*args)\u001b[0m\n\u001b[1;32m   4598\u001b[0m \u001b[38;5;28;01mdef\u001b[39;00m \u001b[38;5;21mwrapper_GDALWarpDestName\u001b[39m(\u001b[38;5;241m*\u001b[39margs):\n\u001b[1;32m   4599\u001b[0m     \u001b[38;5;124;03m\"\"\"wrapper_GDALWarpDestName(char const * dest, int object_list_count, GDALWarpAppOptions warpAppOptions, GDALProgressFunc callback=0, void * callback_data=None) -> Dataset\"\"\"\u001b[39;00m\n\u001b[0;32m-> 4600\u001b[0m     \u001b[38;5;28;01mreturn\u001b[39;00m \u001b[43m_gdal\u001b[49m\u001b[38;5;241;43m.\u001b[39;49m\u001b[43mwrapper_GDALWarpDestName\u001b[49m\u001b[43m(\u001b[49m\u001b[38;5;241;43m*\u001b[39;49m\u001b[43margs\u001b[49m\u001b[43m)\u001b[49m\n",
      "\u001b[0;31mSystemError\u001b[0m: <built-in function wrapper_GDALWarpDestName> returned a result with an error set"
     ]
    }
   ],
   "source": [
    "# sicne both are in the same crs and there is no transform we can just scale the landuse to 1X1\n",
    "filepath = os.path.join(out_path, 'NYC_2017_LiDAR_LandCover.tif')\n",
    "reduc = gdal.Warp(filepath, '/workspace/data-sets/raster_data/NYC_2017_LiDAR_LandCover.img', warpoptions=dict(xRes=1, yRes=1, resampleAlg=mode"
   ]
  },
  {
   "cell_type": "code",
   "execution_count": 68,
   "id": "d739be07-cdcd-4f26-8053-b8a7586abf2c",
   "metadata": {},
   "outputs": [],
   "source": [
    "reduc = None"
   ]
  },
  {
   "cell_type": "code",
   "execution_count": null,
   "id": "5b8b779c-7eb5-4429-928a-debfa3486321",
   "metadata": {},
   "outputs": [],
   "source": [
    "# Validation"
   ]
  },
  {
   "cell_type": "markdown",
   "id": "ff18af82-bc0e-48e7-ba05-8b0f2efa1efc",
   "metadata": {},
   "source": [
    "## Secondary Data\n",
    "---"
   ]
  },
  {
   "cell_type": "markdown",
   "id": "f38dc727-7fea-48f3-8240-9706b66e4fc4",
   "metadata": {},
   "source": [
    "### Zip Codes\n",
    "---"
   ]
  },
  {
   "cell_type": "code",
   "execution_count": null,
   "id": "e62286f1-3985-4a39-ae72-9163e706e9dc",
   "metadata": {},
   "outputs": [],
   "source": []
  }
 ],
 "metadata": {
  "kernelspec": {
   "display_name": "Python 3 (ipykernel)",
   "language": "python",
   "name": "python3"
  },
  "language_info": {
   "codemirror_mode": {
    "name": "ipython",
    "version": 3
   },
   "file_extension": ".py",
   "mimetype": "text/x-python",
   "name": "python",
   "nbconvert_exporter": "python",
   "pygments_lexer": "ipython3",
   "version": "3.9.12"
  }
 },
 "nbformat": 4,
 "nbformat_minor": 5
}
