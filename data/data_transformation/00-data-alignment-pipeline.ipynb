{
 "cells": [
  {
   "cell_type": "markdown",
   "id": "e01a9120-b89b-48e7-b962-35407312243c",
   "metadata": {},
   "source": [
    "# Data Alignment\n",
    "---"
   ]
  },
  {
   "cell_type": "markdown",
   "id": "7e1f978b-56ca-4aed-af32-727bb7d7059a",
   "metadata": {
    "jp-MarkdownHeadingCollapsed": true,
    "tags": []
   },
   "source": [
    "## Set up Notebook\n",
    "---"
   ]
  },
  {
   "cell_type": "code",
   "execution_count": 1,
   "id": "ab8ab545-6763-4e7f-ab66-185bc220d2f7",
   "metadata": {},
   "outputs": [],
   "source": [
    "import warnings\n",
    "warnings.filterwarnings('ignore')"
   ]
  },
  {
   "cell_type": "code",
   "execution_count": 2,
   "id": "045bd917-8e7a-43f1-94c7-e66e4bbb5470",
   "metadata": {},
   "outputs": [],
   "source": [
    "import fiona\n",
    "import geopandas as gpd\n",
    "import matplotlib.pyplot as plt\n",
    "import rasterio\n",
    "from rasterio import features\n",
    "from rasterio.enums import MergeAlg\n",
    "from rasterio.plot import show\n",
    "import numpy as np\n",
    "from shapely.geometry import Polygon, MultiPolygon, shape, Point\n",
    "\n",
    "from osgeo import gdal\n",
    "from osgeo import ogr\n",
    "\n",
    "# from dask_rasterio import read_raster, write_raster\n",
    "\n",
    "import os"
   ]
  },
  {
   "cell_type": "markdown",
   "id": "ce921c3d-4800-4e05-8e9c-97214f86859b",
   "metadata": {
    "jp-MarkdownHeadingCollapsed": true,
    "tags": []
   },
   "source": [
    "## Set Primary Raster\n",
    "---\n",
    "\n",
    "This is the raster we will be aligning all of our other data sets to.\n",
    "\n",
    "Raster: NYC_DEM_1ft_Int (elevation)"
   ]
  },
  {
   "cell_type": "code",
   "execution_count": 3,
   "id": "af6cfae6-f55d-4dcb-855c-0655614e8c04",
   "metadata": {},
   "outputs": [
    {
     "name": "stdout",
     "output_type": "stream",
     "text": [
      "bands:  1\n",
      "width:  158100\n",
      "height:  156100\n",
      "Bounds:  BoundingBox(left=910719.3, bottom=119060.67499999999, right=1068819.3, top=275160.675)\n",
      "dtype:  ('uint16',)\n",
      "EPSG:2263\n"
     ]
    }
   ],
   "source": [
    "rst = '/workspace/data-sets/NYC_DEM_1ft_Int/DEM_LiDAR_1ft_2010_Improved_NYC_int.tif'\n",
    "raster = rasterio.open(rst)\n",
    "print('bands: ', raster.count)\n",
    "print('width: ', raster.width)\n",
    "print('height: ', raster.height)\n",
    "print('Bounds: ', raster.bounds)\n",
    "print('dtype: ', raster.dtypes)\n",
    "\n",
    "base_wdith = raster.width\n",
    "base_height = raster.height\n",
    "base_count = raster.count\n",
    "base_bounds = raster.bounds\n",
    "base_transform = raster.transform\n",
    "base_dtype = raster.dtypes\n",
    "\n",
    "base_crs = raster.crs\n",
    "print(base_crs)\n",
    "\n",
    "ras_gd = gdal.Open(rst)\n",
    "rst_proj = ras_gd.GetProjection()\n",
    "rst_gtm = ras_gd.GetGeoTransform()"
   ]
  },
  {
   "cell_type": "code",
   "execution_count": 4,
   "id": "cdd3e6b9-7d7e-41ab-bd3f-e49db1116f86",
   "metadata": {},
   "outputs": [],
   "source": [
    "# Set Data Ouput\n",
    "rev = '10.9.2022'\n",
    "op = '/workspace/data-sets/transformations/'\n",
    "out_path = os.path.join(op, rev)\n",
    "\n",
    "# Make output directory\n",
    "# os.mkdir(out_path)"
   ]
  },
  {
   "cell_type": "code",
   "execution_count": 14,
   "id": "063302bf-c9cc-4ec7-a022-a144441e878a",
   "metadata": {},
   "outputs": [
    {
     "data": {
      "text/plain": [
       "'PROJCS[\"NAD83 / New York Long Island (ftUS)\",GEOGCS[\"NAD83\",DATUM[\"North_American_Datum_1983\",SPHEROID[\"GRS 1980\",6378137,298.257222100887,AUTHORITY[\"EPSG\",\"7019\"]],AUTHORITY[\"EPSG\",\"6269\"]],PRIMEM[\"Greenwich\",0],UNIT[\"degree\",0.0174532925199433,AUTHORITY[\"EPSG\",\"9122\"]],AUTHORITY[\"EPSG\",\"4269\"]],PROJECTION[\"Lambert_Conformal_Conic_2SP\"],PARAMETER[\"latitude_of_origin\",40.1666666666667],PARAMETER[\"central_meridian\",-74],PARAMETER[\"standard_parallel_1\",41.0333333333333],PARAMETER[\"standard_parallel_2\",40.6666666666667],PARAMETER[\"false_easting\",984250],PARAMETER[\"false_northing\",0],UNIT[\"US survey foot\",0.304800609601219,AUTHORITY[\"EPSG\",\"9003\"]],AXIS[\"Easting\",EAST],AXIS[\"Northing\",NORTH],AUTHORITY[\"EPSG\",\"2263\"]]'"
      ]
     },
     "execution_count": 14,
     "metadata": {},
     "output_type": "execute_result"
    }
   ],
   "source": [
    "rst_proj "
   ]
  },
  {
   "cell_type": "markdown",
   "id": "c763d79c-fac2-4ce2-a194-c5d3712d88c0",
   "metadata": {
    "jp-MarkdownHeadingCollapsed": true,
    "tags": []
   },
   "source": [
    "## Write Raster Method\n",
    "---"
   ]
  },
  {
   "cell_type": "code",
   "execution_count": 17,
   "id": "8ef92573-46a9-424d-9c76-1dfb6312cc4a",
   "metadata": {},
   "outputs": [],
   "source": [
    "def raster_writer(out_file, rasterized, unit, ras_gd):\n",
    "    \"\"\"\n",
    "    This function takes a rasterized 2d array and writes a raster file out\n",
    "    \n",
    "    :param [out_path]: This is the full output file name for the raster\n",
    "    :type [out_path]: string\n",
    "    :param [rasterized]: 2D Array to write to raster image\n",
    "    :type [rasterized]: np array\n",
    "    :param [unit]: gdal unit for data encoding (i.e. GDT_UInt16)\n",
    "    :type [unit]: gdal data unit\n",
    "    :param [rst_proj]: base raster projection\n",
    "    :type [rst_proj]: gdal.projection\n",
    "    :param[rst_gtm]: base raster geotransform\n",
    "    :type [rst_gtm]: list\n",
    "    \n",
    "    \"\"\"\n",
    "    # out_file = filepath\n",
    "    driver = gdal.GetDriverByName(\"GTiff\")\n",
    "    # ds = driver.Create(out_file, rasterized.shape[1], rasterized.shape[0], 1, gdal.GDT_UInt16)\n",
    "    out_ds = driver.Create(out_file, rasterized.shape[1], rasterized.shape[0], 1, unit) #gdal.GDT_UInt16\n",
    "    out_ds.SetProjection(ras_gd.GetProjection())\n",
    "    out_ds.SetGeoTransform(ras_gd.GetGeoTransform())\n",
    "    band = out_ds.GetRasterBand(1)\n",
    "    band.WriteArray(rasterized)\n",
    "    band.FlushCache()\n",
    "    band.ComputeStatistics(False)"
   ]
  },
  {
   "cell_type": "code",
   "execution_count": 6,
   "id": "9aa8fed1-0cef-4981-8a32-ff3218b00351",
   "metadata": {},
   "outputs": [],
   "source": [
    "def validate_raster(path, base_raster=raster):\n",
    "    rasterized = rasterio.open(path)\n",
    "    \n",
    "    print('width: ', raster.width, rasterized.width)\n",
    "    print('height: ', raster.height, rasterized.height)\n",
    "    print('Bounds: ', raster.bounds, rasterized.bounds)\n",
    "    print('Crs: ', raster.crs, rasterized.crs)"
   ]
  },
  {
   "cell_type": "code",
   "execution_count": null,
   "id": "fbffb22d-35aa-45f5-9631-ea62b9c7983b",
   "metadata": {},
   "outputs": [],
   "source": [
    "## Alternate methods but may crash kernal\n",
    "\n",
    "## rasterio\n",
    "# # Write to Tif\n",
    "# out_file =os.path.join(out_path, 'DEPCatchbasins.tif')\n",
    "\n",
    "# with rasterio.open(\n",
    "#         out_file, \"w\",\n",
    "#         driver = \"GTiff\",\n",
    "#         transform = base_transform,\n",
    "#         dtype = rasterio.uint16,\n",
    "#         count = 1,\n",
    "#         width = base_wdith,\n",
    "#         height = base_height) as dst:\n",
    "#     dst.write(rasterized, indexes = 1)\n",
    "\n",
    "## dask-rasterio\n",
    "# out_file =os.path.join(out_path, 'DEPCatchbasins.tif')\n",
    "\n",
    "# write_raster(out_file, \n",
    "#              rasterized,\n",
    "#              transform = base_transform,\n",
    "#              dtype = rasterio.uint16,\n",
    "#              count = 1,\n",
    "#              width = base_wdith,\n",
    "#              height = base_height)\n",
    "             "
   ]
  },
  {
   "cell_type": "code",
   "execution_count": 7,
   "id": "05e9d5ba-b668-4b6e-826d-09920a8ab55c",
   "metadata": {},
   "outputs": [],
   "source": [
    "## Write Raster Burn Methods\n",
    "def simple_point_raster(v_df):\n",
    "    geom = [shapes for shapes in v_df.geometry]\n",
    "\n",
    "    rasterized = features.rasterize(geom,\n",
    "                                    out_shape = raster.shape,\n",
    "                                    fill = 0,\n",
    "                                    out = None,\n",
    "                                    transform = raster.transform,\n",
    "                                    all_touched = False,\n",
    "                                    default_value = 1,\n",
    "                                    dtype = None)\n",
    "    \n",
    "    return rasterized"
   ]
  },
  {
   "cell_type": "markdown",
   "id": "e447f65d-66a5-46a6-b9f0-a34d0b69ce4a",
   "metadata": {},
   "source": [
    "## Primary Data\n",
    "---"
   ]
  },
  {
   "cell_type": "markdown",
   "id": "6ff7f7ca-cab4-4ec4-bf1b-c63a3cf715f8",
   "metadata": {
    "jp-MarkdownHeadingCollapsed": true,
    "tags": []
   },
   "source": [
    "### Catch Basins"
   ]
  },
  {
   "cell_type": "code",
   "execution_count": 18,
   "id": "f2fb4d1a-8a0e-4f45-81e4-940e8401d3ac",
   "metadata": {},
   "outputs": [
    {
     "name": "stdout",
     "output_type": "stream",
     "text": [
      "Min:  0\n",
      "Max:  1\n",
      "width:  158100 158100\n",
      "height:  156100 156100\n",
      "Bounds:  BoundingBox(left=910719.3, bottom=119060.67499999999, right=1068819.3, top=275160.675) BoundingBox(left=910719.3, bottom=119060.67499999999, right=1068819.3, top=275160.675)\n",
      "Crs:  EPSG:2263 EPSG:2263\n"
     ]
    }
   ],
   "source": [
    "# Load Data\n",
    "shape = '/workspace/data-sets/DEPCatchbasins/DEPCATCHBASINS.shp'\n",
    "v_df = gpd.read_file(shape)\n",
    "# v_df.head()\n",
    "\n",
    "# Burn Raster\n",
    "rasterized = None\n",
    "rasterized = simple_point_raster(v_df)\n",
    "\n",
    "# initial Validate\n",
    "print('Min: ', rasterized.min())\n",
    "print('Max: ', rasterized.max())\n",
    "\n",
    "# Save Raster\n",
    "filepath = os.path.join(out_path, 'DEPCatchbasins.tif')\n",
    "raster_writer(filepath, rasterized, gdal.GDT_UInt16, ras_gd)\n",
    "\n",
    "# Validate\n",
    "validate_raster('/workspace/data-sets/transformations/10.9.2022/DEPCatchbasins.tif')"
   ]
  },
  {
   "cell_type": "markdown",
   "id": "34b63d0a-1c38-4d87-ad93-82f2261f7fff",
   "metadata": {
    "jp-MarkdownHeadingCollapsed": true,
    "tags": []
   },
   "source": [
    "### Subway Enterances"
   ]
  },
  {
   "cell_type": "code",
   "execution_count": 20,
   "id": "15ac7147-6ab0-476c-b6b0-32fce3f0fc22",
   "metadata": {},
   "outputs": [
    {
     "name": "stdout",
     "output_type": "stream",
     "text": [
      "Min:  0\n",
      "Max:  1\n",
      "width:  158100 158100\n",
      "height:  156100 156100\n",
      "Bounds:  BoundingBox(left=910719.3, bottom=119060.67499999999, right=1068819.3, top=275160.675) BoundingBox(left=910719.3, bottom=119060.67499999999, right=1068819.3, top=275160.675)\n",
      "Crs:  EPSG:2263 EPSG:2263\n"
     ]
    }
   ],
   "source": [
    "# Load Data\n",
    "shape = '/workspace/data-sets/doitt_subway_entrances/DOITT_SUBWAY_ENTRANCE_04JAN2017.shp'\n",
    "v_df = gpd.read_file(shape)\n",
    "# v_df.head()\n",
    "\n",
    "# Burn Raster\n",
    "rasterized = None\n",
    "rasterized = simple_point_raster(v_df)\n",
    "\n",
    "# initial Validate\n",
    "print('Min: ', rasterized.min())\n",
    "print('Max: ', rasterized.max())\n",
    "\n",
    "# Save Raster\n",
    "filepath = os.path.join(out_path, 'DOITT_SUBWAY_ENTRANCE_04JAN2017.tif')\n",
    "raster_writer(filepath, rasterized, gdal.GDT_UInt16, ras_gd)\n",
    "\n",
    "# Validate\n",
    "validate_raster(filepath)"
   ]
  },
  {
   "cell_type": "markdown",
   "id": "6dd20aa2-825c-4694-8587-96ccf47c03f4",
   "metadata": {},
   "source": [
    "### Shoreline"
   ]
  },
  {
   "cell_type": "code",
   "execution_count": null,
   "id": "7d636545-9fca-42f9-a39b-5d7350986762",
   "metadata": {},
   "outputs": [],
   "source": [
    "# Load Data\n",
    "shape = '/workspace/data-sets/nyc_shoreline/NYC_2017_LiDAR_Low_Tide_Shoreline.shp'\n",
    "v_df = gpd.read_file(shape)\n",
    "v_df.head()"
   ]
  },
  {
   "cell_type": "code",
   "execution_count": null,
   "id": "a21e29be-ee6a-4e74-b4b9-58928f0b83e0",
   "metadata": {},
   "outputs": [],
   "source": []
  },
  {
   "cell_type": "markdown",
   "id": "aaefbeab-5508-4115-a4cf-62a26a5bee13",
   "metadata": {},
   "source": [
    "### Retaining Walls\n",
    "---"
   ]
  },
  {
   "cell_type": "code",
   "execution_count": null,
   "id": "ef861a69-8323-4c8a-889d-453dcb5805f8",
   "metadata": {},
   "outputs": [],
   "source": []
  },
  {
   "cell_type": "markdown",
   "id": "c71fc9bb-404b-4a04-b8fc-db30863f2f4e",
   "metadata": {},
   "source": [
    "### Hydro\n",
    "---"
   ]
  },
  {
   "cell_type": "code",
   "execution_count": null,
   "id": "e0089a71-d9b1-4de4-8d53-b411e78e40ef",
   "metadata": {},
   "outputs": [],
   "source": []
  },
  {
   "cell_type": "code",
   "execution_count": null,
   "id": "7da43396-ce93-4288-97f9-a1f34bda5e15",
   "metadata": {},
   "outputs": [],
   "source": []
  },
  {
   "cell_type": "markdown",
   "id": "65793abc-d3a9-4c00-b684-05ac0aa5667b",
   "metadata": {},
   "source": [
    "### Land Cover Reprojection\n",
    "---"
   ]
  },
  {
   "cell_type": "code",
   "execution_count": null,
   "id": "27882bcd-9b58-40c7-829c-dd12a8df0aed",
   "metadata": {},
   "outputs": [],
   "source": []
  },
  {
   "cell_type": "code",
   "execution_count": null,
   "id": "1da91ce8-382c-4e4d-a0a9-36adcc0ddf3b",
   "metadata": {},
   "outputs": [],
   "source": []
  },
  {
   "cell_type": "markdown",
   "id": "ff18af82-bc0e-48e7-ba05-8b0f2efa1efc",
   "metadata": {},
   "source": [
    "## Secondary Data\n",
    "---"
   ]
  },
  {
   "cell_type": "markdown",
   "id": "f38dc727-7fea-48f3-8240-9706b66e4fc4",
   "metadata": {},
   "source": [
    "### Zip Codes\n",
    "---"
   ]
  },
  {
   "cell_type": "code",
   "execution_count": null,
   "id": "e62286f1-3985-4a39-ae72-9163e706e9dc",
   "metadata": {},
   "outputs": [],
   "source": []
  }
 ],
 "metadata": {
  "kernelspec": {
   "display_name": "Python 3 (ipykernel)",
   "language": "python",
   "name": "python3"
  },
  "language_info": {
   "codemirror_mode": {
    "name": "ipython",
    "version": 3
   },
   "file_extension": ".py",
   "mimetype": "text/x-python",
   "name": "python",
   "nbconvert_exporter": "python",
   "pygments_lexer": "ipython3",
   "version": "3.9.12"
  }
 },
 "nbformat": 4,
 "nbformat_minor": 5
}
