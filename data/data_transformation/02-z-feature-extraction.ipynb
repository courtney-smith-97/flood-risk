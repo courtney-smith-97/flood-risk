{
 "cells": [
  {
   "cell_type": "markdown",
   "id": "28c197d4-bb6e-4412-bd52-f192288dc590",
   "metadata": {},
   "source": [
    "# Extracting Z Features from Z type geoshapes (Point/Line/Multiline/Polygon Z Feature Types)\n",
    "---\n",
    "Walkthrough on how to extract Z features and append them to the shape file in preperation to burn them as the feature into a raster image."
   ]
  },
  {
   "cell_type": "markdown",
   "id": "7210a417-6906-426a-8f33-cc9cb5fdadc3",
   "metadata": {},
   "source": [
    "## Setup Notebook\n",
    "---"
   ]
  },
  {
   "cell_type": "code",
   "execution_count": 2,
   "id": "3925feee-25d4-4f59-b864-03070a8cb383",
   "metadata": {},
   "outputs": [],
   "source": [
    "import warnings\n",
    "warnings.filterwarnings('ignore')"
   ]
  },
  {
   "cell_type": "code",
   "execution_count": 20,
   "id": "6aea598c-b5cc-4391-ba72-de073a90bf72",
   "metadata": {},
   "outputs": [],
   "source": [
    "import fiona\n",
    "import geopandas as gpd\n",
    "import numpy as np"
   ]
  },
  {
   "cell_type": "markdown",
   "id": "3ad6f289-1001-4696-8bdc-de7711cfbb07",
   "metadata": {},
   "source": [
    "## Import Data\n",
    "---"
   ]
  },
  {
   "cell_type": "code",
   "execution_count": 6,
   "id": "9391cbb9-e961-4e38-9bde-907e36b2d683",
   "metadata": {},
   "outputs": [],
   "source": [
    "plan = '/workspace/data-sets/NYC_DoITT_Planimetric_OpenData.gdb/NYC_DoITT_Planimetric_OpenData.gdb'"
   ]
  },
  {
   "cell_type": "code",
   "execution_count": 9,
   "id": "61ccd3e2-9098-4402-aa0f-319667b40ec9",
   "metadata": {},
   "outputs": [
    {
     "data": {
      "text/plain": [
       "['PAVEMENT_EDGE',\n",
       " 'HYDRO_STRUCTURE',\n",
       " 'RETAININGWALL',\n",
       " 'HYDROGRAPHY',\n",
       " 'SIDEWALK',\n",
       " 'PARK',\n",
       " 'MEDIAN',\n",
       " 'SWIMMING_POOL',\n",
       " 'OPEN_SPACE_NO_PARK',\n",
       " 'PARKING_LOT',\n",
       " 'SHORELINE',\n",
       " 'BOARDWALK',\n",
       " 'RAILROAD',\n",
       " 'TRANSPORT_STRUCTURE',\n",
       " 'ELEVATION',\n",
       " 'MISC_STRUCTURE_POLY',\n",
       " 'CURB',\n",
       " 'ROADBED',\n",
       " 'PLAZA',\n",
       " 'SIDEWALK_LINE',\n",
       " 'RAILROAD_STRUCTURE']"
      ]
     },
     "execution_count": 9,
     "metadata": {},
     "output_type": "execute_result"
    }
   ],
   "source": [
    "# Extract the layer names into a list\n",
    "layer_list = fiona.listlayers(plan)\n",
    "layer_list"
   ]
  },
  {
   "cell_type": "code",
   "execution_count": 10,
   "id": "89a103ed-4163-4310-9994-439e58f3d183",
   "metadata": {},
   "outputs": [],
   "source": [
    "# Extract Layer Data into a List of GPD Frames\n",
    "plan_data_list = []\n",
    "\n",
    "for layer_name in layer_list:\n",
    "    plan_data_list.append(gpd.read_file(plan, layer=layer_name))"
   ]
  },
  {
   "cell_type": "markdown",
   "id": "2f523273-6a15-4370-92d0-ea320ef8572f",
   "metadata": {},
   "source": [
    "## Extract Z From Multiline\n",
    "---"
   ]
  },
  {
   "cell_type": "code",
   "execution_count": 11,
   "id": "c70758a3-04a6-47bc-984a-5cba4dd84b21",
   "metadata": {},
   "outputs": [
    {
     "name": "stdout",
     "output_type": "stream",
     "text": [
      "RETAININGWALL\n"
     ]
    },
    {
     "data": {
      "text/html": [
       "<div>\n",
       "<style scoped>\n",
       "    .dataframe tbody tr th:only-of-type {\n",
       "        vertical-align: middle;\n",
       "    }\n",
       "\n",
       "    .dataframe tbody tr th {\n",
       "        vertical-align: top;\n",
       "    }\n",
       "\n",
       "    .dataframe thead th {\n",
       "        text-align: right;\n",
       "    }\n",
       "</style>\n",
       "<table border=\"1\" class=\"dataframe\">\n",
       "  <thead>\n",
       "    <tr style=\"text-align: right;\">\n",
       "      <th></th>\n",
       "      <th>SOURCE_ID</th>\n",
       "      <th>FEATURE_CODE</th>\n",
       "      <th>SUB_FEATURE_CODE</th>\n",
       "      <th>STATUS</th>\n",
       "      <th>SHAPE_Length</th>\n",
       "      <th>height</th>\n",
       "      <th>geometry</th>\n",
       "    </tr>\n",
       "  </thead>\n",
       "  <tbody>\n",
       "    <tr>\n",
       "      <th>0</th>\n",
       "      <td>2.140000e+10</td>\n",
       "      <td>4000</td>\n",
       "      <td>400000</td>\n",
       "      <td>Unchanged</td>\n",
       "      <td>365.715400</td>\n",
       "      <td>41</td>\n",
       "      <td>MULTILINESTRING Z ((985530.573 194711.453 44.4...</td>\n",
       "    </tr>\n",
       "    <tr>\n",
       "      <th>1</th>\n",
       "      <td>2.140000e+10</td>\n",
       "      <td>4000</td>\n",
       "      <td>400000</td>\n",
       "      <td>Unchanged</td>\n",
       "      <td>226.155070</td>\n",
       "      <td>66</td>\n",
       "      <td>MULTILINESTRING Z ((985475.003 194408.890 68.2...</td>\n",
       "    </tr>\n",
       "    <tr>\n",
       "      <th>2</th>\n",
       "      <td>2.140000e+10</td>\n",
       "      <td>4000</td>\n",
       "      <td>400000</td>\n",
       "      <td>Unchanged</td>\n",
       "      <td>50.949832</td>\n",
       "      <td>19</td>\n",
       "      <td>MULTILINESTRING Z ((985523.914 194769.822 22.7...</td>\n",
       "    </tr>\n",
       "    <tr>\n",
       "      <th>3</th>\n",
       "      <td>2.140000e+10</td>\n",
       "      <td>4000</td>\n",
       "      <td>400000</td>\n",
       "      <td>Unchanged</td>\n",
       "      <td>175.276149</td>\n",
       "      <td>65</td>\n",
       "      <td>MULTILINESTRING Z ((987357.515 194593.661 68.9...</td>\n",
       "    </tr>\n",
       "    <tr>\n",
       "      <th>4</th>\n",
       "      <td>2.140000e+10</td>\n",
       "      <td>4000</td>\n",
       "      <td>400000</td>\n",
       "      <td>Unchanged</td>\n",
       "      <td>100.051403</td>\n",
       "      <td>69</td>\n",
       "      <td>MULTILINESTRING Z ((987949.170 194143.960 70.9...</td>\n",
       "    </tr>\n",
       "  </tbody>\n",
       "</table>\n",
       "</div>"
      ],
      "text/plain": [
       "      SOURCE_ID  FEATURE_CODE  SUB_FEATURE_CODE     STATUS  SHAPE_Length  \\\n",
       "0  2.140000e+10          4000            400000  Unchanged    365.715400   \n",
       "1  2.140000e+10          4000            400000  Unchanged    226.155070   \n",
       "2  2.140000e+10          4000            400000  Unchanged     50.949832   \n",
       "3  2.140000e+10          4000            400000  Unchanged    175.276149   \n",
       "4  2.140000e+10          4000            400000  Unchanged    100.051403   \n",
       "\n",
       "   height                                           geometry  \n",
       "0      41  MULTILINESTRING Z ((985530.573 194711.453 44.4...  \n",
       "1      66  MULTILINESTRING Z ((985475.003 194408.890 68.2...  \n",
       "2      19  MULTILINESTRING Z ((985523.914 194769.822 22.7...  \n",
       "3      65  MULTILINESTRING Z ((987357.515 194593.661 68.9...  \n",
       "4      69  MULTILINESTRING Z ((987949.170 194143.960 70.9...  "
      ]
     },
     "execution_count": 11,
     "metadata": {},
     "output_type": "execute_result"
    }
   ],
   "source": [
    "print(layer_list[2])\n",
    "data = plan_data_list[2]\n",
    "data.head()"
   ]
  },
  {
   "cell_type": "markdown",
   "id": "77702247-860b-4fa3-abf7-eb7cac597503",
   "metadata": {},
   "source": [
    "Now that the data is loaded we need to  extract the Z coordinates. AS this is is a multiline there are Z values for each pont as part of the multiline. Therefore we need to not only loop over the entries in the gpd but the points which compose the multi line themselves. This will leave us with a list of Z-values for each line.\n",
    "\n",
    "A quick note - When burning a raster, the Z value can only be one value. We have multiple ways of this and this will be addressed in the raster burning notebook."
   ]
  },
  {
   "cell_type": "code",
   "execution_count": 32,
   "id": "044c5c8c-c489-42ac-9146-e27a6e324e71",
   "metadata": {},
   "outputs": [],
   "source": [
    "z_value = []\n",
    "for feature in data.geometry:\n",
    "    # Extract the 3 dimensional features\n",
    "    coords = [list(line.coords) for line in feature][0]\n",
    "    z = []\n",
    "    \n",
    "    for tup in coords:\n",
    "        z.append(tup[2])\n",
    "    z_value.append(z)"
   ]
  },
  {
   "cell_type": "markdown",
   "id": "d4d8e065-145a-454d-879a-c754b541cefc",
   "metadata": {},
   "source": [
    "### Validation\n",
    "---"
   ]
  },
  {
   "cell_type": "code",
   "execution_count": 33,
   "id": "72b7bdd9-102e-41bf-abca-e5e6317d4a54",
   "metadata": {},
   "outputs": [
    {
     "name": "stdout",
     "output_type": "stream",
     "text": [
      "length of z value enteries: 4078\n",
      "length of initial gpd: 4078\n"
     ]
    }
   ],
   "source": [
    "print('length of z value enteries:', len(z_value))\n",
    "print('length of initial gpd:', len(data))"
   ]
  },
  {
   "cell_type": "code",
   "execution_count": null,
   "id": "61b3bd98-ef69-4a53-82ef-de656f50ec09",
   "metadata": {},
   "outputs": [],
   "source": []
  }
 ],
 "metadata": {
  "kernelspec": {
   "display_name": "Python 3 (ipykernel)",
   "language": "python",
   "name": "python3"
  },
  "language_info": {
   "codemirror_mode": {
    "name": "ipython",
    "version": 3
   },
   "file_extension": ".py",
   "mimetype": "text/x-python",
   "name": "python",
   "nbconvert_exporter": "python",
   "pygments_lexer": "ipython3",
   "version": "3.9.12"
  }
 },
 "nbformat": 4,
 "nbformat_minor": 5
}
