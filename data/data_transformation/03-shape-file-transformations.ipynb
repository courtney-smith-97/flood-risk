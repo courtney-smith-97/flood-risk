{
 "cells": [
  {
   "cell_type": "markdown",
   "id": "2b9278ba-acf0-4f22-a13d-4dcc1e255228",
   "metadata": {},
   "source": [
    "# Converting Shape Geoms to Raster Image\n",
    "---"
   ]
  },
  {
   "cell_type": "markdown",
   "id": "bc268bcb-3469-4a29-a101-1b3cdcf8caf3",
   "metadata": {},
   "source": [
    "## Setup Notebook\n",
    "---"
   ]
  },
  {
   "cell_type": "code",
   "execution_count": 1,
   "id": "dc7f8a7c-073a-44d5-b4fc-4a3a583557ec",
   "metadata": {},
   "outputs": [],
   "source": [
    "import warnings\n",
    "warnings.filterwarnings('ignore')"
   ]
  },
  {
   "cell_type": "code",
   "execution_count": 2,
   "id": "50a328a0-d1bf-48ea-9f82-4d6cf13b1ca9",
   "metadata": {},
   "outputs": [],
   "source": [
    "import fiona\n",
    "import geopandas as gpd\n",
    "import matplotlib.pyplot as plt\n",
    "import rasterio\n",
    "from rasterio import features\n",
    "from rasterio.enums import MergeAlg\n",
    "from rasterio.plot import show\n",
    "import numpy as np\n",
    "from shapely.geometry import Polygon, MultiPolygon, shape, Point\n",
    "\n",
    "from osgeo import gdal\n",
    "from osgeo import ogr"
   ]
  },
  {
   "cell_type": "markdown",
   "id": "3f5a936f-434e-4937-83c2-8f25d7922219",
   "metadata": {},
   "source": [
    "## Binary Point Raster Burn\n",
    "---"
   ]
  },
  {
   "cell_type": "code",
   "execution_count": null,
   "id": "55a785b2-ec58-4d1c-8868-2b4d90a6b457",
   "metadata": {},
   "outputs": [],
   "source": [
    "# Load Data\n",
    "rst = '/workspace/data-sets/Land_Cover/nyc-lc-2-2.tif'\n",
    "shape = '/workspace/data-sets/DEPCatchbasins/DEPCATCHBASINS.shp'"
   ]
  },
  {
   "cell_type": "code",
   "execution_count": null,
   "id": "c85989a4-30f5-407e-a548-77b68235dff4",
   "metadata": {},
   "outputs": [],
   "source": [
    "raster = rasterio.open(rst)\n",
    "v_df = gpd.read_file(shape)\n",
    "v_df.head()"
   ]
  },
  {
   "cell_type": "code",
   "execution_count": null,
   "id": "80956b1d-d643-47c1-82fb-77cc52646eff",
   "metadata": {},
   "outputs": [],
   "source": [
    "layer = vector.GetLayer()\n",
    "ext = layer.GetExtent()\n",
    "feature = layer.GetFeature(1)"
   ]
  },
  {
   "cell_type": "code",
   "execution_count": null,
   "id": "73e16e82-4aac-4688-abdb-cf3a8f325455",
   "metadata": {},
   "outputs": [],
   "source": [
    "layer.GetFeatureCount()"
   ]
  },
  {
   "cell_type": "code",
   "execution_count": null,
   "id": "5aa7c203-5402-4c70-89d2-714a05c59751",
   "metadata": {},
   "outputs": [],
   "source": [
    "feature.GetField('UNITID')"
   ]
  },
  {
   "cell_type": "code",
   "execution_count": null,
   "id": "e919e85e-bed1-42b3-b8b6-3254636c6e46",
   "metadata": {},
   "outputs": [],
   "source": [
    "geom_value = ((geom,value) for geom, value in zip(vector.geometry, vector['id']))\n",
    "rasterized = features.rasterize(geom_value,\n",
    "                                out_shape = raster.shape,\n",
    "                                transform = raster.transform,\n",
    "                                all_touched = True,\n",
    "                                fill = -5,   # background value\n",
    "                                merge_alg = MergeAlg.replace,\n",
    "                                dtype = np.int16)"
   ]
  },
  {
   "cell_type": "markdown",
   "id": "b0d572be-c4ac-4295-8560-9bc268753473",
   "metadata": {},
   "source": [
    "## Multipoint Raster Burn\n",
    "---"
   ]
  },
  {
   "cell_type": "code",
   "execution_count": null,
   "id": "83c5ea4a-fe9a-4078-96a3-b358c1097e52",
   "metadata": {},
   "outputs": [],
   "source": []
  },
  {
   "cell_type": "markdown",
   "id": "80911cbe-67c4-4a79-be70-87c28baf6dfa",
   "metadata": {},
   "source": [
    "## Extra Point Extraction\n",
    "---"
   ]
  },
  {
   "cell_type": "code",
   "execution_count": 39,
   "id": "d8c7875a-9265-4d83-a5ff-532a2fdb8592",
   "metadata": {},
   "outputs": [
    {
     "data": {
      "text/html": [
       "<div>\n",
       "<style scoped>\n",
       "    .dataframe tbody tr th:only-of-type {\n",
       "        vertical-align: middle;\n",
       "    }\n",
       "\n",
       "    .dataframe tbody tr th {\n",
       "        vertical-align: top;\n",
       "    }\n",
       "\n",
       "    .dataframe thead th {\n",
       "        text-align: right;\n",
       "    }\n",
       "</style>\n",
       "<table border=\"1\" class=\"dataframe\">\n",
       "  <thead>\n",
       "    <tr style=\"text-align: right;\">\n",
       "      <th></th>\n",
       "      <th>ELEVATION</th>\n",
       "      <th>SOURCE_ID</th>\n",
       "      <th>FEATURE_CODE</th>\n",
       "      <th>SUB_FEATURE_CODE</th>\n",
       "      <th>STATUS</th>\n",
       "      <th>geometry</th>\n",
       "      <th>x</th>\n",
       "      <th>y</th>\n",
       "      <th>z</th>\n",
       "    </tr>\n",
       "  </thead>\n",
       "  <tbody>\n",
       "    <tr>\n",
       "      <th>0</th>\n",
       "      <td>129.740000</td>\n",
       "      <td>2.130200e+10</td>\n",
       "      <td>3020</td>\n",
       "      <td>302000</td>\n",
       "      <td>Unchanged</td>\n",
       "      <td>POINT (989083.000 195003.260)</td>\n",
       "      <td>989082.999837</td>\n",
       "      <td>195003.259978</td>\n",
       "      <td>129.7400</td>\n",
       "    </tr>\n",
       "    <tr>\n",
       "      <th>1</th>\n",
       "      <td>120.586263</td>\n",
       "      <td>2.130000e+10</td>\n",
       "      <td>3000</td>\n",
       "      <td>300020</td>\n",
       "      <td>Unchanged</td>\n",
       "      <td>POINT (987638.301 195007.228)</td>\n",
       "      <td>987638.300954</td>\n",
       "      <td>195007.227818</td>\n",
       "      <td>120.5863</td>\n",
       "    </tr>\n",
       "    <tr>\n",
       "      <th>2</th>\n",
       "      <td>114.740000</td>\n",
       "      <td>2.130200e+10</td>\n",
       "      <td>3020</td>\n",
       "      <td>302000</td>\n",
       "      <td>Unchanged</td>\n",
       "      <td>POINT (988565.410 195011.600)</td>\n",
       "      <td>988565.409993</td>\n",
       "      <td>195011.599856</td>\n",
       "      <td>114.7400</td>\n",
       "    </tr>\n",
       "    <tr>\n",
       "      <th>3</th>\n",
       "      <td>69.130000</td>\n",
       "      <td>2.130200e+10</td>\n",
       "      <td>3020</td>\n",
       "      <td>302000</td>\n",
       "      <td>Unchanged</td>\n",
       "      <td>POINT (989509.570 195013.270)</td>\n",
       "      <td>989509.569850</td>\n",
       "      <td>195013.270128</td>\n",
       "      <td>69.1300</td>\n",
       "    </tr>\n",
       "    <tr>\n",
       "      <th>4</th>\n",
       "      <td>49.235397</td>\n",
       "      <td>2.130200e+10</td>\n",
       "      <td>3020</td>\n",
       "      <td>302000</td>\n",
       "      <td>Unchanged</td>\n",
       "      <td>POINT (987570.796 195019.969)</td>\n",
       "      <td>987570.795840</td>\n",
       "      <td>195019.969262</td>\n",
       "      <td>49.2354</td>\n",
       "    </tr>\n",
       "  </tbody>\n",
       "</table>\n",
       "</div>"
      ],
      "text/plain": [
       "    ELEVATION     SOURCE_ID  FEATURE_CODE  SUB_FEATURE_CODE     STATUS  \\\n",
       "0  129.740000  2.130200e+10          3020            302000  Unchanged   \n",
       "1  120.586263  2.130000e+10          3000            300020  Unchanged   \n",
       "2  114.740000  2.130200e+10          3020            302000  Unchanged   \n",
       "3   69.130000  2.130200e+10          3020            302000  Unchanged   \n",
       "4   49.235397  2.130200e+10          3020            302000  Unchanged   \n",
       "\n",
       "                        geometry              x              y         z  \n",
       "0  POINT (989083.000 195003.260)  989082.999837  195003.259978  129.7400  \n",
       "1  POINT (987638.301 195007.228)  987638.300954  195007.227818  120.5863  \n",
       "2  POINT (988565.410 195011.600)  988565.409993  195011.599856  114.7400  \n",
       "3  POINT (989509.570 195013.270)  989509.569850  195013.270128   69.1300  \n",
       "4  POINT (987570.796 195019.969)  987570.795840  195019.969262   49.2354  "
      ]
     },
     "execution_count": 39,
     "metadata": {},
     "output_type": "execute_result"
    }
   ],
   "source": [
    "## Extract Z Values and convert geo to point\n",
    "# load data from geo data base\n",
    "vector = plan_data_list[14]\n",
    "\n",
    "# Extract Z Values\n",
    "x_list = []\n",
    "y_list = []\n",
    "z_list = []\n",
    "for feature in vector.geometry:\n",
    "    coords = list(feature.coords)\n",
    "    x_list.append(coords[0][0])\n",
    "    y_list.append(coords[0][1])\n",
    "    z_list.append(coords[0][2])\n",
    "\n",
    "# Append Z values to dataframe\n",
    "vector['x'] = x_list\n",
    "vector['y'] = y_list\n",
    "vector['z'] = z_list\n",
    "\n",
    "vector['geometry'] = gpd.points_from_xy(vector.x, vector.y, crs=vector.crs)\n",
    "vector.head()"
   ]
  },
  {
   "cell_type": "markdown",
   "id": "b80e99f2-17fe-4f52-8fb7-ea417d31e98d",
   "metadata": {},
   "source": [
    "## Rasterize Line Values - Binary\n",
    "---"
   ]
  },
  {
   "cell_type": "code",
   "execution_count": 45,
   "id": "50d05206-a0a4-47e7-97e2-1cd91bb14b17",
   "metadata": {},
   "outputs": [],
   "source": [
    "# Load Data\n",
    "rst = '/workspace/data-sets/Land_Cover/nyc-lc-2-2.tif'\n",
    "shape = '/workspace/data-sets/SHORELINE/SHORELINE.shp'"
   ]
  },
  {
   "cell_type": "code",
   "execution_count": 46,
   "id": "880f47fb-caad-4dbc-9a26-4b09df6e5eb1",
   "metadata": {},
   "outputs": [
    {
     "data": {
      "text/html": [
       "<div>\n",
       "<style scoped>\n",
       "    .dataframe tbody tr th:only-of-type {\n",
       "        vertical-align: middle;\n",
       "    }\n",
       "\n",
       "    .dataframe tbody tr th {\n",
       "        vertical-align: top;\n",
       "    }\n",
       "\n",
       "    .dataframe thead th {\n",
       "        text-align: right;\n",
       "    }\n",
       "</style>\n",
       "<table border=\"1\" class=\"dataframe\">\n",
       "  <thead>\n",
       "    <tr style=\"text-align: right;\">\n",
       "      <th></th>\n",
       "      <th>SOURCE_ID</th>\n",
       "      <th>FEAT_CODE</th>\n",
       "      <th>SUB_CODE</th>\n",
       "      <th>STATUS</th>\n",
       "      <th>SHAPE_Leng</th>\n",
       "      <th>geometry</th>\n",
       "    </tr>\n",
       "  </thead>\n",
       "  <tbody>\n",
       "    <tr>\n",
       "      <th>0</th>\n",
       "      <td>2.139000e+10</td>\n",
       "      <td>3900</td>\n",
       "      <td>390000</td>\n",
       "      <td>Unchanged</td>\n",
       "      <td>482.569042</td>\n",
       "      <td>LINESTRING (985000.000 194733.449, 984990.388 ...</td>\n",
       "    </tr>\n",
       "    <tr>\n",
       "      <th>1</th>\n",
       "      <td>2.139000e+10</td>\n",
       "      <td>3900</td>\n",
       "      <td>390000</td>\n",
       "      <td>Updated</td>\n",
       "      <td>133815.757431</td>\n",
       "      <td>LINESTRING (997974.251 218587.755, 997958.972 ...</td>\n",
       "    </tr>\n",
       "    <tr>\n",
       "      <th>2</th>\n",
       "      <td>2.139000e+10</td>\n",
       "      <td>3900</td>\n",
       "      <td>390000</td>\n",
       "      <td>Unchanged</td>\n",
       "      <td>77262.246784</td>\n",
       "      <td>LINESTRING (985937.913 185545.239, 985986.833 ...</td>\n",
       "    </tr>\n",
       "    <tr>\n",
       "      <th>3</th>\n",
       "      <td>1.390000e+09</td>\n",
       "      <td>3900</td>\n",
       "      <td>390000</td>\n",
       "      <td>Unchanged</td>\n",
       "      <td>805.165413</td>\n",
       "      <td>LINESTRING (1050147.090 164096.960, 1050149.33...</td>\n",
       "    </tr>\n",
       "    <tr>\n",
       "      <th>4</th>\n",
       "      <td>1.390000e+09</td>\n",
       "      <td>3900</td>\n",
       "      <td>390000</td>\n",
       "      <td>Updated</td>\n",
       "      <td>984.992664</td>\n",
       "      <td>LINESTRING (1030507.575 154166.126, 1030503.09...</td>\n",
       "    </tr>\n",
       "  </tbody>\n",
       "</table>\n",
       "</div>"
      ],
      "text/plain": [
       "      SOURCE_ID  FEAT_CODE  SUB_CODE     STATUS     SHAPE_Leng  \\\n",
       "0  2.139000e+10       3900    390000  Unchanged     482.569042   \n",
       "1  2.139000e+10       3900    390000    Updated  133815.757431   \n",
       "2  2.139000e+10       3900    390000  Unchanged   77262.246784   \n",
       "3  1.390000e+09       3900    390000  Unchanged     805.165413   \n",
       "4  1.390000e+09       3900    390000    Updated     984.992664   \n",
       "\n",
       "                                            geometry  \n",
       "0  LINESTRING (985000.000 194733.449, 984990.388 ...  \n",
       "1  LINESTRING (997974.251 218587.755, 997958.972 ...  \n",
       "2  LINESTRING (985937.913 185545.239, 985986.833 ...  \n",
       "3  LINESTRING (1050147.090 164096.960, 1050149.33...  \n",
       "4  LINESTRING (1030507.575 154166.126, 1030503.09...  "
      ]
     },
     "execution_count": 46,
     "metadata": {},
     "output_type": "execute_result"
    }
   ],
   "source": [
    "raster = rasterio.open(rst)\n",
    "v_df = gpd.read_file(shape)\n",
    "v_df.head()"
   ]
  },
  {
   "cell_type": "code",
   "execution_count": 47,
   "id": "9e852619-13b9-4441-81c0-60112d4c57e3",
   "metadata": {},
   "outputs": [],
   "source": [
    "geom = [shapes for shapes in v_df.geometry]\n",
    "\n",
    "rasterized = features.rasterize(geom,\n",
    "                                out_shape = raster.shape,\n",
    "                                fill = 0,\n",
    "                                out = None,\n",
    "                                transform = raster.transform,\n",
    "                                all_touched = False,\n",
    "                                default_value = 1,\n",
    "                                dtype = None)"
   ]
  },
  {
   "cell_type": "code",
   "execution_count": 48,
   "id": "75d87b4d-0ac8-4df8-be5a-2c3a9f1b6964",
   "metadata": {},
   "outputs": [
    {
     "data": {
      "image/png": "[encoded data removed]",
      "text/plain": [
       "<Figure size 1000x1000 with 1 Axes>"
      ]
     },
     "metadata": {},
     "output_type": "display_data"
    }
   ],
   "source": [
    "fig, ax = plt.subplots(1, figsize = (10, 10))\n",
    "show(rasterized, ax = ax)\n",
    "plt.gca().invert_yaxis()"
   ]
  },
  {
   "cell_type": "code",
   "execution_count": null,
   "id": "faa43e21-f407-49f1-8288-127319018a1a",
   "metadata": {},
   "outputs": [],
   "source": []
  },
  {
   "cell_type": "code",
   "execution_count": null,
   "id": "04e7dfc0-7c65-4b1f-9d45-3666ccc1415e",
   "metadata": {},
   "outputs": [],
   "source": []
  },
  {
   "cell_type": "markdown",
   "id": "e49a59fa-65dc-4541-bd6f-140715e0454a",
   "metadata": {},
   "source": [
    "## Rasterize Line Values\n",
    "---"
   ]
  },
  {
   "cell_type": "code",
   "execution_count": null,
   "id": "fb8e5275-25e7-4036-b6a2-21b7d8aa9e58",
   "metadata": {},
   "outputs": [],
   "source": [
    "# Load Data\n",
    "rst = '/workspace/data-sets/Land_Cover/nyc-lc-2-2.tif'\n",
    "shape = '/workspace/data-sets/SHORELINE/SHORELINE.shp'"
   ]
  },
  {
   "cell_type": "code",
   "execution_count": null,
   "id": "f96d8aa4-ee88-45b0-a77c-fa5f31a9c2b0",
   "metadata": {},
   "outputs": [],
   "source": [
    "layer_list = fiona.listlayers(plan)\n",
    "plan_data_list = []\n",
    "for layer_name in layer_list:\n",
    "    plan_data_list.append(gpd.read_file(plan, layer=layer_name))\n",
    "raster = rasterio.open(rst)\n",
    "v_df = plan_data_list[2]"
   ]
  },
  {
   "cell_type": "code",
   "execution_count": null,
   "id": "1cc19093-b5bd-480d-857b-e580bc2c8137",
   "metadata": {},
   "outputs": [],
   "source": []
  },
  {
   "cell_type": "code",
   "execution_count": null,
   "id": "a6e3249e-5961-4ac1-a2b9-f59741d7ed96",
   "metadata": {},
   "outputs": [],
   "source": []
  },
  {
   "cell_type": "code",
   "execution_count": null,
   "id": "376a4a68-5ae7-464d-bb92-c53f71c83513",
   "metadata": {},
   "outputs": [],
   "source": []
  },
  {
   "cell_type": "code",
   "execution_count": null,
   "id": "ff5a49e8-c907-4f16-b67e-d4343630ac27",
   "metadata": {},
   "outputs": [],
   "source": [
    "# DELETE AFTER THIS LINE"
   ]
  },
  {
   "cell_type": "code",
   "execution_count": 46,
   "id": "9908fa55-a929-49ec-83de-4c0b52f9a2cb",
   "metadata": {},
   "outputs": [],
   "source": [
    "# Save modified gpd (This is needed to create a shape file from the gdb\n",
    "# Note you can only have one geometry in the gdf to save it\n",
    "\n",
    "# vector.to_file(driver = 'ESRI Shapefile', filename= \"test.shp\")"
   ]
  },
  {
   "cell_type": "code",
   "execution_count": 57,
   "id": "fd4d9231-f7f2-47eb-9ce4-84160989de83",
   "metadata": {},
   "outputs": [],
   "source": [
    "# # Extract Features from Base Raster\n",
    "ulx, xres, xskew, uly, yskew, yres  = raster.GetGeoTransform()\n",
    "lrx = ulx + (raster.RasterXSize * xres)\n",
    "lry = uly + (raster.RasterYSize * yres)\n",
    "width = raster.RasterXSize\n",
    "height = raster.RasterYSize"
   ]
  },
  {
   "cell_type": "code",
   "execution_count": null,
   "id": "438b8189-73e8-430e-a00e-388ebfd9e1d3",
   "metadata": {},
   "outputs": [],
   "source": [
    "# --config 'NUM_THREADS=ALL_CPUS GDAL_CACHEMAX=2000'"
   ]
  },
  {
   "cell_type": "code",
   "execution_count": null,
   "id": "0a28e16c-315d-435c-9cba-7107d69f0e2c",
   "metadata": {},
   "outputs": [],
   "source": [
    "# nn = gdal.Grid(\"nn-test.tif\", \n",
    "#                'test.shp', \n",
    "#                zfield='z', \n",
    "#                algorithm='nearest',\n",
    "#                outputBounds=[ulx,uly,lrx,lry],\n",
    "#                width=width,\n",
    "#                height=height)"
   ]
  },
  {
   "cell_type": "code",
   "execution_count": null,
   "id": "9afedecd-b487-4cbb-bd25-686731d962e9",
   "metadata": {},
   "outputs": [],
   "source": [
    "# nn = None"
   ]
  },
  {
   "cell_type": "code",
   "execution_count": null,
   "id": "b104b9f3-ea5d-45c5-9984-3966a8b00ba4",
   "metadata": {},
   "outputs": [],
   "source": [
    "# ts = gdal.Open(\"nn-test.tif\")\n",
    "# band = ts.GetRasterBand(1)\n",
    "# arr = band.ReadAsArray()\n",
    "# plt.imshow(arr)"
   ]
  },
  {
   "cell_type": "code",
   "execution_count": 45,
   "id": "ec202296-4ad4-43b0-a078-d48265511508",
   "metadata": {},
   "outputs": [
    {
     "ename": "AttributeError",
     "evalue": "'Dataset' object has no attribute 'crs'",
     "output_type": "error",
     "traceback": [
      "\u001b[0;31m---------------------------------------------------------------------------\u001b[0m",
      "\u001b[0;31mAttributeError\u001b[0m                            Traceback (most recent call last)",
      "Cell \u001b[0;32mIn [45], line 1\u001b[0m\n\u001b[0;32m----> 1\u001b[0m \u001b[43mts\u001b[49m\u001b[38;5;241;43m.\u001b[39;49m\u001b[43mcrs\u001b[49m\n",
      "File \u001b[0;32m/opt/conda/lib/python3.9/site-packages/osgeo/gdal.py:2238\u001b[0m, in \u001b[0;36mDataset.<lambda>\u001b[0;34m(self, name)\u001b[0m\n\u001b[1;32m   2236\u001b[0m \u001b[38;5;28;01mfor\u001b[39;00m _s \u001b[38;5;129;01min\u001b[39;00m [MajorObject]:\n\u001b[1;32m   2237\u001b[0m     __swig_getmethods__\u001b[38;5;241m.\u001b[39mupdate(\u001b[38;5;28mgetattr\u001b[39m(_s, \u001b[38;5;124m'\u001b[39m\u001b[38;5;124m__swig_getmethods__\u001b[39m\u001b[38;5;124m'\u001b[39m, {}))\n\u001b[0;32m-> 2238\u001b[0m \u001b[38;5;21m__getattr__\u001b[39m \u001b[38;5;241m=\u001b[39m \u001b[38;5;28;01mlambda\u001b[39;00m \u001b[38;5;28mself\u001b[39m, name: \u001b[43m_swig_getattr\u001b[49m\u001b[43m(\u001b[49m\u001b[38;5;28;43mself\u001b[39;49m\u001b[43m,\u001b[49m\u001b[43m \u001b[49m\u001b[43mDataset\u001b[49m\u001b[43m,\u001b[49m\u001b[43m \u001b[49m\u001b[43mname\u001b[49m\u001b[43m)\u001b[49m\n\u001b[1;32m   2240\u001b[0m \u001b[38;5;28;01mdef\u001b[39;00m \u001b[38;5;21m__init__\u001b[39m(\u001b[38;5;28mself\u001b[39m, \u001b[38;5;241m*\u001b[39margs, \u001b[38;5;241m*\u001b[39m\u001b[38;5;241m*\u001b[39mkwargs):\n\u001b[1;32m   2241\u001b[0m     \u001b[38;5;28;01mraise\u001b[39;00m \u001b[38;5;167;01mAttributeError\u001b[39;00m(\u001b[38;5;124m\"\u001b[39m\u001b[38;5;124mNo constructor defined\u001b[39m\u001b[38;5;124m\"\u001b[39m)\n",
      "File \u001b[0;32m/opt/conda/lib/python3.9/site-packages/osgeo/gdal.py:80\u001b[0m, in \u001b[0;36m_swig_getattr\u001b[0;34m(self, class_type, name)\u001b[0m\n\u001b[1;32m     78\u001b[0m \u001b[38;5;28;01mif\u001b[39;00m method:\n\u001b[1;32m     79\u001b[0m     \u001b[38;5;28;01mreturn\u001b[39;00m method(\u001b[38;5;28mself\u001b[39m)\n\u001b[0;32m---> 80\u001b[0m \u001b[38;5;28;01mraise\u001b[39;00m \u001b[38;5;167;01mAttributeError\u001b[39;00m(\u001b[38;5;124m\"\u001b[39m\u001b[38;5;124m'\u001b[39m\u001b[38;5;132;01m%s\u001b[39;00m\u001b[38;5;124m'\u001b[39m\u001b[38;5;124m object has no attribute \u001b[39m\u001b[38;5;124m'\u001b[39m\u001b[38;5;132;01m%s\u001b[39;00m\u001b[38;5;124m'\u001b[39m\u001b[38;5;124m\"\u001b[39m \u001b[38;5;241m%\u001b[39m (class_type\u001b[38;5;241m.\u001b[39m\u001b[38;5;18m__name__\u001b[39m, name))\n",
      "\u001b[0;31mAttributeError\u001b[0m: 'Dataset' object has no attribute 'crs'"
     ]
    }
   ],
   "source": [
    "# # Plot raster\n",
    "# fig, ax = plt.subplots(1, figsize = (10, 10))\n",
    "# show(rasterized, ax = ax)\n",
    "# plt.gca().invert_yaxis()"
   ]
  },
  {
   "cell_type": "code",
   "execution_count": null,
   "id": "0afac339-322a-459f-b60a-fbcdc22c5d20",
   "metadata": {},
   "outputs": [],
   "source": [
    "# Try this to see if we get a performance boost https://gis.stackexchange.com/questions/151339/rasterize-a-shapefile-with-geopandas-or-fiona-python"
   ]
  },
  {
   "cell_type": "code",
   "execution_count": null,
   "id": "fe85e5b5-b0c7-45ff-9c0b-c10bd0092166",
   "metadata": {},
   "outputs": [],
   "source": [
    "rst = rasterio.open(\"/workspace/data-sets/Land_Cover/nyc-lc-2-2.tif\")\n",
    "meta = rst.meta.copy()\n",
    "meta.update(compress='lzw')\n",
    "\n",
    "out_fn='test-rasterio.tif'\n",
    "\n",
    "with rasterio.open(out_fn, 'w+', **meta) as out:\n",
    "    out_arr = out.read(1)\n",
    "\n",
    "    # this is where we create a generator of geom, value pairs to use in rasterizing\n",
    "    shapes = ((geom,value) for geom, value in zip(vector.geometry, vector.z))\n",
    "\n",
    "    burned = features.rasterize(shapes=shapes, fill=0, out=out_arr, transform=out.transform)\n",
    "    out.write_band(1, burned)"
   ]
  },
  {
   "cell_type": "code",
   "execution_count": null,
   "id": "6edf794e-955c-41ef-88e7-d41392e47b5f",
   "metadata": {},
   "outputs": [],
   "source": [
    "geom_value = ((geom,value) for geom, value in zip(vector.geometry, vector['id']))\n",
    "rasterized = features.rasterize(geom_value,\n",
    "                                out_shape = raster.shape,\n",
    "                                transform = raster.transform,\n",
    "                                all_touched = True,\n",
    "                                fill = -5,   # background value\n",
    "                                merge_alg = MergeAlg.replace,\n",
    "                                dtype = np.int16)\n",
    "\n",
    "# rasterized = features.rasterize(geom,\n",
    "#                                 out_shape = raster.shape,\n",
    "#                                 fill = 0,\n",
    "#                                 out = None,\n",
    "#                                 transform = raster.transform,\n",
    "#                                 all_touched = False,\n",
    "#                                 default_value = 1,\n",
    "#                                 dtype = None)\n",
    "\n",
    "# https://rasterio.readthedocs.io/en/latest/api/rasterio.features.html#rasterio.features.rasterize"
   ]
  },
  {
   "cell_type": "code",
   "execution_count": 33,
   "id": "f70fc1cf-d58e-4c74-bf43-87a3af1a479f",
   "metadata": {},
   "outputs": [],
   "source": [
    "geom = [shapes for shapes in v_df.geometry]\n",
    "raster = rasterio.open(raster)\n",
    "rasterized = features.rasterize(geom,\n",
    "                                out_shape = raster.shape,\n",
    "                                fill = 0,\n",
    "                                out = None,\n",
    "                                transform = raster.transform,\n",
    "                                all_touched = False,\n",
    "                                default_value = 1,\n",
    "                                dtype = None)"
   ]
  },
  {
   "cell_type": "code",
   "execution_count": 34,
   "id": "d36246c5-2a39-4909-b983-3925b9369b3a",
   "metadata": {},
   "outputs": [
    {
     "data": {
      "image/png": "[encoded data removed]",
      "text/plain": [
       "<Figure size 1000x1000 with 1 Axes>"
      ]
     },
     "metadata": {},
     "output_type": "display_data"
    }
   ],
   "source": [
    "fig, ax = plt.subplots(1, figsize = (10, 10))\n",
    "show(rasterized, ax = ax)\n",
    "plt.gca().invert_yaxis()"
   ]
  },
  {
   "cell_type": "code",
   "execution_count": 35,
   "id": "ddabeac2-f2a4-449f-a95a-e9f83037c7ce",
   "metadata": {},
   "outputs": [
    {
     "data": {
      "text/plain": [
       "array([[0, 0, 0, ..., 0, 0, 0],\n",
       "       [0, 0, 0, ..., 0, 0, 0],\n",
       "       [0, 0, 0, ..., 0, 0, 0],\n",
       "       ...,\n",
       "       [0, 0, 0, ..., 0, 0, 0],\n",
       "       [0, 0, 0, ..., 0, 0, 0],\n",
       "       [0, 0, 0, ..., 0, 0, 0]], dtype=uint8)"
      ]
     },
     "execution_count": 35,
     "metadata": {},
     "output_type": "execute_result"
    }
   ],
   "source": [
    "rasterized"
   ]
  },
  {
   "cell_type": "code",
   "execution_count": 36,
   "id": "609a500c-b240-4bbe-8101-05491f09a95a",
   "metadata": {},
   "outputs": [
    {
     "data": {
      "text/plain": [
       "0"
      ]
     },
     "execution_count": 36,
     "metadata": {},
     "output_type": "execute_result"
    }
   ],
   "source": [
    "rasterized.min()"
   ]
  },
  {
   "cell_type": "code",
   "execution_count": 37,
   "id": "6b510321-53ed-45b3-a8ff-d92aeeed1811",
   "metadata": {},
   "outputs": [
    {
     "data": {
      "text/plain": [
       "1"
      ]
     },
     "execution_count": 37,
     "metadata": {},
     "output_type": "execute_result"
    }
   ],
   "source": [
    "rasterized.max()"
   ]
  },
  {
   "cell_type": "code",
   "execution_count": 38,
   "id": "19c33072-10ac-43b1-b9e4-944e012bd6f7",
   "metadata": {},
   "outputs": [
    {
     "data": {
      "text/plain": [
       "(78604, 77711)"
      ]
     },
     "execution_count": 38,
     "metadata": {},
     "output_type": "execute_result"
    }
   ],
   "source": [
    "rasterized.shape"
   ]
  },
  {
   "cell_type": "code",
   "execution_count": null,
   "id": "28c400d7-892d-4e99-8c47-a038499b74e9",
   "metadata": {},
   "outputs": [],
   "source": [
    "# #Write Raster to File \n",
    "# with rasterio.open(\n",
    "#         \"../temp/rasterized_vector.tif\", \"w\",\n",
    "#         driver = \"GTiff\",\n",
    "#         transform = raster.transform,\n",
    "#         dtype = rasterio.uint8,\n",
    "#         count = 1,\n",
    "#         width = raster.width,\n",
    "#         height = raster.height) as dst:\n",
    "#     dst.write(rasterized, indexes = 1)"
   ]
  },
  {
   "cell_type": "code",
   "execution_count": null,
   "id": "5281fa5b-3e86-4d08-8de5-f78dd973d76e",
   "metadata": {},
   "outputs": [],
   "source": []
  },
  {
   "cell_type": "markdown",
   "id": "5e2795cf-99d0-4842-aefc-310d6d49f27e",
   "metadata": {},
   "source": [
    "First we'll start by extracting z-value features as shown in the 02 notebook."
   ]
  },
  {
   "cell_type": "code",
   "execution_count": null,
   "id": "dcbb517d-334c-48f2-8ed4-8b5597d18bde",
   "metadata": {},
   "outputs": [],
   "source": [
    "# def convert_3D_2D(geometry):\n",
    "# #     '''\n",
    "# #     Takes a GeoSeries of 3D Multi/Polygons (has_z) and returns a list of 2D Multi/Polygons\n",
    "# #     '''\n",
    "# #     new_geo = []\n",
    "# #     for p in geometry:\n",
    "# #         if p.has_z:\n",
    "# #             if p.geom_type == 'Polygon':\n",
    "# #                 lines = [xy[:2] for xy in list(p.exterior.coords)]\n",
    "# #                 new_p = Polygon(lines)\n",
    "# #                 new_geo.append(new_p)\n",
    "# #             elif p.geom_type == 'MultiPolygon':\n",
    "# #                 new_multi_p = []\n",
    "# #                 for ap in p:\n",
    "# #                     lines = [xy[:2] for xy in list(ap.exterior.coords)]\n",
    "# #                     new_p = Polygon(lines)\n",
    "# #                     new_multi_p.append(new_p)\n",
    "# #                 new_geo.append(MultiPolygon(new_multi_p))\n",
    "# #     return new_geo\n",
    "\n",
    "# # # geodf_2d = gp.GeoDataFrame.from_file(vector) # plug_in your shapefile\n",
    "# # # geodf_2d.geometry = convert_3D_2D(geodf_2d.geometry) # new geodf with 2D geometry series\n",
    "# # test = convert_3D_2D(vector.geometry) # new geodf with 2D geometry series"
   ]
  },
  {
   "cell_type": "markdown",
   "id": "5176a549-4819-4295-aa88-17c5b1a32d1b",
   "metadata": {},
   "source": [
    "## Rasterize Line Values\n",
    "---"
   ]
  },
  {
   "cell_type": "code",
   "execution_count": null,
   "id": "1eb9d422-2982-4b67-9fe2-e20b52cd423b",
   "metadata": {},
   "outputs": [],
   "source": [
    "# Load Data\n",
    "vector = plan_data_list[2]"
   ]
  },
  {
   "cell_type": "code",
   "execution_count": null,
   "id": "8df67a98-2ba1-41ae-9aeb-51cc338571aa",
   "metadata": {},
   "outputs": [],
   "source": [
    "# Extract Z Values\n",
    "z_value = []\n",
    "for feature in data.geometry:\n",
    "    # Extract the 3 dimensional features\n",
    "    coords = [list(line.coords) for line in feature][0]\n",
    "    z = []\n",
    "    \n",
    "    for tup in coords:\n",
    "        z.append(tup[2])\n",
    "    z_value.append(z)"
   ]
  },
  {
   "cell_type": "code",
   "execution_count": null,
   "id": "8d0b254c-5bb1-4b5e-9d68-a3cca71394c4",
   "metadata": {},
   "outputs": [],
   "source": [
    "# Take min of Z values per set (Logic - wate ingress at lowest point)\n",
    "z_min = []\n",
    "for values in z_value:\n",
    "    z_min.append(min(values)"
   ]
  },
  {
   "cell_type": "code",
   "execution_count": null,
   "id": "70c23d5a-1fd9-4278-994b-b224db8df40f",
   "metadata": {},
   "outputs": [],
   "source": [
    "# Append min values to list\n",
    "data['z'] = z_min"
   ]
  },
  {
   "cell_type": "code",
   "execution_count": null,
   "id": "a9a42557-cc7e-40e8-81fa-b207d0e50697",
   "metadata": {},
   "outputs": [],
   "source": [
    "# Convert Multiline z to multiline\n",
    "\n",
    "#TODO - Figure this out"
   ]
  },
  {
   "cell_type": "code",
   "execution_count": null,
   "id": "a020db07-8058-4687-9bb9-b2c7d8326dd8",
   "metadata": {},
   "outputs": [],
   "source": [
    "# Save modified gpd (This is needed to create a shape file from the gdb\n",
    "# Note you can only have one geometry in the gdf to save it\n",
    "\n",
    "vector.to_file(driver = 'ESRI Shapefile', filename= \"test.shp\")"
   ]
  },
  {
   "cell_type": "markdown",
   "id": "c2a02ee2-8d49-4b7b-a840-1b2e929f5ee8",
   "metadata": {},
   "source": [
    "## Rasterize Poly Values\n",
    "---"
   ]
  },
  {
   "cell_type": "code",
   "execution_count": null,
   "id": "bc4da1b7-2014-42fa-8308-9678a09ab518",
   "metadata": {},
   "outputs": [],
   "source": []
  },
  {
   "cell_type": "code",
   "execution_count": null,
   "id": "83ce0b0e-8f39-4a24-8ef2-5f6d368ad971",
   "metadata": {},
   "outputs": [],
   "source": [
    "https://gis.stackexchange.com/questions/136059/convert-vector-point-shape-to-raster-tif-using-python-gdal-lib-in-qgis\n",
    "https://gis.stackexchange.com/questions/308002/how-can-i-convert-shapefile-to-raster-and-mask-using-gdal-python-3\n",
    "https://pygis.io/docs/e_raster_rasterize.html"
   ]
  },
  {
   "cell_type": "code",
   "execution_count": null,
   "id": "6e35de8f-6adf-42fe-b481-33957d8df4d7",
   "metadata": {},
   "outputs": [],
   "source": [
    "https://gdal.org/programs/gdal_rasterize.html"
   ]
  }
 ],
 "metadata": {
  "kernelspec": {
   "display_name": "Python 3 (ipykernel)",
   "language": "python",
   "name": "python3"
  },
  "language_info": {
   "codemirror_mode": {
    "name": "ipython",
    "version": 3
   },
   "file_extension": ".py",
   "mimetype": "text/x-python",
   "name": "python",
   "nbconvert_exporter": "python",
   "pygments_lexer": "ipython3",
   "version": "3.9.12"
  }
 },
 "nbformat": 4,
 "nbformat_minor": 5
}
