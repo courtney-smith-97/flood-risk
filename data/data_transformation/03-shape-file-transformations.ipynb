{
 "cells": [
  {
   "cell_type": "markdown",
   "id": "2b9278ba-acf0-4f22-a13d-4dcc1e255228",
   "metadata": {},
   "source": [
    "# Converting Shape Geoms to Raster Image\n",
    "---"
   ]
  },
  {
   "cell_type": "markdown",
   "id": "bc268bcb-3469-4a29-a101-1b3cdcf8caf3",
   "metadata": {},
   "source": [
    "## Setup Notebook\n",
    "---"
   ]
  },
  {
   "cell_type": "code",
   "execution_count": 4,
   "id": "dc7f8a7c-073a-44d5-b4fc-4a3a583557ec",
   "metadata": {},
   "outputs": [],
   "source": [
    "import warnings\n",
    "warnings.filterwarnings('ignore')"
   ]
  },
  {
   "cell_type": "code",
   "execution_count": 31,
   "id": "50a328a0-d1bf-48ea-9f82-4d6cf13b1ca9",
   "metadata": {},
   "outputs": [],
   "source": [
    "import fiona\n",
    "import geopandas as gpd\n",
    "import matplotlib.pyplot as plt\n",
    "import rasterio\n",
    "from rasterio import features\n",
    "from rasterio.enums import MergeAlg\n",
    "from rasterio.plot import show\n",
    "import numpy as np\n",
    "from shapely.geometry import Polygon, MultiPolygon, shape, Point\n",
    "\n",
    "from osgeo import gdal\n",
    "from osgeo import ogr"
   ]
  },
  {
   "cell_type": "markdown",
   "id": "02cf106e-1298-4c92-a6d1-8278bea80d66",
   "metadata": {},
   "source": [
    "## Load Data\n",
    "---"
   ]
  },
  {
   "cell_type": "code",
   "execution_count": 36,
   "id": "b809b307-743e-4f15-ad8c-70f3ab55ec7a",
   "metadata": {},
   "outputs": [],
   "source": [
    "# Load Data\n",
    "raster = '/workspace/data-sets/Land_Cover/nyc-lc-2-2.tif'\n",
    "shape = '/workspace/data-sets/NYC_DoITT_Planimetric_OpenData.gdb/NYC_DoITT_Planimetric_OpenData.gdb'"
   ]
  },
  {
   "cell_type": "code",
   "execution_count": 37,
   "id": "48e84607-082d-4776-838a-b5f8a2479318",
   "metadata": {},
   "outputs": [],
   "source": [
    "# Load Vector Data\n",
    "layer_list = fiona.listlayers(shape)\n",
    "plan_data_list = []\n",
    "\n",
    "for layer_name in layer_list:\n",
    "    plan_data_list.append(gpd.read_file(shape, layer=layer_name))\n",
    "    \n",
    "# Load Raster data"
   ]
  },
  {
   "cell_type": "code",
   "execution_count": 52,
   "id": "39b32a05-7fd0-4eab-a726-273f71a18db0",
   "metadata": {},
   "outputs": [],
   "source": [
    "raster = gdal.Open(\"/workspace/data-sets/Land_Cover/nyc-lc-2-2.tif\")"
   ]
  },
  {
   "cell_type": "markdown",
   "id": "80911cbe-67c4-4a79-be70-87c28baf6dfa",
   "metadata": {},
   "source": [
    "## Rasterize Point Values\n",
    "---"
   ]
  },
  {
   "cell_type": "code",
   "execution_count": 39,
   "id": "d8c7875a-9265-4d83-a5ff-532a2fdb8592",
   "metadata": {},
   "outputs": [
    {
     "data": {
      "text/html": [
       "<div>\n",
       "<style scoped>\n",
       "    .dataframe tbody tr th:only-of-type {\n",
       "        vertical-align: middle;\n",
       "    }\n",
       "\n",
       "    .dataframe tbody tr th {\n",
       "        vertical-align: top;\n",
       "    }\n",
       "\n",
       "    .dataframe thead th {\n",
       "        text-align: right;\n",
       "    }\n",
       "</style>\n",
       "<table border=\"1\" class=\"dataframe\">\n",
       "  <thead>\n",
       "    <tr style=\"text-align: right;\">\n",
       "      <th></th>\n",
       "      <th>ELEVATION</th>\n",
       "      <th>SOURCE_ID</th>\n",
       "      <th>FEATURE_CODE</th>\n",
       "      <th>SUB_FEATURE_CODE</th>\n",
       "      <th>STATUS</th>\n",
       "      <th>geometry</th>\n",
       "      <th>x</th>\n",
       "      <th>y</th>\n",
       "      <th>z</th>\n",
       "    </tr>\n",
       "  </thead>\n",
       "  <tbody>\n",
       "    <tr>\n",
       "      <th>0</th>\n",
       "      <td>129.740000</td>\n",
       "      <td>2.130200e+10</td>\n",
       "      <td>3020</td>\n",
       "      <td>302000</td>\n",
       "      <td>Unchanged</td>\n",
       "      <td>POINT (989083.000 195003.260)</td>\n",
       "      <td>989082.999837</td>\n",
       "      <td>195003.259978</td>\n",
       "      <td>129.7400</td>\n",
       "    </tr>\n",
       "    <tr>\n",
       "      <th>1</th>\n",
       "      <td>120.586263</td>\n",
       "      <td>2.130000e+10</td>\n",
       "      <td>3000</td>\n",
       "      <td>300020</td>\n",
       "      <td>Unchanged</td>\n",
       "      <td>POINT (987638.301 195007.228)</td>\n",
       "      <td>987638.300954</td>\n",
       "      <td>195007.227818</td>\n",
       "      <td>120.5863</td>\n",
       "    </tr>\n",
       "    <tr>\n",
       "      <th>2</th>\n",
       "      <td>114.740000</td>\n",
       "      <td>2.130200e+10</td>\n",
       "      <td>3020</td>\n",
       "      <td>302000</td>\n",
       "      <td>Unchanged</td>\n",
       "      <td>POINT (988565.410 195011.600)</td>\n",
       "      <td>988565.409993</td>\n",
       "      <td>195011.599856</td>\n",
       "      <td>114.7400</td>\n",
       "    </tr>\n",
       "    <tr>\n",
       "      <th>3</th>\n",
       "      <td>69.130000</td>\n",
       "      <td>2.130200e+10</td>\n",
       "      <td>3020</td>\n",
       "      <td>302000</td>\n",
       "      <td>Unchanged</td>\n",
       "      <td>POINT (989509.570 195013.270)</td>\n",
       "      <td>989509.569850</td>\n",
       "      <td>195013.270128</td>\n",
       "      <td>69.1300</td>\n",
       "    </tr>\n",
       "    <tr>\n",
       "      <th>4</th>\n",
       "      <td>49.235397</td>\n",
       "      <td>2.130200e+10</td>\n",
       "      <td>3020</td>\n",
       "      <td>302000</td>\n",
       "      <td>Unchanged</td>\n",
       "      <td>POINT (987570.796 195019.969)</td>\n",
       "      <td>987570.795840</td>\n",
       "      <td>195019.969262</td>\n",
       "      <td>49.2354</td>\n",
       "    </tr>\n",
       "  </tbody>\n",
       "</table>\n",
       "</div>"
      ],
      "text/plain": [
       "    ELEVATION     SOURCE_ID  FEATURE_CODE  SUB_FEATURE_CODE     STATUS  \\\n",
       "0  129.740000  2.130200e+10          3020            302000  Unchanged   \n",
       "1  120.586263  2.130000e+10          3000            300020  Unchanged   \n",
       "2  114.740000  2.130200e+10          3020            302000  Unchanged   \n",
       "3   69.130000  2.130200e+10          3020            302000  Unchanged   \n",
       "4   49.235397  2.130200e+10          3020            302000  Unchanged   \n",
       "\n",
       "                        geometry              x              y         z  \n",
       "0  POINT (989083.000 195003.260)  989082.999837  195003.259978  129.7400  \n",
       "1  POINT (987638.301 195007.228)  987638.300954  195007.227818  120.5863  \n",
       "2  POINT (988565.410 195011.600)  988565.409993  195011.599856  114.7400  \n",
       "3  POINT (989509.570 195013.270)  989509.569850  195013.270128   69.1300  \n",
       "4  POINT (987570.796 195019.969)  987570.795840  195019.969262   49.2354  "
      ]
     },
     "execution_count": 39,
     "metadata": {},
     "output_type": "execute_result"
    }
   ],
   "source": [
    "## Extract Z Values and convert geo to point\n",
    "# load data from geo data base\n",
    "vector = plan_data_list[14]\n",
    "\n",
    "# Extract Z Values\n",
    "x_list = []\n",
    "y_list = []\n",
    "z_list = []\n",
    "for feature in vector.geometry:\n",
    "    coords = list(feature.coords)\n",
    "    x_list.append(coords[0][0])\n",
    "    y_list.append(coords[0][1])\n",
    "    z_list.append(coords[0][2])\n",
    "\n",
    "# Append Z values to dataframe\n",
    "vector['x'] = x_list\n",
    "vector['y'] = y_list\n",
    "vector['z'] = z_list\n",
    "\n",
    "vector['geometry'] = gpd.points_from_xy(vector.x, vector.y, crs=vector.crs)\n",
    "vector.head()"
   ]
  },
  {
   "cell_type": "code",
   "execution_count": 46,
   "id": "9908fa55-a929-49ec-83de-4c0b52f9a2cb",
   "metadata": {},
   "outputs": [],
   "source": [
    "# Save modified gpd (This is needed to create a shape file from the gdb\n",
    "# Note you can only have one geometry in the gdf to save it\n",
    "\n",
    "# vector.to_file(driver = 'ESRI Shapefile', filename= \"test.shp\")"
   ]
  },
  {
   "cell_type": "code",
   "execution_count": 57,
   "id": "fd4d9231-f7f2-47eb-9ce4-84160989de83",
   "metadata": {},
   "outputs": [],
   "source": [
    "# # Extract Features from Base Raster\n",
    "ulx, xres, xskew, uly, yskew, yres  = raster.GetGeoTransform()\n",
    "lrx = ulx + (raster.RasterXSize * xres)\n",
    "lry = uly + (raster.RasterYSize * yres)\n",
    "width = raster.RasterXSize\n",
    "height = raster.RasterYSize\n",
    "\n",
    "# left= bounds.left\n",
    "# right = bounds.right\n",
    "# bottom = bounds.bottom\n",
    "# top = bounds.top\n",
    "# width,height=raster.RasterXSize, raster.RasterYSize"
   ]
  },
  {
   "cell_type": "code",
   "execution_count": null,
   "id": "0a28e16c-315d-435c-9cba-7107d69f0e2c",
   "metadata": {},
   "outputs": [],
   "source": [
    "nn = gdal.Grid(\"nn-test.tif\", \n",
    "               'test.shp', \n",
    "               zfield='z', \n",
    "               algorithm='nearest',\n",
    "               outputBounds=[ulx,uly,lrx,lry],\n",
    "               width=width,\n",
    "               height=height)"
   ]
  },
  {
   "cell_type": "code",
   "execution_count": null,
   "id": "9afedecd-b487-4cbb-bd25-686731d962e9",
   "metadata": {},
   "outputs": [],
   "source": [
    "nn = None"
   ]
  },
  {
   "cell_type": "code",
   "execution_count": null,
   "id": "b104b9f3-ea5d-45c5-9984-3966a8b00ba4",
   "metadata": {},
   "outputs": [],
   "source": [
    "ts = gdal.Open(\"nn-test.tif\")\n",
    "band = ts.GetRasterBand(1)\n",
    "arr = band.ReadAsArray()\n",
    "plt.imshow(arr)"
   ]
  },
  {
   "cell_type": "code",
   "execution_count": 45,
   "id": "ec202296-4ad4-43b0-a078-d48265511508",
   "metadata": {},
   "outputs": [
    {
     "ename": "AttributeError",
     "evalue": "'Dataset' object has no attribute 'crs'",
     "output_type": "error",
     "traceback": [
      "\u001b[0;31m---------------------------------------------------------------------------\u001b[0m",
      "\u001b[0;31mAttributeError\u001b[0m                            Traceback (most recent call last)",
      "Cell \u001b[0;32mIn [45], line 1\u001b[0m\n\u001b[0;32m----> 1\u001b[0m \u001b[43mts\u001b[49m\u001b[38;5;241;43m.\u001b[39;49m\u001b[43mcrs\u001b[49m\n",
      "File \u001b[0;32m/opt/conda/lib/python3.9/site-packages/osgeo/gdal.py:2238\u001b[0m, in \u001b[0;36mDataset.<lambda>\u001b[0;34m(self, name)\u001b[0m\n\u001b[1;32m   2236\u001b[0m \u001b[38;5;28;01mfor\u001b[39;00m _s \u001b[38;5;129;01min\u001b[39;00m [MajorObject]:\n\u001b[1;32m   2237\u001b[0m     __swig_getmethods__\u001b[38;5;241m.\u001b[39mupdate(\u001b[38;5;28mgetattr\u001b[39m(_s, \u001b[38;5;124m'\u001b[39m\u001b[38;5;124m__swig_getmethods__\u001b[39m\u001b[38;5;124m'\u001b[39m, {}))\n\u001b[0;32m-> 2238\u001b[0m \u001b[38;5;21m__getattr__\u001b[39m \u001b[38;5;241m=\u001b[39m \u001b[38;5;28;01mlambda\u001b[39;00m \u001b[38;5;28mself\u001b[39m, name: \u001b[43m_swig_getattr\u001b[49m\u001b[43m(\u001b[49m\u001b[38;5;28;43mself\u001b[39;49m\u001b[43m,\u001b[49m\u001b[43m \u001b[49m\u001b[43mDataset\u001b[49m\u001b[43m,\u001b[49m\u001b[43m \u001b[49m\u001b[43mname\u001b[49m\u001b[43m)\u001b[49m\n\u001b[1;32m   2240\u001b[0m \u001b[38;5;28;01mdef\u001b[39;00m \u001b[38;5;21m__init__\u001b[39m(\u001b[38;5;28mself\u001b[39m, \u001b[38;5;241m*\u001b[39margs, \u001b[38;5;241m*\u001b[39m\u001b[38;5;241m*\u001b[39mkwargs):\n\u001b[1;32m   2241\u001b[0m     \u001b[38;5;28;01mraise\u001b[39;00m \u001b[38;5;167;01mAttributeError\u001b[39;00m(\u001b[38;5;124m\"\u001b[39m\u001b[38;5;124mNo constructor defined\u001b[39m\u001b[38;5;124m\"\u001b[39m)\n",
      "File \u001b[0;32m/opt/conda/lib/python3.9/site-packages/osgeo/gdal.py:80\u001b[0m, in \u001b[0;36m_swig_getattr\u001b[0;34m(self, class_type, name)\u001b[0m\n\u001b[1;32m     78\u001b[0m \u001b[38;5;28;01mif\u001b[39;00m method:\n\u001b[1;32m     79\u001b[0m     \u001b[38;5;28;01mreturn\u001b[39;00m method(\u001b[38;5;28mself\u001b[39m)\n\u001b[0;32m---> 80\u001b[0m \u001b[38;5;28;01mraise\u001b[39;00m \u001b[38;5;167;01mAttributeError\u001b[39;00m(\u001b[38;5;124m\"\u001b[39m\u001b[38;5;124m'\u001b[39m\u001b[38;5;132;01m%s\u001b[39;00m\u001b[38;5;124m'\u001b[39m\u001b[38;5;124m object has no attribute \u001b[39m\u001b[38;5;124m'\u001b[39m\u001b[38;5;132;01m%s\u001b[39;00m\u001b[38;5;124m'\u001b[39m\u001b[38;5;124m\"\u001b[39m \u001b[38;5;241m%\u001b[39m (class_type\u001b[38;5;241m.\u001b[39m\u001b[38;5;18m__name__\u001b[39m, name))\n",
      "\u001b[0;31mAttributeError\u001b[0m: 'Dataset' object has no attribute 'crs'"
     ]
    }
   ],
   "source": [
    "ts.crs"
   ]
  },
  {
   "cell_type": "code",
   "execution_count": null,
   "id": "5281fa5b-3e86-4d08-8de5-f78dd973d76e",
   "metadata": {},
   "outputs": [],
   "source": []
  },
  {
   "cell_type": "markdown",
   "id": "5e2795cf-99d0-4842-aefc-310d6d49f27e",
   "metadata": {},
   "source": [
    "First we'll start by extracting z-value features as shown in the 02 notebook."
   ]
  },
  {
   "cell_type": "code",
   "execution_count": null,
   "id": "dcbb517d-334c-48f2-8ed4-8b5597d18bde",
   "metadata": {},
   "outputs": [],
   "source": [
    "# def convert_3D_2D(geometry):\n",
    "# #     '''\n",
    "# #     Takes a GeoSeries of 3D Multi/Polygons (has_z) and returns a list of 2D Multi/Polygons\n",
    "# #     '''\n",
    "# #     new_geo = []\n",
    "# #     for p in geometry:\n",
    "# #         if p.has_z:\n",
    "# #             if p.geom_type == 'Polygon':\n",
    "# #                 lines = [xy[:2] for xy in list(p.exterior.coords)]\n",
    "# #                 new_p = Polygon(lines)\n",
    "# #                 new_geo.append(new_p)\n",
    "# #             elif p.geom_type == 'MultiPolygon':\n",
    "# #                 new_multi_p = []\n",
    "# #                 for ap in p:\n",
    "# #                     lines = [xy[:2] for xy in list(ap.exterior.coords)]\n",
    "# #                     new_p = Polygon(lines)\n",
    "# #                     new_multi_p.append(new_p)\n",
    "# #                 new_geo.append(MultiPolygon(new_multi_p))\n",
    "# #     return new_geo\n",
    "\n",
    "# # # geodf_2d = gp.GeoDataFrame.from_file(vector) # plug_in your shapefile\n",
    "# # # geodf_2d.geometry = convert_3D_2D(geodf_2d.geometry) # new geodf with 2D geometry series\n",
    "# # test = convert_3D_2D(vector.geometry) # new geodf with 2D geometry series"
   ]
  },
  {
   "cell_type": "code",
   "execution_count": 17,
   "id": "724fd601-b9a1-400b-9832-4586473bee95",
   "metadata": {},
   "outputs": [
    {
     "data": {
      "text/plain": [
       "[]"
      ]
     },
     "execution_count": 17,
     "metadata": {},
     "output_type": "execute_result"
    }
   ],
   "source": [
    "test"
   ]
  },
  {
   "cell_type": "markdown",
   "id": "7cdcddaa-58a3-4346-8160-784e488f1198",
   "metadata": {},
   "source": [
    "### Rasterize Points"
   ]
  },
  {
   "cell_type": "code",
   "execution_count": 28,
   "id": "9fd73c79-7864-4a0b-95db-b38af7aa0658",
   "metadata": {},
   "outputs": [],
   "source": [
    "# geom_value = ((geom,value) for geom, value in zip(vector.geometry, vector['z-values']))\n",
    "geom = [shapes for shapes in vector.geometry]"
   ]
  },
  {
   "cell_type": "code",
   "execution_count": 29,
   "id": "da40e2cd-a932-4bb1-bc9b-c1a7491f2e5b",
   "metadata": {},
   "outputs": [],
   "source": [
    "rasterized = features.rasterize(geom,\n",
    "                                out_shape = raster.shape,\n",
    "                                fill = 0,\n",
    "                                out = None,\n",
    "                                transform = raster.transform,\n",
    "                                all_touched = False,\n",
    "                                default_value = 1,\n",
    "                                dtype = None)"
   ]
  },
  {
   "cell_type": "code",
   "execution_count": 30,
   "id": "c3c958bf-00d2-4049-b573-d62f35cda96d",
   "metadata": {},
   "outputs": [
    {
     "data": {
      "image/png": "[encoded data removed]",
      "text/plain": [
       "<Figure size 1000x1000 with 1 Axes>"
      ]
     },
     "metadata": {},
     "output_type": "display_data"
    }
   ],
   "source": [
    "# Plot raster\n",
    "fig, ax = plt.subplots(1, figsize = (10, 10))\n",
    "show(rasterized, ax = ax)\n",
    "plt.gca().invert_yaxis()"
   ]
  },
  {
   "cell_type": "code",
   "execution_count": null,
   "id": "b9182473-6a46-4ef6-a7f5-c20b81dffacc",
   "metadata": {},
   "outputs": [],
   "source": [
    "#Write Raster to File \n",
    "with rasterio.open(\n",
    "        \"../temp/rasterized_vector.tif\", \"w\",\n",
    "        driver = \"GTiff\",\n",
    "        transform = raster.transform,\n",
    "        dtype = rasterio.uint8,\n",
    "        count = 1,\n",
    "        width = raster.width,\n",
    "        height = raster.height) as dst:\n",
    "    dst.write(rasterized, indexes = 1)"
   ]
  },
  {
   "cell_type": "code",
   "execution_count": null,
   "id": "83ce0b0e-8f39-4a24-8ef2-5f6d368ad971",
   "metadata": {},
   "outputs": [],
   "source": [
    "https://gis.stackexchange.com/questions/136059/convert-vector-point-shape-to-raster-tif-using-python-gdal-lib-in-qgis\n",
    "https://gis.stackexchange.com/questions/308002/how-can-i-convert-shapefile-to-raster-and-mask-using-gdal-python-3\n",
    "https://pygis.io/docs/e_raster_rasterize.html"
   ]
  },
  {
   "cell_type": "markdown",
   "id": "5176a549-4819-4295-aa88-17c5b1a32d1b",
   "metadata": {},
   "source": [
    "## Rasterize Line Values\n",
    "---"
   ]
  },
  {
   "cell_type": "code",
   "execution_count": null,
   "id": "c0a957c3-8f77-42ab-97bd-4e024c151229",
   "metadata": {},
   "outputs": [],
   "source": []
  },
  {
   "cell_type": "markdown",
   "id": "c2a02ee2-8d49-4b7b-a840-1b2e929f5ee8",
   "metadata": {},
   "source": [
    "## Rasterize Poly Values\n",
    "---"
   ]
  },
  {
   "cell_type": "code",
   "execution_count": null,
   "id": "bc4da1b7-2014-42fa-8308-9678a09ab518",
   "metadata": {},
   "outputs": [],
   "source": []
  },
  {
   "cell_type": "code",
   "execution_count": null,
   "id": "6e35de8f-6adf-42fe-b481-33957d8df4d7",
   "metadata": {},
   "outputs": [],
   "source": [
    "https://gdal.org/programs/gdal_rasterize.html"
   ]
  }
 ],
 "metadata": {
  "kernelspec": {
   "display_name": "Python 3 (ipykernel)",
   "language": "python",
   "name": "python3"
  },
  "language_info": {
   "codemirror_mode": {
    "name": "ipython",
    "version": 3
   },
   "file_extension": ".py",
   "mimetype": "text/x-python",
   "name": "python",
   "nbconvert_exporter": "python",
   "pygments_lexer": "ipython3",
   "version": "3.9.12"
  }
 },
 "nbformat": 4,
 "nbformat_minor": 5
}
