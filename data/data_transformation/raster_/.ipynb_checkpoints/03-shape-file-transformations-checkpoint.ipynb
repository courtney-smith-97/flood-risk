{
 "cells": [
  {
   "cell_type": "markdown",
   "id": "2b9278ba-acf0-4f22-a13d-4dcc1e255228",
   "metadata": {},
   "source": [
    "# Converting Shape Geoms to Raster Image\n",
    "---"
   ]
  },
  {
   "cell_type": "markdown",
   "id": "bc268bcb-3469-4a29-a101-1b3cdcf8caf3",
   "metadata": {},
   "source": [
    "## Setup Notebook\n",
    "---"
   ]
  },
  {
   "cell_type": "code",
   "execution_count": 4,
   "id": "dc7f8a7c-073a-44d5-b4fc-4a3a583557ec",
   "metadata": {},
   "outputs": [],
   "source": [
    "import warnings\n",
    "warnings.filterwarnings('ignore')"
   ]
  },
  {
   "cell_type": "code",
   "execution_count": 5,
   "id": "50a328a0-d1bf-48ea-9f82-4d6cf13b1ca9",
   "metadata": {},
   "outputs": [],
   "source": [
    "import fiona\n",
    "import geopandas as gpd\n",
    "import matplotlib.pyplot as plt\n",
    "import rasterio\n",
    "from rasterio import features\n",
    "from rasterio.enums import MergeAlg\n",
    "from rasterio.plot import show\n",
    "import numpy as np\n",
    "from shapely.geometry import Polygon, MultiPolygon, shape, Point\n",
    "\n",
    "from osgeo import gdal\n",
    "from osgeo import ogr"
   ]
  },
  {
   "cell_type": "markdown",
   "id": "3f5a936f-434e-4937-83c2-8f25d7922219",
   "metadata": {},
   "source": [
    "## Binary Point Raster Burn\n",
    "---"
   ]
  },
  {
   "cell_type": "code",
   "execution_count": null,
   "id": "55a785b2-ec58-4d1c-8868-2b4d90a6b457",
   "metadata": {},
   "outputs": [],
   "source": [
    "# Load Data\n",
    "rst = '/workspace/data-sets/Land_Cover/nyc-lc-2-2.tif'\n",
    "shape = '/workspace/data-sets/DEPCatchbasins/DEPCATCHBASINS.shp'"
   ]
  },
  {
   "cell_type": "code",
   "execution_count": null,
   "id": "c85989a4-30f5-407e-a548-77b68235dff4",
   "metadata": {},
   "outputs": [],
   "source": [
    "raster = rasterio.open(rst)\n",
    "v_df = gpd.read_file(shape)\n",
    "v_df.head()"
   ]
  },
  {
   "cell_type": "code",
   "execution_count": null,
   "id": "80956b1d-d643-47c1-82fb-77cc52646eff",
   "metadata": {},
   "outputs": [],
   "source": [
    "layer = vector.GetLayer()\n",
    "ext = layer.GetExtent()\n",
    "feature = layer.GetFeature(1)"
   ]
  },
  {
   "cell_type": "code",
   "execution_count": null,
   "id": "73e16e82-4aac-4688-abdb-cf3a8f325455",
   "metadata": {},
   "outputs": [],
   "source": [
    "layer.GetFeatureCount()"
   ]
  },
  {
   "cell_type": "code",
   "execution_count": null,
   "id": "5aa7c203-5402-4c70-89d2-714a05c59751",
   "metadata": {},
   "outputs": [],
   "source": [
    "feature.GetField('UNITID')"
   ]
  },
  {
   "cell_type": "code",
   "execution_count": null,
   "id": "e919e85e-bed1-42b3-b8b6-3254636c6e46",
   "metadata": {},
   "outputs": [],
   "source": [
    "geom_value = ((geom,value) for geom, value in zip(vector.geometry, vector['id']))\n",
    "rasterized = features.rasterize(geom_value,\n",
    "                                out_shape = raster.shape,\n",
    "                                transform = raster.transform,\n",
    "                                all_touched = True,\n",
    "                                fill = -5,   # background value\n",
    "                                merge_alg = MergeAlg.replace,\n",
    "                                dtype = np.int16)"
   ]
  },
  {
   "cell_type": "markdown",
   "id": "b0d572be-c4ac-4295-8560-9bc268753473",
   "metadata": {},
   "source": [
    "## Multipoint Raster Burn\n",
    "---"
   ]
  },
  {
   "cell_type": "code",
   "execution_count": null,
   "id": "83c5ea4a-fe9a-4078-96a3-b358c1097e52",
   "metadata": {},
   "outputs": [],
   "source": []
  },
  {
   "cell_type": "markdown",
   "id": "80911cbe-67c4-4a79-be70-87c28baf6dfa",
   "metadata": {},
   "source": [
    "## Extra Point Extraction\n",
    "---"
   ]
  },
  {
   "cell_type": "code",
   "execution_count": 39,
   "id": "d8c7875a-9265-4d83-a5ff-532a2fdb8592",
   "metadata": {},
   "outputs": [
    {
     "data": {
      "text/html": [
       "<div>\n",
       "<style scoped>\n",
       "    .dataframe tbody tr th:only-of-type {\n",
       "        vertical-align: middle;\n",
       "    }\n",
       "\n",
       "    .dataframe tbody tr th {\n",
       "        vertical-align: top;\n",
       "    }\n",
       "\n",
       "    .dataframe thead th {\n",
       "        text-align: right;\n",
       "    }\n",
       "</style>\n",
       "<table border=\"1\" class=\"dataframe\">\n",
       "  <thead>\n",
       "    <tr style=\"text-align: right;\">\n",
       "      <th></th>\n",
       "      <th>ELEVATION</th>\n",
       "      <th>SOURCE_ID</th>\n",
       "      <th>FEATURE_CODE</th>\n",
       "      <th>SUB_FEATURE_CODE</th>\n",
       "      <th>STATUS</th>\n",
       "      <th>geometry</th>\n",
       "      <th>x</th>\n",
       "      <th>y</th>\n",
       "      <th>z</th>\n",
       "    </tr>\n",
       "  </thead>\n",
       "  <tbody>\n",
       "    <tr>\n",
       "      <th>0</th>\n",
       "      <td>129.740000</td>\n",
       "      <td>2.130200e+10</td>\n",
       "      <td>3020</td>\n",
       "      <td>302000</td>\n",
       "      <td>Unchanged</td>\n",
       "      <td>POINT (989083.000 195003.260)</td>\n",
       "      <td>989082.999837</td>\n",
       "      <td>195003.259978</td>\n",
       "      <td>129.7400</td>\n",
       "    </tr>\n",
       "    <tr>\n",
       "      <th>1</th>\n",
       "      <td>120.586263</td>\n",
       "      <td>2.130000e+10</td>\n",
       "      <td>3000</td>\n",
       "      <td>300020</td>\n",
       "      <td>Unchanged</td>\n",
       "      <td>POINT (987638.301 195007.228)</td>\n",
       "      <td>987638.300954</td>\n",
       "      <td>195007.227818</td>\n",
       "      <td>120.5863</td>\n",
       "    </tr>\n",
       "    <tr>\n",
       "      <th>2</th>\n",
       "      <td>114.740000</td>\n",
       "      <td>2.130200e+10</td>\n",
       "      <td>3020</td>\n",
       "      <td>302000</td>\n",
       "      <td>Unchanged</td>\n",
       "      <td>POINT (988565.410 195011.600)</td>\n",
       "      <td>988565.409993</td>\n",
       "      <td>195011.599856</td>\n",
       "      <td>114.7400</td>\n",
       "    </tr>\n",
       "    <tr>\n",
       "      <th>3</th>\n",
       "      <td>69.130000</td>\n",
       "      <td>2.130200e+10</td>\n",
       "      <td>3020</td>\n",
       "      <td>302000</td>\n",
       "      <td>Unchanged</td>\n",
       "      <td>POINT (989509.570 195013.270)</td>\n",
       "      <td>989509.569850</td>\n",
       "      <td>195013.270128</td>\n",
       "      <td>69.1300</td>\n",
       "    </tr>\n",
       "    <tr>\n",
       "      <th>4</th>\n",
       "      <td>49.235397</td>\n",
       "      <td>2.130200e+10</td>\n",
       "      <td>3020</td>\n",
       "      <td>302000</td>\n",
       "      <td>Unchanged</td>\n",
       "      <td>POINT (987570.796 195019.969)</td>\n",
       "      <td>987570.795840</td>\n",
       "      <td>195019.969262</td>\n",
       "      <td>49.2354</td>\n",
       "    </tr>\n",
       "  </tbody>\n",
       "</table>\n",
       "</div>"
      ],
      "text/plain": [
       "    ELEVATION     SOURCE_ID  FEATURE_CODE  SUB_FEATURE_CODE     STATUS  \\\n",
       "0  129.740000  2.130200e+10          3020            302000  Unchanged   \n",
       "1  120.586263  2.130000e+10          3000            300020  Unchanged   \n",
       "2  114.740000  2.130200e+10          3020            302000  Unchanged   \n",
       "3   69.130000  2.130200e+10          3020            302000  Unchanged   \n",
       "4   49.235397  2.130200e+10          3020            302000  Unchanged   \n",
       "\n",
       "                        geometry              x              y         z  \n",
       "0  POINT (989083.000 195003.260)  989082.999837  195003.259978  129.7400  \n",
       "1  POINT (987638.301 195007.228)  987638.300954  195007.227818  120.5863  \n",
       "2  POINT (988565.410 195011.600)  988565.409993  195011.599856  114.7400  \n",
       "3  POINT (989509.570 195013.270)  989509.569850  195013.270128   69.1300  \n",
       "4  POINT (987570.796 195019.969)  987570.795840  195019.969262   49.2354  "
      ]
     },
     "execution_count": 39,
     "metadata": {},
     "output_type": "execute_result"
    }
   ],
   "source": [
    "## Extract Z Values and convert geo to point\n",
    "# load data from geo data base\n",
    "vector = plan_data_list[14]\n",
    "\n",
    "# Extract Z Values\n",
    "x_list = []\n",
    "y_list = []\n",
    "z_list = []\n",
    "for feature in vector.geometry:\n",
    "    coords = list(feature.coords)\n",
    "    x_list.append(coords[0][0])\n",
    "    y_list.append(coords[0][1])\n",
    "    z_list.append(coords[0][2])\n",
    "\n",
    "# Append Z values to dataframe\n",
    "vector['x'] = x_list\n",
    "vector['y'] = y_list\n",
    "vector['z'] = z_list\n",
    "\n",
    "vector['geometry'] = gpd.points_from_xy(vector.x, vector.y, crs=vector.crs)\n",
    "vector.head()"
   ]
  },
  {
   "cell_type": "markdown",
   "id": "b80e99f2-17fe-4f52-8fb7-ea417d31e98d",
   "metadata": {},
   "source": [
    "## Rasterize Line Values - Binary\n",
    "---"
   ]
  },
  {
   "cell_type": "code",
   "execution_count": 1,
   "id": "50d05206-a0a4-47e7-97e2-1cd91bb14b17",
   "metadata": {},
   "outputs": [],
   "source": [
    "# Load Data\n",
    "rst = '/workspace/data-sets/Land_Cover/nyc-lc-2-2.tif'\n",
    "shape = '/workspace/data-sets/SHORELINE/SHORELINE.shp'"
   ]
  },
  {
   "cell_type": "code",
   "execution_count": 46,
   "id": "880f47fb-caad-4dbc-9a26-4b09df6e5eb1",
   "metadata": {},
   "outputs": [
    {
     "data": {
      "text/html": [
       "<div>\n",
       "<style scoped>\n",
       "    .dataframe tbody tr th:only-of-type {\n",
       "        vertical-align: middle;\n",
       "    }\n",
       "\n",
       "    .dataframe tbody tr th {\n",
       "        vertical-align: top;\n",
       "    }\n",
       "\n",
       "    .dataframe thead th {\n",
       "        text-align: right;\n",
       "    }\n",
       "</style>\n",
       "<table border=\"1\" class=\"dataframe\">\n",
       "  <thead>\n",
       "    <tr style=\"text-align: right;\">\n",
       "      <th></th>\n",
       "      <th>SOURCE_ID</th>\n",
       "      <th>FEAT_CODE</th>\n",
       "      <th>SUB_CODE</th>\n",
       "      <th>STATUS</th>\n",
       "      <th>SHAPE_Leng</th>\n",
       "      <th>geometry</th>\n",
       "    </tr>\n",
       "  </thead>\n",
       "  <tbody>\n",
       "    <tr>\n",
       "      <th>0</th>\n",
       "      <td>2.139000e+10</td>\n",
       "      <td>3900</td>\n",
       "      <td>390000</td>\n",
       "      <td>Unchanged</td>\n",
       "      <td>482.569042</td>\n",
       "      <td>LINESTRING (985000.000 194733.449, 984990.388 ...</td>\n",
       "    </tr>\n",
       "    <tr>\n",
       "      <th>1</th>\n",
       "      <td>2.139000e+10</td>\n",
       "      <td>3900</td>\n",
       "      <td>390000</td>\n",
       "      <td>Updated</td>\n",
       "      <td>133815.757431</td>\n",
       "      <td>LINESTRING (997974.251 218587.755, 997958.972 ...</td>\n",
       "    </tr>\n",
       "    <tr>\n",
       "      <th>2</th>\n",
       "      <td>2.139000e+10</td>\n",
       "      <td>3900</td>\n",
       "      <td>390000</td>\n",
       "      <td>Unchanged</td>\n",
       "      <td>77262.246784</td>\n",
       "      <td>LINESTRING (985937.913 185545.239, 985986.833 ...</td>\n",
       "    </tr>\n",
       "    <tr>\n",
       "      <th>3</th>\n",
       "      <td>1.390000e+09</td>\n",
       "      <td>3900</td>\n",
       "      <td>390000</td>\n",
       "      <td>Unchanged</td>\n",
       "      <td>805.165413</td>\n",
       "      <td>LINESTRING (1050147.090 164096.960, 1050149.33...</td>\n",
       "    </tr>\n",
       "    <tr>\n",
       "      <th>4</th>\n",
       "      <td>1.390000e+09</td>\n",
       "      <td>3900</td>\n",
       "      <td>390000</td>\n",
       "      <td>Updated</td>\n",
       "      <td>984.992664</td>\n",
       "      <td>LINESTRING (1030507.575 154166.126, 1030503.09...</td>\n",
       "    </tr>\n",
       "  </tbody>\n",
       "</table>\n",
       "</div>"
      ],
      "text/plain": [
       "      SOURCE_ID  FEAT_CODE  SUB_CODE     STATUS     SHAPE_Leng  \\\n",
       "0  2.139000e+10       3900    390000  Unchanged     482.569042   \n",
       "1  2.139000e+10       3900    390000    Updated  133815.757431   \n",
       "2  2.139000e+10       3900    390000  Unchanged   77262.246784   \n",
       "3  1.390000e+09       3900    390000  Unchanged     805.165413   \n",
       "4  1.390000e+09       3900    390000    Updated     984.992664   \n",
       "\n",
       "                                            geometry  \n",
       "0  LINESTRING (985000.000 194733.449, 984990.388 ...  \n",
       "1  LINESTRING (997974.251 218587.755, 997958.972 ...  \n",
       "2  LINESTRING (985937.913 185545.239, 985986.833 ...  \n",
       "3  LINESTRING (1050147.090 164096.960, 1050149.33...  \n",
       "4  LINESTRING (1030507.575 154166.126, 1030503.09...  "
      ]
     },
     "execution_count": 46,
     "metadata": {},
     "output_type": "execute_result"
    }
   ],
   "source": [
    "raster = rasterio.open(rst)\n",
    "v_df = gpd.read_file(shape)\n",
    "v_df.head()"
   ]
  },
  {
   "cell_type": "code",
   "execution_count": 47,
   "id": "9e852619-13b9-4441-81c0-60112d4c57e3",
   "metadata": {},
   "outputs": [],
   "source": [
    "geom = [shapes for shapes in v_df.geometry]\n",
    "\n",
    "rasterized = features.rasterize(geom,\n",
    "                                out_shape = raster.shape,\n",
    "                                fill = 0,\n",
    "                                out = None,\n",
    "                                transform = raster.transform,\n",
    "                                all_touched = False,\n",
    "                                default_value = 1,\n",
    "                                dtype = None)"
   ]
  },
  {
   "cell_type": "code",
   "execution_count": 48,
   "id": "75d87b4d-0ac8-4df8-be5a-2c3a9f1b6964",
   "metadata": {},
   "outputs": [
    {
     "data": {
      "image/png": "[encoded data removed]",
      "text/plain": [
       "<Figure size 1000x1000 with 1 Axes>"
      ]
     },
     "metadata": {},
     "output_type": "display_data"
    }
   ],
   "source": [
    "fig, ax = plt.subplots(1, figsize = (10, 10))\n",
    "show(rasterized, ax = ax)\n",
    "plt.gca().invert_yaxis()"
   ]
  },
  {
   "cell_type": "markdown",
   "id": "e49a59fa-65dc-4541-bd6f-140715e0454a",
   "metadata": {},
   "source": [
    "## Rasterize Line Values (multiple Values)\n",
    "---"
   ]
  },
  {
   "cell_type": "code",
   "execution_count": 7,
   "id": "fb8e5275-25e7-4036-b6a2-21b7d8aa9e58",
   "metadata": {},
   "outputs": [],
   "source": [
    "# Load Data\n",
    "rst = '/workspace/data-sets/Land_Cover/nyc-lc-2-2.tif'\n",
    "shape = '/workspace/data-sets/NYC_DoITT_Planimetric_OpenData.gdb/NYC_DoITT_Planimetric_OpenData.gdb'"
   ]
  },
  {
   "cell_type": "code",
   "execution_count": 8,
   "id": "f96d8aa4-ee88-45b0-a77c-fa5f31a9c2b0",
   "metadata": {},
   "outputs": [
    {
     "data": {
      "text/html": [
       "<div>\n",
       "<style scoped>\n",
       "    .dataframe tbody tr th:only-of-type {\n",
       "        vertical-align: middle;\n",
       "    }\n",
       "\n",
       "    .dataframe tbody tr th {\n",
       "        vertical-align: top;\n",
       "    }\n",
       "\n",
       "    .dataframe thead th {\n",
       "        text-align: right;\n",
       "    }\n",
       "</style>\n",
       "<table border=\"1\" class=\"dataframe\">\n",
       "  <thead>\n",
       "    <tr style=\"text-align: right;\">\n",
       "      <th></th>\n",
       "      <th>SOURCE_ID</th>\n",
       "      <th>FEATURE_CODE</th>\n",
       "      <th>SUB_FEATURE_CODE</th>\n",
       "      <th>STATUS</th>\n",
       "      <th>SHAPE_Length</th>\n",
       "      <th>height</th>\n",
       "      <th>geometry</th>\n",
       "    </tr>\n",
       "  </thead>\n",
       "  <tbody>\n",
       "    <tr>\n",
       "      <th>0</th>\n",
       "      <td>2.140000e+10</td>\n",
       "      <td>4000</td>\n",
       "      <td>400000</td>\n",
       "      <td>Unchanged</td>\n",
       "      <td>365.715400</td>\n",
       "      <td>41</td>\n",
       "      <td>MULTILINESTRING Z ((985530.573 194711.453 44.4...</td>\n",
       "    </tr>\n",
       "    <tr>\n",
       "      <th>1</th>\n",
       "      <td>2.140000e+10</td>\n",
       "      <td>4000</td>\n",
       "      <td>400000</td>\n",
       "      <td>Unchanged</td>\n",
       "      <td>226.155070</td>\n",
       "      <td>66</td>\n",
       "      <td>MULTILINESTRING Z ((985475.003 194408.890 68.2...</td>\n",
       "    </tr>\n",
       "    <tr>\n",
       "      <th>2</th>\n",
       "      <td>2.140000e+10</td>\n",
       "      <td>4000</td>\n",
       "      <td>400000</td>\n",
       "      <td>Unchanged</td>\n",
       "      <td>50.949832</td>\n",
       "      <td>19</td>\n",
       "      <td>MULTILINESTRING Z ((985523.914 194769.822 22.7...</td>\n",
       "    </tr>\n",
       "    <tr>\n",
       "      <th>3</th>\n",
       "      <td>2.140000e+10</td>\n",
       "      <td>4000</td>\n",
       "      <td>400000</td>\n",
       "      <td>Unchanged</td>\n",
       "      <td>175.276149</td>\n",
       "      <td>65</td>\n",
       "      <td>MULTILINESTRING Z ((987357.515 194593.661 68.9...</td>\n",
       "    </tr>\n",
       "    <tr>\n",
       "      <th>4</th>\n",
       "      <td>2.140000e+10</td>\n",
       "      <td>4000</td>\n",
       "      <td>400000</td>\n",
       "      <td>Unchanged</td>\n",
       "      <td>100.051403</td>\n",
       "      <td>69</td>\n",
       "      <td>MULTILINESTRING Z ((987949.170 194143.960 70.9...</td>\n",
       "    </tr>\n",
       "  </tbody>\n",
       "</table>\n",
       "</div>"
      ],
      "text/plain": [
       "      SOURCE_ID  FEATURE_CODE  SUB_FEATURE_CODE     STATUS  SHAPE_Length  \\\n",
       "0  2.140000e+10          4000            400000  Unchanged    365.715400   \n",
       "1  2.140000e+10          4000            400000  Unchanged    226.155070   \n",
       "2  2.140000e+10          4000            400000  Unchanged     50.949832   \n",
       "3  2.140000e+10          4000            400000  Unchanged    175.276149   \n",
       "4  2.140000e+10          4000            400000  Unchanged    100.051403   \n",
       "\n",
       "   height                                           geometry  \n",
       "0      41  MULTILINESTRING Z ((985530.573 194711.453 44.4...  \n",
       "1      66  MULTILINESTRING Z ((985475.003 194408.890 68.2...  \n",
       "2      19  MULTILINESTRING Z ((985523.914 194769.822 22.7...  \n",
       "3      65  MULTILINESTRING Z ((987357.515 194593.661 68.9...  \n",
       "4      69  MULTILINESTRING Z ((987949.170 194143.960 70.9...  "
      ]
     },
     "execution_count": 8,
     "metadata": {},
     "output_type": "execute_result"
    }
   ],
   "source": [
    "layer_list = fiona.listlayers(shape)\n",
    "plan_data_list = []\n",
    "for layer_name in layer_list:\n",
    "    plan_data_list.append(gpd.read_file(shape, layer=layer_name))\n",
    "raster = rasterio.open(rst)\n",
    "v_df = plan_data_list[2]\n",
    "v_df.head()"
   ]
  },
  {
   "cell_type": "code",
   "execution_count": 9,
   "id": "6574c915-3b87-4344-af4a-66bc226d6d62",
   "metadata": {},
   "outputs": [],
   "source": [
    "# Extract the Z value to encode as attribute:\n",
    "z_value = []\n",
    "for feature in v_df.geometry:\n",
    "    # Extract the 3 dimensional features\n",
    "    coords = [list(line.coords) for line in feature][0]\n",
    "    z = []\n",
    "    \n",
    "    for tup in coords:\n",
    "        z.append(tup[2])\n",
    "    z_value.append(z)\n",
    "    \n",
    "# Select minimum z value (as water ingressess through the lowest point) (truncating to reduce unique values)\n",
    "min_z = []\n",
    "for i in z_value:\n",
    "    min_z.append(int(min(i)))"
   ]
  },
  {
   "cell_type": "code",
   "execution_count": 10,
   "id": "bf8f6bd2-8bc2-46ad-8bde-89b3b14f94d8",
   "metadata": {},
   "outputs": [],
   "source": [
    "# Add value back into gdf\n",
    "v_df['z'] = min_z"
   ]
  },
  {
   "cell_type": "code",
   "execution_count": 11,
   "id": "66c9919a-f9c8-4a26-ab75-0aeae17ee946",
   "metadata": {},
   "outputs": [],
   "source": [
    "geom_value = ((geom,value) for geom, value in zip(v_df.geometry, v_df['z']))\n",
    "rasterized = features.rasterize(geom_value,\n",
    "                                out_shape = raster.shape,\n",
    "                                transform = raster.transform,\n",
    "                                all_touched = True,\n",
    "                                fill = -5,   # background value\n",
    "                                merge_alg = MergeAlg.replace)"
   ]
  },
  {
   "cell_type": "code",
   "execution_count": 13,
   "id": "d4bfe892-6a96-4d33-883a-db3dae7c30a6",
   "metadata": {},
   "outputs": [
    {
     "data": {
      "image/png": "[encoded data removed]",
      "text/plain": [
       "<Figure size 1000x1000 with 1 Axes>"
      ]
     },
     "metadata": {},
     "output_type": "display_data"
    }
   ],
   "source": [
    "fig, ax = plt.subplots(1, figsize = (10, 10))\n",
    "show(rasterized, ax = ax)\n",
    "plt.gca().invert_yaxis()"
   ]
  },
  {
   "cell_type": "code",
   "execution_count": 12,
   "id": "d459673a-d5f9-429d-b57c-b8d17e0d9a7b",
   "metadata": {},
   "outputs": [
    {
     "name": "stdout",
     "output_type": "stream",
     "text": [
      "Min:  -5\n",
      "Max:  405\n"
     ]
    }
   ],
   "source": [
    "print('Min: ', rasterized.min())\n",
    "print('Max: ', rasterized.max())"
   ]
  },
  {
   "cell_type": "code",
   "execution_count": null,
   "id": "d0e77e71-58cc-4f2e-89ed-a2e235331028",
   "metadata": {},
   "outputs": [],
   "source": []
  },
  {
   "cell_type": "markdown",
   "id": "cf1fbca0-e948-47fa-8b01-0bbe6a3454cb",
   "metadata": {},
   "source": [
    "## Simple Poly (Binary)\n",
    "---"
   ]
  },
  {
   "cell_type": "code",
   "execution_count": null,
   "id": "7d4ea389-f758-4dce-ac50-9a1c24a71cac",
   "metadata": {},
   "outputs": [],
   "source": [
    "# Load Data\n",
    "rst = '/workspace/data-sets/Land_Cover/nyc-lc-2-2.tif'\n",
    "shape = '/workspace/data-sets/NYC_DoITT_Planimetric_OpenData.gdb/NYC_DoITT_Planimetric_OpenData.gdb'"
   ]
  },
  {
   "cell_type": "code",
   "execution_count": null,
   "id": "fcafdec5-10cb-4ea1-b8ca-a1ed26b9c755",
   "metadata": {},
   "outputs": [],
   "source": []
  },
  {
   "cell_type": "code",
   "execution_count": null,
   "id": "a4b1ac93-33f1-41a2-b3ea-40745b3540a9",
   "metadata": {},
   "outputs": [],
   "source": []
  },
  {
   "cell_type": "code",
   "execution_count": null,
   "id": "c787100e-14a8-4344-820e-53afa560af30",
   "metadata": {},
   "outputs": [],
   "source": []
  },
  {
   "cell_type": "code",
   "execution_count": null,
   "id": "45968335-8f19-49e6-9a73-c0bd6e45938c",
   "metadata": {},
   "outputs": [],
   "source": []
  },
  {
   "cell_type": "code",
   "execution_count": null,
   "id": "b56ea4b9-b72a-471b-956b-d65a3031e898",
   "metadata": {},
   "outputs": [],
   "source": []
  },
  {
   "cell_type": "code",
   "execution_count": null,
   "id": "ab55e492-34ea-4850-9682-33886cd99e87",
   "metadata": {},
   "outputs": [],
   "source": []
  },
  {
   "cell_type": "markdown",
   "id": "bea22708-fcf8-45ae-8f2c-71a0039848f9",
   "metadata": {},
   "source": [
    "## GDAL Methodology (super Slow)\n",
    "---"
   ]
  },
  {
   "cell_type": "code",
   "execution_count": 46,
   "id": "9908fa55-a929-49ec-83de-4c0b52f9a2cb",
   "metadata": {},
   "outputs": [],
   "source": [
    "# Save modified gpd (This is needed to create a shape file from the gdb\n",
    "# Note you can only have one geometry in the gdf to save it\n",
    "\n",
    "# vector.to_file(driver = 'ESRI Shapefile', filename= \"test.shp\")"
   ]
  },
  {
   "cell_type": "code",
   "execution_count": 57,
   "id": "fd4d9231-f7f2-47eb-9ce4-84160989de83",
   "metadata": {},
   "outputs": [],
   "source": [
    "# # Extract Features from Base Raster\n",
    "ulx, xres, xskew, uly, yskew, yres  = raster.GetGeoTransform()\n",
    "lrx = ulx + (raster.RasterXSize * xres)\n",
    "lry = uly + (raster.RasterYSize * yres)\n",
    "width = raster.RasterXSize\n",
    "height = raster.RasterYSize"
   ]
  },
  {
   "cell_type": "code",
   "execution_count": null,
   "id": "0a28e16c-315d-435c-9cba-7107d69f0e2c",
   "metadata": {},
   "outputs": [],
   "source": [
    "# nn = gdal.Grid(\"nn-test.tif\", \n",
    "#                'test.shp', \n",
    "#                zfield='z', \n",
    "#                algorithm='nearest',\n",
    "#                outputBounds=[ulx,uly,lrx,lry],\n",
    "#                width=width,\n",
    "#                height=height)"
   ]
  },
  {
   "cell_type": "code",
   "execution_count": null,
   "id": "9afedecd-b487-4cbb-bd25-686731d962e9",
   "metadata": {},
   "outputs": [],
   "source": [
    "# nn = None"
   ]
  },
  {
   "cell_type": "code",
   "execution_count": null,
   "id": "b104b9f3-ea5d-45c5-9984-3966a8b00ba4",
   "metadata": {},
   "outputs": [],
   "source": [
    "# ts = gdal.Open(\"nn-test.tif\")\n",
    "# band = ts.GetRasterBand(1)\n",
    "# arr = band.ReadAsArray()\n",
    "# plt.imshow(arr)"
   ]
  },
  {
   "cell_type": "code",
   "execution_count": null,
   "id": "0afac339-322a-459f-b60a-fbcdc22c5d20",
   "metadata": {},
   "outputs": [],
   "source": [
    "# Try this to see if we get a performance boost https://gis.stackexchange.com/questions/151339/rasterize-a-shapefile-with-geopandas-or-fiona-python"
   ]
  },
  {
   "cell_type": "code",
   "execution_count": 35,
   "id": "ddabeac2-f2a4-449f-a95a-e9f83037c7ce",
   "metadata": {},
   "outputs": [
    {
     "data": {
      "text/plain": [
       "array([[0, 0, 0, ..., 0, 0, 0],\n",
       "       [0, 0, 0, ..., 0, 0, 0],\n",
       "       [0, 0, 0, ..., 0, 0, 0],\n",
       "       ...,\n",
       "       [0, 0, 0, ..., 0, 0, 0],\n",
       "       [0, 0, 0, ..., 0, 0, 0],\n",
       "       [0, 0, 0, ..., 0, 0, 0]], dtype=uint8)"
      ]
     },
     "execution_count": 35,
     "metadata": {},
     "output_type": "execute_result"
    }
   ],
   "source": [
    "rasterized"
   ]
  },
  {
   "cell_type": "code",
   "execution_count": 36,
   "id": "609a500c-b240-4bbe-8101-05491f09a95a",
   "metadata": {},
   "outputs": [
    {
     "data": {
      "text/plain": [
       "0"
      ]
     },
     "execution_count": 36,
     "metadata": {},
     "output_type": "execute_result"
    }
   ],
   "source": [
    "rasterized.min()"
   ]
  },
  {
   "cell_type": "code",
   "execution_count": 37,
   "id": "6b510321-53ed-45b3-a8ff-d92aeeed1811",
   "metadata": {},
   "outputs": [
    {
     "data": {
      "text/plain": [
       "1"
      ]
     },
     "execution_count": 37,
     "metadata": {},
     "output_type": "execute_result"
    }
   ],
   "source": [
    "rasterized.max()"
   ]
  },
  {
   "cell_type": "code",
   "execution_count": 38,
   "id": "19c33072-10ac-43b1-b9e4-944e012bd6f7",
   "metadata": {},
   "outputs": [
    {
     "data": {
      "text/plain": [
       "(78604, 77711)"
      ]
     },
     "execution_count": 38,
     "metadata": {},
     "output_type": "execute_result"
    }
   ],
   "source": [
    "rasterized.shape"
   ]
  },
  {
   "cell_type": "code",
   "execution_count": null,
   "id": "28c400d7-892d-4e99-8c47-a038499b74e9",
   "metadata": {},
   "outputs": [],
   "source": [
    "# #Write Raster to File \n",
    "# with rasterio.open(\n",
    "#         \"../temp/rasterized_vector.tif\", \"w\",\n",
    "#         driver = \"GTiff\",\n",
    "#         transform = raster.transform,\n",
    "#         dtype = rasterio.uint8,\n",
    "#         count = 1,\n",
    "#         width = raster.width,\n",
    "#         height = raster.height) as dst:\n",
    "#     dst.write(rasterized, indexes = 1)"
   ]
  },
  {
   "cell_type": "code",
   "execution_count": null,
   "id": "5281fa5b-3e86-4d08-8de5-f78dd973d76e",
   "metadata": {},
   "outputs": [],
   "source": []
  },
  {
   "cell_type": "markdown",
   "id": "5e2795cf-99d0-4842-aefc-310d6d49f27e",
   "metadata": {},
   "source": [
    "First we'll start by extracting z-value features as shown in the 02 notebook."
   ]
  },
  {
   "cell_type": "markdown",
   "id": "c2a02ee2-8d49-4b7b-a840-1b2e929f5ee8",
   "metadata": {},
   "source": [
    "## Rasterize Poly Values\n",
    "---"
   ]
  },
  {
   "cell_type": "code",
   "execution_count": null,
   "id": "bc4da1b7-2014-42fa-8308-9678a09ab518",
   "metadata": {},
   "outputs": [],
   "source": []
  },
  {
   "cell_type": "code",
   "execution_count": null,
   "id": "83ce0b0e-8f39-4a24-8ef2-5f6d368ad971",
   "metadata": {},
   "outputs": [],
   "source": [
    "https://gis.stackexchange.com/questions/136059/convert-vector-point-shape-to-raster-tif-using-python-gdal-lib-in-qgis\n",
    "https://gis.stackexchange.com/questions/308002/how-can-i-convert-shapefile-to-raster-and-mask-using-gdal-python-3\n",
    "https://pygis.io/docs/e_raster_rasterize.html"
   ]
  },
  {
   "cell_type": "code",
   "execution_count": null,
   "id": "6e35de8f-6adf-42fe-b481-33957d8df4d7",
   "metadata": {},
   "outputs": [],
   "source": [
    "https://gdal.org/programs/gdal_rasterize.html"
   ]
  }
 ],
 "metadata": {
  "kernelspec": {
   "display_name": "Python 3 (ipykernel)",
   "language": "python",
   "name": "python3"
  },
  "language_info": {
   "codemirror_mode": {
    "name": "ipython",
    "version": 3
   },
   "file_extension": ".py",
   "mimetype": "text/x-python",
   "name": "python",
   "nbconvert_exporter": "python",
   "pygments_lexer": "ipython3",
   "version": "3.9.12"
  }
 },
 "nbformat": 4,
 "nbformat_minor": 5
}
