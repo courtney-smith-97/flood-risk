{
 "cells": [
  {
   "cell_type": "code",
   "execution_count": 1,
   "id": "b780b43a-56ec-461e-be90-29edbd6a0598",
   "metadata": {},
   "outputs": [],
   "source": [
    "from osgeo import gdal"
   ]
  },
  {
   "cell_type": "code",
   "execution_count": 2,
   "id": "80dfa11b-943d-4664-8a7a-cf8c24c60bad",
   "metadata": {},
   "outputs": [
    {
     "name": "stdout",
     "output_type": "stream",
     "text": [
      "Help on function ReprojectImage in module osgeo.gdal:\n",
      "\n",
      "ReprojectImage(*args, **kwargs)\n",
      "    ReprojectImage(Dataset src_ds, Dataset dst_ds, char const * src_wkt=None, char const * dst_wkt=None, GDALResampleAlg eResampleAlg, double WarpMemoryLimit=0.0, double maxerror=0.0, GDALProgressFunc callback=0, void * callback_data=None, char ** options=None) -> CPLErr\n",
      "\n"
     ]
    }
   ],
   "source": [
    "help(gdal.ReprojectImage)"
   ]
  },
  {
   "cell_type": "code",
   "execution_count": null,
   "id": "9a6c8e98-305b-4709-b18c-36a8a1f061eb",
   "metadata": {},
   "outputs": [],
   "source": [
    "# gdal.Warp('outputRaster.tif', 'inputRaster.tif', xRes=5, yRes=5)"
   ]
  },
  {
   "cell_type": "markdown",
   "id": "6a94c96e-0d11-46df-9085-08e3b7ef4144",
   "metadata": {},
   "source": [
    "## Raster Data Info\n",
    "---"
   ]
  },
  {
   "cell_type": "code",
   "execution_count": 3,
   "id": "236b7428-01be-4e35-9db5-58dd1473f9ba",
   "metadata": {},
   "outputs": [],
   "source": [
    "in_raster = '/workspace/data/Land_cover/Land_Cover/NYC_2017_LiDAR_LandCover.img'"
   ]
  },
  {
   "cell_type": "code",
   "execution_count": 4,
   "id": "0d1a3fe7-2921-474d-ab97-22bb38cfb14f",
   "metadata": {},
   "outputs": [],
   "source": [
    "ds = gdal.Open(in_raster)"
   ]
  },
  {
   "cell_type": "code",
   "execution_count": 7,
   "id": "20f970a2-7456-4b8c-b66d-fcf5a6655a10",
   "metadata": {},
   "outputs": [],
   "source": [
    "ds_proj = ds.GetProjection()"
   ]
  },
  {
   "cell_type": "code",
   "execution_count": 10,
   "id": "f078e833-a390-4d78-858d-7479488c9ee0",
   "metadata": {},
   "outputs": [
    {
     "data": {
      "text/plain": [
       "'PROJCS[\"NAD83 New York State Planes, Long Island, US Foot\",GEOGCS[\"NAD83\",DATUM[\"North_American_Datum_1983\",SPHEROID[\"GRS 1980\",6378137,298.257222101,AUTHORITY[\"EPSG\",\"7019\"]],AUTHORITY[\"EPSG\",\"6269\"]],PRIMEM[\"Greenwich\",0,AUTHORITY[\"EPSG\",\"8901\"]],UNIT[\"degree\",0.0174532925199433,AUTHORITY[\"EPSG\",\"9122\"]],AUTHORITY[\"EPSG\",\"4269\"]],PROJECTION[\"Lambert_Conformal_Conic_2SP\"],PARAMETER[\"latitude_of_origin\",40.1666666666667],PARAMETER[\"central_meridian\",-74],PARAMETER[\"standard_parallel_1\",41.0333333333333],PARAMETER[\"standard_parallel_2\",40.6666666666667],PARAMETER[\"false_easting\",984250],PARAMETER[\"false_northing\",0],UNIT[\"us_survey_feet\",0.304800609601219],AXIS[\"Easting\",EAST],AXIS[\"Northing\",NORTH]]'"
      ]
     },
     "execution_count": 10,
     "metadata": {},
     "output_type": "execute_result"
    }
   ],
   "source": [
    "ds_proj"
   ]
  },
  {
   "cell_type": "code",
   "execution_count": 13,
   "id": "da0bc444-e246-4e0c-9e5f-fef4e20de34e",
   "metadata": {},
   "outputs": [],
   "source": [
    "gt = ds.GetGeoTransform()"
   ]
  },
  {
   "cell_type": "code",
   "execution_count": 15,
   "id": "9e3f6d6c-0496-4998-9df0-98ccc470d255",
   "metadata": {},
   "outputs": [
    {
     "name": "stdout",
     "output_type": "stream",
     "text": [
      "Top left X 912286.93\n",
      "Top left y 273618.3\n",
      "West to East (Width) Pixle Res 0.5\n",
      "North to South (height Pxile Res -0.5\n"
     ]
    }
   ],
   "source": [
    "print('Top left X', gt[0])\n",
    "print('Top left y', gt[3])\n",
    "print('West to East (Width) Pixle Res', gt[1], ' feet')\n",
    "print('North to South (height Pxile Res', gt[5], ' feet')"
   ]
  },
  {
   "cell_type": "code",
   "execution_count": 23,
   "id": "68d0a9fb-7a89-42c9-992f-20c8fdd65462",
   "metadata": {},
   "outputs": [],
   "source": [
    "band = ds.GetRasterBand(1)"
   ]
  },
  {
   "cell_type": "code",
   "execution_count": 24,
   "id": "a207ca44-73e9-48ed-ba65-e07a86d597c9",
   "metadata": {},
   "outputs": [
    {
     "name": "stdout",
     "output_type": "stream",
     "text": [
      "Band Type=Byte\n"
     ]
    }
   ],
   "source": [
    "print(\"Band Type={}\".format(gdal.GetDataTypeName(band.DataType)))"
   ]
  },
  {
   "cell_type": "code",
   "execution_count": 25,
   "id": "c6c716f4-e45d-4cb9-a3ac-d015eb7216f7",
   "metadata": {},
   "outputs": [],
   "source": [
    "band_min = band.GetMinimum()\n",
    "band_max = band.GetMaximum()"
   ]
  },
  {
   "cell_type": "code",
   "execution_count": 29,
   "id": "ebdb3f16-a026-44f2-bcf5-8cb77063816a",
   "metadata": {},
   "outputs": [
    {
     "name": "stdout",
     "output_type": "stream",
     "text": [
      "Band has 11 overviews\n"
     ]
    }
   ],
   "source": [
    "\n",
    "if band.GetOverviewCount() > 0:\n",
    "    print(\"Band has {} overviews\".format(band.GetOverviewCount()))\n",
    "\n",
    "if band.GetRasterColorTable():\n",
    "    print(\"Band has a color table with {} entries\".format(band.GetRasterColorTable().GetCount()))"
   ]
  },
  {
   "cell_type": "code",
   "execution_count": 37,
   "id": "42ab22e6-921d-4df3-9378-d0f8d19335f9",
   "metadata": {},
   "outputs": [],
   "source": [
    "# CPLErr GDALRasterBand::RasterIO( GDALRWFlag eRWFlag,\n",
    "#                                 int nXOff, int nYOff, int nXSize, int nYSize,\n",
    "#                                 void * pData, int nBufXSize, int nBufYSize,\n",
    "#                                 GDALDataType eBufType,\n",
    "#                                 int nPixelSpace,\n",
    "#                                 int nLineSpace )"
   ]
  },
  {
   "cell_type": "markdown",
   "id": "ccf5c768-f223-4c91-99b2-a3cb30b3d13e",
   "metadata": {},
   "source": [
    "Reading Raster Data\n",
    "---"
   ]
  },
  {
   "cell_type": "code",
   "execution_count": 31,
   "id": "a4398580-02ef-4b01-b9d2-b84d568c5fd3",
   "metadata": {},
   "outputs": [],
   "source": [
    "scanline = band.ReadRaster(xoff=0, \n",
    "                           yoff=0,\n",
    "                           xsize=band.XSize, ysize=1,\n",
    "                           buf_xsize=band.XSize, buf_ysize=1,\n",
    "                           buf_type=gdal.GDT_Float32)"
   ]
  },
  {
   "cell_type": "code",
   "execution_count": 33,
   "id": "89668ebc-774e-4b0a-9663-da6b4975716e",
   "metadata": {},
   "outputs": [],
   "source": [
    "import struct\n",
    "tuple_of_floats = struct.unpack('f' * band.XSize, scanline)"
   ]
  },
  {
   "cell_type": "code",
   "execution_count": 34,
   "id": "08be4290-56ed-4227-99b4-9bf307fcf5d7",
   "metadata": {},
   "outputs": [
    {
     "ename": "SyntaxError",
     "evalue": "invalid syntax (1394467062.py, line 1)",
     "output_type": "error",
     "traceback": [
      "\u001b[0;36m  Cell \u001b[0;32mIn [34], line 1\u001b[0;36m\u001b[0m\n\u001b[0;31m    CPLErr GDALRasterBand::RasterIO( GDALRWFlag eRWFlag,\u001b[0m\n\u001b[0m           ^\u001b[0m\n\u001b[0;31mSyntaxError\u001b[0m\u001b[0;31m:\u001b[0m invalid syntax\n"
     ]
    }
   ],
   "source": []
  },
  {
   "cell_type": "markdown",
   "id": "21127a6d-3b29-493a-965d-67b2ea1c1b80",
   "metadata": {},
   "source": [
    "## Reproject\n",
    "---"
   ]
  },
  {
   "cell_type": "code",
   "execution_count": 38,
   "id": "d8b8376e-6cd0-41b3-9e8b-bf36952ae95f",
   "metadata": {},
   "outputs": [],
   "source": [
    "i = ds.ReadAsArray()"
   ]
  },
  {
   "cell_type": "code",
   "execution_count": 47,
   "id": "64742ef7-a18e-4cb3-b058-b8f88bc6d176",
   "metadata": {},
   "outputs": [],
   "source": [
    "i = None"
   ]
  },
  {
   "cell_type": "code",
   "execution_count": 39,
   "id": "ca102295-c39d-4542-bfc5-37266698c19b",
   "metadata": {},
   "outputs": [
    {
     "data": {
      "text/plain": [
       "0.0"
      ]
     },
     "execution_count": 39,
     "metadata": {},
     "output_type": "execute_result"
    }
   ],
   "source": [
    "gt[4]"
   ]
  },
  {
   "cell_type": "code",
   "execution_count": 44,
   "id": "9a915c37-f314-4320-9c0b-296b7d602ab1",
   "metadata": {},
   "outputs": [
    {
     "name": "stdout",
     "output_type": "stream",
     "text": [
      "310844 314414\n"
     ]
    }
   ],
   "source": [
    "print(len(i[0]), len(i))"
   ]
  },
  {
   "cell_type": "code",
   "execution_count": 54,
   "id": "76570f12-42e2-45f3-b447-a8aaa929aeec",
   "metadata": {},
   "outputs": [],
   "source": [
    "x = int(310844/4)\n",
    "y = int(314414/4)"
   ]
  },
  {
   "cell_type": "code",
   "execution_count": 56,
   "id": "3b354b02-b952-4310-8707-73134aeab3a9",
   "metadata": {},
   "outputs": [],
   "source": [
    "# x = int(len(i[0])/4)\n",
    "# y = len(i)/4"
   ]
  },
  {
   "cell_type": "code",
   "execution_count": 58,
   "id": "92482264-c3f7-4070-b511-09838cb670e2",
   "metadata": {},
   "outputs": [],
   "source": [
    "reduc = gdal.Warp('77711_78603_Land_proj.tif', in_raster, xRes=77711, yRes=78603)"
   ]
  },
  {
   "cell_type": "code",
   "execution_count": 55,
   "id": "5e86419e-045e-49e0-a98a-098d7b7ff535",
   "metadata": {},
   "outputs": [
    {
     "data": {
      "text/plain": [
       "(77711, 78603)"
      ]
     },
     "execution_count": 55,
     "metadata": {},
     "output_type": "execute_result"
    }
   ],
   "source": [
    "x, y"
   ]
  },
  {
   "cell_type": "code",
   "execution_count": 61,
   "id": "b40abe06-75b5-4950-b05e-cc7bedd59f5f",
   "metadata": {},
   "outputs": [],
   "source": [
    "test='/workspace/flood-risk/data-agg/77711_78603_Land_proj.tif'"
   ]
  },
  {
   "cell_type": "code",
   "execution_count": 62,
   "id": "b748dcb3-8f36-4c08-943f-f54cea555b91",
   "metadata": {},
   "outputs": [
    {
     "name": "stderr",
     "output_type": "stream",
     "text": [
      "Warning 1: /workspace/flood-risk/data-agg/77711_78603_Land_proj.tif: TIFFReadDirectory:Bogus \"StripByteCounts\" field, ignoring and calculating from imagelength\n"
     ]
    }
   ],
   "source": [
    "ts = gdal.Open(test)"
   ]
  },
  {
   "cell_type": "code",
   "execution_count": 63,
   "id": "beeec72b-3292-4318-adec-fec8ce9d3017",
   "metadata": {},
   "outputs": [
    {
     "data": {
      "text/plain": [
       "'PROJCS[\"NAD83 New York State Planes, Long Island, US Foot\",GEOGCS[\"NAD83\",DATUM[\"North_American_Datum_1983\",SPHEROID[\"GRS 1980\",6378137,298.257222101004,AUTHORITY[\"EPSG\",\"7019\"]],AUTHORITY[\"EPSG\",\"6269\"]],PRIMEM[\"Greenwich\",0],UNIT[\"degree\",0.0174532925199433,AUTHORITY[\"EPSG\",\"9122\"]],AUTHORITY[\"EPSG\",\"4269\"]],PROJECTION[\"Lambert_Conformal_Conic_2SP\"],PARAMETER[\"latitude_of_origin\",40.1666666666667],PARAMETER[\"central_meridian\",-74],PARAMETER[\"standard_parallel_1\",41.0333333333333],PARAMETER[\"standard_parallel_2\",40.6666666666667],PARAMETER[\"false_easting\",984250],PARAMETER[\"false_northing\",0],UNIT[\"US survey foot\",0.304800609601219,AUTHORITY[\"EPSG\",\"9003\"]],AXIS[\"Easting\",EAST],AXIS[\"Northing\",NORTH]]'"
      ]
     },
     "execution_count": 63,
     "metadata": {},
     "output_type": "execute_result"
    }
   ],
   "source": [
    "ts.GetProjection()"
   ]
  },
  {
   "cell_type": "code",
   "execution_count": 64,
   "id": "07b232c9-81e2-4a79-aaa8-237d4c10e9ea",
   "metadata": {},
   "outputs": [],
   "source": [
    "t = ts.ReadAsArray()"
   ]
  },
  {
   "cell_type": "code",
   "execution_count": 66,
   "id": "77f94c1d-c762-476f-8123-44d683b4d5b7",
   "metadata": {},
   "outputs": [
    {
     "data": {
      "text/plain": [
       "2"
      ]
     },
     "execution_count": 66,
     "metadata": {},
     "output_type": "execute_result"
    }
   ],
   "source": [
    "len(t[0])"
   ]
  },
  {
   "cell_type": "code",
   "execution_count": 67,
   "id": "ce3c22de-3070-4b91-93c4-a3b20b9b3c49",
   "metadata": {},
   "outputs": [
    {
     "data": {
      "text/plain": [
       "array([[0, 2],\n",
       "       [1, 2]], dtype=uint8)"
      ]
     },
     "execution_count": 67,
     "metadata": {},
     "output_type": "execute_result"
    }
   ],
   "source": [
    "t"
   ]
  },
  {
   "cell_type": "markdown",
   "id": "82d02f1a-b6a5-4ed8-9ad7-9ec3fafacd63",
   "metadata": {},
   "source": [
    "# Trial 2\n",
    "---"
   ]
  },
  {
   "cell_type": "code",
   "execution_count": 68,
   "id": "0cc511ab-2532-4bb4-9593-9bbbc4ad65d2",
   "metadata": {},
   "outputs": [
    {
     "name": "stdout",
     "output_type": "stream",
     "text": [
      "Got:  0\n"
     ]
    },
    {
     "ename": "NameError",
     "evalue": "name 'gdaltest' is not defined",
     "output_type": "error",
     "traceback": [
      "\u001b[0;31m---------------------------------------------------------------------------\u001b[0m",
      "\u001b[0;31mNameError\u001b[0m                                 Traceback (most recent call last)",
      "Cell \u001b[0;32mIn [68], line 19\u001b[0m\n\u001b[1;32m     17\u001b[0m \u001b[38;5;28;01mif\u001b[39;00m cs \u001b[38;5;241m!=\u001b[39m cs_expected:\n\u001b[1;32m     18\u001b[0m     \u001b[38;5;28mprint\u001b[39m(\u001b[38;5;124m'\u001b[39m\u001b[38;5;124mGot: \u001b[39m\u001b[38;5;124m'\u001b[39m, cs)\n\u001b[0;32m---> 19\u001b[0m     gdaltest\u001b[38;5;241m.\u001b[39mpost_reason( \u001b[38;5;124m'\u001b[39m\u001b[38;5;124mgot wrong checksum\u001b[39m\u001b[38;5;124m'\u001b[39m )\n\u001b[1;32m     20\u001b[0m     \u001b[38;5;28mprint\u001b[39m(\u001b[38;5;124m'\u001b[39m\u001b[38;5;124mfail\u001b[39m\u001b[38;5;124m'\u001b[39m)\n\u001b[1;32m     21\u001b[0m \u001b[38;5;28;01melse\u001b[39;00m:\n",
      "\u001b[0;31mNameError\u001b[0m: name 'gdaltest' is not defined"
     ]
    }
   ],
   "source": [
    "drv = gdal.GetDriverByName( 'GTiff' )\n",
    "src_ds = gdal.Open(in_raster)\n",
    "\n",
    "dst_ds = drv.Create('reproj_test_2.tif', (int(src_ds.RasterXSize/4)), (int(src_ds.RasterYSize/4)), gdal.GDT_Byte )\n",
    "dst_ds.SetProjection(src_ds.GetProjectionRef())\n",
    "dst_ds.SetGeoTransform(src_ds.GetGeoTransform())\n",
    "\n",
    "gdal.ReprojectImage( src_ds, dst_ds)\n",
    "\n",
    "cs_expected = src_ds.GetRasterBand(1).Checksum()\n",
    "cs = dst_ds.GetRasterBand(1).Checksum()\n",
    "\n",
    "# dst_ds = None\n",
    "\n",
    "# drv.Delete( 'tmp/byte.tif' )\n",
    "\n",
    "if cs != cs_expected:\n",
    "    print('Got: ', cs)\n",
    "    gdaltest.post_reason( 'got wrong checksum' )\n",
    "    print('fail')\n",
    "else:\n",
    "    print('success')\n"
   ]
  },
  {
   "cell_type": "code",
   "execution_count": 70,
   "id": "a351c66d-73ed-49c7-ac80-835992d9b7c8",
   "metadata": {},
   "outputs": [],
   "source": [
    "ts = gdal.Open('/workspace/flood-risk/data-agg/reproj_test_2.tif')"
   ]
  },
  {
   "cell_type": "code",
   "execution_count": 71,
   "id": "c4022d68-72a2-4463-b788-883f05e796fa",
   "metadata": {},
   "outputs": [
    {
     "data": {
      "text/plain": [
       "'PROJCS[\"NAD83 New York State Planes, Long Island, US Foot\",GEOGCS[\"NAD83\",DATUM[\"North_American_Datum_1983\",SPHEROID[\"GRS 1980\",6378137,298.257222101004,AUTHORITY[\"EPSG\",\"7019\"]],AUTHORITY[\"EPSG\",\"6269\"]],PRIMEM[\"Greenwich\",0],UNIT[\"degree\",0.0174532925199433,AUTHORITY[\"EPSG\",\"9122\"]],AUTHORITY[\"EPSG\",\"4269\"]],PROJECTION[\"Lambert_Conformal_Conic_2SP\"],PARAMETER[\"latitude_of_origin\",40.1666666666667],PARAMETER[\"central_meridian\",-74],PARAMETER[\"standard_parallel_1\",41.0333333333333],PARAMETER[\"standard_parallel_2\",40.6666666666667],PARAMETER[\"false_easting\",984250],PARAMETER[\"false_northing\",0],UNIT[\"US survey foot\",0.304800609601219,AUTHORITY[\"EPSG\",\"9003\"]],AXIS[\"Easting\",EAST],AXIS[\"Northing\",NORTH]]'"
      ]
     },
     "execution_count": 71,
     "metadata": {},
     "output_type": "execute_result"
    }
   ],
   "source": [
    "ts.GetProjection()"
   ]
  },
  {
   "cell_type": "code",
   "execution_count": 72,
   "id": "aca861be-bbfb-42d3-96e3-99b21ec77ccd",
   "metadata": {},
   "outputs": [
    {
     "data": {
      "text/plain": [
       "2"
      ]
     },
     "execution_count": 72,
     "metadata": {},
     "output_type": "execute_result"
    }
   ],
   "source": [
    "len(t[0])"
   ]
  },
  {
   "cell_type": "markdown",
   "id": "3bbca041-6567-406f-9a5f-1f200fd17d0e",
   "metadata": {},
   "source": [
    "## Trial 3 - This one Works!\n",
    "---"
   ]
  },
  {
   "cell_type": "code",
   "execution_count": 88,
   "id": "cfacb310-fb8b-42dd-883c-f302e338ec49",
   "metadata": {},
   "outputs": [],
   "source": [
    "reduc = gdal.Warp('reproj_test_3.tif', in_raster, xRes=2, yRes=2)"
   ]
  },
  {
   "cell_type": "code",
   "execution_count": 89,
   "id": "8fd0d6c0-eea1-4208-83b6-017471287c6e",
   "metadata": {},
   "outputs": [],
   "source": [
    "ts = gdal.Open('/workspace/flood-risk/data-agg/reproj_test_3.tif')"
   ]
  },
  {
   "cell_type": "code",
   "execution_count": 90,
   "id": "a7428abb-969e-4633-aeae-77a18f2b8426",
   "metadata": {},
   "outputs": [
    {
     "data": {
      "text/plain": [
       "'PROJCS[\"NAD83 New York State Planes, Long Island, US Foot\",GEOGCS[\"NAD83\",DATUM[\"North_American_Datum_1983\",SPHEROID[\"GRS 1980\",6378137,298.257222101004,AUTHORITY[\"EPSG\",\"7019\"]],AUTHORITY[\"EPSG\",\"6269\"]],PRIMEM[\"Greenwich\",0],UNIT[\"degree\",0.0174532925199433,AUTHORITY[\"EPSG\",\"9122\"]],AUTHORITY[\"EPSG\",\"4269\"]],PROJECTION[\"Lambert_Conformal_Conic_2SP\"],PARAMETER[\"latitude_of_origin\",40.1666666666667],PARAMETER[\"central_meridian\",-74],PARAMETER[\"standard_parallel_1\",41.0333333333333],PARAMETER[\"standard_parallel_2\",40.6666666666667],PARAMETER[\"false_easting\",984250],PARAMETER[\"false_northing\",0],UNIT[\"US survey foot\",0.304800609601219,AUTHORITY[\"EPSG\",\"9003\"]],AXIS[\"Easting\",EAST],AXIS[\"Northing\",NORTH]]'"
      ]
     },
     "execution_count": 90,
     "metadata": {},
     "output_type": "execute_result"
    }
   ],
   "source": [
    "ts.GetProjection()"
   ]
  },
  {
   "cell_type": "code",
   "execution_count": 91,
   "id": "faecd441-14ec-4cfc-bdf8-4a7a6ea4a0cc",
   "metadata": {},
   "outputs": [],
   "source": [
    "i = ts.ReadAsArray()"
   ]
  },
  {
   "cell_type": "code",
   "execution_count": 92,
   "id": "92fe13f1-8a94-474d-b7cf-ef29d0fef767",
   "metadata": {},
   "outputs": [
    {
     "data": {
      "text/plain": [
       "77711"
      ]
     },
     "execution_count": 92,
     "metadata": {},
     "output_type": "execute_result"
    }
   ],
   "source": [
    "len(i[0])"
   ]
  },
  {
   "cell_type": "code",
   "execution_count": 93,
   "id": "7735e3fc-eb5b-4e3b-8085-7e10d085ee7f",
   "metadata": {},
   "outputs": [
    {
     "data": {
      "text/plain": [
       "78604"
      ]
     },
     "execution_count": 93,
     "metadata": {},
     "output_type": "execute_result"
    }
   ],
   "source": [
    "len(i)"
   ]
  },
  {
   "cell_type": "code",
   "execution_count": null,
   "id": "b0cb69ec-c041-4d4d-98e9-1a825e597538",
   "metadata": {},
   "outputs": [],
   "source": [
    "t"
   ]
  },
  {
   "cell_type": "code",
   "execution_count": null,
   "id": "6e34e313-42d2-467f-b7dc-932a0afbe7ef",
   "metadata": {},
   "outputs": [],
   "source": []
  },
  {
   "cell_type": "code",
   "execution_count": null,
   "id": "cc2da520-7405-4b8a-9b12-32a9d5e2f523",
   "metadata": {},
   "outputs": [],
   "source": [
    "sfasd"
   ]
  }
 ],
 "metadata": {
  "kernelspec": {
   "display_name": "Python 3 (ipykernel)",
   "language": "python",
   "name": "python3"
  },
  "language_info": {
   "codemirror_mode": {
    "name": "ipython",
    "version": 3
   },
   "file_extension": ".py",
   "mimetype": "text/x-python",
   "name": "python",
   "nbconvert_exporter": "python",
   "pygments_lexer": "ipython3",
   "version": "3.9.12"
  }
 },
 "nbformat": 4,
 "nbformat_minor": 5
}
