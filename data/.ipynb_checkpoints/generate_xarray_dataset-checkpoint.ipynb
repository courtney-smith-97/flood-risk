{
 "cells": [
  {
   "cell_type": "code",
   "execution_count": 1,
   "id": "87a13913-2cca-4461-9919-25a493775f93",
   "metadata": {},
   "outputs": [],
   "source": [
    "from osgeo import gdal, gdal_array, osr, ogr\n",
    "import numpy as np\n",
    "import rasterio\n",
    "import pyproj\n",
    "from affine import Affine\n",
    "import pandas as pd\n",
    "from shapely.geometry import Point\n",
    "from geopandas import GeoDataFrame\n",
    "import geopandas as gpd\n",
    "from rasterio.features import shapes\n",
    "import xarray"
   ]
  },
  {
   "cell_type": "code",
   "execution_count": 7,
   "id": "d9d3cc1f-9326-404c-b159-7b2cb0f5d320",
   "metadata": {},
   "outputs": [
    {
     "name": "stdout",
     "output_type": "stream",
     "text": [
      "/home/ubuntu/eda/data\n"
     ]
    }
   ],
   "source": [
    "!pwd"
   ]
  },
  {
   "cell_type": "code",
   "execution_count": 3,
   "id": "c27b80ef-9066-46bf-927d-984ac9013065",
   "metadata": {},
   "outputs": [
    {
     "name": "stdout",
     "output_type": "stream",
     "text": [
      "/home/ubuntu/eda/data\n"
     ]
    }
   ],
   "source": [
    "%cd \"/home/ubuntu/eda/data\""
   ]
  },
  {
   "cell_type": "code",
   "execution_count": 4,
   "id": "9e2aa4de-3d3d-4580-ab3d-92ca88750771",
   "metadata": {},
   "outputs": [
    {
     "name": "stdout",
     "output_type": "stream",
     "text": [
      "/home/ubuntu/eda/data\n"
     ]
    }
   ],
   "source": [
    "!pwd"
   ]
  },
  {
   "cell_type": "code",
   "execution_count": 5,
   "id": "a3a6c7d4-036b-4ad0-8c8a-8baa86274045",
   "metadata": {},
   "outputs": [],
   "source": [
    "# land cover data\n",
    "dataset = gdal.Open('./raster_data/NYC_2017_LiDAR_LandCover.img')\n",
    "geotransform = dataset.GetGeoTransform()\n",
    "band = dataset.GetRasterBand(1)"
   ]
  },
  {
   "cell_type": "code",
   "execution_count": 6,
   "id": "0ea1bf63-d86e-4449-a2c0-7b2a0f54bb41",
   "metadata": {},
   "outputs": [],
   "source": [
    "# catch basin data\n",
    "cb_data = ogr.Open('./DEPCatchbasins/DEPCATCHBASINS.dbf')\n",
    "layer = cb_data.GetLayer()\n",
    "cb_ref = layer.GetExtent()"
   ]
  },
  {
   "cell_type": "code",
   "execution_count": 11,
   "id": "079d71e9-bb07-450e-abb7-9f6e45b6dfb5",
   "metadata": {},
   "outputs": [
    {
     "name": "stderr",
     "output_type": "stream",
     "text": [
      "ERROR 6: Unsupported field type for range domain: esriFieldTypeDate\n"
     ]
    }
   ],
   "source": [
    "#planimetrics data\n",
    "# planimetrics_data = ogr.Open('./doitt_planimetrics/a00000001.gdbtable')\n",
    "layer = planimetrics_data.GetLayer()\n",
    "p_ref = layer.GetExtent()"
   ]
  },
  {
   "cell_type": "code",
   "execution_count": null,
   "id": "dbbd0d05-e998-47c7-861f-3f582170fe94",
   "metadata": {},
   "outputs": [],
   "source": []
  }
 ],
 "metadata": {
  "kernelspec": {
   "display_name": "Python 3 (ipykernel)",
   "language": "python",
   "name": "python3"
  },
  "language_info": {
   "codemirror_mode": {
    "name": "ipython",
    "version": 3
   },
   "file_extension": ".py",
   "mimetype": "text/x-python",
   "name": "python",
   "nbconvert_exporter": "python",
   "pygments_lexer": "ipython3",
   "version": "3.8.10"
  }
 },
 "nbformat": 4,
 "nbformat_minor": 5
}
