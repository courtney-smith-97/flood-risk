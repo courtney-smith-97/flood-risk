{
 "cells": [
  {
   "cell_type": "markdown",
   "id": "a4d670f2-9495-4cd6-acd4-7438f27c579f",
   "metadata": {},
   "source": [
    "# Land Cover Raster Data Exploration"
   ]
  },
  {
   "cell_type": "code",
   "execution_count": 1,
   "id": "a219d528-5bfc-455f-a4f6-bd538bcb3772",
   "metadata": {},
   "outputs": [],
   "source": [
    "from osgeo import gdal\n",
    "from osgeo import gdal_array\n",
    "import numpy as np\n",
    "import rasterio\n",
    "#from affine import Affine\n",
    "import pyproj"
   ]
  },
  {
   "cell_type": "markdown",
   "id": "0c649635-6057-4816-b1bf-375be676bf4e",
   "metadata": {},
   "source": [
    "Read in and open `.img` file."
   ]
  },
  {
   "cell_type": "code",
   "execution_count": 2,
   "id": "0f1d175a-57f9-4c21-bdaf-0c8e5fa42e9e",
   "metadata": {},
   "outputs": [],
   "source": [
    "dataset = gdal.Open('../../../zip_extract/Land_Cover/NYC_2017_LiDAR_LandCover.img')"
   ]
  },
  {
   "cell_type": "markdown",
   "id": "272c08e7-8086-467a-9caa-01f731587107",
   "metadata": {},
   "source": [
    "## Dataset Info"
   ]
  },
  {
   "cell_type": "code",
   "execution_count": 3,
   "id": "7921783c-cbda-4380-8168-89b9b9c6daee",
   "metadata": {},
   "outputs": [
    {
     "name": "stdout",
     "output_type": "stream",
     "text": [
      "Metadata: {}\n",
      "Driver: HFA/Erdas Imagine Images (.img) \n",
      "\n",
      "Size is 310844 x 314414 x 1 \n",
      "\n",
      "Projection is PROJCS[\"NAD83 New York State Planes, Long Island, US Foot\",GEOGCS[\"NAD83\",DATUM[\"North_American_Datum_1983\",SPHEROID[\"GRS 1980\",6378137,298.257222101,AUTHORITY[\"EPSG\",\"7019\"]],AUTHORITY[\"EPSG\",\"6269\"]],PRIMEM[\"Greenwich\",0,AUTHORITY[\"EPSG\",\"8901\"]],UNIT[\"degree\",0.0174532925199433,AUTHORITY[\"EPSG\",\"9122\"]],AUTHORITY[\"EPSG\",\"4269\"]],PROJECTION[\"Lambert_Conformal_Conic_2SP\"],PARAMETER[\"latitude_of_origin\",40.1666666666667],PARAMETER[\"central_meridian\",-74],PARAMETER[\"standard_parallel_1\",41.0333333333333],PARAMETER[\"standard_parallel_2\",40.6666666666667],PARAMETER[\"false_easting\",984250],PARAMETER[\"false_northing\",0],UNIT[\"us_survey_feet\",0.304800609601219],AXIS[\"Easting\",EAST],AXIS[\"Northing\",NORTH]] \n",
      "\n",
      "Row Rotation: 0.0\n",
      "Column Rotation: 0.0\n",
      "Origin = (912286.93, 273618.3)\n",
      "Pixel Size = (0.5, -0.5)\n"
     ]
    }
   ],
   "source": [
    "print('Metadata:',dataset.GetMetadata())\n",
    "print(\"Driver: {}/{} \\n\".format(dataset.GetDriver().ShortName,\n",
    "                            dataset.GetDriver().LongName))\n",
    "print(\"Size is {} x {} x {} \\n\".format(dataset.RasterXSize,\n",
    "                                    dataset.RasterYSize,\n",
    "                                    dataset.RasterCount))\n",
    "print(\"Projection is {} \\n\".format(dataset.GetProjection()))\n",
    "geotransform = dataset.GetGeoTransform()\n",
    "if geotransform:\n",
    "    print(f\"Row Rotation: {geotransform[2]}\")\n",
    "    print(f\"Column Rotation: {geotransform[4]}\")\n",
    "    print(\"Origin = ({}, {})\".format(geotransform[0], geotransform[3]))\n",
    "    print(\"Pixel Size = ({}, {})\".format(geotransform[1], geotransform[5]))"
   ]
  },
  {
   "cell_type": "markdown",
   "id": "0845505f-0b31-409f-8c5b-880916386a2f",
   "metadata": {},
   "source": [
    "Row and column rotations of 0 mean the image is north up. The pixel size is 0.5ft x 0.5ft."
   ]
  },
  {
   "cell_type": "code",
   "execution_count": 4,
   "id": "d0f92f7b-1730-4491-9be8-f0f7ea7cf8bb",
   "metadata": {},
   "outputs": [
    {
     "name": "stdout",
     "output_type": "stream",
     "text": [
      "Band Type=Byte\n",
      "Min=1.000, Max=8.000\n",
      "Band has 11 overviews\n",
      "Size is 310844 x 314414.\n"
     ]
    }
   ],
   "source": [
    "band = dataset.GetRasterBand(1)\n",
    "print(\"Band Type={}\".format(gdal.GetDataTypeName(band.DataType)))\n",
    "min = band.GetMinimum()\n",
    "max = band.GetMaximum()\n",
    "if not min or not max:\n",
    "    (min,max) = band.ComputeRasterMinMax(True)\n",
    "print(\"Min={:.3f}, Max={:.3f}\".format(min,max))\n",
    "if band.GetOverviewCount() > 0:\n",
    "    print(\"Band has {} overviews\".format(band.GetOverviewCount()))\n",
    "if band.GetRasterColorTable():\n",
    "    print(\"Band has a color table with {} entries\".format(band.GetRasterColorTable().GetCount()))\n",
    "print('Size is {} x {}.'.format(band.XSize, band.YSize))"
   ]
  },
  {
   "cell_type": "code",
   "execution_count": 5,
   "id": "b18a9877-77bf-486b-9ea3-fae5370df48c",
   "metadata": {},
   "outputs": [
    {
     "name": "stdout",
     "output_type": "stream",
     "text": [
      "Min: 1.0\n",
      "Max: 8.0\n",
      "Mean: 4.1611546745131\n",
      "Std Dev: 2.0263974871886\n"
     ]
    }
   ],
   "source": [
    "stats = band.GetStatistics(False,True)\n",
    "print(f'Min: {stats[0]}')\n",
    "print(f'Max: {stats[1]}')\n",
    "print(f'Mean: {stats[2]}')\n",
    "print(f'Std Dev: {stats[3]}')"
   ]
  },
  {
   "cell_type": "code",
   "execution_count": 6,
   "id": "d4b8b1b7-77b7-433c-873f-c99328f5e482",
   "metadata": {},
   "outputs": [
    {
     "data": {
      "text/plain": [
       "(-0.5,\n",
       " 8.5,\n",
       " 9,\n",
       " [0,\n",
       "  344109811,\n",
       "  253881597,\n",
       "  26155236,\n",
       "  611739712,\n",
       "  310075293,\n",
       "  213863594,\n",
       "  376111202,\n",
       "  11547201])"
      ]
     },
     "execution_count": 6,
     "metadata": {},
     "output_type": "execute_result"
    }
   ],
   "source": [
    "#number of pixels in each class\n",
    "band.GetDefaultHistogram()"
   ]
  },
  {
   "cell_type": "code",
   "execution_count": 7,
   "id": "93f98b60-1a56-45c8-8f03-b1ca48a53602",
   "metadata": {},
   "outputs": [
    {
     "data": {
      "text/plain": [
       "[64, 64]"
      ]
     },
     "execution_count": 7,
     "metadata": {},
     "output_type": "execute_result"
    }
   ],
   "source": [
    "#tile size\n",
    "band.GetBlockSize()"
   ]
  },
  {
   "cell_type": "code",
   "execution_count": 8,
   "id": "33e015af-9e34-4069-9601-f488ddd119e8",
   "metadata": {},
   "outputs": [],
   "source": [
    "# #read in entire img --> creates 97GB numpy array\n",
    "# lc_array = gdal_array.BandReadAsArray(band)"
   ]
  },
  {
   "cell_type": "markdown",
   "id": "f3e99e89-4a3e-466d-9f7d-0ee3e012d199",
   "metadata": {},
   "source": [
    "## Getting latitude and longitude of center of each pixel"
   ]
  },
  {
   "cell_type": "code",
   "execution_count": 65,
   "id": "8d67ead0-1717-4ed9-9316-bd6988af4045",
   "metadata": {},
   "outputs": [],
   "source": [
    "def get_lat_long_arrays(band, x_size, y_size, x_offset = 0, y_offset = 0, proj_from = pyproj.Proj(2263), proj_to = pyproj.Proj(proj = 'latlong')):\n",
    "    \n",
    "    lc_array = gdal_array.BandReadAsArray(band, x_offset, y_offset, x_size, y_size)\n",
    "    \n",
    "    cols, rows = np.meshgrid(np.arange(x_size), np.arange(y_size))\n",
    "    \n",
    "    rc_en = lambda r,c : (geotransform[0] + (x_offset + c + 0.5) * geotransform[1], geotransform[3] + (y_offset + r + 0.5) * geotransform[5])\n",
    "    \n",
    "    eastings, northings = np.vectorize(rc_en, otypes = [float, float])(rows, cols)\n",
    "    \n",
    "    transformer = pyproj.Transformer.from_proj(proj_from, proj_to)\n",
    "    \n",
    "    longs, lats = transformer.transform(eastings, northings)\n",
    "    \n",
    "    print(f'Land cover values in sample: {np.unique(lc_array)}')\n",
    "    print(f'Area of sample: {x_size*y_size/4} sq ft')\n",
    "    print(f'Total pixels (observations) in sample: {x_size*y_size}')\n",
    "\n",
    "    return lats, longs"
   ]
  },
  {
   "cell_type": "code",
   "execution_count": 66,
   "id": "01bb6f0e-2693-4179-9dee-b17629cf800b",
   "metadata": {},
   "outputs": [
    {
     "name": "stdout",
     "output_type": "stream",
     "text": [
      "Land cover values in sample: [0]\n",
      "Area of sample: 1.0 sq ft\n",
      "Total pixels (observations) in sample: 4\n"
     ]
    },
    {
     "data": {
      "text/plain": [
       "(array([[40.91739774, 40.91739775],\n",
       "        [40.91739637, 40.91739638]]),\n",
       " array([[-74.26037993, -74.26037812],\n",
       "        [-74.26037992, -74.26037812]]))"
      ]
     },
     "execution_count": 66,
     "metadata": {},
     "output_type": "execute_result"
    }
   ],
   "source": [
    "get_lat_long_arrays(BAND,2,2)"
   ]
  },
  {
   "cell_type": "code",
   "execution_count": 130,
   "id": "6860e5a5-4349-4420-a92d-049c289b3ef8",
   "metadata": {},
   "outputs": [
    {
     "name": "stdout",
     "output_type": "stream",
     "text": [
      "Land cover values in sample: [6]\n",
      "Area of sample: 1.0 sq ft\n",
      "Total pixels (observations) in sample: 4\n"
     ]
    },
    {
     "data": {
      "text/plain": [
       "(array([[40.64321751, 40.64321751],\n",
       "        [40.64321614, 40.64321614]]),\n",
       " array([[-73.98905588, -73.98905408],\n",
       "        [-73.98905588, -73.98905408]]))"
      ]
     },
     "execution_count": 130,
     "metadata": {},
     "output_type": "execute_result"
    }
   ],
   "source": [
    "get_lat_long_arrays(BAND,2,2,150000,200000)"
   ]
  },
  {
   "cell_type": "markdown",
   "id": "799dad43-7a58-48c2-a010-bf35c9a99742",
   "metadata": {},
   "source": [
    "#### Step by step"
   ]
  },
  {
   "cell_type": "code",
   "execution_count": 110,
   "id": "42020ad6-f71c-4763-b9c0-80de08f41f88",
   "metadata": {},
   "outputs": [],
   "source": [
    "BAND = dataset.GetRasterBand(1)\n",
    "X_OFFSET = 150000\n",
    "Y_OFFSET = 200000\n",
    "X_SIZE = 1000\n",
    "Y_SIZE = 50\n",
    "\n",
    "#specify projection coordinate conversions\n",
    "PROJ_FROM = pyproj.Proj(2263)\n",
    "PROJ_TO = pyproj.Proj(proj = 'latlong')"
   ]
  },
  {
   "cell_type": "code",
   "execution_count": 111,
   "id": "c02bc697-6e57-46c3-a3b8-add9d231130d",
   "metadata": {},
   "outputs": [
    {
     "name": "stdout",
     "output_type": "stream",
     "text": [
      "Land cover values in sample: [1 2 5 6 7]\n",
      "Area of sample: 12500.0 sq ft\n",
      "Total pixels (observations) in sample: 50000\n"
     ]
    }
   ],
   "source": [
    "#select sample array\n",
    "# parameters: band, x offset, y offset, x size (array columns), y size (array rows)\n",
    "lc_array = gdal_array.BandReadAsArray(BAND,\n",
    "                                      X_OFFSET,\n",
    "                                      Y_OFFSET,\n",
    "                                      X_SIZE,\n",
    "                                      Y_SIZE)\n",
    "print(f'Land cover values in sample: {np.unique(lc_array)}')\n",
    "print(f'Area of sample: {X_SIZE*Y_SIZE/4} sq ft')\n",
    "print(f'Total pixels (observations) in sample: {X_SIZE*Y_SIZE}')"
   ]
  },
  {
   "cell_type": "code",
   "execution_count": 112,
   "id": "b1cbede6-2cf7-4c92-9dea-13749c06be9d",
   "metadata": {},
   "outputs": [],
   "source": [
    "# X_geo = GT(0) + X_pixel * GT(1) + Y_line * GT(2)\n",
    "# Y_geo = GT(3) + X_pixel * GT(4) + Y_line * GT(5)\n",
    "## gt(2),gt(4) = 0 so:\n",
    "# x_geo = gt(0) + x_pixel*gt(1)\n",
    "#y_geo = gt(3) + y_line*gt(5)"
   ]
  },
  {
   "cell_type": "code",
   "execution_count": 113,
   "id": "a7ddfe31-79c7-4e7c-8060-61f5d80bafa5",
   "metadata": {},
   "outputs": [],
   "source": [
    "# gdal approach\n",
    "\n",
    "#create meshgrid of equally spaced centroid points\n",
    "cols, rows = np.meshgrid(np.arange(X_SIZE), np.arange(Y_SIZE))\n",
    "\n",
    "#convert pixel to georef coordinates of pixel centroid, populate meshgrid\n",
    "rc_en = lambda r,c : (geotransform[0] + (X_OFFSET + c + 0.5) * geotransform[1],\n",
    "                      geotransform[3] + (Y_OFFSET + r + 0.5) * geotransform[5])\n",
    "\n",
    "eastings, northings = np.vectorize(rc_en, otypes = [float, float])(rows, cols)"
   ]
  },
  {
   "cell_type": "code",
   "execution_count": 114,
   "id": "50839277-847b-4d8d-ab99-b9c42803984a",
   "metadata": {},
   "outputs": [],
   "source": [
    "# transform LCC georef coordinates to lat long\n",
    "transformer = pyproj.Transformer.from_proj(PROJ_FROM, PROJ_TO)\n",
    "longs, lats = transformer.transform(eastings, northings)"
   ]
  },
  {
   "cell_type": "code",
   "execution_count": 115,
   "id": "d9a3b3d6-e80f-44cb-8141-f343cbec8317",
   "metadata": {},
   "outputs": [
    {
     "data": {
      "text/plain": [
       "(40.64321750760775, -73.98905587738378)"
      ]
     },
     "execution_count": 115,
     "metadata": {},
     "output_type": "execute_result"
    }
   ],
   "source": [
    "# coordinates for pixel in lc_array[0][0]\n",
    "lats[0][0],longs[0][0]"
   ]
  },
  {
   "cell_type": "markdown",
   "id": "209379c6-a7e1-4a6b-87e6-05aca46cd853",
   "metadata": {},
   "source": [
    "Alternative option using `rasterio` instead of `gdal`:"
   ]
  },
  {
   "cell_type": "code",
   "execution_count": 2,
   "id": "fb0e077f-56ff-4011-adef-07393815add6",
   "metadata": {},
   "outputs": [],
   "source": [
    "# with rasterio.open('path/to/file.img') as r:\n",
    "#     T0 = r.transform\n",
    "#     p1 = pyproj.Proj(r.crs)\n",
    "# T1 = T0 * Affine.translation(0.5,0.5)"
   ]
  },
  {
   "cell_type": "code",
   "execution_count": 51,
   "id": "b901bfa6-128d-400b-877b-56e07ce520b9",
   "metadata": {},
   "outputs": [],
   "source": [
    "# rc_en = lambda r,c : (c,r) * T1\n",
    "# cols, rows = np.meshgrid(np.arange(X_SIZE), np.arange(Y_SIZE))"
   ]
  },
  {
   "cell_type": "code",
   "execution_count": 60,
   "id": "73a7b329-9e9c-411e-9c03-3ba20e00b8fa",
   "metadata": {},
   "outputs": [],
   "source": [
    "# # rasterio\n",
    "# lats[0][0],longs[0][0]"
   ]
  },
  {
   "cell_type": "markdown",
   "id": "e33ca348-ad38-40f0-80d7-ea896af1523c",
   "metadata": {},
   "source": [
    "## Converting coordinate and dimensions to pixel subset of img array"
   ]
  },
  {
   "cell_type": "code",
   "execution_count": 120,
   "id": "1b48d1b5-6bc4-4dde-80b1-d5b4652ead7f",
   "metadata": {},
   "outputs": [],
   "source": [
    "def get_coords_from_lat_long(lat, long, proj_from = pyproj.Proj(2263), proj_to = pyproj.Proj(proj = 'latlong')):\n",
    "    \n",
    "    transformer = pyproj.Transformer.from_proj(proj_to, proj_from)\n",
    "    \n",
    "    eastings, northings = transformer.transform(long, lat)\n",
    "    \n",
    "    x = int((eastings - geotransform[0])/geotransform[1]-0.5)\n",
    "    y = int((northings - geotransform[3])/geotransform[5]-0.5)\n",
    "    \n",
    "    return x, y\n",
    "\n",
    "def get_array_lat_long_dim(band, lat, long, length, height):\n",
    "    \n",
    "    x_offset, y_offset = get_coords_from_lat_long(lat, long)\n",
    "    \n",
    "    lc_array = gdal_array.BandReadAsArray(band, x_offset, y_offset, length*2, height*2)\n",
    "    \n",
    "    return lc_array"
   ]
  },
  {
   "cell_type": "markdown",
   "id": "7dbcba56-0e10-4f97-a842-e982f7bf605b",
   "metadata": {},
   "source": [
    "### Example"
   ]
  },
  {
   "cell_type": "code",
   "execution_count": 121,
   "id": "e24a8a8e-8f0b-4344-839f-ffa68a8b8a3c",
   "metadata": {},
   "outputs": [
    {
     "name": "stdout",
     "output_type": "stream",
     "text": [
      "Land cover values in sample: [4]\n",
      "Area of sample: 1.0 sq ft\n",
      "Total pixels (observations) in sample: 4\n",
      "Latitudes: [[40.78045558 40.78045558]\n",
      " [40.78045421 40.78045421]]\n",
      "Longitudes: [[-73.98903332 -73.98903152]\n",
      " [-73.98903332 -73.98903152]]\n"
     ]
    }
   ],
   "source": [
    "# get coordinates\n",
    "lats, longs = get_lat_long_arrays(BAND,2,2,150000,100000)\n",
    "print('Latitudes:',lats)\n",
    "print('Longitudes:',longs)"
   ]
  },
  {
   "cell_type": "code",
   "execution_count": 122,
   "id": "589daac0-348b-4c48-ba13-2098a2464213",
   "metadata": {},
   "outputs": [
    {
     "data": {
      "text/plain": [
       "(150000, 100000)"
      ]
     },
     "execution_count": 122,
     "metadata": {},
     "output_type": "execute_result"
    }
   ],
   "source": [
    "# return top left corner : (0,0) or offset\n",
    "get_coords_from_lat_long(lats[0][0],longs[0][0])"
   ]
  },
  {
   "cell_type": "code",
   "execution_count": 128,
   "id": "b80a8829-13b9-4c39-b448-ecedf10cbc1a",
   "metadata": {},
   "outputs": [
    {
     "name": "stdout",
     "output_type": "stream",
     "text": [
      "[[4 4 4 4]\n",
      " [4 4 4 4]\n",
      " [4 4 4 4]\n",
      " [4 4 4 4]\n",
      " [4 4 4 4]\n",
      " [4 4 4 4]]\n",
      "\n",
      "\n",
      "[[4 4 4 4]\n",
      " [4 4 4 4]\n",
      " [4 4 4 4]\n",
      " [4 4 4 4]\n",
      " [4 4 4 4]\n",
      " [4 4 4 4]]\n"
     ]
    }
   ],
   "source": [
    "# get array of specified size with lat long in top left\n",
    "# ex get array for 2ft x 3ft rectangle with (40.78045558,-73.98903332) in top left\n",
    "print(get_array_lat_long_dim(band, lats[0][0],longs[0][0],2,3))\n",
    "print('\\n')\n",
    "print(get_array_lat_long_dim(band, np.array(40.78045558), np.array(-73.98903332),2,3))"
   ]
  },
  {
   "cell_type": "code",
   "execution_count": null,
   "id": "79b65f39-1d3d-4aad-b866-8a1f4f45e646",
   "metadata": {},
   "outputs": [],
   "source": []
  }
 ],
 "metadata": {
  "kernelspec": {
   "display_name": "Python 3 (ipykernel)",
   "language": "python",
   "name": "python3"
  },
  "language_info": {
   "codemirror_mode": {
    "name": "ipython",
    "version": 3
   },
   "file_extension": ".py",
   "mimetype": "text/x-python",
   "name": "python",
   "nbconvert_exporter": "python",
   "pygments_lexer": "ipython3",
   "version": "3.8.10"
  }
 },
 "nbformat": 4,
 "nbformat_minor": 5
}
