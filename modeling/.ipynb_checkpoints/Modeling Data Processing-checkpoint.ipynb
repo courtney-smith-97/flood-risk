{
 "cells": [
  {
   "cell_type": "code",
   "execution_count": 559,
   "id": "b7899614-804c-4d0b-a89f-9252a8d99631",
   "metadata": {},
   "outputs": [],
   "source": [
    "import pandas as pd\n",
    "import geopandas as gpd\n",
    "import numpy as np\n",
    "from shapely import wkt\n",
    "from shapely.geometry import Polygon, LineString, Point\n",
    "\n",
    "\n",
    "from spopt.region.skater import Skater\n",
    "import hdbscan\n",
    "from sklearn.cluster import AgglomerativeClustering\n",
    "from sklearn.preprocessing import StandardScaler, MinMaxScaler\n",
    "\n",
    "import folium\n",
    "from folium.plugins import Fullscreen\n",
    "import mapclassify\n",
    "import matplotlib.pyplot as plt\n",
    "from PIL import Image"
   ]
  },
  {
   "cell_type": "code",
   "execution_count": 810,
   "id": "46c9997f-8815-4e25-8f9f-34492e2d8787",
   "metadata": {},
   "outputs": [],
   "source": [
    "def load_borough(filepath):\n",
    "    df = pd.read_csv(filepath)\n",
    "    df[\"geometry\"] = df[\"geometry\"].apply(wkt.loads)\n",
    "    df = gpd.GeoDataFrame(df, geometry=\"geometry\")\n",
    "    \n",
    "    return df\n",
    "\n",
    "mht = load_borough(\"./data/mht_data.csv\")\n",
    "bk = load_borough(\"./data/bk_data.csv\")\n",
    "bx = load_borough(\"./data/bx_data.csv\")\n",
    "qns = load_borough(\"./data/qns_data.csv\")\n",
    "si = load_borough(\"./data/si_data.csv\")"
   ]
  },
  {
   "cell_type": "code",
   "execution_count": 811,
   "id": "b4a36520-d898-44cc-adbf-98f96dbc5f58",
   "metadata": {},
   "outputs": [],
   "source": [
    "df = mht.append(bk).append(bx).append(qns).append(si)"
   ]
  },
  {
   "cell_type": "code",
   "execution_count": 812,
   "id": "23ef01da-ac9f-45d1-ad6f-40e26c7e8fed",
   "metadata": {},
   "outputs": [],
   "source": [
    "df.rename({\n",
    "    \"land_cvr_1_rb\":\"tree_canopy_proportion\",\n",
    "    \"land_cvr_2_rb\":\"grass_proportion\",\n",
    "    \"land_cvr_3_rb\":\"soil_proportion\",\n",
    "    \"land_cvr_4_rb\":\"water_proportion\",\n",
    "    \"land_cvr_5_rb\":\"building_proportion\",\n",
    "    \"land_cvr_6_rb\":\"road_proportion\",\n",
    "    \"land_cvr_7_rb\":\"impervious_proportion\",\n",
    "    \"land_cvr_8_rb\":\"railroad_proportion\",\n",
    "    \n",
    "}, axis=1, inplace = True)"
   ]
  },
  {
   "cell_type": "code",
   "execution_count": 813,
   "id": "9a24699f-b4ad-4080-887b-4a38e7061f82",
   "metadata": {},
   "outputs": [],
   "source": [
    "df[\"centroid\"] = df.centroid"
   ]
  },
  {
   "cell_type": "code",
   "execution_count": 814,
   "id": "7b31079b-3315-48b1-8c86-94c480027522",
   "metadata": {},
   "outputs": [],
   "source": [
    "df[\"water_feature\"] = df.loc[:, [\"river_ind\",\n",
    "                                 \"beach_shore_ind\",\n",
    "                                 \"bay_ocean_ind\"]].sum(axis =1)"
   ]
  },
  {
   "cell_type": "code",
   "execution_count": 815,
   "id": "0d79747b-9cbc-49b0-8b30-83ceb6ebc491",
   "metadata": {},
   "outputs": [
    {
     "name": "stderr",
     "output_type": "stream",
     "text": [
      "/Users/grantwilson/opt/anaconda3/lib/python3.9/site-packages/pandas/core/indexing.py:1732: SettingWithCopyWarning: \n",
      "A value is trying to be set on a copy of a slice from a DataFrame\n",
      "\n",
      "See the caveats in the documentation: https://pandas.pydata.org/pandas-docs/stable/user_guide/indexing.html#returning-a-view-versus-a-copy\n",
      "  self._setitem_single_block(indexer, value, name)\n"
     ]
    }
   ],
   "source": [
    "df[\"water_feature\"].loc[df[\"water_feature\"] > 1] = 1"
   ]
  },
  {
   "cell_type": "code",
   "execution_count": 816,
   "id": "35ac686f-0a58-461c-916a-9642fe18fc56",
   "metadata": {},
   "outputs": [],
   "source": [
    "water_features = df.loc[df[\"water_feature\"] == 1, [\"geometry\", \"bctcb2020\", \"water_feature\"]]\n",
    "water_features[\"centroid\"] = water_features.centroid"
   ]
  },
  {
   "cell_type": "code",
   "execution_count": 817,
   "id": "dd287efb-048e-44e4-808b-1802c9878c53",
   "metadata": {},
   "outputs": [],
   "source": [
    "water_features.reset_index(drop=True, inplace=True)"
   ]
  },
  {
   "cell_type": "code",
   "execution_count": 818,
   "id": "da272b6d-c851-43f1-a248-f0c87bdfe0b7",
   "metadata": {},
   "outputs": [],
   "source": [
    "df[\"distance_to_water\"] = float(\"inf\")"
   ]
  },
  {
   "cell_type": "code",
   "execution_count": 819,
   "id": "41ea75b3-b0ac-4894-a7d1-d81c75618a95",
   "metadata": {},
   "outputs": [
    {
     "data": {
      "text/plain": [
       "array([ 3478.82796844,     0.        , 18600.10216155, ...,\n",
       "       41891.83728761, 45177.61933273, 40514.39133942])"
      ]
     },
     "execution_count": 819,
     "metadata": {},
     "output_type": "execute_result"
    }
   ],
   "source": [
    "df[\"centroid\"].distance(water_features[\"centroid\"][1]).values"
   ]
  },
  {
   "cell_type": "code",
   "execution_count": 820,
   "id": "6bc38c23-5e60-4634-876d-2c437b0276d1",
   "metadata": {},
   "outputs": [
    {
     "data": {
      "text/plain": [
       "0       inf\n",
       "1       inf\n",
       "2       inf\n",
       "3       inf\n",
       "4       inf\n",
       "       ... \n",
       "4617    inf\n",
       "4618    inf\n",
       "4619    inf\n",
       "4620    inf\n",
       "4621    inf\n",
       "Name: distance_to_water, Length: 37589, dtype: float64"
      ]
     },
     "execution_count": 820,
     "metadata": {},
     "output_type": "execute_result"
    }
   ],
   "source": [
    "df.loc[df[\"centroid\"].distance(water_features[\"centroid\"][1]) < df[\"distance_to_water\"], \"distance_to_water\"]"
   ]
  },
  {
   "cell_type": "code",
   "execution_count": 822,
   "id": "fd2772a0-fe3f-43e8-88cc-82053db98d17",
   "metadata": {},
   "outputs": [
    {
     "name": "stdout",
     "output_type": "stream",
     "text": [
      "iteration 0\n",
      "iteration 100\n",
      "iteration 200\n",
      "iteration 300\n",
      "iteration 400\n",
      "iteration 500\n",
      "iteration 600\n",
      "iteration 700\n",
      "iteration 800\n",
      "iteration 900\n",
      "iteration 1000\n"
     ]
    }
   ],
   "source": [
    "for i in range(water_features.shape[0]):\n",
    "    df.loc[df[\"centroid\"].distance(water_features[\"centroid\"][i]) < df[\"distance_to_water\"], \"distance_to_water\"] = pd.Series(df[\"centroid\"].distance(water_features[\"centroid\"][i]).values)\n",
    "    \n",
    "    if i % 100 == 0:\n",
    "        print(f\"iteration {i}\")"
   ]
  },
  {
   "cell_type": "code",
   "execution_count": 823,
   "id": "828b7b09-f96a-4568-9454-8d00e99864bf",
   "metadata": {
    "tags": []
   },
   "outputs": [
    {
     "data": {
      "text/plain": [
       "115869.64270775608"
      ]
     },
     "execution_count": 823,
     "metadata": {},
     "output_type": "execute_result"
    }
   ],
   "source": [
    "df[\"distance_to_water\"].max()"
   ]
  },
  {
   "cell_type": "code",
   "execution_count": 824,
   "id": "d16b1c9c-9452-4203-969a-99c289f8d3df",
   "metadata": {
    "tags": []
   },
   "outputs": [
    {
     "data": {
      "text/plain": [
       "(array([ 9457., 10243.,  5678.,  3803.,  3659.,  1940.,   938.,  1012.,\n",
       "          543.,   316.]),\n",
       " array([     0.        ,  11586.96427078,  23173.92854155,  34760.89281233,\n",
       "         46347.8570831 ,  57934.82135388,  69521.78562465,  81108.74989543,\n",
       "         92695.7141662 , 104282.67843698, 115869.64270776]),\n",
       " <BarContainer object of 10 artists>)"
      ]
     },
     "execution_count": 824,
     "metadata": {},
     "output_type": "execute_result"
    },
    {
     "data": {
      "image/png": "[encoded data removed]",
      "text/plain": [
       "<Figure size 432x288 with 1 Axes>"
      ]
     },
     "metadata": {
      "needs_background": "light"
     },
     "output_type": "display_data"
    }
   ],
   "source": [
    "plt.hist(\n",
    "    df[\"distance_to_water\"]\n",
    ")"
   ]
  },
  {
   "cell_type": "code",
   "execution_count": 833,
   "id": "939c99e9-93eb-4cb4-b43f-02289edbfa3e",
   "metadata": {
    "tags": []
   },
   "outputs": [
    {
     "data": {
      "text/plain": [
       "(array([2.7558e+04, 7.9500e+03, 1.5100e+03, 3.3800e+02, 1.0600e+02,\n",
       "        7.2000e+01, 2.5000e+01, 2.0000e+01, 2.0000e+00, 8.0000e+00]),\n",
       " array([  0.  ,  36.04,  72.08, 108.12, 144.16, 180.2 , 216.24, 252.28,\n",
       "        288.32, 324.36, 360.4 ]),\n",
       " <BarContainer object of 10 artists>)"
      ]
     },
     "execution_count": 833,
     "metadata": {},
     "output_type": "execute_result"
    },
    {
     "data": {
      "image/png": "[encoded data removed]",
      "text/plain": [
       "<Figure size 432x288 with 1 Axes>"
      ]
     },
     "metadata": {
      "needs_background": "light"
     },
     "output_type": "display_data"
    }
   ],
   "source": [
    "plt.hist(\n",
    "    df[\"elev_mean\"]\n",
    ")"
   ]
  },
  {
   "cell_type": "code",
   "execution_count": 834,
   "id": "e379d68e-85b4-49b9-824b-5b2fbac5bd9d",
   "metadata": {
    "tags": []
   },
   "outputs": [
    {
     "data": {
      "text/plain": [
       "(array([3.5433e+04, 1.9120e+03, 1.6300e+02, 4.9000e+01, 2.0000e+01,\n",
       "        8.0000e+00, 1.0000e+00, 2.0000e+00, 0.0000e+00, 1.0000e+00]),\n",
       " array([ 0. ,  8.2, 16.4, 24.6, 32.8, 41. , 49.2, 57.4, 65.6, 73.8, 82. ]),\n",
       " <BarContainer object of 10 artists>)"
      ]
     },
     "execution_count": 834,
     "metadata": {},
     "output_type": "execute_result"
    },
    {
     "data": {
      "image/png": "[encoded data removed]",
      "text/plain": [
       "<Figure size 432x288 with 1 Axes>"
      ]
     },
     "metadata": {
      "needs_background": "light"
     },
     "output_type": "display_data"
    }
   ],
   "source": [
    "plt.hist(\n",
    "    df[\"catch_basin_count\"]\n",
    ")"
   ]
  },
  {
   "cell_type": "code",
   "execution_count": 835,
   "id": "b661e2ef-b858-469f-9d43-add337371a14",
   "metadata": {},
   "outputs": [],
   "source": [
    "# df[\"distance_to_water\"] = np.sqrt(df[\"distance_to_water\"])\n",
    "# df[\"catch_basin_count\"] = np.log(1+df[\"catch_basin_count\"])\n",
    "# df[\"elev_mean\"] = np.log(1+np.log(1+df[\"elev_mean\"]))"
   ]
  },
  {
   "cell_type": "code",
   "execution_count": 836,
   "id": "8a9f31c4-d86b-441f-9c2f-f5d438ea9051",
   "metadata": {},
   "outputs": [
    {
     "data": {
      "text/plain": [
       "(37589, 53)"
      ]
     },
     "execution_count": 836,
     "metadata": {},
     "output_type": "execute_result"
    }
   ],
   "source": [
    "df.shape"
   ]
  },
  {
   "cell_type": "code",
   "execution_count": 837,
   "id": "1d62bb1d-51d4-4164-a5ed-45f83460ae9b",
   "metadata": {},
   "outputs": [],
   "source": [
    "df[\"catch_basin_count\"] = df[\"catch_basin_count\"].fillna(0)"
   ]
  },
  {
   "cell_type": "code",
   "execution_count": 838,
   "id": "45a3020e-0dab-476c-aad1-9f3739de70b4",
   "metadata": {},
   "outputs": [
    {
     "data": {
      "text/plain": [
       "Index(['Unnamed: 0', 'cb2020', 'borocode', 'boroname', 'ct2020', 'bctcb2020',\n",
       "       'geoid', 'shape_leng', 'shape_area', 'geometry', 'land_cvr_0',\n",
       "       'land_cvr_1', 'land_cvr_2', 'land_cvr_3', 'land_cvr_4', 'land_cvr_5',\n",
       "       'land_cvr_6', 'land_cvr_7', 'land_cvr_8', 'tree_canopy_proportion',\n",
       "       'grass_proportion', 'soil_proportion', 'water_proportion',\n",
       "       'building_proportion', 'road_proportion', 'impervious_proportion',\n",
       "       'railroad_proportion', 'elev_mean', 'elev_min', 'elev_max', 'elev_q1',\n",
       "       'elev_q3', 'ntaname', 'elev_mean_ct', 'elev_min_ct', 'elev_max_ct',\n",
       "       'elev_q1_ct', 'elev_q3_ct', 'catch_basin_count', 'catch_basin_density',\n",
       "       'sub_entr_count', 'rw_length', 'rw_avg_elev', 'lake_res_ind',\n",
       "       'pond_ind', 'river_ind', 'stream_ind', 'wl_marsh_ind',\n",
       "       'beach_shore_ind', 'bay_ocean_ind', 'centroid', 'water_feature',\n",
       "       'distance_to_water'],\n",
       "      dtype='object')"
      ]
     },
     "execution_count": 838,
     "metadata": {},
     "output_type": "execute_result"
    }
   ],
   "source": [
    "df.columns"
   ]
  },
  {
   "cell_type": "code",
   "execution_count": 839,
   "id": "3fc15499-b8e7-415a-a15e-cdae7fbfad58",
   "metadata": {},
   "outputs": [],
   "source": [
    "df[\"absorbant_features\"] = df[\"grass_proportion\"] + df[\"soil_proportion\"] + df[\"tree_canopy_proportion\"]\n",
    "df[\"non_absorbant_features\"] = df[\"building_proportion\"] + df[\"road_proportion\"] + df[\"impervious_proportion\"] + df[\"railroad_proportion\"] + df[\"water_proportion\"]"
   ]
  },
  {
   "cell_type": "code",
   "execution_count": 840,
   "id": "6e505941-379c-4438-a6b6-11e08101a084",
   "metadata": {},
   "outputs": [],
   "source": [
    "scale_df = df.copy()"
   ]
  },
  {
   "cell_type": "code",
   "execution_count": 841,
   "id": "89c664c8-c4e5-4b04-9f03-cd316e947763",
   "metadata": {},
   "outputs": [],
   "source": [
    "scale_cols = [\n",
    "    \"non_absorbant_features\",\n",
    "    \"absorbant_features\",\n",
    "    \"elev_mean\",\n",
    "    \"catch_basin_count\",\n",
    "    \"distance_to_water\"\n",
    "]\n",
    "mms = StandardScaler()\n",
    "scale_df[scale_cols] = gpd.GeoDataFrame(mms.fit_transform(scale_df[scale_cols]))"
   ]
  },
  {
   "cell_type": "code",
   "execution_count": 842,
   "id": "3558ec1d-a55b-44a4-898c-173b92c0c777",
   "metadata": {},
   "outputs": [],
   "source": [
    "columns = [\n",
    "    \"non_absorbant_features\",\n",
    "    \"absorbant_features\",\n",
    "    \"elev_mean\",\n",
    "    \"catch_basin_count\",\n",
    "    \"distance_to_water\"\n",
    "]"
   ]
  },
  {
   "cell_type": "code",
   "execution_count": 843,
   "id": "c073d399-129e-4fe0-b116-fc262fbb2e31",
   "metadata": {},
   "outputs": [
    {
     "data": {
      "text/html": [
       "<div>\n",
       "<style scoped>\n",
       "    .dataframe tbody tr th:only-of-type {\n",
       "        vertical-align: middle;\n",
       "    }\n",
       "\n",
       "    .dataframe tbody tr th {\n",
       "        vertical-align: top;\n",
       "    }\n",
       "\n",
       "    .dataframe thead th {\n",
       "        text-align: right;\n",
       "    }\n",
       "</style>\n",
       "<table border=\"1\" class=\"dataframe\">\n",
       "  <thead>\n",
       "    <tr style=\"text-align: right;\">\n",
       "      <th></th>\n",
       "      <th>non_absorbant_features</th>\n",
       "      <th>absorbant_features</th>\n",
       "      <th>elev_mean</th>\n",
       "      <th>catch_basin_count</th>\n",
       "      <th>distance_to_water</th>\n",
       "    </tr>\n",
       "  </thead>\n",
       "  <tbody>\n",
       "    <tr>\n",
       "      <th>0</th>\n",
       "      <td>-1.114713</td>\n",
       "      <td>1.114719</td>\n",
       "      <td>-0.918644</td>\n",
       "      <td>-1.280437</td>\n",
       "      <td>-1.207915</td>\n",
       "    </tr>\n",
       "    <tr>\n",
       "      <th>1</th>\n",
       "      <td>-1.300077</td>\n",
       "      <td>1.300082</td>\n",
       "      <td>-0.843642</td>\n",
       "      <td>-1.280437</td>\n",
       "      <td>-1.207915</td>\n",
       "    </tr>\n",
       "    <tr>\n",
       "      <th>2</th>\n",
       "      <td>0.574094</td>\n",
       "      <td>-0.574105</td>\n",
       "      <td>-0.179876</td>\n",
       "      <td>-0.652509</td>\n",
       "      <td>-1.144871</td>\n",
       "    </tr>\n",
       "    <tr>\n",
       "      <th>3</th>\n",
       "      <td>0.395377</td>\n",
       "      <td>-0.395371</td>\n",
       "      <td>-0.187376</td>\n",
       "      <td>-0.652509</td>\n",
       "      <td>-1.155487</td>\n",
       "    </tr>\n",
       "    <tr>\n",
       "      <th>4</th>\n",
       "      <td>-1.931722</td>\n",
       "      <td>1.931723</td>\n",
       "      <td>-0.273628</td>\n",
       "      <td>-0.338545</td>\n",
       "      <td>-1.171416</td>\n",
       "    </tr>\n",
       "    <tr>\n",
       "      <th>...</th>\n",
       "      <td>...</td>\n",
       "      <td>...</td>\n",
       "      <td>...</td>\n",
       "      <td>...</td>\n",
       "      <td>...</td>\n",
       "    </tr>\n",
       "    <tr>\n",
       "      <th>4617</th>\n",
       "      <td>1.341497</td>\n",
       "      <td>-1.341486</td>\n",
       "      <td>-0.866143</td>\n",
       "      <td>-0.966473</td>\n",
       "      <td>-0.746477</td>\n",
       "    </tr>\n",
       "    <tr>\n",
       "      <th>4618</th>\n",
       "      <td>-0.341813</td>\n",
       "      <td>0.341813</td>\n",
       "      <td>-0.843642</td>\n",
       "      <td>1.859201</td>\n",
       "      <td>-0.721181</td>\n",
       "    </tr>\n",
       "    <tr>\n",
       "      <th>4619</th>\n",
       "      <td>-2.876679</td>\n",
       "      <td>2.876690</td>\n",
       "      <td>-0.824892</td>\n",
       "      <td>0.603346</td>\n",
       "      <td>-0.687452</td>\n",
       "    </tr>\n",
       "    <tr>\n",
       "      <th>4620</th>\n",
       "      <td>0.100364</td>\n",
       "      <td>-0.100391</td>\n",
       "      <td>-0.963645</td>\n",
       "      <td>10.022260</td>\n",
       "      <td>-0.682432</td>\n",
       "    </tr>\n",
       "    <tr>\n",
       "      <th>4621</th>\n",
       "      <td>1.100340</td>\n",
       "      <td>-1.100340</td>\n",
       "      <td>-0.813641</td>\n",
       "      <td>-0.338545</td>\n",
       "      <td>-0.672804</td>\n",
       "    </tr>\n",
       "  </tbody>\n",
       "</table>\n",
       "<p>37589 rows × 5 columns</p>\n",
       "</div>"
      ],
      "text/plain": [
       "      non_absorbant_features  absorbant_features  elev_mean  \\\n",
       "0                  -1.114713            1.114719  -0.918644   \n",
       "1                  -1.300077            1.300082  -0.843642   \n",
       "2                   0.574094           -0.574105  -0.179876   \n",
       "3                   0.395377           -0.395371  -0.187376   \n",
       "4                  -1.931722            1.931723  -0.273628   \n",
       "...                      ...                 ...        ...   \n",
       "4617                1.341497           -1.341486  -0.866143   \n",
       "4618               -0.341813            0.341813  -0.843642   \n",
       "4619               -2.876679            2.876690  -0.824892   \n",
       "4620                0.100364           -0.100391  -0.963645   \n",
       "4621                1.100340           -1.100340  -0.813641   \n",
       "\n",
       "      catch_basin_count  distance_to_water  \n",
       "0             -1.280437          -1.207915  \n",
       "1             -1.280437          -1.207915  \n",
       "2             -0.652509          -1.144871  \n",
       "3             -0.652509          -1.155487  \n",
       "4             -0.338545          -1.171416  \n",
       "...                 ...                ...  \n",
       "4617          -0.966473          -0.746477  \n",
       "4618           1.859201          -0.721181  \n",
       "4619           0.603346          -0.687452  \n",
       "4620          10.022260          -0.682432  \n",
       "4621          -0.338545          -0.672804  \n",
       "\n",
       "[37589 rows x 5 columns]"
      ]
     },
     "execution_count": 843,
     "metadata": {},
     "output_type": "execute_result"
    }
   ],
   "source": [
    "scale_df[columns]"
   ]
  },
  {
   "cell_type": "code",
   "execution_count": 844,
   "id": "ba4747ae-3bb5-44d2-abce-14e988d22384",
   "metadata": {},
   "outputs": [],
   "source": [
    "## Run if there is no current CRS for df\n",
    "scale_df = scale_df.set_crs(\"EPSG:2263\")\n",
    "scale_df = scale_df.to_crs(\"WGS84\")"
   ]
  },
  {
   "cell_type": "code",
   "execution_count": 845,
   "id": "262d05a5-f221-47b9-9bd2-fc08e571b6ce",
   "metadata": {},
   "outputs": [],
   "source": [
    "columns.insert(0, \"ntaname\")\n",
    "columns.insert(0, \"geometry\")"
   ]
  },
  {
   "cell_type": "code",
   "execution_count": 847,
   "id": "cd7c2a09-d2df-4db1-a229-fa1a2232d77c",
   "metadata": {},
   "outputs": [],
   "source": [
    "df_subset = gpd.GeoDataFrame(scale_df[columns], geometry=\"geometry\")"
   ]
  },
  {
   "cell_type": "code",
   "execution_count": 848,
   "id": "b90e5765-1752-41b7-8982-c5cdc3bae552",
   "metadata": {},
   "outputs": [],
   "source": [
    "df_subset.to_file(\"data/modeling_data.geojson\", driver=\"GeoJSON\")"
   ]
  }
 ],
 "metadata": {
  "kernelspec": {
   "display_name": "Python 3 (ipykernel)",
   "language": "python",
   "name": "python3"
  },
  "language_info": {
   "codemirror_mode": {
    "name": "ipython",
    "version": 3
   },
   "file_extension": ".py",
   "mimetype": "text/x-python",
   "name": "python",
   "nbconvert_exporter": "python",
   "pygments_lexer": "ipython3",
   "version": "3.9.12"
  }
 },
 "nbformat": 4,
 "nbformat_minor": 5
}
